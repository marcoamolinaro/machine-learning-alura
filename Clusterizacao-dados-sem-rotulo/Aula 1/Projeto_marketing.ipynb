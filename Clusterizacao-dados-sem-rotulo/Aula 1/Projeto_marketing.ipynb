{
  "nbformat": 4,
  "nbformat_minor": 0,
  "metadata": {
    "colab": {
      "provenance": [],
      "collapsed_sections": [
        "3ybQzUklV8Ns",
        "P9KSZdeeifXu",
        "wjmu8EK-i5Wl",
        "8JVUwm9HGzeP"
      ]
    },
    "kernelspec": {
      "name": "python3",
      "display_name": "Python 3"
    },
    "language_info": {
      "name": "python"
    }
  },
  "cells": [
    {
      "cell_type": "code",
      "source": [],
      "metadata": {
        "id": "bxz8p78RzTJJ"
      },
      "execution_count": null,
      "outputs": []
    },
    {
      "cell_type": "code",
      "source": [
        "url = 'https://raw.githubusercontent.com/alura-cursos/Clusterizacao-dados-sem-rotulo/main/Dados/dados_mkt.csv'"
      ],
      "metadata": {
        "id": "Jj89PU-QA_4j"
      },
      "execution_count": null,
      "outputs": []
    },
    {
      "cell_type": "markdown",
      "source": [
        "# Coletando e ajustando dados"
      ],
      "metadata": {
        "id": "2inWQPh_ggmu"
      }
    },
    {
      "cell_type": "code",
      "source": [],
      "metadata": {
        "id": "w1YjJ4j7zQoL"
      },
      "execution_count": null,
      "outputs": []
    },
    {
      "cell_type": "code",
      "source": [],
      "metadata": {
        "id": "Ay15UgDuzQkz"
      },
      "execution_count": null,
      "outputs": []
    },
    {
      "cell_type": "code",
      "source": [],
      "metadata": {
        "id": "8ClCczbBzRsn"
      },
      "execution_count": null,
      "outputs": []
    },
    {
      "cell_type": "markdown",
      "source": [
        "## Aplicando encoder"
      ],
      "metadata": {
        "id": "3OO7Kc1ig3DA"
      }
    },
    {
      "cell_type": "code",
      "source": [],
      "metadata": {
        "id": "r1xrlaqIzNDd"
      },
      "execution_count": null,
      "outputs": []
    },
    {
      "cell_type": "code",
      "source": [],
      "metadata": {
        "id": "XoZYTZmszM-J"
      },
      "execution_count": null,
      "outputs": []
    },
    {
      "cell_type": "code",
      "source": [],
      "metadata": {
        "id": "ZoxAPhW1zM2u"
      },
      "execution_count": null,
      "outputs": []
    },
    {
      "cell_type": "code",
      "source": [],
      "metadata": {
        "id": "EEgv6ZujzMvz"
      },
      "execution_count": null,
      "outputs": []
    },
    {
      "cell_type": "code",
      "source": [],
      "metadata": {
        "id": "DcKP7GoFzMp9"
      },
      "execution_count": null,
      "outputs": []
    },
    {
      "cell_type": "markdown",
      "source": [
        "## Desenvolvendo o modelo"
      ],
      "metadata": {
        "id": "7EJQiUPthTFo"
      }
    },
    {
      "cell_type": "code",
      "source": [],
      "metadata": {
        "id": "HWkWwsFIzEfw"
      },
      "execution_count": null,
      "outputs": []
    },
    {
      "cell_type": "code",
      "source": [],
      "metadata": {
        "id": "2nde7P-CzEWF"
      },
      "execution_count": null,
      "outputs": []
    },
    {
      "cell_type": "markdown",
      "source": [
        "# Avaliando o K-means"
      ],
      "metadata": {
        "id": "w0XPkSH-hj5Q"
      }
    },
    {
      "cell_type": "code",
      "source": [],
      "metadata": {
        "id": "6gw-7xWBy8_C"
      },
      "execution_count": null,
      "outputs": []
    },
    {
      "cell_type": "code",
      "source": [],
      "metadata": {
        "id": "1tUvMdgAy86L"
      },
      "execution_count": null,
      "outputs": []
    },
    {
      "cell_type": "markdown",
      "source": [
        "## Avaliando métricas para diferentes K"
      ],
      "metadata": {
        "id": "nSpCzX-Ghxxq"
      }
    },
    {
      "cell_type": "code",
      "source": [],
      "metadata": {
        "id": "jqvpSJYOy6XS"
      },
      "execution_count": null,
      "outputs": []
    },
    {
      "cell_type": "code",
      "source": [],
      "metadata": {
        "id": "Glv5ejSXy6Si"
      },
      "execution_count": null,
      "outputs": []
    },
    {
      "cell_type": "markdown",
      "source": [
        "## Aula 2.3 - Verificando a silhueta por amostras"
      ],
      "metadata": {
        "id": "InCv_WqI-611"
      }
    },
    {
      "cell_type": "code",
      "source": [
        "import matplotlib.cm as cm\n",
        "from sklearn.metrics import silhouette_samples\n",
        "\n",
        "def graf_silhueta (n_clusters, dados):\n",
        "\n",
        "  # Aplica o KMeans ao conjunto de dados\n",
        "  kmeans = KMeans(n_clusters=n_clusters, random_state=45, n_init = 'auto')\n",
        "  cluster_previsoes = kmeans.fit_predict(dados)\n",
        "\n",
        "  # Calcula o silhouette score médio\n",
        "  silhueta_media = silhouette_score(dados, cluster_previsoes)\n",
        "  print(f'Valor médio para {n_clusters} clusters: {silhueta_media:.3f}')\n",
        "\n",
        "  # Calcula a pontuação de silhueta para cada amostra\n",
        "  silhueta_amostra = silhouette_samples(dados, cluster_previsoes)\n",
        "\n",
        "  # Configuração da figura para o gráfico de silhueta\n",
        "  fig, ax1 = plt.subplots(1, 1)\n",
        "  fig.set_size_inches(9, 7)\n",
        "\n",
        "  # Limites do gráfico de silhueta\n",
        "  ax1.set_xlim([-0.1, 1])\n",
        "  ax1.set_ylim([0, len(dados) + (n_clusters + 1) * 10])\n",
        "\n",
        "  y_lower = 10\n",
        "  for i in range(n_clusters):\n",
        "      ith_cluster_silhueta_amostra = silhueta_amostra[cluster_previsoes == i]\n",
        "      ith_cluster_silhueta_amostra.sort()\n",
        "\n",
        "      tamanho_cluster_i = ith_cluster_silhueta_amostra.shape[0]\n",
        "      y_upper = y_lower + tamanho_cluster_i\n",
        "\n",
        "      cor = cm.nipy_spectral(float(i) / n_clusters)\n",
        "      ax1.fill_betweenx(np.arange(y_lower, y_upper), 0, ith_cluster_silhueta_amostra,\n",
        "                        facecolor=cor, edgecolor=cor, alpha=0.7)\n",
        "\n",
        "      ax1.text(-0.05, y_lower + 0.5 * tamanho_cluster_i, str(i))\n",
        "      y_lower = y_upper + 10  # 10 para o espaço entre gráficos\n",
        "\n",
        "  # Linha vertical para a média do Silhouette Score\n",
        "  ax1.axvline(x=silhueta_media, color='red', linestyle='--')\n",
        "\n",
        "  ax1.set_title(f'Gráfico da Silhueta para {n_clusters} clusters')\n",
        "  ax1.set_xlabel('Valores do coeficiente de silhueta')\n",
        "  ax1.set_ylabel('Rótulo do cluster')\n",
        "\n",
        "  ax1.set_yticks([])  # Remove os ticks do eixo y\n",
        "  ax1.set_xticks([i/10.0 for i in range(-1, 11)])\n",
        "\n",
        "  plt.show()"
      ],
      "metadata": {
        "id": "q7u5mQPQV9J1"
      },
      "execution_count": null,
      "outputs": []
    },
    {
      "cell_type": "code",
      "source": [],
      "metadata": {
        "id": "7dWvuIJmykR1"
      },
      "execution_count": null,
      "outputs": []
    },
    {
      "cell_type": "markdown",
      "source": [
        "### Outras visualizações"
      ],
      "metadata": {
        "id": "3ybQzUklV8Ns"
      }
    },
    {
      "cell_type": "code",
      "source": [],
      "metadata": {
        "id": "93TENuPwyi0l"
      },
      "execution_count": null,
      "outputs": []
    },
    {
      "cell_type": "code",
      "source": [],
      "metadata": {
        "id": "CpO7oL0xyivF"
      },
      "execution_count": null,
      "outputs": []
    },
    {
      "cell_type": "markdown",
      "source": [
        "# Avaliação e ajuste de dados"
      ],
      "metadata": {
        "id": "P9KSZdeeifXu"
      }
    },
    {
      "cell_type": "code",
      "source": [],
      "metadata": {
        "id": "sj0Buri-xoy9"
      },
      "execution_count": null,
      "outputs": []
    },
    {
      "cell_type": "code",
      "source": [],
      "metadata": {
        "id": "rZKtjXLBxotD"
      },
      "execution_count": null,
      "outputs": []
    },
    {
      "cell_type": "code",
      "source": [],
      "metadata": {
        "id": "irokHyTrxomA"
      },
      "execution_count": null,
      "outputs": []
    },
    {
      "cell_type": "code",
      "source": [],
      "metadata": {
        "id": "mIgJY6Rdxofo"
      },
      "execution_count": null,
      "outputs": []
    },
    {
      "cell_type": "markdown",
      "source": [
        "## Verificando as métricas para os novos dados"
      ],
      "metadata": {
        "id": "g3XW-I3miptg"
      }
    },
    {
      "cell_type": "code",
      "source": [],
      "metadata": {
        "id": "6H2bGiC_xloQ"
      },
      "execution_count": null,
      "outputs": []
    },
    {
      "cell_type": "code",
      "source": [],
      "metadata": {
        "id": "TPvtx0XFxlhs"
      },
      "execution_count": null,
      "outputs": []
    },
    {
      "cell_type": "code",
      "source": [],
      "metadata": {
        "id": "6re05zsRxla9"
      },
      "execution_count": null,
      "outputs": []
    },
    {
      "cell_type": "markdown",
      "source": [
        "## Criando o melhor modelo"
      ],
      "metadata": {
        "id": "LOOlJnmoiweU"
      }
    },
    {
      "cell_type": "code",
      "source": [],
      "metadata": {
        "id": "Mi9nHUErxjko"
      },
      "execution_count": null,
      "outputs": []
    },
    {
      "cell_type": "code",
      "source": [],
      "metadata": {
        "id": "AqyJHPn9xjgC"
      },
      "execution_count": null,
      "outputs": []
    },
    {
      "cell_type": "markdown",
      "source": [
        "# Analisando as informações de cada cluster"
      ],
      "metadata": {
        "id": "wjmu8EK-i5Wl"
      }
    },
    {
      "cell_type": "code",
      "source": [],
      "metadata": {
        "id": "-6bFHQPSxCkJ"
      },
      "execution_count": null,
      "outputs": []
    },
    {
      "cell_type": "code",
      "source": [],
      "metadata": {
        "id": "8jL6UdrsxCe_"
      },
      "execution_count": null,
      "outputs": []
    },
    {
      "cell_type": "code",
      "source": [],
      "metadata": {
        "id": "0KjEzCPcxCXn"
      },
      "execution_count": null,
      "outputs": []
    },
    {
      "cell_type": "code",
      "source": [],
      "metadata": {
        "id": "ueoc4LXLxCRI"
      },
      "execution_count": null,
      "outputs": []
    },
    {
      "cell_type": "code",
      "source": [],
      "metadata": {
        "id": "ixMsF5rGxCLP"
      },
      "execution_count": null,
      "outputs": []
    },
    {
      "cell_type": "markdown",
      "source": [
        "## Descrevendo cada agrupamento"
      ],
      "metadata": {
        "id": "8JVUwm9HGzeP"
      }
    },
    {
      "cell_type": "code",
      "source": [],
      "metadata": {
        "id": "ygFk_XLUw_aE"
      },
      "execution_count": null,
      "outputs": []
    },
    {
      "cell_type": "code",
      "source": [],
      "metadata": {
        "id": "nSenYujgw_T4"
      },
      "execution_count": null,
      "outputs": []
    },
    {
      "cell_type": "code",
      "source": [],
      "metadata": {
        "id": "lr6n2Pjiw_N6"
      },
      "execution_count": null,
      "outputs": []
    }
  ]
}