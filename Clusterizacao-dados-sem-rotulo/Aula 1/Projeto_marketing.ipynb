{
  "cells": [
    {
      "cell_type": "code",
      "execution_count": 2,
      "metadata": {
        "id": "bxz8p78RzTJJ"
      },
      "outputs": [],
      "source": [
        "import pandas as pd\n",
        "import numpy as np\n",
        "import matplotlib.pyplot as plt\n",
        "import seaborn as sns"
      ]
    },
    {
      "cell_type": "code",
      "execution_count": 3,
      "metadata": {
        "id": "Jj89PU-QA_4j"
      },
      "outputs": [],
      "source": [
        "url = 'https://raw.githubusercontent.com/alura-cursos/Clusterizacao-dados-sem-rotulo/main/Dados/dados_mkt.csv'"
      ]
    },
    {
      "cell_type": "markdown",
      "metadata": {
        "id": "2inWQPh_ggmu"
      },
      "source": [
        "# Coletando e ajustando dados"
      ]
    },
    {
      "cell_type": "code",
      "execution_count": 4,
      "metadata": {
        "id": "w1YjJ4j7zQoL"
      },
      "outputs": [
        {
          "data": {
            "text/html": [
              "<div>\n",
              "<style scoped>\n",
              "    .dataframe tbody tr th:only-of-type {\n",
              "        vertical-align: middle;\n",
              "    }\n",
              "\n",
              "    .dataframe tbody tr th {\n",
              "        vertical-align: top;\n",
              "    }\n",
              "\n",
              "    .dataframe thead th {\n",
              "        text-align: right;\n",
              "    }\n",
              "</style>\n",
              "<table border=\"1\" class=\"dataframe\">\n",
              "  <thead>\n",
              "    <tr style=\"text-align: right;\">\n",
              "      <th></th>\n",
              "      <th>sexo</th>\n",
              "      <th>idade</th>\n",
              "      <th>numero_de_amigos</th>\n",
              "      <th>basquete</th>\n",
              "      <th>futebol_americano</th>\n",
              "      <th>futebol</th>\n",
              "      <th>softbol</th>\n",
              "      <th>voleibol</th>\n",
              "      <th>natacao</th>\n",
              "      <th>animacao</th>\n",
              "      <th>...</th>\n",
              "      <th>musica</th>\n",
              "      <th>rock</th>\n",
              "      <th>cabelo</th>\n",
              "      <th>vestido</th>\n",
              "      <th>shopping</th>\n",
              "      <th>compras</th>\n",
              "      <th>roupas</th>\n",
              "      <th>nossa_marca</th>\n",
              "      <th>marca_concorrente</th>\n",
              "      <th>bebidas</th>\n",
              "    </tr>\n",
              "  </thead>\n",
              "  <tbody>\n",
              "    <tr>\n",
              "      <th>0</th>\n",
              "      <td>F</td>\n",
              "      <td>27</td>\n",
              "      <td>49</td>\n",
              "      <td>0</td>\n",
              "      <td>0</td>\n",
              "      <td>10</td>\n",
              "      <td>0</td>\n",
              "      <td>0</td>\n",
              "      <td>10</td>\n",
              "      <td>0</td>\n",
              "      <td>...</td>\n",
              "      <td>0</td>\n",
              "      <td>0</td>\n",
              "      <td>0</td>\n",
              "      <td>0</td>\n",
              "      <td>0</td>\n",
              "      <td>0</td>\n",
              "      <td>0</td>\n",
              "      <td>0</td>\n",
              "      <td>0</td>\n",
              "      <td>10</td>\n",
              "    </tr>\n",
              "    <tr>\n",
              "      <th>1</th>\n",
              "      <td>F</td>\n",
              "      <td>27</td>\n",
              "      <td>41</td>\n",
              "      <td>0</td>\n",
              "      <td>0</td>\n",
              "      <td>0</td>\n",
              "      <td>0</td>\n",
              "      <td>0</td>\n",
              "      <td>0</td>\n",
              "      <td>0</td>\n",
              "      <td>...</td>\n",
              "      <td>10</td>\n",
              "      <td>20</td>\n",
              "      <td>40</td>\n",
              "      <td>0</td>\n",
              "      <td>10</td>\n",
              "      <td>0</td>\n",
              "      <td>0</td>\n",
              "      <td>0</td>\n",
              "      <td>0</td>\n",
              "      <td>10</td>\n",
              "    </tr>\n",
              "    <tr>\n",
              "      <th>2</th>\n",
              "      <td>F</td>\n",
              "      <td>26</td>\n",
              "      <td>1</td>\n",
              "      <td>0</td>\n",
              "      <td>0</td>\n",
              "      <td>0</td>\n",
              "      <td>0</td>\n",
              "      <td>0</td>\n",
              "      <td>10</td>\n",
              "      <td>0</td>\n",
              "      <td>...</td>\n",
              "      <td>10</td>\n",
              "      <td>0</td>\n",
              "      <td>50</td>\n",
              "      <td>0</td>\n",
              "      <td>0</td>\n",
              "      <td>0</td>\n",
              "      <td>30</td>\n",
              "      <td>0</td>\n",
              "      <td>0</td>\n",
              "      <td>0</td>\n",
              "    </tr>\n",
              "    <tr>\n",
              "      <th>3</th>\n",
              "      <td>M</td>\n",
              "      <td>28</td>\n",
              "      <td>32</td>\n",
              "      <td>0</td>\n",
              "      <td>50</td>\n",
              "      <td>0</td>\n",
              "      <td>0</td>\n",
              "      <td>0</td>\n",
              "      <td>0</td>\n",
              "      <td>0</td>\n",
              "      <td>...</td>\n",
              "      <td>10</td>\n",
              "      <td>10</td>\n",
              "      <td>0</td>\n",
              "      <td>0</td>\n",
              "      <td>0</td>\n",
              "      <td>0</td>\n",
              "      <td>0</td>\n",
              "      <td>0</td>\n",
              "      <td>0</td>\n",
              "      <td>0</td>\n",
              "    </tr>\n",
              "    <tr>\n",
              "      <th>4</th>\n",
              "      <td>M</td>\n",
              "      <td>28</td>\n",
              "      <td>18</td>\n",
              "      <td>0</td>\n",
              "      <td>0</td>\n",
              "      <td>0</td>\n",
              "      <td>0</td>\n",
              "      <td>0</td>\n",
              "      <td>0</td>\n",
              "      <td>0</td>\n",
              "      <td>...</td>\n",
              "      <td>0</td>\n",
              "      <td>0</td>\n",
              "      <td>0</td>\n",
              "      <td>0</td>\n",
              "      <td>0</td>\n",
              "      <td>0</td>\n",
              "      <td>10</td>\n",
              "      <td>0</td>\n",
              "      <td>0</td>\n",
              "      <td>0</td>\n",
              "    </tr>\n",
              "    <tr>\n",
              "      <th>...</th>\n",
              "      <td>...</td>\n",
              "      <td>...</td>\n",
              "      <td>...</td>\n",
              "      <td>...</td>\n",
              "      <td>...</td>\n",
              "      <td>...</td>\n",
              "      <td>...</td>\n",
              "      <td>...</td>\n",
              "      <td>...</td>\n",
              "      <td>...</td>\n",
              "      <td>...</td>\n",
              "      <td>...</td>\n",
              "      <td>...</td>\n",
              "      <td>...</td>\n",
              "      <td>...</td>\n",
              "      <td>...</td>\n",
              "      <td>...</td>\n",
              "      <td>...</td>\n",
              "      <td>...</td>\n",
              "      <td>...</td>\n",
              "      <td>...</td>\n",
              "    </tr>\n",
              "    <tr>\n",
              "      <th>12987</th>\n",
              "      <td>F</td>\n",
              "      <td>26</td>\n",
              "      <td>21</td>\n",
              "      <td>0</td>\n",
              "      <td>0</td>\n",
              "      <td>0</td>\n",
              "      <td>0</td>\n",
              "      <td>0</td>\n",
              "      <td>0</td>\n",
              "      <td>0</td>\n",
              "      <td>...</td>\n",
              "      <td>0</td>\n",
              "      <td>10</td>\n",
              "      <td>10</td>\n",
              "      <td>0</td>\n",
              "      <td>0</td>\n",
              "      <td>0</td>\n",
              "      <td>20</td>\n",
              "      <td>0</td>\n",
              "      <td>0</td>\n",
              "      <td>0</td>\n",
              "    </tr>\n",
              "    <tr>\n",
              "      <th>12988</th>\n",
              "      <td>F</td>\n",
              "      <td>26</td>\n",
              "      <td>50</td>\n",
              "      <td>0</td>\n",
              "      <td>0</td>\n",
              "      <td>0</td>\n",
              "      <td>0</td>\n",
              "      <td>0</td>\n",
              "      <td>0</td>\n",
              "      <td>0</td>\n",
              "      <td>...</td>\n",
              "      <td>0</td>\n",
              "      <td>0</td>\n",
              "      <td>0</td>\n",
              "      <td>0</td>\n",
              "      <td>0</td>\n",
              "      <td>0</td>\n",
              "      <td>0</td>\n",
              "      <td>0</td>\n",
              "      <td>0</td>\n",
              "      <td>0</td>\n",
              "    </tr>\n",
              "    <tr>\n",
              "      <th>12989</th>\n",
              "      <td>F</td>\n",
              "      <td>27</td>\n",
              "      <td>32</td>\n",
              "      <td>0</td>\n",
              "      <td>0</td>\n",
              "      <td>0</td>\n",
              "      <td>0</td>\n",
              "      <td>0</td>\n",
              "      <td>0</td>\n",
              "      <td>10</td>\n",
              "      <td>...</td>\n",
              "      <td>0</td>\n",
              "      <td>0</td>\n",
              "      <td>0</td>\n",
              "      <td>0</td>\n",
              "      <td>0</td>\n",
              "      <td>0</td>\n",
              "      <td>0</td>\n",
              "      <td>0</td>\n",
              "      <td>0</td>\n",
              "      <td>0</td>\n",
              "    </tr>\n",
              "    <tr>\n",
              "      <th>12990</th>\n",
              "      <td>F</td>\n",
              "      <td>27</td>\n",
              "      <td>20</td>\n",
              "      <td>0</td>\n",
              "      <td>0</td>\n",
              "      <td>0</td>\n",
              "      <td>0</td>\n",
              "      <td>0</td>\n",
              "      <td>0</td>\n",
              "      <td>0</td>\n",
              "      <td>...</td>\n",
              "      <td>10</td>\n",
              "      <td>0</td>\n",
              "      <td>0</td>\n",
              "      <td>0</td>\n",
              "      <td>0</td>\n",
              "      <td>0</td>\n",
              "      <td>0</td>\n",
              "      <td>0</td>\n",
              "      <td>0</td>\n",
              "      <td>0</td>\n",
              "    </tr>\n",
              "    <tr>\n",
              "      <th>12991</th>\n",
              "      <td>F</td>\n",
              "      <td>25</td>\n",
              "      <td>25</td>\n",
              "      <td>0</td>\n",
              "      <td>0</td>\n",
              "      <td>70</td>\n",
              "      <td>0</td>\n",
              "      <td>0</td>\n",
              "      <td>0</td>\n",
              "      <td>0</td>\n",
              "      <td>...</td>\n",
              "      <td>20</td>\n",
              "      <td>0</td>\n",
              "      <td>0</td>\n",
              "      <td>0</td>\n",
              "      <td>20</td>\n",
              "      <td>10</td>\n",
              "      <td>10</td>\n",
              "      <td>0</td>\n",
              "      <td>0</td>\n",
              "      <td>0</td>\n",
              "    </tr>\n",
              "  </tbody>\n",
              "</table>\n",
              "<p>12992 rows × 27 columns</p>\n",
              "</div>"
            ],
            "text/plain": [
              "      sexo  idade  numero_de_amigos  basquete  futebol_americano  futebol  \\\n",
              "0        F     27                49         0                  0       10   \n",
              "1        F     27                41         0                  0        0   \n",
              "2        F     26                 1         0                  0        0   \n",
              "3        M     28                32         0                 50        0   \n",
              "4        M     28                18         0                  0        0   \n",
              "...    ...    ...               ...       ...                ...      ...   \n",
              "12987    F     26                21         0                  0        0   \n",
              "12988    F     26                50         0                  0        0   \n",
              "12989    F     27                32         0                  0        0   \n",
              "12990    F     27                20         0                  0        0   \n",
              "12991    F     25                25         0                  0       70   \n",
              "\n",
              "       softbol  voleibol  natacao  animacao  ...  musica  rock  cabelo  \\\n",
              "0            0         0       10         0  ...       0     0       0   \n",
              "1            0         0        0         0  ...      10    20      40   \n",
              "2            0         0       10         0  ...      10     0      50   \n",
              "3            0         0        0         0  ...      10    10       0   \n",
              "4            0         0        0         0  ...       0     0       0   \n",
              "...        ...       ...      ...       ...  ...     ...   ...     ...   \n",
              "12987        0         0        0         0  ...       0    10      10   \n",
              "12988        0         0        0         0  ...       0     0       0   \n",
              "12989        0         0        0        10  ...       0     0       0   \n",
              "12990        0         0        0         0  ...      10     0       0   \n",
              "12991        0         0        0         0  ...      20     0       0   \n",
              "\n",
              "       vestido  shopping  compras  roupas  nossa_marca  marca_concorrente  \\\n",
              "0            0         0        0       0            0                  0   \n",
              "1            0        10        0       0            0                  0   \n",
              "2            0         0        0      30            0                  0   \n",
              "3            0         0        0       0            0                  0   \n",
              "4            0         0        0      10            0                  0   \n",
              "...        ...       ...      ...     ...          ...                ...   \n",
              "12987        0         0        0      20            0                  0   \n",
              "12988        0         0        0       0            0                  0   \n",
              "12989        0         0        0       0            0                  0   \n",
              "12990        0         0        0       0            0                  0   \n",
              "12991        0        20       10      10            0                  0   \n",
              "\n",
              "       bebidas  \n",
              "0           10  \n",
              "1           10  \n",
              "2            0  \n",
              "3            0  \n",
              "4            0  \n",
              "...        ...  \n",
              "12987        0  \n",
              "12988        0  \n",
              "12989        0  \n",
              "12990        0  \n",
              "12991        0  \n",
              "\n",
              "[12992 rows x 27 columns]"
            ]
          },
          "execution_count": 4,
          "metadata": {},
          "output_type": "execute_result"
        }
      ],
      "source": [
        "df = pd.read_csv(url)\n",
        "df"
      ]
    },
    {
      "cell_type": "code",
      "execution_count": 5,
      "metadata": {
        "id": "Ay15UgDuzQkz"
      },
      "outputs": [
        {
          "name": "stdout",
          "output_type": "stream",
          "text": [
            "<class 'pandas.core.frame.DataFrame'>\n",
            "RangeIndex: 12992 entries, 0 to 12991\n",
            "Data columns (total 27 columns):\n",
            " #   Column             Non-Null Count  Dtype \n",
            "---  ------             --------------  ----- \n",
            " 0   sexo               12992 non-null  object\n",
            " 1   idade              12992 non-null  int64 \n",
            " 2   numero_de_amigos   12992 non-null  int64 \n",
            " 3   basquete           12992 non-null  int64 \n",
            " 4   futebol_americano  12992 non-null  int64 \n",
            " 5   futebol            12992 non-null  int64 \n",
            " 6   softbol            12992 non-null  int64 \n",
            " 7   voleibol           12992 non-null  int64 \n",
            " 8   natacao            12992 non-null  int64 \n",
            " 9   animacao           12992 non-null  int64 \n",
            " 10  beisebol           12992 non-null  int64 \n",
            " 11  tenis              12992 non-null  int64 \n",
            " 12  esportes           12992 non-null  int64 \n",
            " 13  fofo               12992 non-null  int64 \n",
            " 14  danca              12992 non-null  int64 \n",
            " 15  banda              12992 non-null  int64 \n",
            " 16  marcha             12992 non-null  int64 \n",
            " 17  musica             12992 non-null  int64 \n",
            " 18  rock               12992 non-null  int64 \n",
            " 19  cabelo             12992 non-null  int64 \n",
            " 20  vestido            12992 non-null  int64 \n",
            " 21  shopping           12992 non-null  int64 \n",
            " 22  compras            12992 non-null  int64 \n",
            " 23  roupas             12992 non-null  int64 \n",
            " 24  nossa_marca        12992 non-null  int64 \n",
            " 25  marca_concorrente  12992 non-null  int64 \n",
            " 26  bebidas            12992 non-null  int64 \n",
            "dtypes: int64(26), object(1)\n",
            "memory usage: 2.7+ MB\n"
          ]
        }
      ],
      "source": [
        "df.info()"
      ]
    },
    {
      "cell_type": "code",
      "execution_count": 6,
      "metadata": {
        "id": "8ClCczbBzRsn"
      },
      "outputs": [
        {
          "data": {
            "text/plain": [
              "array(['F', 'M', 'NE'], dtype=object)"
            ]
          },
          "execution_count": 6,
          "metadata": {},
          "output_type": "execute_result"
        }
      ],
      "source": [
        "df['sexo'].unique()"
      ]
    },
    {
      "cell_type": "markdown",
      "metadata": {
        "id": "3OO7Kc1ig3DA"
      },
      "source": [
        "## Aplicando encoder"
      ]
    },
    {
      "cell_type": "code",
      "execution_count": 7,
      "metadata": {
        "id": "r1xrlaqIzNDd"
      },
      "outputs": [],
      "source": [
        "from sklearn.preprocessing import OneHotEncoder\n",
        "\n",
        "encoder = OneHotEncoder(categories=[['F', 'M', 'NE']], sparse_output=False)"
      ]
    },
    {
      "cell_type": "code",
      "execution_count": 8,
      "metadata": {
        "id": "XoZYTZmszM-J"
      },
      "outputs": [
        {
          "data": {
            "text/plain": [
              "array([[1., 0., 0.],\n",
              "       [1., 0., 0.],\n",
              "       [1., 0., 0.],\n",
              "       ...,\n",
              "       [1., 0., 0.],\n",
              "       [1., 0., 0.],\n",
              "       [1., 0., 0.]])"
            ]
          },
          "execution_count": 8,
          "metadata": {},
          "output_type": "execute_result"
        }
      ],
      "source": [
        "encoded_sexo = encoder.fit_transform(df[['sexo']])\n",
        "encoded_sexo"
      ]
    },
    {
      "cell_type": "code",
      "execution_count": 9,
      "metadata": {
        "id": "ZoxAPhW1zM2u"
      },
      "outputs": [],
      "source": [
        "encoded_df = pd.DataFrame(encoded_sexo,columns=encoder.get_feature_names_out(['sexo']))"
      ]
    },
    {
      "cell_type": "code",
      "execution_count": 10,
      "metadata": {
        "id": "EEgv6ZujzMvz"
      },
      "outputs": [
        {
          "data": {
            "text/html": [
              "<div>\n",
              "<style scoped>\n",
              "    .dataframe tbody tr th:only-of-type {\n",
              "        vertical-align: middle;\n",
              "    }\n",
              "\n",
              "    .dataframe tbody tr th {\n",
              "        vertical-align: top;\n",
              "    }\n",
              "\n",
              "    .dataframe thead th {\n",
              "        text-align: right;\n",
              "    }\n",
              "</style>\n",
              "<table border=\"1\" class=\"dataframe\">\n",
              "  <thead>\n",
              "    <tr style=\"text-align: right;\">\n",
              "      <th></th>\n",
              "      <th>idade</th>\n",
              "      <th>numero_de_amigos</th>\n",
              "      <th>basquete</th>\n",
              "      <th>futebol_americano</th>\n",
              "      <th>futebol</th>\n",
              "      <th>softbol</th>\n",
              "      <th>voleibol</th>\n",
              "      <th>natacao</th>\n",
              "      <th>animacao</th>\n",
              "      <th>beisebol</th>\n",
              "      <th>...</th>\n",
              "      <th>vestido</th>\n",
              "      <th>shopping</th>\n",
              "      <th>compras</th>\n",
              "      <th>roupas</th>\n",
              "      <th>nossa_marca</th>\n",
              "      <th>marca_concorrente</th>\n",
              "      <th>bebidas</th>\n",
              "      <th>sexo_F</th>\n",
              "      <th>sexo_M</th>\n",
              "      <th>sexo_NE</th>\n",
              "    </tr>\n",
              "  </thead>\n",
              "  <tbody>\n",
              "    <tr>\n",
              "      <th>0</th>\n",
              "      <td>27</td>\n",
              "      <td>49</td>\n",
              "      <td>0</td>\n",
              "      <td>0</td>\n",
              "      <td>10</td>\n",
              "      <td>0</td>\n",
              "      <td>0</td>\n",
              "      <td>10</td>\n",
              "      <td>0</td>\n",
              "      <td>0</td>\n",
              "      <td>...</td>\n",
              "      <td>0</td>\n",
              "      <td>0</td>\n",
              "      <td>0</td>\n",
              "      <td>0</td>\n",
              "      <td>0</td>\n",
              "      <td>0</td>\n",
              "      <td>10</td>\n",
              "      <td>1.0</td>\n",
              "      <td>0.0</td>\n",
              "      <td>0.0</td>\n",
              "    </tr>\n",
              "    <tr>\n",
              "      <th>1</th>\n",
              "      <td>27</td>\n",
              "      <td>41</td>\n",
              "      <td>0</td>\n",
              "      <td>0</td>\n",
              "      <td>0</td>\n",
              "      <td>0</td>\n",
              "      <td>0</td>\n",
              "      <td>0</td>\n",
              "      <td>0</td>\n",
              "      <td>10</td>\n",
              "      <td>...</td>\n",
              "      <td>0</td>\n",
              "      <td>10</td>\n",
              "      <td>0</td>\n",
              "      <td>0</td>\n",
              "      <td>0</td>\n",
              "      <td>0</td>\n",
              "      <td>10</td>\n",
              "      <td>1.0</td>\n",
              "      <td>0.0</td>\n",
              "      <td>0.0</td>\n",
              "    </tr>\n",
              "    <tr>\n",
              "      <th>2</th>\n",
              "      <td>26</td>\n",
              "      <td>1</td>\n",
              "      <td>0</td>\n",
              "      <td>0</td>\n",
              "      <td>0</td>\n",
              "      <td>0</td>\n",
              "      <td>0</td>\n",
              "      <td>10</td>\n",
              "      <td>0</td>\n",
              "      <td>0</td>\n",
              "      <td>...</td>\n",
              "      <td>0</td>\n",
              "      <td>0</td>\n",
              "      <td>0</td>\n",
              "      <td>30</td>\n",
              "      <td>0</td>\n",
              "      <td>0</td>\n",
              "      <td>0</td>\n",
              "      <td>1.0</td>\n",
              "      <td>0.0</td>\n",
              "      <td>0.0</td>\n",
              "    </tr>\n",
              "    <tr>\n",
              "      <th>3</th>\n",
              "      <td>28</td>\n",
              "      <td>32</td>\n",
              "      <td>0</td>\n",
              "      <td>50</td>\n",
              "      <td>0</td>\n",
              "      <td>0</td>\n",
              "      <td>0</td>\n",
              "      <td>0</td>\n",
              "      <td>0</td>\n",
              "      <td>0</td>\n",
              "      <td>...</td>\n",
              "      <td>0</td>\n",
              "      <td>0</td>\n",
              "      <td>0</td>\n",
              "      <td>0</td>\n",
              "      <td>0</td>\n",
              "      <td>0</td>\n",
              "      <td>0</td>\n",
              "      <td>0.0</td>\n",
              "      <td>1.0</td>\n",
              "      <td>0.0</td>\n",
              "    </tr>\n",
              "    <tr>\n",
              "      <th>4</th>\n",
              "      <td>28</td>\n",
              "      <td>18</td>\n",
              "      <td>0</td>\n",
              "      <td>0</td>\n",
              "      <td>0</td>\n",
              "      <td>0</td>\n",
              "      <td>0</td>\n",
              "      <td>0</td>\n",
              "      <td>0</td>\n",
              "      <td>0</td>\n",
              "      <td>...</td>\n",
              "      <td>0</td>\n",
              "      <td>0</td>\n",
              "      <td>0</td>\n",
              "      <td>10</td>\n",
              "      <td>0</td>\n",
              "      <td>0</td>\n",
              "      <td>0</td>\n",
              "      <td>0.0</td>\n",
              "      <td>1.0</td>\n",
              "      <td>0.0</td>\n",
              "    </tr>\n",
              "    <tr>\n",
              "      <th>...</th>\n",
              "      <td>...</td>\n",
              "      <td>...</td>\n",
              "      <td>...</td>\n",
              "      <td>...</td>\n",
              "      <td>...</td>\n",
              "      <td>...</td>\n",
              "      <td>...</td>\n",
              "      <td>...</td>\n",
              "      <td>...</td>\n",
              "      <td>...</td>\n",
              "      <td>...</td>\n",
              "      <td>...</td>\n",
              "      <td>...</td>\n",
              "      <td>...</td>\n",
              "      <td>...</td>\n",
              "      <td>...</td>\n",
              "      <td>...</td>\n",
              "      <td>...</td>\n",
              "      <td>...</td>\n",
              "      <td>...</td>\n",
              "      <td>...</td>\n",
              "    </tr>\n",
              "    <tr>\n",
              "      <th>12987</th>\n",
              "      <td>26</td>\n",
              "      <td>21</td>\n",
              "      <td>0</td>\n",
              "      <td>0</td>\n",
              "      <td>0</td>\n",
              "      <td>0</td>\n",
              "      <td>0</td>\n",
              "      <td>0</td>\n",
              "      <td>0</td>\n",
              "      <td>0</td>\n",
              "      <td>...</td>\n",
              "      <td>0</td>\n",
              "      <td>0</td>\n",
              "      <td>0</td>\n",
              "      <td>20</td>\n",
              "      <td>0</td>\n",
              "      <td>0</td>\n",
              "      <td>0</td>\n",
              "      <td>1.0</td>\n",
              "      <td>0.0</td>\n",
              "      <td>0.0</td>\n",
              "    </tr>\n",
              "    <tr>\n",
              "      <th>12988</th>\n",
              "      <td>26</td>\n",
              "      <td>50</td>\n",
              "      <td>0</td>\n",
              "      <td>0</td>\n",
              "      <td>0</td>\n",
              "      <td>0</td>\n",
              "      <td>0</td>\n",
              "      <td>0</td>\n",
              "      <td>0</td>\n",
              "      <td>10</td>\n",
              "      <td>...</td>\n",
              "      <td>0</td>\n",
              "      <td>0</td>\n",
              "      <td>0</td>\n",
              "      <td>0</td>\n",
              "      <td>0</td>\n",
              "      <td>0</td>\n",
              "      <td>0</td>\n",
              "      <td>1.0</td>\n",
              "      <td>0.0</td>\n",
              "      <td>0.0</td>\n",
              "    </tr>\n",
              "    <tr>\n",
              "      <th>12989</th>\n",
              "      <td>27</td>\n",
              "      <td>32</td>\n",
              "      <td>0</td>\n",
              "      <td>0</td>\n",
              "      <td>0</td>\n",
              "      <td>0</td>\n",
              "      <td>0</td>\n",
              "      <td>0</td>\n",
              "      <td>10</td>\n",
              "      <td>0</td>\n",
              "      <td>...</td>\n",
              "      <td>0</td>\n",
              "      <td>0</td>\n",
              "      <td>0</td>\n",
              "      <td>0</td>\n",
              "      <td>0</td>\n",
              "      <td>0</td>\n",
              "      <td>0</td>\n",
              "      <td>1.0</td>\n",
              "      <td>0.0</td>\n",
              "      <td>0.0</td>\n",
              "    </tr>\n",
              "    <tr>\n",
              "      <th>12990</th>\n",
              "      <td>27</td>\n",
              "      <td>20</td>\n",
              "      <td>0</td>\n",
              "      <td>0</td>\n",
              "      <td>0</td>\n",
              "      <td>0</td>\n",
              "      <td>0</td>\n",
              "      <td>0</td>\n",
              "      <td>0</td>\n",
              "      <td>0</td>\n",
              "      <td>...</td>\n",
              "      <td>0</td>\n",
              "      <td>0</td>\n",
              "      <td>0</td>\n",
              "      <td>0</td>\n",
              "      <td>0</td>\n",
              "      <td>0</td>\n",
              "      <td>0</td>\n",
              "      <td>1.0</td>\n",
              "      <td>0.0</td>\n",
              "      <td>0.0</td>\n",
              "    </tr>\n",
              "    <tr>\n",
              "      <th>12991</th>\n",
              "      <td>25</td>\n",
              "      <td>25</td>\n",
              "      <td>0</td>\n",
              "      <td>0</td>\n",
              "      <td>70</td>\n",
              "      <td>0</td>\n",
              "      <td>0</td>\n",
              "      <td>0</td>\n",
              "      <td>0</td>\n",
              "      <td>0</td>\n",
              "      <td>...</td>\n",
              "      <td>0</td>\n",
              "      <td>20</td>\n",
              "      <td>10</td>\n",
              "      <td>10</td>\n",
              "      <td>0</td>\n",
              "      <td>0</td>\n",
              "      <td>0</td>\n",
              "      <td>1.0</td>\n",
              "      <td>0.0</td>\n",
              "      <td>0.0</td>\n",
              "    </tr>\n",
              "  </tbody>\n",
              "</table>\n",
              "<p>12992 rows × 29 columns</p>\n",
              "</div>"
            ],
            "text/plain": [
              "       idade  numero_de_amigos  basquete  futebol_americano  futebol  softbol  \\\n",
              "0         27                49         0                  0       10        0   \n",
              "1         27                41         0                  0        0        0   \n",
              "2         26                 1         0                  0        0        0   \n",
              "3         28                32         0                 50        0        0   \n",
              "4         28                18         0                  0        0        0   \n",
              "...      ...               ...       ...                ...      ...      ...   \n",
              "12987     26                21         0                  0        0        0   \n",
              "12988     26                50         0                  0        0        0   \n",
              "12989     27                32         0                  0        0        0   \n",
              "12990     27                20         0                  0        0        0   \n",
              "12991     25                25         0                  0       70        0   \n",
              "\n",
              "       voleibol  natacao  animacao  beisebol  ...  vestido  shopping  compras  \\\n",
              "0             0       10         0         0  ...        0         0        0   \n",
              "1             0        0         0        10  ...        0        10        0   \n",
              "2             0       10         0         0  ...        0         0        0   \n",
              "3             0        0         0         0  ...        0         0        0   \n",
              "4             0        0         0         0  ...        0         0        0   \n",
              "...         ...      ...       ...       ...  ...      ...       ...      ...   \n",
              "12987         0        0         0         0  ...        0         0        0   \n",
              "12988         0        0         0        10  ...        0         0        0   \n",
              "12989         0        0        10         0  ...        0         0        0   \n",
              "12990         0        0         0         0  ...        0         0        0   \n",
              "12991         0        0         0         0  ...        0        20       10   \n",
              "\n",
              "       roupas  nossa_marca  marca_concorrente  bebidas  sexo_F  sexo_M  \\\n",
              "0           0            0                  0       10     1.0     0.0   \n",
              "1           0            0                  0       10     1.0     0.0   \n",
              "2          30            0                  0        0     1.0     0.0   \n",
              "3           0            0                  0        0     0.0     1.0   \n",
              "4          10            0                  0        0     0.0     1.0   \n",
              "...       ...          ...                ...      ...     ...     ...   \n",
              "12987      20            0                  0        0     1.0     0.0   \n",
              "12988       0            0                  0        0     1.0     0.0   \n",
              "12989       0            0                  0        0     1.0     0.0   \n",
              "12990       0            0                  0        0     1.0     0.0   \n",
              "12991      10            0                  0        0     1.0     0.0   \n",
              "\n",
              "       sexo_NE  \n",
              "0          0.0  \n",
              "1          0.0  \n",
              "2          0.0  \n",
              "3          0.0  \n",
              "4          0.0  \n",
              "...        ...  \n",
              "12987      0.0  \n",
              "12988      0.0  \n",
              "12989      0.0  \n",
              "12990      0.0  \n",
              "12991      0.0  \n",
              "\n",
              "[12992 rows x 29 columns]"
            ]
          },
          "execution_count": 10,
          "metadata": {},
          "output_type": "execute_result"
        }
      ],
      "source": [
        "dados = pd.concat([df, encoded_df], axis=1).drop('sexo', axis=1)\n",
        "dados"
      ]
    },
    {
      "cell_type": "code",
      "execution_count": 11,
      "metadata": {
        "id": "DcKP7GoFzMp9"
      },
      "outputs": [
        {
          "data": {
            "text/plain": [
              "['encoder.pkl']"
            ]
          },
          "execution_count": 11,
          "metadata": {},
          "output_type": "execute_result"
        }
      ],
      "source": [
        "import joblib\n",
        "\n",
        "joblib.dump(encoder, 'encoder.pkl')"
      ]
    },
    {
      "cell_type": "markdown",
      "metadata": {
        "id": "7EJQiUPthTFo"
      },
      "source": [
        "## Desenvolvendo o modelo"
      ]
    },
    {
      "cell_type": "code",
      "execution_count": 12,
      "metadata": {
        "id": "HWkWwsFIzEfw"
      },
      "outputs": [],
      "source": [
        "from sklearn.cluster import KMeans\n",
        "\n",
        "mod_kmeans = KMeans(n_clusters=2, random_state=45)"
      ]
    },
    {
      "cell_type": "code",
      "execution_count": 13,
      "metadata": {
        "id": "2nde7P-CzEWF"
      },
      "outputs": [],
      "source": [
        "modelo = mod_kmeans.fit(dados)"
      ]
    },
    {
      "cell_type": "markdown",
      "metadata": {
        "id": "w0XPkSH-hj5Q"
      },
      "source": [
        "# Avaliando o K-means"
      ]
    },
    {
      "cell_type": "code",
      "execution_count": 14,
      "metadata": {
        "id": "6gw-7xWBy8_C"
      },
      "outputs": [
        {
          "data": {
            "text/plain": [
              "24912957.59458855"
            ]
          },
          "execution_count": 14,
          "metadata": {},
          "output_type": "execute_result"
        }
      ],
      "source": [
        "mod_kmeans.inertia_"
      ]
    },
    {
      "cell_type": "code",
      "execution_count": 15,
      "metadata": {
        "id": "1tUvMdgAy86L"
      },
      "outputs": [
        {
          "data": {
            "text/plain": [
              "0.3799715886302017"
            ]
          },
          "execution_count": 15,
          "metadata": {},
          "output_type": "execute_result"
        }
      ],
      "source": [
        "from sklearn.metrics import silhouette_score\n",
        "\n",
        "silhouette_score(dados, mod_kmeans.predict(dados))"
      ]
    },
    {
      "cell_type": "markdown",
      "metadata": {
        "id": "nSpCzX-Ghxxq"
      },
      "source": [
        "## Avaliando métricas para diferentes K"
      ]
    },
    {
      "cell_type": "code",
      "execution_count": 16,
      "metadata": {
        "id": "jqvpSJYOy6XS"
      },
      "outputs": [],
      "source": [
        "def avaliacao(dados):\n",
        "    inercia = []\n",
        "    silhueta = []\n",
        "\n",
        "    for k in range(2, 21):\n",
        "        kmeans = KMeans(n_clusters=k, random_state=45, n_init='auto')\n",
        "        kmeans.fit(dados)\n",
        "        inercia.append(kmeans.inertia_)\n",
        "        silhueta.append(f'k={k} - ' + str(silhouette_score(dados, kmeans.predict(dados))))\n",
        "    \n",
        "    return silhueta, inercia\n"
      ]
    },
    {
      "cell_type": "code",
      "execution_count": 17,
      "metadata": {
        "id": "Glv5ejSXy6Si"
      },
      "outputs": [
        {
          "data": {
            "text/plain": [
              "['k=2 - 0.3799715886302017',\n",
              " 'k=3 - 0.2631947012216279',\n",
              " 'k=4 - 0.27497370057197046',\n",
              " 'k=5 - 0.2762790287828939',\n",
              " 'k=6 - 0.2814107923103627',\n",
              " 'k=7 - 0.19566339131554092',\n",
              " 'k=8 - 0.12271514125212872',\n",
              " 'k=9 - 0.1281093701405103',\n",
              " 'k=10 - 0.13020718009107704',\n",
              " 'k=11 - 0.13209306347804026',\n",
              " 'k=12 - 0.09015815350273831',\n",
              " 'k=13 - 0.09002551845716941',\n",
              " 'k=14 - 0.08959066111262458',\n",
              " 'k=15 - 0.09427696863257996',\n",
              " 'k=16 - 0.09552364235312874',\n",
              " 'k=17 - 0.09543714624178481',\n",
              " 'k=18 - 0.08844412672288283',\n",
              " 'k=19 - 0.0844173588143633',\n",
              " 'k=20 - 0.08484109789709748']"
            ]
          },
          "execution_count": 17,
          "metadata": {},
          "output_type": "execute_result"
        }
      ],
      "source": [
        "silhueta, inercia = avaliacao(dados)\n",
        "silhueta"
      ]
    },
    {
      "cell_type": "markdown",
      "metadata": {
        "id": "InCv_WqI-611"
      },
      "source": [
        "## Aula 2.3 - Verificando a silhueta por amostras"
      ]
    },
    {
      "cell_type": "code",
      "execution_count": null,
      "metadata": {
        "id": "q7u5mQPQV9J1"
      },
      "outputs": [],
      "source": [
        "import matplotlib.cm as cm\n",
        "from sklearn.metrics import silhouette_samples\n",
        "\n",
        "def graf_silhueta (n_clusters, dados):\n",
        "\n",
        "  # Aplica o KMeans ao conjunto de dados\n",
        "  kmeans = KMeans(n_clusters=n_clusters, random_state=45, n_init = 'auto')\n",
        "  cluster_previsoes = kmeans.fit_predict(dados)\n",
        "\n",
        "  # Calcula o silhouette score médio\n",
        "  silhueta_media = silhouette_score(dados, cluster_previsoes)\n",
        "  print(f'Valor médio para {n_clusters} clusters: {silhueta_media:.3f}')\n",
        "\n",
        "  # Calcula a pontuação de silhueta para cada amostra\n",
        "  silhueta_amostra = silhouette_samples(dados, cluster_previsoes)\n",
        "\n",
        "  # Configuração da figura para o gráfico de silhueta\n",
        "  fig, ax1 = plt.subplots(1, 1)\n",
        "  fig.set_size_inches(9, 7)\n",
        "\n",
        "  # Limites do gráfico de silhueta\n",
        "  ax1.set_xlim([-0.1, 1])\n",
        "  ax1.set_ylim([0, len(dados) + (n_clusters + 1) * 10])\n",
        "\n",
        "  y_lower = 10\n",
        "  for i in range(n_clusters):\n",
        "      ith_cluster_silhueta_amostra = silhueta_amostra[cluster_previsoes == i]\n",
        "      ith_cluster_silhueta_amostra.sort()\n",
        "\n",
        "      tamanho_cluster_i = ith_cluster_silhueta_amostra.shape[0]\n",
        "      y_upper = y_lower + tamanho_cluster_i\n",
        "\n",
        "      cor = cm.nipy_spectral(float(i) / n_clusters)\n",
        "      ax1.fill_betweenx(np.arange(y_lower, y_upper), 0, ith_cluster_silhueta_amostra,\n",
        "                        facecolor=cor, edgecolor=cor, alpha=0.7)\n",
        "\n",
        "      ax1.text(-0.05, y_lower + 0.5 * tamanho_cluster_i, str(i))\n",
        "      y_lower = y_upper + 10  # 10 para o espaço entre gráficos\n",
        "\n",
        "  # Linha vertical para a média do Silhouette Score\n",
        "  ax1.axvline(x=silhueta_media, color='red', linestyle='--')\n",
        "\n",
        "  ax1.set_title(f'Gráfico da Silhueta para {n_clusters} clusters')\n",
        "  ax1.set_xlabel('Valores do coeficiente de silhueta')\n",
        "  ax1.set_ylabel('Rótulo do cluster')\n",
        "\n",
        "  ax1.set_yticks([])  # Remove os ticks do eixo y\n",
        "  ax1.set_xticks([i/10.0 for i in range(-1, 11)])\n",
        "\n",
        "  plt.show()"
      ]
    },
    {
      "cell_type": "code",
      "execution_count": null,
      "metadata": {
        "id": "7dWvuIJmykR1"
      },
      "outputs": [],
      "source": []
    },
    {
      "cell_type": "markdown",
      "metadata": {
        "id": "3ybQzUklV8Ns"
      },
      "source": [
        "### Outras visualizações"
      ]
    },
    {
      "cell_type": "code",
      "execution_count": null,
      "metadata": {
        "id": "93TENuPwyi0l"
      },
      "outputs": [],
      "source": []
    },
    {
      "cell_type": "code",
      "execution_count": null,
      "metadata": {
        "id": "CpO7oL0xyivF"
      },
      "outputs": [],
      "source": []
    },
    {
      "cell_type": "markdown",
      "metadata": {
        "id": "P9KSZdeeifXu"
      },
      "source": [
        "# Avaliação e ajuste de dados"
      ]
    },
    {
      "cell_type": "code",
      "execution_count": null,
      "metadata": {
        "id": "sj0Buri-xoy9"
      },
      "outputs": [],
      "source": []
    },
    {
      "cell_type": "code",
      "execution_count": null,
      "metadata": {
        "id": "rZKtjXLBxotD"
      },
      "outputs": [],
      "source": []
    },
    {
      "cell_type": "code",
      "execution_count": null,
      "metadata": {
        "id": "irokHyTrxomA"
      },
      "outputs": [],
      "source": []
    },
    {
      "cell_type": "code",
      "execution_count": null,
      "metadata": {
        "id": "mIgJY6Rdxofo"
      },
      "outputs": [],
      "source": []
    },
    {
      "cell_type": "markdown",
      "metadata": {
        "id": "g3XW-I3miptg"
      },
      "source": [
        "## Verificando as métricas para os novos dados"
      ]
    },
    {
      "cell_type": "code",
      "execution_count": null,
      "metadata": {
        "id": "6H2bGiC_xloQ"
      },
      "outputs": [],
      "source": []
    },
    {
      "cell_type": "code",
      "execution_count": null,
      "metadata": {
        "id": "TPvtx0XFxlhs"
      },
      "outputs": [],
      "source": []
    },
    {
      "cell_type": "code",
      "execution_count": null,
      "metadata": {
        "id": "6re05zsRxla9"
      },
      "outputs": [],
      "source": []
    },
    {
      "cell_type": "markdown",
      "metadata": {
        "id": "LOOlJnmoiweU"
      },
      "source": [
        "## Criando o melhor modelo"
      ]
    },
    {
      "cell_type": "code",
      "execution_count": null,
      "metadata": {
        "id": "Mi9nHUErxjko"
      },
      "outputs": [],
      "source": []
    },
    {
      "cell_type": "code",
      "execution_count": null,
      "metadata": {
        "id": "AqyJHPn9xjgC"
      },
      "outputs": [],
      "source": []
    },
    {
      "cell_type": "markdown",
      "metadata": {
        "id": "wjmu8EK-i5Wl"
      },
      "source": [
        "# Analisando as informações de cada cluster"
      ]
    },
    {
      "cell_type": "code",
      "execution_count": null,
      "metadata": {
        "id": "-6bFHQPSxCkJ"
      },
      "outputs": [],
      "source": []
    },
    {
      "cell_type": "code",
      "execution_count": null,
      "metadata": {
        "id": "8jL6UdrsxCe_"
      },
      "outputs": [],
      "source": []
    },
    {
      "cell_type": "code",
      "execution_count": null,
      "metadata": {
        "id": "0KjEzCPcxCXn"
      },
      "outputs": [],
      "source": []
    },
    {
      "cell_type": "code",
      "execution_count": null,
      "metadata": {
        "id": "ueoc4LXLxCRI"
      },
      "outputs": [],
      "source": []
    },
    {
      "cell_type": "code",
      "execution_count": null,
      "metadata": {
        "id": "ixMsF5rGxCLP"
      },
      "outputs": [],
      "source": []
    },
    {
      "cell_type": "markdown",
      "metadata": {
        "id": "8JVUwm9HGzeP"
      },
      "source": [
        "## Descrevendo cada agrupamento"
      ]
    },
    {
      "cell_type": "code",
      "execution_count": null,
      "metadata": {
        "id": "ygFk_XLUw_aE"
      },
      "outputs": [],
      "source": []
    },
    {
      "cell_type": "code",
      "execution_count": null,
      "metadata": {
        "id": "nSenYujgw_T4"
      },
      "outputs": [],
      "source": []
    },
    {
      "cell_type": "code",
      "execution_count": null,
      "metadata": {
        "id": "lr6n2Pjiw_N6"
      },
      "outputs": [],
      "source": []
    }
  ],
  "metadata": {
    "colab": {
      "collapsed_sections": [
        "3ybQzUklV8Ns",
        "P9KSZdeeifXu",
        "wjmu8EK-i5Wl",
        "8JVUwm9HGzeP"
      ],
      "provenance": []
    },
    "kernelspec": {
      "display_name": "Python 3",
      "name": "python3"
    },
    "language_info": {
      "codemirror_mode": {
        "name": "ipython",
        "version": 3
      },
      "file_extension": ".py",
      "mimetype": "text/x-python",
      "name": "python",
      "nbconvert_exporter": "python",
      "pygments_lexer": "ipython3",
      "version": "3.12.4"
    }
  },
  "nbformat": 4,
  "nbformat_minor": 0
}
