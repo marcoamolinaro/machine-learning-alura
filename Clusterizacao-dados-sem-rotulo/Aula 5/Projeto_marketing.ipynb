{
  "cells": [
    {
      "cell_type": "code",
      "execution_count": null,
      "metadata": {
        "id": "gRby5XQPgwH1"
      },
      "outputs": [],
      "source": [
        "import pandas as pd\n",
        "import numpy as np\n",
        "import matplotlib.pyplot as plt\n",
        "import seaborn as sns"
      ]
    },
    {
      "cell_type": "code",
      "execution_count": null,
      "metadata": {
        "id": "Jj89PU-QA_4j"
      },
      "outputs": [],
      "source": [
        "url = 'https://raw.githubusercontent.com/alura-cursos/Clusterizacao-dados-sem-rotulo/main/Dados/dados_mkt.csv'"
      ]
    },
    {
      "cell_type": "markdown",
      "metadata": {
        "id": "2inWQPh_ggmu"
      },
      "source": [
        "# Coletando e ajustando dados"
      ]
    },
    {
      "cell_type": "code",
      "execution_count": null,
      "metadata": {
        "colab": {
          "base_uri": "https://localhost:8080/",
          "height": 443
        },
        "id": "QpplIQxKgyFS",
        "outputId": "4eb32532-05cd-4823-d327-95778342e208"
      },
      "outputs": [],
      "source": [
        "df = pd.read_csv(url)\n",
        "df"
      ]
    },
    {
      "cell_type": "code",
      "execution_count": null,
      "metadata": {
        "colab": {
          "base_uri": "https://localhost:8080/"
        },
        "id": "gQP8GZ4ZgzvT",
        "outputId": "2851fea6-727a-41b0-fe2c-69fb7420f489"
      },
      "outputs": [],
      "source": [
        "df.info()"
      ]
    },
    {
      "cell_type": "code",
      "execution_count": null,
      "metadata": {
        "colab": {
          "base_uri": "https://localhost:8080/"
        },
        "id": "14RlI0pig0_U",
        "outputId": "49b9663e-6d0e-46f0-dddb-28078e8b1638"
      },
      "outputs": [],
      "source": [
        "df['sexo'].unique()"
      ]
    },
    {
      "cell_type": "markdown",
      "metadata": {
        "id": "3OO7Kc1ig3DA"
      },
      "source": [
        "## Aplicando encoder"
      ]
    },
    {
      "cell_type": "code",
      "execution_count": null,
      "metadata": {
        "id": "X-p_t-azg04H"
      },
      "outputs": [],
      "source": [
        "from sklearn.preprocessing import OneHotEncoder\n",
        "\n",
        "encoder = OneHotEncoder(categories=[['F', 'M', 'NE']], sparse_output=False)"
      ]
    },
    {
      "cell_type": "code",
      "execution_count": null,
      "metadata": {
        "colab": {
          "base_uri": "https://localhost:8080/"
        },
        "id": "1ci4Xvj1hAFf",
        "outputId": "7809899c-c0c4-4d4e-d465-89994fb70bc8"
      },
      "outputs": [],
      "source": [
        "encoded_sexo = encoder.fit_transform(df[['sexo']])\n",
        "encoded_sexo"
      ]
    },
    {
      "cell_type": "code",
      "execution_count": null,
      "metadata": {
        "id": "WGPFCXbHhD6_"
      },
      "outputs": [],
      "source": [
        "encoded_df = pd.DataFrame(encoded_sexo,columns=encoder.get_feature_names_out(['sexo']))"
      ]
    },
    {
      "cell_type": "code",
      "execution_count": null,
      "metadata": {
        "colab": {
          "base_uri": "https://localhost:8080/",
          "height": 443
        },
        "id": "F-pBEsPqhEkl",
        "outputId": "3d9c0874-bd5c-4d79-abb5-877b5ada994b"
      },
      "outputs": [],
      "source": [
        "dados = pd.concat([df,encoded_df],axis=1).drop('sexo',axis=1)\n",
        "dados"
      ]
    },
    {
      "cell_type": "code",
      "execution_count": null,
      "metadata": {
        "colab": {
          "base_uri": "https://localhost:8080/"
        },
        "id": "1d7-bsBDhHPK",
        "outputId": "db29e605-d51c-49e2-e40e-0b03875be96f"
      },
      "outputs": [],
      "source": [
        "import joblib\n",
        "\n",
        "joblib.dump(encoder,'encoder.pkl')"
      ]
    },
    {
      "cell_type": "markdown",
      "metadata": {
        "id": "7EJQiUPthTFo"
      },
      "source": [
        "## Desenvolvendo o modelo"
      ]
    },
    {
      "cell_type": "code",
      "execution_count": null,
      "metadata": {
        "id": "5VZtPhN9hWd3"
      },
      "outputs": [],
      "source": [
        "from sklearn.cluster import KMeans\n",
        "\n",
        "mod_kmeans = KMeans(n_clusters=2, random_state=45)"
      ]
    },
    {
      "cell_type": "code",
      "execution_count": null,
      "metadata": {
        "colab": {
          "base_uri": "https://localhost:8080/"
        },
        "id": "slWtnmazoHGj",
        "outputId": "b5e5f593-057c-4adf-8b7f-124b1bc871f4"
      },
      "outputs": [],
      "source": [
        "modelo = mod_kmeans.fit(dados)"
      ]
    },
    {
      "cell_type": "markdown",
      "metadata": {
        "id": "w0XPkSH-hj5Q"
      },
      "source": [
        "# Avaliando o K-means"
      ]
    },
    {
      "cell_type": "code",
      "execution_count": null,
      "metadata": {
        "colab": {
          "base_uri": "https://localhost:8080/"
        },
        "id": "gDXt3hv7OQEj",
        "outputId": "110a689d-5e60-49c4-ff34-f71573e5a649"
      },
      "outputs": [],
      "source": [
        "mod_kmeans.inertia_"
      ]
    },
    {
      "cell_type": "code",
      "execution_count": null,
      "metadata": {
        "colab": {
          "base_uri": "https://localhost:8080/"
        },
        "id": "V-XHyx-KOP6z",
        "outputId": "defcf16b-0be8-4f0f-f2f9-9ec50aaa0ea7"
      },
      "outputs": [],
      "source": [
        "from sklearn.metrics import silhouette_score\n",
        "\n",
        "silhouette_score(dados,mod_kmeans.predict(dados))"
      ]
    },
    {
      "cell_type": "markdown",
      "metadata": {
        "id": "nSpCzX-Ghxxq"
      },
      "source": [
        "## Avaliando métricas para diferentes K"
      ]
    },
    {
      "cell_type": "code",
      "execution_count": null,
      "metadata": {
        "id": "XPgUITA5TjX4"
      },
      "outputs": [],
      "source": [
        "def avaliacao(dados):\n",
        "  inercia = []\n",
        "  silhueta = []\n",
        "\n",
        "  for k in range(2,21):\n",
        "    kmeans = KMeans(n_clusters=k, random_state=45, n_init='auto')\n",
        "    kmeans.fit(dados)\n",
        "    inercia.append(kmeans.inertia_)\n",
        "    silhueta.append(f'k={k} - '+ str(silhouette_score(dados, kmeans.predict(dados))))\n",
        "  return silhueta, inercia"
      ]
    },
    {
      "cell_type": "code",
      "execution_count": null,
      "metadata": {
        "colab": {
          "base_uri": "https://localhost:8080/"
        },
        "id": "q46QzFwiTjTA",
        "outputId": "f998c7dd-71db-4471-bda3-a4778dc57590"
      },
      "outputs": [],
      "source": [
        "silhueta, inercia = avaliacao(dados)\n",
        "silhueta"
      ]
    },
    {
      "cell_type": "markdown",
      "metadata": {
        "id": "InCv_WqI-611"
      },
      "source": [
        "## Aula 2.3 - Verificando a silhueta por amostras"
      ]
    },
    {
      "cell_type": "code",
      "execution_count": null,
      "metadata": {
        "id": "q7u5mQPQV9J1"
      },
      "outputs": [],
      "source": [
        "import matplotlib.cm as cm\n",
        "from sklearn.metrics import silhouette_samples\n",
        "\n",
        "def graf_silhueta (n_clusters, dados):\n",
        "\n",
        "  # Aplica o KMeans ao conjunto de dados\n",
        "  kmeans = KMeans(n_clusters=n_clusters, random_state=45, n_init = 'auto')\n",
        "  cluster_previsoes = kmeans.fit_predict(dados)\n",
        "\n",
        "  # Calcula o silhouette score médio\n",
        "  silhueta_media = silhouette_score(dados, cluster_previsoes)\n",
        "  print(f'Valor médio para {n_clusters} clusters: {silhueta_media:.3f}')\n",
        "\n",
        "  # Calcula a pontuação de silhueta para cada amostra\n",
        "  silhueta_amostra = silhouette_samples(dados, cluster_previsoes)\n",
        "\n",
        "  # Configuração da figura para o gráfico de silhueta\n",
        "  fig, ax1 = plt.subplots(1, 1)\n",
        "  fig.set_size_inches(9, 7)\n",
        "\n",
        "  # Limites do gráfico de silhueta\n",
        "  ax1.set_xlim([-0.1, 1])\n",
        "  ax1.set_ylim([0, len(dados) + (n_clusters + 1) * 10])\n",
        "\n",
        "  y_lower = 10\n",
        "  for i in range(n_clusters):\n",
        "      ith_cluster_silhueta_amostra = silhueta_amostra[cluster_previsoes == i]\n",
        "      ith_cluster_silhueta_amostra.sort()\n",
        "\n",
        "      tamanho_cluster_i = ith_cluster_silhueta_amostra.shape[0]\n",
        "      y_upper = y_lower + tamanho_cluster_i\n",
        "\n",
        "      cor = cm.nipy_spectral(float(i) / n_clusters)\n",
        "      ax1.fill_betweenx(np.arange(y_lower, y_upper), 0, ith_cluster_silhueta_amostra,\n",
        "                        facecolor=cor, edgecolor=cor, alpha=0.7)\n",
        "\n",
        "      ax1.text(-0.05, y_lower + 0.5 * tamanho_cluster_i, str(i))\n",
        "      y_lower = y_upper + 10  # 10 para o espaço entre gráficos\n",
        "\n",
        "  # Linha vertical para a média do Silhouette Score\n",
        "  ax1.axvline(x=silhueta_media, color='red', linestyle='--')\n",
        "\n",
        "  ax1.set_title(f'Gráfico da Silhueta para {n_clusters} clusters')\n",
        "  ax1.set_xlabel('Valores do coeficiente de silhueta')\n",
        "  ax1.set_ylabel('Rótulo do cluster')\n",
        "\n",
        "  ax1.set_yticks([])  # Remove os ticks do eixo y\n",
        "  ax1.set_xticks([i/10.0 for i in range(-1, 11)])\n",
        "\n",
        "  plt.show()"
      ]
    },
    {
      "cell_type": "code",
      "execution_count": null,
      "metadata": {
        "colab": {
          "base_uri": "https://localhost:8080/",
          "height": 659
        },
        "id": "YJBXtUgZV-hL",
        "outputId": "2a388631-5138-4897-bcc8-67c50a501e34"
      },
      "outputs": [],
      "source": [
        "graf_silhueta(2,dados)"
      ]
    },
    {
      "cell_type": "markdown",
      "metadata": {
        "id": "3ybQzUklV8Ns"
      },
      "source": [
        "### Outras visualizações"
      ]
    },
    {
      "cell_type": "code",
      "execution_count": null,
      "metadata": {
        "id": "IQCw0bsrWApp"
      },
      "outputs": [],
      "source": [
        "def plot_cotovelo(inercia):\n",
        "  plt.figure(figsize=(8,4))\n",
        "  plt.plot(range(2,21),inercia,'bo-')\n",
        "  plt.xlabel('Número de clusters')\n",
        "  plt.ylabel('Inércia')\n",
        "  plt.title('Método do Cotovelo para Determinação de k')\n",
        "  plt.show()"
      ]
    },
    {
      "cell_type": "code",
      "execution_count": null,
      "metadata": {
        "colab": {
          "base_uri": "https://localhost:8080/"
        },
        "id": "Og1EvlFDWAkK",
        "outputId": "2d208012-93a4-4120-fca3-225e4b990af6"
      },
      "outputs": [],
      "source": [
        "plot_cotovelo(inercia)"
      ]
    },
    {
      "cell_type": "markdown",
      "metadata": {
        "id": "P9KSZdeeifXu"
      },
      "source": [
        "# Avaliação e ajuste de dados"
      ]
    },
    {
      "cell_type": "code",
      "execution_count": null,
      "metadata": {
        "colab": {
          "base_uri": "https://localhost:8080/",
          "height": 349
        },
        "id": "jYrPbA5tqeaJ",
        "outputId": "eba63d8f-b51c-410a-9782-9d8fa0d2c99a"
      },
      "outputs": [],
      "source": [
        "dados.describe()"
      ]
    },
    {
      "cell_type": "code",
      "execution_count": null,
      "metadata": {
        "colab": {
          "base_uri": "https://localhost:8080/"
        },
        "id": "Ea6a__dkqeUb",
        "outputId": "2d075653-f0d7-4924-ebcc-c2a3c476288f"
      },
      "outputs": [],
      "source": [
        "from sklearn.preprocessing import MinMaxScaler\n",
        "\n",
        "scaler = MinMaxScaler()\n",
        "\n",
        "dados_escalados = scaler.fit_transform(dados)\n",
        "dados_escalados"
      ]
    },
    {
      "cell_type": "code",
      "execution_count": null,
      "metadata": {
        "colab": {
          "base_uri": "https://localhost:8080/",
          "height": 349
        },
        "id": "01nQUeLeqeOz",
        "outputId": "a1a4f0de-8630-4b48-8103-9f5c3dd4ac14"
      },
      "outputs": [],
      "source": [
        "dados_escalados = pd.DataFrame(dados_escalados, columns=dados.columns)\n",
        "dados_escalados.describe()"
      ]
    },
    {
      "cell_type": "code",
      "execution_count": null,
      "metadata": {
        "colab": {
          "base_uri": "https://localhost:8080/"
        },
        "id": "pi4nr1zPqeJw",
        "outputId": "cd95407d-359b-44dc-9a38-cbd53b21e020"
      },
      "outputs": [],
      "source": [
        "joblib.dump(scaler,'scaler.pkl')"
      ]
    },
    {
      "cell_type": "markdown",
      "metadata": {
        "id": "g3XW-I3miptg"
      },
      "source": [
        "## Verificando as métricas para os novos dados"
      ]
    },
    {
      "cell_type": "code",
      "execution_count": null,
      "metadata": {
        "colab": {
          "base_uri": "https://localhost:8080/"
        },
        "id": "dcQbkojRqhX8",
        "outputId": "31b6d105-6414-4309-9f95-ba9c10466a96"
      },
      "outputs": [],
      "source": [
        "silhueta, inercia = avaliacao(dados_escalados)\n",
        "silhueta"
      ]
    },
    {
      "cell_type": "code",
      "execution_count": null,
      "metadata": {
        "colab": {
          "base_uri": "https://localhost:8080/",
          "height": 659
        },
        "id": "fxHfKheTqhRv",
        "outputId": "3769ac8a-0284-4e9f-ff8b-eaa9d64deff6"
      },
      "outputs": [],
      "source": [
        "graf_silhueta(3, dados_escalados)"
      ]
    },
    {
      "cell_type": "code",
      "execution_count": null,
      "metadata": {
        "colab": {
          "base_uri": "https://localhost:8080/",
          "height": 411
        },
        "id": "H_afEqXRqhMW",
        "outputId": "66f7dab8-fea1-4b13-9f8e-6c6351b599aa"
      },
      "outputs": [],
      "source": [
        "plot_cotovelo(inercia)"
      ]
    },
    {
      "cell_type": "markdown",
      "metadata": {
        "id": "LOOlJnmoiweU"
      },
      "source": [
        "## Criando o melhor modelo"
      ]
    },
    {
      "cell_type": "code",
      "execution_count": null,
      "metadata": {
        "colab": {
          "base_uri": "https://localhost:8080/",
          "height": 74
        },
        "id": "TFoxQfSeqiR1",
        "outputId": "0a94e075-4aa8-484f-9725-055e728fcda7"
      },
      "outputs": [],
      "source": [
        "modelo_kmeans = KMeans(n_clusters = 3, random_state = 45, n_init = 'auto')\n",
        "modelo_kmeans.fit(dados_escalados)"
      ]
    },
    {
      "cell_type": "code",
      "execution_count": null,
      "metadata": {
        "colab": {
          "base_uri": "https://localhost:8080/"
        },
        "id": "5MyJKSiHqiNE",
        "outputId": "3b7ee1e1-b5df-405b-f575-972783159dd7"
      },
      "outputs": [],
      "source": [
        "joblib.dump(modelo_kmeans, 'kmeans.pkl')"
      ]
    },
    {
      "cell_type": "markdown",
      "metadata": {
        "id": "wjmu8EK-i5Wl"
      },
      "source": [
        "# Analisando as informações de cada cluster"
      ]
    },
    {
      "cell_type": "code",
      "execution_count": null,
      "metadata": {
        "colab": {
          "base_uri": "https://localhost:8080/",
          "height": 443
        },
        "id": "mEqb6YFejGX4",
        "outputId": "1b335b45-f9ad-4c49-aa7c-b5ccbda1b812"
      },
      "outputs": [],
      "source": [
        "dados_analise = pd.DataFrame()\n",
        "\n",
        "dados_analise[dados_escalados.columns] = scaler.inverse_transform(dados_escalados)\n",
        "\n",
        "dados_analise"
      ]
    },
    {
      "cell_type": "code",
      "execution_count": null,
      "metadata": {
        "id": "Le-59tF2jOl7"
      },
      "outputs": [],
      "source": [
        "dados_analise['cluster'] = modelo_kmeans.labels_"
      ]
    },
    {
      "cell_type": "code",
      "execution_count": null,
      "metadata": {
        "colab": {
          "base_uri": "https://localhost:8080/",
          "height": 958
        },
        "id": "lh-0XN46jQlB",
        "outputId": "7bb20c5c-faee-42e9-b0bb-17c8a4a38696"
      },
      "outputs": [],
      "source": [
        "cluster_media = dados_analise.groupby('cluster').mean()\n",
        "\n",
        "cluster_media.T"
      ]
    },
    {
      "cell_type": "code",
      "execution_count": null,
      "metadata": {
        "id": "phwpsjncGuQ9"
      },
      "outputs": [],
      "source": [
        "cluster_media = cluster_media.transpose()\n",
        "\n",
        "cluster_media.columns = [0,1,2]"
      ]
    },
    {
      "cell_type": "code",
      "execution_count": null,
      "metadata": {
        "colab": {
          "base_uri": "https://localhost:8080/",
          "height": 958
        },
        "id": "dvaNvviDGuKr",
        "outputId": "aaf40baa-a0d7-4e52-9d0e-8ff40887a6ed"
      },
      "outputs": [],
      "source": [
        "cluster_media"
      ]
    },
    {
      "cell_type": "markdown",
      "metadata": {
        "id": "8JVUwm9HGzeP"
      },
      "source": [
        "## Descrevendo cada agrupamento"
      ]
    },
    {
      "cell_type": "code",
      "execution_count": null,
      "metadata": {
        "colab": {
          "base_uri": "https://localhost:8080/",
          "height": 993
        },
        "id": "WtDsH3aGG3ma",
        "outputId": "37ec4064-f1d9-498f-820a-911defff58bb"
      },
      "outputs": [],
      "source": [
        "cluster_media[0].sort_values(ascending=False)"
      ]
    },
    {
      "cell_type": "code",
      "execution_count": null,
      "metadata": {
        "colab": {
          "base_uri": "https://localhost:8080/",
          "height": 993
        },
        "id": "_J4cY_jLG4nz",
        "outputId": "bb09660e-0c31-49a2-901e-dec48fe668b2"
      },
      "outputs": [],
      "source": [
        "cluster_media[1].sort_values(ascending=False)"
      ]
    },
    {
      "cell_type": "code",
      "execution_count": null,
      "metadata": {
        "colab": {
          "base_uri": "https://localhost:8080/",
          "height": 993
        },
        "id": "8FVw6eWUG5mA",
        "outputId": "b69d3b9f-afbd-4953-c021-218250604854"
      },
      "outputs": [],
      "source": [
        "cluster_media[2].sort_values(ascending=False)"
      ]
    },
    {
      "cell_type": "code",
      "execution_count": null,
      "metadata": {
        "id": "6tgbqiIBdy5Z"
      },
      "outputs": [],
      "source": []
    }
  ],
  "metadata": {
    "colab": {
      "collapsed_sections": [
        "3ybQzUklV8Ns",
        "P9KSZdeeifXu",
        "wjmu8EK-i5Wl",
        "8JVUwm9HGzeP"
      ],
      "provenance": []
    },
    "kernelspec": {
      "display_name": "Python 3",
      "name": "python3"
    },
    "language_info": {
      "name": "python",
      "version": "3.12.4"
    }
  },
  "nbformat": 4,
  "nbformat_minor": 0
}
