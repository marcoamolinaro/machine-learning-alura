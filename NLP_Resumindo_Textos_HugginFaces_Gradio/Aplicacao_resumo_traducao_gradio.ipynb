{
  "nbformat": 4,
  "nbformat_minor": 0,
  "metadata": {
    "colab": {
      "provenance": []
    },
    "kernelspec": {
      "name": "python3",
      "display_name": "Python 3"
    },
    "language_info": {
      "name": "python"
    }
  },
  "cells": [
    {
      "cell_type": "markdown",
      "source": [
        "Aula 4: Construindo a aplicação com *Gradio*"
      ],
      "metadata": {
        "id": "l2rBYLrVWYDS"
      }
    },
    {
      "cell_type": "code",
      "execution_count": 1,
      "metadata": {
        "colab": {
          "base_uri": "https://localhost:8080/"
        },
        "collapsed": true,
        "id": "uSlB4hFaRldv",
        "outputId": "3a913dad-e0af-4f8f-a3c9-c6dbfaa84626"
      },
      "outputs": [
        {
          "output_type": "stream",
          "name": "stdout",
          "text": [
            "Requirement already satisfied: transformers in /usr/local/lib/python3.12/dist-packages (4.57.1)\n",
            "Requirement already satisfied: filelock in /usr/local/lib/python3.12/dist-packages (from transformers) (3.20.0)\n",
            "Requirement already satisfied: huggingface-hub<1.0,>=0.34.0 in /usr/local/lib/python3.12/dist-packages (from transformers) (0.35.3)\n",
            "Requirement already satisfied: numpy>=1.17 in /usr/local/lib/python3.12/dist-packages (from transformers) (2.0.2)\n",
            "Requirement already satisfied: packaging>=20.0 in /usr/local/lib/python3.12/dist-packages (from transformers) (25.0)\n",
            "Requirement already satisfied: pyyaml>=5.1 in /usr/local/lib/python3.12/dist-packages (from transformers) (6.0.3)\n",
            "Requirement already satisfied: regex!=2019.12.17 in /usr/local/lib/python3.12/dist-packages (from transformers) (2024.11.6)\n",
            "Requirement already satisfied: requests in /usr/local/lib/python3.12/dist-packages (from transformers) (2.32.4)\n",
            "Requirement already satisfied: tokenizers<=0.23.0,>=0.22.0 in /usr/local/lib/python3.12/dist-packages (from transformers) (0.22.1)\n",
            "Requirement already satisfied: safetensors>=0.4.3 in /usr/local/lib/python3.12/dist-packages (from transformers) (0.6.2)\n",
            "Requirement already satisfied: tqdm>=4.27 in /usr/local/lib/python3.12/dist-packages (from transformers) (4.67.1)\n",
            "Requirement already satisfied: fsspec>=2023.5.0 in /usr/local/lib/python3.12/dist-packages (from huggingface-hub<1.0,>=0.34.0->transformers) (2025.3.0)\n",
            "Requirement already satisfied: typing-extensions>=3.7.4.3 in /usr/local/lib/python3.12/dist-packages (from huggingface-hub<1.0,>=0.34.0->transformers) (4.15.0)\n",
            "Requirement already satisfied: hf-xet<2.0.0,>=1.1.3 in /usr/local/lib/python3.12/dist-packages (from huggingface-hub<1.0,>=0.34.0->transformers) (1.1.10)\n",
            "Requirement already satisfied: charset_normalizer<4,>=2 in /usr/local/lib/python3.12/dist-packages (from requests->transformers) (3.4.4)\n",
            "Requirement already satisfied: idna<4,>=2.5 in /usr/local/lib/python3.12/dist-packages (from requests->transformers) (3.11)\n",
            "Requirement already satisfied: urllib3<3,>=1.21.1 in /usr/local/lib/python3.12/dist-packages (from requests->transformers) (2.5.0)\n",
            "Requirement already satisfied: certifi>=2017.4.17 in /usr/local/lib/python3.12/dist-packages (from requests->transformers) (2025.10.5)\n"
          ]
        }
      ],
      "source": [
        "!pip install transformers"
      ]
    },
    {
      "cell_type": "code",
      "source": [
        "from transformers import pipeline"
      ],
      "metadata": {
        "id": "hIO47VcWR3Zt"
      },
      "execution_count": 2,
      "outputs": []
    },
    {
      "cell_type": "code",
      "source": [
        "!pip install gradio"
      ],
      "metadata": {
        "colab": {
          "base_uri": "https://localhost:8080/"
        },
        "collapsed": true,
        "id": "PN5x0ToqR_xA",
        "outputId": "c62cff30-63f4-4177-aa28-090b874f2b78"
      },
      "execution_count": 3,
      "outputs": [
        {
          "output_type": "stream",
          "name": "stdout",
          "text": [
            "Requirement already satisfied: gradio in /usr/local/lib/python3.12/dist-packages (5.49.1)\n",
            "Requirement already satisfied: aiofiles<25.0,>=22.0 in /usr/local/lib/python3.12/dist-packages (from gradio) (24.1.0)\n",
            "Requirement already satisfied: anyio<5.0,>=3.0 in /usr/local/lib/python3.12/dist-packages (from gradio) (4.11.0)\n",
            "Requirement already satisfied: brotli>=1.1.0 in /usr/local/lib/python3.12/dist-packages (from gradio) (1.1.0)\n",
            "Requirement already satisfied: fastapi<1.0,>=0.115.2 in /usr/local/lib/python3.12/dist-packages (from gradio) (0.119.1)\n",
            "Requirement already satisfied: ffmpy in /usr/local/lib/python3.12/dist-packages (from gradio) (0.6.3)\n",
            "Requirement already satisfied: gradio-client==1.13.3 in /usr/local/lib/python3.12/dist-packages (from gradio) (1.13.3)\n",
            "Requirement already satisfied: groovy~=0.1 in /usr/local/lib/python3.12/dist-packages (from gradio) (0.1.2)\n",
            "Requirement already satisfied: httpx<1.0,>=0.24.1 in /usr/local/lib/python3.12/dist-packages (from gradio) (0.28.1)\n",
            "Requirement already satisfied: huggingface-hub<2.0,>=0.33.5 in /usr/local/lib/python3.12/dist-packages (from gradio) (0.35.3)\n",
            "Requirement already satisfied: jinja2<4.0 in /usr/local/lib/python3.12/dist-packages (from gradio) (3.1.6)\n",
            "Requirement already satisfied: markupsafe<4.0,>=2.0 in /usr/local/lib/python3.12/dist-packages (from gradio) (3.0.3)\n",
            "Requirement already satisfied: numpy<3.0,>=1.0 in /usr/local/lib/python3.12/dist-packages (from gradio) (2.0.2)\n",
            "Requirement already satisfied: orjson~=3.0 in /usr/local/lib/python3.12/dist-packages (from gradio) (3.11.3)\n",
            "Requirement already satisfied: packaging in /usr/local/lib/python3.12/dist-packages (from gradio) (25.0)\n",
            "Requirement already satisfied: pandas<3.0,>=1.0 in /usr/local/lib/python3.12/dist-packages (from gradio) (2.2.2)\n",
            "Requirement already satisfied: pillow<12.0,>=8.0 in /usr/local/lib/python3.12/dist-packages (from gradio) (11.3.0)\n",
            "Requirement already satisfied: pydantic<2.12,>=2.0 in /usr/local/lib/python3.12/dist-packages (from gradio) (2.11.10)\n",
            "Requirement already satisfied: pydub in /usr/local/lib/python3.12/dist-packages (from gradio) (0.25.1)\n",
            "Requirement already satisfied: python-multipart>=0.0.18 in /usr/local/lib/python3.12/dist-packages (from gradio) (0.0.20)\n",
            "Requirement already satisfied: pyyaml<7.0,>=5.0 in /usr/local/lib/python3.12/dist-packages (from gradio) (6.0.3)\n",
            "Requirement already satisfied: ruff>=0.9.3 in /usr/local/lib/python3.12/dist-packages (from gradio) (0.14.1)\n",
            "Requirement already satisfied: safehttpx<0.2.0,>=0.1.6 in /usr/local/lib/python3.12/dist-packages (from gradio) (0.1.6)\n",
            "Requirement already satisfied: semantic-version~=2.0 in /usr/local/lib/python3.12/dist-packages (from gradio) (2.10.0)\n",
            "Requirement already satisfied: starlette<1.0,>=0.40.0 in /usr/local/lib/python3.12/dist-packages (from gradio) (0.48.0)\n",
            "Requirement already satisfied: tomlkit<0.14.0,>=0.12.0 in /usr/local/lib/python3.12/dist-packages (from gradio) (0.13.3)\n",
            "Requirement already satisfied: typer<1.0,>=0.12 in /usr/local/lib/python3.12/dist-packages (from gradio) (0.20.0)\n",
            "Requirement already satisfied: typing-extensions~=4.0 in /usr/local/lib/python3.12/dist-packages (from gradio) (4.15.0)\n",
            "Requirement already satisfied: uvicorn>=0.14.0 in /usr/local/lib/python3.12/dist-packages (from gradio) (0.38.0)\n",
            "Requirement already satisfied: fsspec in /usr/local/lib/python3.12/dist-packages (from gradio-client==1.13.3->gradio) (2025.3.0)\n",
            "Requirement already satisfied: websockets<16.0,>=13.0 in /usr/local/lib/python3.12/dist-packages (from gradio-client==1.13.3->gradio) (15.0.1)\n",
            "Requirement already satisfied: idna>=2.8 in /usr/local/lib/python3.12/dist-packages (from anyio<5.0,>=3.0->gradio) (3.11)\n",
            "Requirement already satisfied: sniffio>=1.1 in /usr/local/lib/python3.12/dist-packages (from anyio<5.0,>=3.0->gradio) (1.3.1)\n",
            "Requirement already satisfied: certifi in /usr/local/lib/python3.12/dist-packages (from httpx<1.0,>=0.24.1->gradio) (2025.10.5)\n",
            "Requirement already satisfied: httpcore==1.* in /usr/local/lib/python3.12/dist-packages (from httpx<1.0,>=0.24.1->gradio) (1.0.9)\n",
            "Requirement already satisfied: h11>=0.16 in /usr/local/lib/python3.12/dist-packages (from httpcore==1.*->httpx<1.0,>=0.24.1->gradio) (0.16.0)\n",
            "Requirement already satisfied: filelock in /usr/local/lib/python3.12/dist-packages (from huggingface-hub<2.0,>=0.33.5->gradio) (3.20.0)\n",
            "Requirement already satisfied: requests in /usr/local/lib/python3.12/dist-packages (from huggingface-hub<2.0,>=0.33.5->gradio) (2.32.4)\n",
            "Requirement already satisfied: tqdm>=4.42.1 in /usr/local/lib/python3.12/dist-packages (from huggingface-hub<2.0,>=0.33.5->gradio) (4.67.1)\n",
            "Requirement already satisfied: hf-xet<2.0.0,>=1.1.3 in /usr/local/lib/python3.12/dist-packages (from huggingface-hub<2.0,>=0.33.5->gradio) (1.1.10)\n",
            "Requirement already satisfied: python-dateutil>=2.8.2 in /usr/local/lib/python3.12/dist-packages (from pandas<3.0,>=1.0->gradio) (2.9.0.post0)\n",
            "Requirement already satisfied: pytz>=2020.1 in /usr/local/lib/python3.12/dist-packages (from pandas<3.0,>=1.0->gradio) (2025.2)\n",
            "Requirement already satisfied: tzdata>=2022.7 in /usr/local/lib/python3.12/dist-packages (from pandas<3.0,>=1.0->gradio) (2025.2)\n",
            "Requirement already satisfied: annotated-types>=0.6.0 in /usr/local/lib/python3.12/dist-packages (from pydantic<2.12,>=2.0->gradio) (0.7.0)\n",
            "Requirement already satisfied: pydantic-core==2.33.2 in /usr/local/lib/python3.12/dist-packages (from pydantic<2.12,>=2.0->gradio) (2.33.2)\n",
            "Requirement already satisfied: typing-inspection>=0.4.0 in /usr/local/lib/python3.12/dist-packages (from pydantic<2.12,>=2.0->gradio) (0.4.2)\n",
            "Requirement already satisfied: click>=8.0.0 in /usr/local/lib/python3.12/dist-packages (from typer<1.0,>=0.12->gradio) (8.3.0)\n",
            "Requirement already satisfied: shellingham>=1.3.0 in /usr/local/lib/python3.12/dist-packages (from typer<1.0,>=0.12->gradio) (1.5.4)\n",
            "Requirement already satisfied: rich>=10.11.0 in /usr/local/lib/python3.12/dist-packages (from typer<1.0,>=0.12->gradio) (13.9.4)\n",
            "Requirement already satisfied: six>=1.5 in /usr/local/lib/python3.12/dist-packages (from python-dateutil>=2.8.2->pandas<3.0,>=1.0->gradio) (1.17.0)\n",
            "Requirement already satisfied: markdown-it-py>=2.2.0 in /usr/local/lib/python3.12/dist-packages (from rich>=10.11.0->typer<1.0,>=0.12->gradio) (4.0.0)\n",
            "Requirement already satisfied: pygments<3.0.0,>=2.13.0 in /usr/local/lib/python3.12/dist-packages (from rich>=10.11.0->typer<1.0,>=0.12->gradio) (2.19.2)\n",
            "Requirement already satisfied: charset_normalizer<4,>=2 in /usr/local/lib/python3.12/dist-packages (from requests->huggingface-hub<2.0,>=0.33.5->gradio) (3.4.4)\n",
            "Requirement already satisfied: urllib3<3,>=1.21.1 in /usr/local/lib/python3.12/dist-packages (from requests->huggingface-hub<2.0,>=0.33.5->gradio) (2.5.0)\n",
            "Requirement already satisfied: mdurl~=0.1 in /usr/local/lib/python3.12/dist-packages (from markdown-it-py>=2.2.0->rich>=10.11.0->typer<1.0,>=0.12->gradio) (0.1.2)\n"
          ]
        }
      ]
    },
    {
      "cell_type": "code",
      "source": [
        "import gradio as gr"
      ],
      "metadata": {
        "id": "Y2z1rGGwSRU_"
      },
      "execution_count": 4,
      "outputs": []
    },
    {
      "cell_type": "code",
      "source": [
        "import torch"
      ],
      "metadata": {
        "id": "qGTNN1RASXXO"
      },
      "execution_count": 5,
      "outputs": []
    },
    {
      "cell_type": "code",
      "source": [
        "codigos_linguagens = {\n",
        "    \"Acehnese (Arabic script)\": \"ace_Arab\",\n",
        "    \"Acehnese (Latin script)\": \"ace_Latn\",\n",
        "    \"Mesopotamian Arabic\": \"acm_Arab\",\n",
        "    \"Ta’izzi-Adeni Arabic\": \"acq_Arab\",\n",
        "    \"Tunisian Arabic\": \"aeb_Arab\",\n",
        "    \"Afrikaans\": \"afr_Latn\",\n",
        "    \"South Levantine Arabic\": \"ajp_Arab\",\n",
        "    \"Akan\": \"aka_Latn\",\n",
        "    \"Amharic\": \"amh_Ethi\",\n",
        "    \"North Levantine Arabic\": \"apc_Arab\",\n",
        "    \"Modern Standard Arabic\": \"arb_Arab\",\n",
        "    \"Modern Standard Arabic (Romanized)\": \"arb_Latn\",\n",
        "    \"Najdi Arabic\": \"ars_Arab\",\n",
        "    \"Moroccan Arabic\": \"ary_Arab\",\n",
        "    \"Egyptian Arabic\": \"arz_Arab\",\n",
        "    \"Assamese\": \"asm_Beng\",\n",
        "    \"Asturian\": \"ast_Latn\",\n",
        "    \"Awadhi\": \"awa_Deva\",\n",
        "    \"Central Aymara\": \"ayr_Latn\",\n",
        "    \"South Azerbaijani\": \"azb_Arab\",\n",
        "    \"North Azerbaijani\": \"azj_Latn\",\n",
        "    \"Bashkir\": \"bak_Cyrl\",\n",
        "    \"Bambara\": \"bam_Latn\",\n",
        "    \"Balinese\": \"ban_Latn\",\n",
        "    \"Belarusian\": \"bel_Cyrl\",\n",
        "    \"Bemba\": \"bem_Latn\",\n",
        "    \"Bengali\": \"ben_Beng\",\n",
        "    \"Bhojpuri\": \"bho_Deva\",\n",
        "    \"Banjar (Arabic script)\": \"bjn_Arab\",\n",
        "    \"Banjar (Latin script)\": \"bjn_Latn\",\n",
        "    \"Standard Tibetan\": \"bod_Tibt\",\n",
        "    \"Bosnian\": \"bos_Latn\",\n",
        "    \"Buginese\": \"bug_Latn\",\n",
        "    \"Bulgarian\": \"bul_Cyrl\",\n",
        "    \"Catalan\": \"cat_Latn\",\n",
        "    \"Cebuano\": \"ceb_Latn\",\n",
        "    \"Czech\": \"ces_Latn\",\n",
        "    \"Chokwe\": \"cjk_Latn\",\n",
        "    \"Central Kurdish\": \"ckb_Arab\",\n",
        "    \"Crimean Tatar\": \"crh_Latn\",\n",
        "    \"Welsh\": \"cym_Latn\",\n",
        "    \"Danish\": \"dan_Latn\",\n",
        "    \"German\": \"deu_Latn\",\n",
        "    \"Southwestern Dinka\": \"dik_Latn\",\n",
        "    \"Dyula\": \"dyu_Latn\",\n",
        "    \"Dzongkha\": \"dzo_Tibt\",\n",
        "    \"Greek\": \"ell_Grek\",\n",
        "    \"English\": \"eng_Latn\",\n",
        "    \"Esperanto\": \"epo_Latn\",\n",
        "    \"Estonian\": \"est_Latn\",\n",
        "    \"Basque\": \"eus_Latn\",\n",
        "    \"Ewe\": \"ewe_Latn\",\n",
        "    \"Faroese\": \"fao_Latn\",\n",
        "    \"Fijian\": \"fij_Latn\",\n",
        "    \"Finnish\": \"fin_Latn\",\n",
        "    \"Fon\": \"fon_Latn\",\n",
        "    \"French\": \"fra_Latn\",\n",
        "    \"Friulian\": \"fur_Latn\",\n",
        "    \"Nigerian Fulfulde\": \"fuv_Latn\",\n",
        "    \"Scottish Gaelic\": \"gla_Latn\",\n",
        "    \"Irish\": \"gle_Latn\",\n",
        "    \"Galician\": \"glg_Latn\",\n",
        "    \"Guarani\": \"grn_Latn\",\n",
        "    \"Gujarati\": \"guj_Gujr\",\n",
        "    \"Haitian Creole\": \"hat_Latn\",\n",
        "    \"Hausa\": \"hau_Latn\",\n",
        "    \"Hebrew\": \"heb_Hebr\",\n",
        "    \"Hindi\": \"hin_Deva\",\n",
        "    \"Chhattisgarhi\": \"hne_Deva\",\n",
        "    \"Croatian\": \"hrv_Latn\",\n",
        "    \"Hungarian\": \"hun_Latn\",\n",
        "    \"Armenian\": \"hye_Armn\",\n",
        "    \"Igbo\": \"ibo_Latn\",\n",
        "    \"Ilocano\": \"ilo_Latn\",\n",
        "    \"Indonesian\": \"ind_Latn\",\n",
        "    \"Icelandic\": \"isl_Latn\",\n",
        "    \"Italian\": \"ita_Latn\",\n",
        "    \"Javanese\": \"jav_Latn\",\n",
        "    \"Japanese\": \"jpn_Jpan\",\n",
        "    \"Kabyle\": \"kab_Latn\",\n",
        "    \"Jingpho\": \"kac_Latn\",\n",
        "    \"Kamba\": \"kam_Latn\",\n",
        "    \"Kannada\": \"kan_Knda\",\n",
        "    \"Kashmiri (Arabic script)\": \"kas_Arab\",\n",
        "    \"Kashmiri (Devanagari script)\": \"kas_Deva\",\n",
        "    \"Georgian\": \"kat_Geor\",\n",
        "    \"Central Kanuri (Arabic script)\": \"knc_Arab\",\n",
        "    \"Central Kanuri (Latin script)\": \"knc_Latn\",\n",
        "    \"Kazakh\": \"kaz_Cyrl\",\n",
        "    \"Kabiyè\": \"kbp_Latn\",\n",
        "    \"Kabuverdianu\": \"kea_Latn\",\n",
        "    \"Khmer\": \"khm_Khmr\",\n",
        "    \"Kikuyu\": \"kik_Latn\",\n",
        "    \"Kinyarwanda\": \"kin_Latn\",\n",
        "    \"Kyrgyz\": \"kir_Cyrl\",\n",
        "    \"Kimbundu\": \"kmb_Latn\",\n",
        "    \"Northern Kurdish\": \"kmr_Latn\",\n",
        "    \"Kikongo\": \"kon_Latn\",\n",
        "    \"Korean\": \"kor_Hang\",\n",
        "    \"Lao\": \"lao_Laoo\",\n",
        "    \"Ligurian\": \"lij_Latn\",\n",
        "    \"Limburgish\": \"lim_Latn\",\n",
        "    \"Lingala\": \"lin_Latn\",\n",
        "    \"Lithuanian\": \"lit_Latn\",\n",
        "    \"Lombard\": \"lmo_Latn\",\n",
        "    \"Latgalian\": \"ltg_Latn\",\n",
        "    \"Luxembourgish\": \"ltz_Latn\",\n",
        "    \"Luba-Kasai\": \"lua_Latn\",\n",
        "    \"Ganda\": \"lug_Latn\",\n",
        "    \"Luo\": \"luo_Latn\",\n",
        "    \"Mizo\": \"lus_Latn\",\n",
        "    \"Standard Latvian\": \"lvs_Latn\",\n",
        "    \"Magahi\": \"mag_Deva\",\n",
        "    \"Maithili\": \"mai_Deva\",\n",
        "    \"Malayalam\": \"mal_Mlym\",\n",
        "    \"Marathi\": \"mar_Deva\",\n",
        "    \"Minangkabau (Arabic script)\": \"min_Arab\",\n",
        "    \"Minangkabau (Latin script)\": \"min_Latn\",\n",
        "    \"Macedonian\": \"mkd_Cyrl\",\n",
        "    \"Plateau Malagasy\": \"plt_Latn\",\n",
        "    \"Maltese\": \"mlt_Latn\",\n",
        "    \"Meitei (Bengali script)\": \"mni_Beng\",\n",
        "    \"Halh Mongolian\": \"khk_Cyrl\",\n",
        "    \"Mossi\": \"mos_Latn\",\n",
        "    \"Maori\": \"mri_Latn\",\n",
        "    \"Burmese\": \"mya_Mymr\",\n",
        "    \"Dutch\": \"nld_Latn\",\n",
        "    \"Norwegian Nynorsk\": \"nno_Latn\",\n",
        "    \"Norwegian Bokmål\": \"nob_Latn\",\n",
        "    \"Nepali\": \"npi_Deva\",\n",
        "    \"Northern Sotho\": \"nso_Latn\",\n",
        "    \"Nuer\": \"nus_Latn\",\n",
        "    \"Nyanja\": \"nya_Latn\",\n",
        "    \"Occitan\": \"oci_Latn\",\n",
        "    \"West Central Oromo\": \"gaz_Latn\",\n",
        "    \"Odia\": \"ory_Orya\",\n",
        "    \"Pangasinan\": \"pag_Latn\",\n",
        "    \"Eastern Panjabi\": \"pan_Guru\",\n",
        "    \"Papiamento\": \"pap_Latn\",\n",
        "    \"Western Persian\": \"pes_Arab\",\n",
        "    \"Polish\": \"pol_Latn\",\n",
        "    \"Portuguese\": \"por_Latn\",\n",
        "    \"Dari\": \"prs_Arab\",\n",
        "    \"Southern Pashto\": \"pbt_Arab\",\n",
        "    \"Ayacucho Quechua\": \"quy_Latn\",\n",
        "    \"Romanian\": \"ron_Latn\",\n",
        "    \"Rundi\": \"run_Latn\",\n",
        "    \"Russian\": \"rus_Cyrl\",\n",
        "    \"Sango\": \"sag_Latn\",\n",
        "    \"Sanskrit\": \"san_Deva\",\n",
        "    \"Santali\": \"sat_Olck\",\n",
        "    \"Sicilian\": \"scn_Latn\",\n",
        "    \"Shan\": \"shn_Mymr\",\n",
        "    \"Sinhala\": \"sin_Sinh\",\n",
        "    \"Slovak\": \"slk_Latn\",\n",
        "    \"Slovenian\": \"slv_Latn\",\n",
        "    \"Samoan\": \"smo_Latn\",\n",
        "    \"Shona\": \"sna_Latn\",\n",
        "    \"Sindhi\": \"snd_Arab\",\n",
        "    \"Somali\": \"som_Latn\",\n",
        "    \"Southern Sotho\": \"sot_Latn\",\n",
        "    \"Spanish\": \"spa_Latn\",\n",
        "    \"Tosk Albanian\": \"als_Latn\",\n",
        "    \"Sardinian\": \"srd_Latn\",\n",
        "    \"Serbian\": \"srp_Cyrl\",\n",
        "    \"Swati\": \"ssw_Latn\",\n",
        "    \"Sundanese\": \"sun\"\n",
        "}"
      ],
      "metadata": {
        "id": "XKrucgxRScpu"
      },
      "execution_count": 6,
      "outputs": []
    },
    {
      "cell_type": "code",
      "source": [
        "def traduzir_resumir_textos(texto, ling_origem, ling_final):\n",
        "\n",
        "  nome_modelo_traducao = \"facebook/nllb-200-distilled-600M\"\n",
        "  nome_modelo_resumo = \"facebook/bart-large-cnn\"\n",
        "\n",
        "  idioma_origem = codigos_linguagens[ling_origem]\n",
        "  idioma_final = codigos_linguagens[ling_final]\n",
        "\n",
        "  if idioma_origem == 'eng_Latn':\n",
        "      resumidor = pipeline(\"summarization\", model=nome_modelo_resumo)\n",
        "      resumo = resumidor(texto, max_length=200, min_length=100)[0]['summary_text']\n",
        "  else:\n",
        "      tradutor = pipeline(\"translation\", model=nome_modelo_traducao, src_lang=ling_origem, tgt_lang='eng_Latn')\n",
        "      texto_traduzido = tradutor(texto, max_lenght=512)[0]['translation_text']\n",
        "\n",
        "      resumidor = pipeline(\"summarization\", model=nome_modelo_resumo)\n",
        "      resumo = resumidor(texto_traduzido, max_length=200, min_length=100)[0]['summary_text']\n",
        "\n",
        "  tradutor = pipeline(\"translation\", model=nome_modelo_traducao, src_lang='eng_Latn', tgt_lang=idioma_final)\n",
        "  texto_traduzido = tradutor(texto, max_lenght=512)[0]['translation_text']\n",
        "\n",
        "  return texto_traduzido"
      ],
      "metadata": {
        "id": "G6_YMd9zSlNu"
      },
      "execution_count": 8,
      "outputs": []
    },
    {
      "cell_type": "code",
      "source": [
        "def traduzir_resumir_textos(texto, ling_origem, ling_final):\n",
        "\n",
        "    nome_modelo_traducao = 'facebook/nllb-200-distilled-600M'\n",
        "    nome_modelo_resumo = 'facebook/bart-large-cnn'\n",
        "\n",
        "    idioma_origem = codigos_linguagens[ling_origem]\n",
        "    idioma_final = codigos_linguagens[ling_final]\n",
        "\n",
        "    if idioma_origem == \"eng_Latn\":\n",
        "        resumidor = pipeline('summarization', model=nome_modelo_resumo)\n",
        "        resumo = resumidor(texto, max_length=200, min_length=100)[0]['summary_text']\n",
        "    else:\n",
        "        tradutor = pipeline('translation', model=nome_modelo_traducao, src_lang=idioma_origem, tgt_lang='eng_Latn')\n",
        "        texto_traduzido = tradutor(texto, max_length=512)[0]['translation_text']\n",
        "\n",
        "        resumidor = pipeline('summarization', model=nome_modelo_resumo)\n",
        "        resumo = resumidor(texto_traduzido, max_length=200, min_length=100)[0]['summary_text']\n",
        "\n",
        "    tradutor = pipeline('translation', model=nome_modelo_traducao, src_lang='eng_Latn', tgt_lang=idioma_final)\n",
        "    texto_traduzido = tradutor(texto, max_length=512)[0]['translation_text']\n",
        "\n",
        "    return texto_traduzido"
      ],
      "metadata": {
        "id": "4CuN1LvuC4Ub"
      },
      "execution_count": 16,
      "outputs": []
    },
    {
      "cell_type": "markdown",
      "source": [
        "***Construindo a aplicação***"
      ],
      "metadata": {
        "id": "N-kBBqrj8gf3"
      }
    },
    {
      "cell_type": "code",
      "source": [
        "cod_idiomas = list(codigos_linguagens.keys())"
      ],
      "metadata": {
        "id": "1yFcjj5R83iM"
      },
      "execution_count": 17,
      "outputs": []
    },
    {
      "cell_type": "code",
      "source": [
        "entradas = [\n",
        "    gr.Textbox(lines=5, label='Insira o texto'),\n",
        "    gr.Dropdown(cod_idiomas, value='English', label='Texto Original'),\n",
        "    gr.Dropdown(cod_idiomas, value='Portuguese', label='Texto Final'),\n",
        "]"
      ],
      "metadata": {
        "id": "F8aa2FOr7TIY"
      },
      "execution_count": 18,
      "outputs": []
    },
    {
      "cell_type": "code",
      "source": [
        "saidas = gr.Textbox(lines=5, label='Texto final')"
      ],
      "metadata": {
        "id": "qx17GXK39pgI"
      },
      "execution_count": 19,
      "outputs": []
    },
    {
      "cell_type": "code",
      "source": [
        "titulo = 'Tradução e Resumo'\n",
        "\n",
        "descr = 'Esta aplicação resume e traduz o texto inserido. Modelo de tradução: facebook/nllb-200-distilled-600M. Modelo de sumarização: facebook/bart-large-cnn.'"
      ],
      "metadata": {
        "id": "IQz7tTeD-yqv"
      },
      "execution_count": 20,
      "outputs": []
    },
    {
      "cell_type": "code",
      "source": [
        "aplicacao = gr.Interface(\n",
        "    fn=traduzir_resumir_textos,\n",
        "    inputs=entradas,\n",
        "    outputs=saidas,\n",
        "    title=titulo,\n",
        "    description=descr\n",
        ")"
      ],
      "metadata": {
        "id": "6-oU94Rk-m1p"
      },
      "execution_count": 21,
      "outputs": []
    },
    {
      "cell_type": "code",
      "source": [
        "aplicacao.launch(debug=True)"
      ],
      "metadata": {
        "colab": {
          "base_uri": "https://localhost:8080/",
          "height": 698
        },
        "id": "cgvpMdNaEhKa",
        "outputId": "2b9ace00-4260-463c-d19e-7ef0e6661ff6"
      },
      "execution_count": null,
      "outputs": [
        {
          "output_type": "stream",
          "name": "stdout",
          "text": [
            "It looks like you are running Gradio on a hosted Jupyter notebook, which requires `share=True`. Automatically setting `share=True` (you can turn this off by setting `share=False` in `launch()` explicitly).\n",
            "\n",
            "Colab notebook detected. This cell will run indefinitely so that you can see errors and logs. To turn off, set debug=False in launch().\n",
            "* Running on public URL: https://b265711efd6fb2fc8c.gradio.live\n",
            "\n",
            "This share link expires in 1 week. For free permanent hosting and GPU upgrades, run `gradio deploy` from the terminal in the working directory to deploy to Hugging Face Spaces (https://huggingface.co/spaces)\n"
          ]
        },
        {
          "output_type": "display_data",
          "data": {
            "text/plain": [
              "<IPython.core.display.HTML object>"
            ],
            "text/html": [
              "<div><iframe src=\"https://b265711efd6fb2fc8c.gradio.live\" width=\"100%\" height=\"500\" allow=\"autoplay; camera; microphone; clipboard-read; clipboard-write;\" frameborder=\"0\" allowfullscreen></iframe></div>"
            ]
          },
          "metadata": {}
        },
        {
          "output_type": "stream",
          "name": "stderr",
          "text": [
            "Device set to use cpu\n",
            "Your max_length is set to 200, but your input_length is only 111. Since this is a summarization task, where outputs shorter than the input are typically wanted, you might consider decreasing max_length manually, e.g. summarizer('...', max_length=55)\n",
            "Device set to use cpu\n"
          ]
        }
      ]
    }
  ]
}