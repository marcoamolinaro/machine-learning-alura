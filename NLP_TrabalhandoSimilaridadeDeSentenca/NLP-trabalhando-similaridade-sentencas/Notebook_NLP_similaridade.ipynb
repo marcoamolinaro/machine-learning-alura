{
  "cells": [
    {
      "cell_type": "markdown",
      "metadata": {
        "id": "IIoLBzyvnIok"
      },
      "source": [
        "# Aula 1 - Buscando a similaridade"
      ]
    },
    {
      "cell_type": "code",
      "source": [
        "url = 'https://raw.githubusercontent.com/Mirlaa/NLP-trabalhando-similaridade-sentencas/refs/heads/main/reviews_zoop.csv'"
      ],
      "metadata": {
        "id": "BIlzVguMUTQX"
      },
      "execution_count": null,
      "outputs": []
    },
    {
      "cell_type": "code",
      "source": [],
      "metadata": {
        "id": "DH5W62sCxNoD"
      },
      "execution_count": null,
      "outputs": []
    },
    {
      "cell_type": "code",
      "source": [],
      "metadata": {
        "id": "VCOEAZMsxNli"
      },
      "execution_count": null,
      "outputs": []
    },
    {
      "cell_type": "code",
      "execution_count": null,
      "metadata": {
        "id": "HuCP4vGynQdf"
      },
      "outputs": [],
      "source": [
        "dados['review'][8]"
      ]
    },
    {
      "cell_type": "code",
      "execution_count": null,
      "metadata": {
        "id": "_ToYhtf6nRyR"
      },
      "outputs": [],
      "source": [
        "dados['review'][11]"
      ]
    },
    {
      "cell_type": "code",
      "source": [
        "dados['review'][18]"
      ],
      "metadata": {
        "id": "IJFSJoLGkys2"
      },
      "execution_count": null,
      "outputs": []
    },
    {
      "cell_type": "markdown",
      "metadata": {
        "id": "3hl_YbZyndPA"
      },
      "source": [
        "## Similaridade entre as palavras"
      ]
    },
    {
      "cell_type": "code",
      "source": [],
      "metadata": {
        "id": "fAtTE-WixHfZ"
      },
      "execution_count": null,
      "outputs": []
    },
    {
      "cell_type": "code",
      "source": [],
      "metadata": {
        "id": "u9DoL-7SxHXx"
      },
      "execution_count": null,
      "outputs": []
    },
    {
      "cell_type": "code",
      "source": [],
      "metadata": {
        "id": "pg_pFl0ZxHMv"
      },
      "execution_count": null,
      "outputs": []
    },
    {
      "cell_type": "code",
      "source": [],
      "metadata": {
        "id": "HMCmrvLtxHFu"
      },
      "execution_count": null,
      "outputs": []
    },
    {
      "cell_type": "code",
      "source": [],
      "metadata": {
        "id": "xZ_YNkEhxG_d"
      },
      "execution_count": null,
      "outputs": []
    },
    {
      "cell_type": "code",
      "source": [],
      "metadata": {
        "id": "IlLIHG8ExG5m"
      },
      "execution_count": null,
      "outputs": []
    },
    {
      "cell_type": "markdown",
      "metadata": {
        "id": "bHppHfK1yh2b"
      },
      "source": [
        "## Similaridade entre sentenças"
      ]
    },
    {
      "cell_type": "code",
      "source": [],
      "metadata": {
        "id": "tRKl5r38w_i5"
      },
      "execution_count": null,
      "outputs": []
    },
    {
      "cell_type": "code",
      "source": [],
      "metadata": {
        "id": "Lgw1qkI7w_c-"
      },
      "execution_count": null,
      "outputs": []
    },
    {
      "cell_type": "code",
      "source": [],
      "metadata": {
        "id": "aymc5m5Ww_Te"
      },
      "execution_count": null,
      "outputs": []
    },
    {
      "cell_type": "code",
      "source": [],
      "metadata": {
        "id": "MMRiLE7Iw_Lw"
      },
      "execution_count": null,
      "outputs": []
    },
    {
      "cell_type": "code",
      "source": [],
      "metadata": {
        "id": "ra89iBF0w_Fb"
      },
      "execution_count": null,
      "outputs": []
    },
    {
      "cell_type": "code",
      "source": [],
      "metadata": {
        "id": "fMgA2M6Iw-9H"
      },
      "execution_count": null,
      "outputs": []
    },
    {
      "cell_type": "code",
      "execution_count": null,
      "metadata": {
        "id": "aYizgudGyjnv"
      },
      "outputs": [],
      "source": [
        "for idx, similaridade in frases_similares:\n",
        "    print(f\"Review: {dados.iloc[int(idx)]['review']} - Similaridade: {similaridade:.4f}\")"
      ]
    },
    {
      "cell_type": "markdown",
      "metadata": {
        "id": "CZ1znWU22J0F"
      },
      "source": [
        "# Aula 2 - Ajustando os textos de review"
      ]
    },
    {
      "cell_type": "code",
      "source": [],
      "metadata": {
        "id": "EQ8rXN28wMwg"
      },
      "execution_count": null,
      "outputs": []
    },
    {
      "cell_type": "code",
      "source": [],
      "metadata": {
        "id": "sSrZBLmuwMoe"
      },
      "execution_count": null,
      "outputs": []
    },
    {
      "cell_type": "code",
      "source": [],
      "metadata": {
        "id": "an45PjHKwMdT"
      },
      "execution_count": null,
      "outputs": []
    },
    {
      "cell_type": "code",
      "source": [],
      "metadata": {
        "id": "6o4MGDKHwMWu"
      },
      "execution_count": null,
      "outputs": []
    },
    {
      "cell_type": "code",
      "execution_count": null,
      "metadata": {
        "id": "OXyOnGZX5WQC"
      },
      "outputs": [],
      "source": [
        "dados['review'][11]"
      ]
    },
    {
      "cell_type": "code",
      "execution_count": null,
      "metadata": {
        "id": "LFsm80JY5B-n"
      },
      "outputs": [],
      "source": [
        "dados['tratamento_1'][11]"
      ]
    },
    {
      "cell_type": "markdown",
      "metadata": {
        "id": "qujAUTGf5p-2"
      },
      "source": [
        "## Uniformizando o texto"
      ]
    },
    {
      "cell_type": "code",
      "execution_count": null,
      "metadata": {
        "id": "LbCKdMd-5rCY"
      },
      "outputs": [],
      "source": [
        "!pip install unidecode"
      ]
    },
    {
      "cell_type": "code",
      "source": [],
      "metadata": {
        "id": "sOrJHLEQvuOd"
      },
      "execution_count": null,
      "outputs": []
    },
    {
      "cell_type": "code",
      "source": [],
      "metadata": {
        "id": "gowjdrtQvuHw"
      },
      "execution_count": null,
      "outputs": []
    },
    {
      "cell_type": "code",
      "source": [],
      "metadata": {
        "id": "mx8FhH5FvuAE"
      },
      "execution_count": null,
      "outputs": []
    },
    {
      "cell_type": "markdown",
      "metadata": {
        "id": "U9J9aKOrDHoD"
      },
      "source": [
        "## Correções nos dados"
      ]
    },
    {
      "cell_type": "code",
      "source": [],
      "metadata": {
        "id": "fYrk4e5Pvh-p"
      },
      "execution_count": null,
      "outputs": []
    },
    {
      "cell_type": "code",
      "execution_count": null,
      "metadata": {
        "id": "Huw1Bc1L_Rdy"
      },
      "outputs": [],
      "source": [
        "df['review'][120]"
      ]
    },
    {
      "cell_type": "code",
      "execution_count": null,
      "metadata": {
        "id": "y4M2qxViFBZN"
      },
      "outputs": [],
      "source": [
        "df['tratamento_2'][120]"
      ]
    },
    {
      "cell_type": "code",
      "source": [],
      "metadata": {
        "id": "sQjLthZKvj1W"
      },
      "execution_count": null,
      "outputs": []
    },
    {
      "cell_type": "code",
      "execution_count": null,
      "metadata": {
        "id": "hqQlIZ-3GQWJ"
      },
      "outputs": [],
      "source": [
        "df['tratamento_2'][3319]"
      ]
    },
    {
      "cell_type": "code",
      "execution_count": null,
      "metadata": {
        "id": "kRqx3FxxGbTc"
      },
      "outputs": [],
      "source": [
        "df['tratamento_2'][8354]"
      ]
    },
    {
      "cell_type": "code",
      "execution_count": null,
      "metadata": {
        "id": "p5MIoC81GpOz"
      },
      "outputs": [],
      "source": [
        "df['tratamento_2'][12843]"
      ]
    },
    {
      "cell_type": "code",
      "source": [],
      "metadata": {
        "id": "o7vXNXw1vdZ3"
      },
      "execution_count": null,
      "outputs": []
    },
    {
      "cell_type": "code",
      "execution_count": null,
      "metadata": {
        "id": "7EYjG-ZKHBal"
      },
      "outputs": [],
      "source": [
        "df['tratamento_3'][3319]"
      ]
    },
    {
      "cell_type": "code",
      "execution_count": null,
      "metadata": {
        "id": "X6ViObvyIiQE"
      },
      "outputs": [],
      "source": [
        "df['tratamento_3'][8354]"
      ]
    },
    {
      "cell_type": "code",
      "source": [],
      "metadata": {
        "id": "8zPh_IKGvbfm"
      },
      "execution_count": null,
      "outputs": []
    },
    {
      "cell_type": "markdown",
      "metadata": {
        "id": "-XIOufPODKmy"
      },
      "source": [
        "## Lematização"
      ]
    },
    {
      "cell_type": "code",
      "execution_count": null,
      "metadata": {
        "collapsed": true,
        "id": "Mwq5ujHLJCvl"
      },
      "outputs": [],
      "source": [
        "!pip install stanza\n",
        "!python -m stanza.download pt"
      ]
    },
    {
      "cell_type": "code",
      "source": [],
      "metadata": {
        "id": "3zRp4mrqvWoG"
      },
      "execution_count": null,
      "outputs": []
    },
    {
      "cell_type": "code",
      "source": [
        "def lematizar_texto(textos):\n",
        "  texto_lematizados = []\n",
        "\n",
        "  for texto in textos:\n",
        "    doc_frase = nlp(texto)\n",
        "    frase_lematizada = ' '.join([palavra.lemma for frase in doc_frase.sentences for palavra in frase.words])\n",
        "    texto_lematizados.append(frase_lematizada)\n",
        "\n",
        "  return texto_lematizados"
      ],
      "metadata": {
        "id": "AzmHVsATXuum"
      },
      "execution_count": null,
      "outputs": []
    },
    {
      "cell_type": "code",
      "source": [
        "textos = ['gostei muito experiencia comprar',\n",
        "          'minha filha gostou produto',\n",
        "          'compra foi facil compra rapida']\n"
      ],
      "metadata": {
        "id": "c-UC_LsfX92a"
      },
      "execution_count": null,
      "outputs": []
    },
    {
      "cell_type": "code",
      "source": [],
      "metadata": {
        "id": "e55rCa0pvSUn"
      },
      "execution_count": null,
      "outputs": []
    },
    {
      "cell_type": "code",
      "source": [],
      "metadata": {
        "id": "Oml5-TSivSMx"
      },
      "execution_count": null,
      "outputs": []
    },
    {
      "cell_type": "markdown",
      "metadata": {
        "id": "rEA8_J65LR_0"
      },
      "source": [
        "# Aula 3 - Otimizando o Doc2vec"
      ]
    },
    {
      "cell_type": "code",
      "source": [],
      "metadata": {
        "id": "Iv4wFjyDvG5g"
      },
      "execution_count": null,
      "outputs": []
    },
    {
      "cell_type": "code",
      "source": [],
      "metadata": {
        "id": "QeaMBvKzvJ_9"
      },
      "execution_count": null,
      "outputs": []
    },
    {
      "cell_type": "code",
      "source": [],
      "metadata": {
        "id": "6yMCVGzBvGyn"
      },
      "execution_count": null,
      "outputs": []
    },
    {
      "cell_type": "markdown",
      "metadata": {
        "id": "Qx6ADjtqYX9h"
      },
      "source": [
        "## Treinamento do Doc2vec"
      ]
    },
    {
      "cell_type": "code",
      "source": [],
      "metadata": {
        "id": "RDv5Hi7hvEuf"
      },
      "execution_count": null,
      "outputs": []
    },
    {
      "cell_type": "markdown",
      "metadata": {
        "id": "_mly_Iy7uKnx"
      },
      "source": [
        "## Verificando a similardade - Doc2Vec"
      ]
    },
    {
      "cell_type": "code",
      "source": [],
      "metadata": {
        "id": "EAhAPw8pu_2s"
      },
      "execution_count": null,
      "outputs": []
    },
    {
      "cell_type": "code",
      "source": [],
      "metadata": {
        "id": "XRPtTEVZu_rB"
      },
      "execution_count": null,
      "outputs": []
    },
    {
      "cell_type": "code",
      "source": [],
      "metadata": {
        "id": "OY6XR2YRu_iA"
      },
      "execution_count": null,
      "outputs": []
    },
    {
      "cell_type": "markdown",
      "metadata": {
        "id": "02CTQJoVLUCV"
      },
      "source": [
        "# Aula 4 - Considerando o significado das frases"
      ]
    },
    {
      "cell_type": "code",
      "execution_count": null,
      "metadata": {
        "id": "0kE8qyX8YfbB"
      },
      "outputs": [],
      "source": [
        "modulo_url = 'https://tfhub.dev/google/universal-sentence-encoder/4'"
      ]
    },
    {
      "cell_type": "code",
      "source": [],
      "metadata": {
        "id": "ZX1EmV8juSaN"
      },
      "execution_count": null,
      "outputs": []
    },
    {
      "cell_type": "code",
      "source": [],
      "metadata": {
        "id": "tDeIOuDquSTk"
      },
      "execution_count": null,
      "outputs": []
    },
    {
      "cell_type": "code",
      "source": [],
      "metadata": {
        "id": "cNj0pILbuT2r"
      },
      "execution_count": null,
      "outputs": []
    },
    {
      "cell_type": "code",
      "source": [],
      "metadata": {
        "id": "dqjFRFqluTwf"
      },
      "execution_count": null,
      "outputs": []
    },
    {
      "cell_type": "markdown",
      "metadata": {
        "id": "1Rp866GtZGqe"
      },
      "source": [
        "## Avaliando as sentenças similares"
      ]
    },
    {
      "cell_type": "code",
      "source": [],
      "metadata": {
        "id": "hvjURT9auLL3"
      },
      "execution_count": null,
      "outputs": []
    },
    {
      "cell_type": "code",
      "source": [],
      "metadata": {
        "id": "F_wLGPaDuLBF"
      },
      "execution_count": null,
      "outputs": []
    },
    {
      "cell_type": "code",
      "source": [],
      "metadata": {
        "id": "wGH03bxvuK4i"
      },
      "execution_count": null,
      "outputs": []
    },
    {
      "cell_type": "markdown",
      "metadata": {
        "id": "KOVd4TdlLWCi"
      },
      "source": [
        "# Aula 5 - Transformando a similaridade em aplicação"
      ]
    },
    {
      "cell_type": "code",
      "source": [
        "nltk.download('punkt')\n",
        "nltk.download('stopwords')\n",
        "\n",
        "modulo_url = 'https://tfhub.dev/google/universal-sentence-encoder/4'\n",
        "\n",
        "\n"
      ],
      "metadata": {
        "id": "FVAUnWVsphme"
      },
      "execution_count": null,
      "outputs": []
    }
  ],
  "metadata": {
    "colab": {
      "provenance": []
    },
    "kernelspec": {
      "display_name": "Python 3",
      "name": "python3"
    },
    "language_info": {
      "name": "python"
    }
  },
  "nbformat": 4,
  "nbformat_minor": 0
}