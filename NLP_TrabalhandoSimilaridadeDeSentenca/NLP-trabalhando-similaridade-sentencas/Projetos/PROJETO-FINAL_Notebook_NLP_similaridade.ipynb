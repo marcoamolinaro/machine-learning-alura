{
  "cells": [
    {
      "cell_type": "markdown",
      "metadata": {
        "id": "IIoLBzyvnIok"
      },
      "source": [
        "# Aula 1 - Buscando a similaridade"
      ]
    },
    {
      "cell_type": "code",
      "source": [
        "url = 'https://raw.githubusercontent.com/Mirlaa/NLP-trabalhando-similaridade-sentencas/refs/heads/main/reviews_zoop.csv'"
      ],
      "metadata": {
        "id": "BIlzVguMUTQX"
      },
      "execution_count": null,
      "outputs": []
    },
    {
      "cell_type": "code",
      "source": [
        "import pandas as pd\n",
        "\n",
        "dados = pd.read_csv(url)\n",
        "dados"
      ],
      "metadata": {
        "colab": {
          "base_uri": "https://localhost:8080/",
          "height": 423
        },
        "id": "mbNGaorDk240",
        "outputId": "0644b2b9-2601-4265-f54b-5afb7771c8e4"
      },
      "execution_count": null,
      "outputs": [
        {
          "output_type": "execute_result",
          "data": {
            "text/plain": [
              "       nota_review                                             review\n",
              "0                5              Recebi bem antes do prazo estipulado.\n",
              "1                5  Parabéns lojas Zoop adorei comprar pela Intern...\n",
              "2                4  aparelho eficiente. no site a marca do aparelh...\n",
              "3                4    Mas um pouco ,travando...pelo valor ta Boa.\\r\\n\n",
              "4                5  Vendedor confiável, produto ok e entrega antes...\n",
              "...            ...                                                ...\n",
              "39457            5  Entregou dentro do prazo. O produto chegou em ...\n",
              "39458            3  O produto não foi enviado com NF, não existe v...\n",
              "39459            5  Excelente mochila, entrega super rápida. Super...\n",
              "39460            1  Solicitei a compra de uma capa de retrovisor c...\n",
              "39461            1  meu produto chegou e ja tenho que devolver, po...\n",
              "\n",
              "[39462 rows x 2 columns]"
            ],
            "text/html": [
              "\n",
              "  <div id=\"df-1ab379ff-4f86-4c3d-bbce-27bebd846230\" class=\"colab-df-container\">\n",
              "    <div>\n",
              "<style scoped>\n",
              "    .dataframe tbody tr th:only-of-type {\n",
              "        vertical-align: middle;\n",
              "    }\n",
              "\n",
              "    .dataframe tbody tr th {\n",
              "        vertical-align: top;\n",
              "    }\n",
              "\n",
              "    .dataframe thead th {\n",
              "        text-align: right;\n",
              "    }\n",
              "</style>\n",
              "<table border=\"1\" class=\"dataframe\">\n",
              "  <thead>\n",
              "    <tr style=\"text-align: right;\">\n",
              "      <th></th>\n",
              "      <th>nota_review</th>\n",
              "      <th>review</th>\n",
              "    </tr>\n",
              "  </thead>\n",
              "  <tbody>\n",
              "    <tr>\n",
              "      <th>0</th>\n",
              "      <td>5</td>\n",
              "      <td>Recebi bem antes do prazo estipulado.</td>\n",
              "    </tr>\n",
              "    <tr>\n",
              "      <th>1</th>\n",
              "      <td>5</td>\n",
              "      <td>Parabéns lojas Zoop adorei comprar pela Intern...</td>\n",
              "    </tr>\n",
              "    <tr>\n",
              "      <th>2</th>\n",
              "      <td>4</td>\n",
              "      <td>aparelho eficiente. no site a marca do aparelh...</td>\n",
              "    </tr>\n",
              "    <tr>\n",
              "      <th>3</th>\n",
              "      <td>4</td>\n",
              "      <td>Mas um pouco ,travando...pelo valor ta Boa.\\r\\n</td>\n",
              "    </tr>\n",
              "    <tr>\n",
              "      <th>4</th>\n",
              "      <td>5</td>\n",
              "      <td>Vendedor confiável, produto ok e entrega antes...</td>\n",
              "    </tr>\n",
              "    <tr>\n",
              "      <th>...</th>\n",
              "      <td>...</td>\n",
              "      <td>...</td>\n",
              "    </tr>\n",
              "    <tr>\n",
              "      <th>39457</th>\n",
              "      <td>5</td>\n",
              "      <td>Entregou dentro do prazo. O produto chegou em ...</td>\n",
              "    </tr>\n",
              "    <tr>\n",
              "      <th>39458</th>\n",
              "      <td>3</td>\n",
              "      <td>O produto não foi enviado com NF, não existe v...</td>\n",
              "    </tr>\n",
              "    <tr>\n",
              "      <th>39459</th>\n",
              "      <td>5</td>\n",
              "      <td>Excelente mochila, entrega super rápida. Super...</td>\n",
              "    </tr>\n",
              "    <tr>\n",
              "      <th>39460</th>\n",
              "      <td>1</td>\n",
              "      <td>Solicitei a compra de uma capa de retrovisor c...</td>\n",
              "    </tr>\n",
              "    <tr>\n",
              "      <th>39461</th>\n",
              "      <td>1</td>\n",
              "      <td>meu produto chegou e ja tenho que devolver, po...</td>\n",
              "    </tr>\n",
              "  </tbody>\n",
              "</table>\n",
              "<p>39462 rows × 2 columns</p>\n",
              "</div>\n",
              "    <div class=\"colab-df-buttons\">\n",
              "\n",
              "  <div class=\"colab-df-container\">\n",
              "    <button class=\"colab-df-convert\" onclick=\"convertToInteractive('df-1ab379ff-4f86-4c3d-bbce-27bebd846230')\"\n",
              "            title=\"Convert this dataframe to an interactive table.\"\n",
              "            style=\"display:none;\">\n",
              "\n",
              "  <svg xmlns=\"http://www.w3.org/2000/svg\" height=\"24px\" viewBox=\"0 -960 960 960\">\n",
              "    <path d=\"M120-120v-720h720v720H120Zm60-500h600v-160H180v160Zm220 220h160v-160H400v160Zm0 220h160v-160H400v160ZM180-400h160v-160H180v160Zm440 0h160v-160H620v160ZM180-180h160v-160H180v160Zm440 0h160v-160H620v160Z\"/>\n",
              "  </svg>\n",
              "    </button>\n",
              "\n",
              "  <style>\n",
              "    .colab-df-container {\n",
              "      display:flex;\n",
              "      gap: 12px;\n",
              "    }\n",
              "\n",
              "    .colab-df-convert {\n",
              "      background-color: #E8F0FE;\n",
              "      border: none;\n",
              "      border-radius: 50%;\n",
              "      cursor: pointer;\n",
              "      display: none;\n",
              "      fill: #1967D2;\n",
              "      height: 32px;\n",
              "      padding: 0 0 0 0;\n",
              "      width: 32px;\n",
              "    }\n",
              "\n",
              "    .colab-df-convert:hover {\n",
              "      background-color: #E2EBFA;\n",
              "      box-shadow: 0px 1px 2px rgba(60, 64, 67, 0.3), 0px 1px 3px 1px rgba(60, 64, 67, 0.15);\n",
              "      fill: #174EA6;\n",
              "    }\n",
              "\n",
              "    .colab-df-buttons div {\n",
              "      margin-bottom: 4px;\n",
              "    }\n",
              "\n",
              "    [theme=dark] .colab-df-convert {\n",
              "      background-color: #3B4455;\n",
              "      fill: #D2E3FC;\n",
              "    }\n",
              "\n",
              "    [theme=dark] .colab-df-convert:hover {\n",
              "      background-color: #434B5C;\n",
              "      box-shadow: 0px 1px 3px 1px rgba(0, 0, 0, 0.15);\n",
              "      filter: drop-shadow(0px 1px 2px rgba(0, 0, 0, 0.3));\n",
              "      fill: #FFFFFF;\n",
              "    }\n",
              "  </style>\n",
              "\n",
              "    <script>\n",
              "      const buttonEl =\n",
              "        document.querySelector('#df-1ab379ff-4f86-4c3d-bbce-27bebd846230 button.colab-df-convert');\n",
              "      buttonEl.style.display =\n",
              "        google.colab.kernel.accessAllowed ? 'block' : 'none';\n",
              "\n",
              "      async function convertToInteractive(key) {\n",
              "        const element = document.querySelector('#df-1ab379ff-4f86-4c3d-bbce-27bebd846230');\n",
              "        const dataTable =\n",
              "          await google.colab.kernel.invokeFunction('convertToInteractive',\n",
              "                                                    [key], {});\n",
              "        if (!dataTable) return;\n",
              "\n",
              "        const docLinkHtml = 'Like what you see? Visit the ' +\n",
              "          '<a target=\"_blank\" href=https://colab.research.google.com/notebooks/data_table.ipynb>data table notebook</a>'\n",
              "          + ' to learn more about interactive tables.';\n",
              "        element.innerHTML = '';\n",
              "        dataTable['output_type'] = 'display_data';\n",
              "        await google.colab.output.renderOutput(dataTable, element);\n",
              "        const docLink = document.createElement('div');\n",
              "        docLink.innerHTML = docLinkHtml;\n",
              "        element.appendChild(docLink);\n",
              "      }\n",
              "    </script>\n",
              "  </div>\n",
              "\n",
              "\n",
              "<div id=\"df-f0361b7e-351b-4f5d-9f97-ea3a7b71adf7\">\n",
              "  <button class=\"colab-df-quickchart\" onclick=\"quickchart('df-f0361b7e-351b-4f5d-9f97-ea3a7b71adf7')\"\n",
              "            title=\"Suggest charts\"\n",
              "            style=\"display:none;\">\n",
              "\n",
              "<svg xmlns=\"http://www.w3.org/2000/svg\" height=\"24px\"viewBox=\"0 0 24 24\"\n",
              "     width=\"24px\">\n",
              "    <g>\n",
              "        <path d=\"M19 3H5c-1.1 0-2 .9-2 2v14c0 1.1.9 2 2 2h14c1.1 0 2-.9 2-2V5c0-1.1-.9-2-2-2zM9 17H7v-7h2v7zm4 0h-2V7h2v10zm4 0h-2v-4h2v4z\"/>\n",
              "    </g>\n",
              "</svg>\n",
              "  </button>\n",
              "\n",
              "<style>\n",
              "  .colab-df-quickchart {\n",
              "      --bg-color: #E8F0FE;\n",
              "      --fill-color: #1967D2;\n",
              "      --hover-bg-color: #E2EBFA;\n",
              "      --hover-fill-color: #174EA6;\n",
              "      --disabled-fill-color: #AAA;\n",
              "      --disabled-bg-color: #DDD;\n",
              "  }\n",
              "\n",
              "  [theme=dark] .colab-df-quickchart {\n",
              "      --bg-color: #3B4455;\n",
              "      --fill-color: #D2E3FC;\n",
              "      --hover-bg-color: #434B5C;\n",
              "      --hover-fill-color: #FFFFFF;\n",
              "      --disabled-bg-color: #3B4455;\n",
              "      --disabled-fill-color: #666;\n",
              "  }\n",
              "\n",
              "  .colab-df-quickchart {\n",
              "    background-color: var(--bg-color);\n",
              "    border: none;\n",
              "    border-radius: 50%;\n",
              "    cursor: pointer;\n",
              "    display: none;\n",
              "    fill: var(--fill-color);\n",
              "    height: 32px;\n",
              "    padding: 0;\n",
              "    width: 32px;\n",
              "  }\n",
              "\n",
              "  .colab-df-quickchart:hover {\n",
              "    background-color: var(--hover-bg-color);\n",
              "    box-shadow: 0 1px 2px rgba(60, 64, 67, 0.3), 0 1px 3px 1px rgba(60, 64, 67, 0.15);\n",
              "    fill: var(--button-hover-fill-color);\n",
              "  }\n",
              "\n",
              "  .colab-df-quickchart-complete:disabled,\n",
              "  .colab-df-quickchart-complete:disabled:hover {\n",
              "    background-color: var(--disabled-bg-color);\n",
              "    fill: var(--disabled-fill-color);\n",
              "    box-shadow: none;\n",
              "  }\n",
              "\n",
              "  .colab-df-spinner {\n",
              "    border: 2px solid var(--fill-color);\n",
              "    border-color: transparent;\n",
              "    border-bottom-color: var(--fill-color);\n",
              "    animation:\n",
              "      spin 1s steps(1) infinite;\n",
              "  }\n",
              "\n",
              "  @keyframes spin {\n",
              "    0% {\n",
              "      border-color: transparent;\n",
              "      border-bottom-color: var(--fill-color);\n",
              "      border-left-color: var(--fill-color);\n",
              "    }\n",
              "    20% {\n",
              "      border-color: transparent;\n",
              "      border-left-color: var(--fill-color);\n",
              "      border-top-color: var(--fill-color);\n",
              "    }\n",
              "    30% {\n",
              "      border-color: transparent;\n",
              "      border-left-color: var(--fill-color);\n",
              "      border-top-color: var(--fill-color);\n",
              "      border-right-color: var(--fill-color);\n",
              "    }\n",
              "    40% {\n",
              "      border-color: transparent;\n",
              "      border-right-color: var(--fill-color);\n",
              "      border-top-color: var(--fill-color);\n",
              "    }\n",
              "    60% {\n",
              "      border-color: transparent;\n",
              "      border-right-color: var(--fill-color);\n",
              "    }\n",
              "    80% {\n",
              "      border-color: transparent;\n",
              "      border-right-color: var(--fill-color);\n",
              "      border-bottom-color: var(--fill-color);\n",
              "    }\n",
              "    90% {\n",
              "      border-color: transparent;\n",
              "      border-bottom-color: var(--fill-color);\n",
              "    }\n",
              "  }\n",
              "</style>\n",
              "\n",
              "  <script>\n",
              "    async function quickchart(key) {\n",
              "      const quickchartButtonEl =\n",
              "        document.querySelector('#' + key + ' button');\n",
              "      quickchartButtonEl.disabled = true;  // To prevent multiple clicks.\n",
              "      quickchartButtonEl.classList.add('colab-df-spinner');\n",
              "      try {\n",
              "        const charts = await google.colab.kernel.invokeFunction(\n",
              "            'suggestCharts', [key], {});\n",
              "      } catch (error) {\n",
              "        console.error('Error during call to suggestCharts:', error);\n",
              "      }\n",
              "      quickchartButtonEl.classList.remove('colab-df-spinner');\n",
              "      quickchartButtonEl.classList.add('colab-df-quickchart-complete');\n",
              "    }\n",
              "    (() => {\n",
              "      let quickchartButtonEl =\n",
              "        document.querySelector('#df-f0361b7e-351b-4f5d-9f97-ea3a7b71adf7 button');\n",
              "      quickchartButtonEl.style.display =\n",
              "        google.colab.kernel.accessAllowed ? 'block' : 'none';\n",
              "    })();\n",
              "  </script>\n",
              "</div>\n",
              "\n",
              "  <div id=\"id_7d1990f4-6d69-4a66-81da-be11d4616d5f\">\n",
              "    <style>\n",
              "      .colab-df-generate {\n",
              "        background-color: #E8F0FE;\n",
              "        border: none;\n",
              "        border-radius: 50%;\n",
              "        cursor: pointer;\n",
              "        display: none;\n",
              "        fill: #1967D2;\n",
              "        height: 32px;\n",
              "        padding: 0 0 0 0;\n",
              "        width: 32px;\n",
              "      }\n",
              "\n",
              "      .colab-df-generate:hover {\n",
              "        background-color: #E2EBFA;\n",
              "        box-shadow: 0px 1px 2px rgba(60, 64, 67, 0.3), 0px 1px 3px 1px rgba(60, 64, 67, 0.15);\n",
              "        fill: #174EA6;\n",
              "      }\n",
              "\n",
              "      [theme=dark] .colab-df-generate {\n",
              "        background-color: #3B4455;\n",
              "        fill: #D2E3FC;\n",
              "      }\n",
              "\n",
              "      [theme=dark] .colab-df-generate:hover {\n",
              "        background-color: #434B5C;\n",
              "        box-shadow: 0px 1px 3px 1px rgba(0, 0, 0, 0.15);\n",
              "        filter: drop-shadow(0px 1px 2px rgba(0, 0, 0, 0.3));\n",
              "        fill: #FFFFFF;\n",
              "      }\n",
              "    </style>\n",
              "    <button class=\"colab-df-generate\" onclick=\"generateWithVariable('dados')\"\n",
              "            title=\"Generate code using this dataframe.\"\n",
              "            style=\"display:none;\">\n",
              "\n",
              "  <svg xmlns=\"http://www.w3.org/2000/svg\" height=\"24px\"viewBox=\"0 0 24 24\"\n",
              "       width=\"24px\">\n",
              "    <path d=\"M7,19H8.4L18.45,9,17,7.55,7,17.6ZM5,21V16.75L18.45,3.32a2,2,0,0,1,2.83,0l1.4,1.43a1.91,1.91,0,0,1,.58,1.4,1.91,1.91,0,0,1-.58,1.4L9.25,21ZM18.45,9,17,7.55Zm-12,3A5.31,5.31,0,0,0,4.9,8.1,5.31,5.31,0,0,0,1,6.5,5.31,5.31,0,0,0,4.9,4.9,5.31,5.31,0,0,0,6.5,1,5.31,5.31,0,0,0,8.1,4.9,5.31,5.31,0,0,0,12,6.5,5.46,5.46,0,0,0,6.5,12Z\"/>\n",
              "  </svg>\n",
              "    </button>\n",
              "    <script>\n",
              "      (() => {\n",
              "      const buttonEl =\n",
              "        document.querySelector('#id_7d1990f4-6d69-4a66-81da-be11d4616d5f button.colab-df-generate');\n",
              "      buttonEl.style.display =\n",
              "        google.colab.kernel.accessAllowed ? 'block' : 'none';\n",
              "\n",
              "      buttonEl.onclick = () => {\n",
              "        google.colab.notebook.generateWithVariable('dados');\n",
              "      }\n",
              "      })();\n",
              "    </script>\n",
              "  </div>\n",
              "\n",
              "    </div>\n",
              "  </div>\n"
            ],
            "application/vnd.google.colaboratory.intrinsic+json": {
              "type": "dataframe",
              "variable_name": "dados",
              "summary": "{\n  \"name\": \"dados\",\n  \"rows\": 39462,\n  \"fields\": [\n    {\n      \"column\": \"nota_review\",\n      \"properties\": {\n        \"dtype\": \"number\",\n        \"std\": 1,\n        \"min\": 1,\n        \"max\": 5,\n        \"num_unique_values\": 5,\n        \"samples\": [\n          4,\n          3,\n          2\n        ],\n        \"semantic_type\": \"\",\n        \"description\": \"\"\n      }\n    },\n    {\n      \"column\": \"review\",\n      \"properties\": {\n        \"dtype\": \"string\",\n        \"num_unique_values\": 35059,\n        \"samples\": [\n          \"nao gostei \\r\\nporque demou muito para se entregua tive que compra outro produto\\r\\nmais chegou tudo certinho na proxima talvez chega ante do \\u00b4prazo\",\n          \"\\u00d3timo produto, valeu a pena.\",\n          \"O produto \\u00e9 muito bom que chegou bem antes do prazo...parab\\u00e9ns\\ud83d\\ude0a\\ud83d\\udc4f\"\n        ],\n        \"semantic_type\": \"\",\n        \"description\": \"\"\n      }\n    }\n  ]\n}"
            }
          },
          "metadata": {},
          "execution_count": 2
        }
      ]
    },
    {
      "cell_type": "code",
      "source": [
        "dados['review'][1]"
      ],
      "metadata": {
        "id": "utoF08I2UY6f",
        "colab": {
          "base_uri": "https://localhost:8080/",
          "height": 36
        },
        "outputId": "bbfe06d8-6bc4-4344-8aaa-0527ab21fe47"
      },
      "execution_count": null,
      "outputs": [
        {
          "output_type": "execute_result",
          "data": {
            "text/plain": [
              "'Parabéns lojas Zoop adorei comprar pela Internet seguro e prático Parabéns a todos feliz Páscoa'"
            ],
            "application/vnd.google.colaboratory.intrinsic+json": {
              "type": "string"
            }
          },
          "metadata": {},
          "execution_count": 3
        }
      ]
    },
    {
      "cell_type": "code",
      "execution_count": null,
      "metadata": {
        "id": "HuCP4vGynQdf",
        "colab": {
          "base_uri": "https://localhost:8080/",
          "height": 53
        },
        "outputId": "c9e21863-c105-483d-940a-d3d70ae3ec38"
      },
      "outputs": [
        {
          "output_type": "execute_result",
          "data": {
            "text/plain": [
              "'A compra foi realizada facilmente.\\r\\nA entrega foi efetuada muito antes do prazo dado.\\r\\nO produto já começou a ser usado e até o presente,\\r\\nsem problemas.'"
            ],
            "application/vnd.google.colaboratory.intrinsic+json": {
              "type": "string"
            }
          },
          "metadata": {},
          "execution_count": 4
        }
      ],
      "source": [
        "dados['review'][8]"
      ]
    },
    {
      "cell_type": "code",
      "execution_count": null,
      "metadata": {
        "id": "_ToYhtf6nRyR",
        "colab": {
          "base_uri": "https://localhost:8080/",
          "height": 53
        },
        "outputId": "10ac95f4-2dbf-4652-faa8-038ef8f2e3b6"
      },
      "outputs": [
        {
          "output_type": "execute_result",
          "data": {
            "text/plain": [
              "'Sempre compro pela Internet e a entrega ocorre antes do prazo combinado, que acredito ser o prazo máximo. No  o prazo máximo já se esgotou e ainda não recebi o produto.'"
            ],
            "application/vnd.google.colaboratory.intrinsic+json": {
              "type": "string"
            }
          },
          "metadata": {},
          "execution_count": 5
        }
      ],
      "source": [
        "dados['review'][11]"
      ]
    },
    {
      "cell_type": "code",
      "source": [
        "dados['review'][18]"
      ],
      "metadata": {
        "colab": {
          "base_uri": "https://localhost:8080/",
          "height": 36
        },
        "id": "IJFSJoLGkys2",
        "outputId": "5a243c70-752f-4dd1-fcf3-413fdcec5fc4"
      },
      "execution_count": null,
      "outputs": [
        {
          "output_type": "execute_result",
          "data": {
            "text/plain": [
              "'otimo vendedor chegou ate antes do prazo , adorei o produto'"
            ],
            "application/vnd.google.colaboratory.intrinsic+json": {
              "type": "string"
            }
          },
          "metadata": {},
          "execution_count": 6
        }
      ]
    },
    {
      "cell_type": "markdown",
      "metadata": {
        "id": "3hl_YbZyndPA"
      },
      "source": [
        "## Similaridade entre as palavras"
      ]
    },
    {
      "cell_type": "code",
      "source": [
        "from nltk.tokenize import word_tokenize\n",
        "from functools import partial\n",
        "\n",
        "word_tokenize_pt = partial(word_tokenize, language = 'portuguese')"
      ],
      "metadata": {
        "id": "OjeelLhY1b6R"
      },
      "execution_count": null,
      "outputs": []
    },
    {
      "cell_type": "code",
      "source": [
        "import nltk\n",
        "nltk.download('punkt')"
      ],
      "metadata": {
        "colab": {
          "base_uri": "https://localhost:8080/"
        },
        "id": "YMs4qsux1byZ",
        "outputId": "fdad6471-3e87-4601-8887-2d7202b35817"
      },
      "execution_count": null,
      "outputs": [
        {
          "output_type": "stream",
          "name": "stderr",
          "text": [
            "[nltk_data] Downloading package punkt to /root/nltk_data...\n",
            "[nltk_data]   Package punkt is already up-to-date!\n"
          ]
        },
        {
          "output_type": "execute_result",
          "data": {
            "text/plain": [
              "True"
            ]
          },
          "metadata": {},
          "execution_count": 8
        }
      ]
    },
    {
      "cell_type": "code",
      "source": [
        "from gensim.models import Word2Vec\n",
        "\n",
        "modelo = Word2Vec(sentences = dados['review'].apply(word_tokenize_pt),\n",
        "                  vector_size=100, min_count=1, window=5,\n",
        "                  workers=1, seed=45)"
      ],
      "metadata": {
        "id": "zJTyyAP6Uxhe"
      },
      "execution_count": null,
      "outputs": []
    },
    {
      "cell_type": "code",
      "source": [
        "modelo.wv.most_similar('entrega')"
      ],
      "metadata": {
        "id": "3YZuXLjgU5KA",
        "colab": {
          "base_uri": "https://localhost:8080/"
        },
        "outputId": "d086c067-8d5c-4f1b-9847-c7bc8caa0208"
      },
      "execution_count": null,
      "outputs": [
        {
          "output_type": "execute_result",
          "data": {
            "text/plain": [
              "[('Entrega', 0.7526029944419861),\n",
              " ('entregue', 0.7109662294387817),\n",
              " ('compra', 0.6985824108123779),\n",
              " ('chegou', 0.6755236983299255),\n",
              " ('entregou', 0.6542965769767761),\n",
              " ('envio', 0.6249788403511047),\n",
              " ('cadastrado', 0.6161651611328125),\n",
              " ('Chegou', 0.6127404570579529),\n",
              " ('preparar', 0.6111896634101868),\n",
              " ('mercadoria', 0.6036772727966309)]"
            ]
          },
          "metadata": {},
          "execution_count": 10
        }
      ]
    },
    {
      "cell_type": "code",
      "source": [
        "modelo.wv.most_similar('vendedor')"
      ],
      "metadata": {
        "id": "2vAqS1gbU5E6",
        "colab": {
          "base_uri": "https://localhost:8080/"
        },
        "outputId": "b28f3bab-fac2-4ff0-d0d4-d7d248ed6cf6"
      },
      "execution_count": null,
      "outputs": [
        {
          "output_type": "execute_result",
          "data": {
            "text/plain": [
              "[('atendimento', 0.8607712388038635),\n",
              " ('serviço', 0.8035672307014465),\n",
              " ('fornecedor', 0.7637899518013),\n",
              " ('veiculo', 0.7295382022857666),\n",
              " ('produto', 0.729019284248352),\n",
              " ('processo', 0.710643470287323),\n",
              " ('parceiro', 0.702766478061676),\n",
              " ('cumpriu', 0.6967913508415222),\n",
              " ('trabalho', 0.6896953582763672),\n",
              " ('cumpriram', 0.6866145133972168)]"
            ]
          },
          "metadata": {},
          "execution_count": 11
        }
      ]
    },
    {
      "cell_type": "code",
      "source": [
        "modelo.wv.most_similar('produto')"
      ],
      "metadata": {
        "id": "c__2Z8QjU499",
        "colab": {
          "base_uri": "https://localhost:8080/"
        },
        "outputId": "6712e566-d2c5-4f78-c5e7-80af30540b55"
      },
      "execution_count": null,
      "outputs": [
        {
          "output_type": "execute_result",
          "data": {
            "text/plain": [
              "[('relógio', 0.7635505199432373),\n",
              " ('pedido', 0.7503548860549927),\n",
              " ('vendedor', 0.729019284248352),\n",
              " ('endereço', 0.7101667523384094),\n",
              " ('Produto', 0.6988608837127686),\n",
              " ('mesmo', 0.6944952607154846),\n",
              " ('tempo', 0.678637683391571),\n",
              " ('Mas', 0.673784077167511),\n",
              " ('porém', 0.6504761576652527),\n",
              " ('mercadoria', 0.6491450667381287)]"
            ]
          },
          "metadata": {},
          "execution_count": 12
        }
      ]
    },
    {
      "cell_type": "markdown",
      "metadata": {
        "id": "bHppHfK1yh2b"
      },
      "source": [
        "## Similaridade entre sentenças"
      ]
    },
    {
      "cell_type": "code",
      "source": [
        "dados['review_token'] = dados['review'].apply(word_tokenize_pt)"
      ],
      "metadata": {
        "id": "RPa_4yJeVDQY"
      },
      "execution_count": null,
      "outputs": []
    },
    {
      "cell_type": "code",
      "source": [
        "from gensim.models.doc2vec import TaggedDocument\n",
        "\n",
        "dados_tag = [TaggedDocument(words=linha['review_token'], tags=[str(i)]) for i, linha in dados.iterrows()]"
      ],
      "metadata": {
        "id": "GVCAOlWSVDJ6"
      },
      "execution_count": null,
      "outputs": []
    },
    {
      "cell_type": "code",
      "source": [
        "dados_tag"
      ],
      "metadata": {
        "id": "JJrHTHyMVITX",
        "colab": {
          "base_uri": "https://localhost:8080/"
        },
        "collapsed": true,
        "outputId": "64a4009d-6bff-47d9-9a9f-7665d64899b8"
      },
      "execution_count": null,
      "outputs": [
        {
          "output_type": "execute_result",
          "data": {
            "text/plain": [
              "[TaggedDocument(words=['Recebi', 'bem', 'antes', 'do', 'prazo', 'estipulado', '.'], tags=['0']),\n",
              " TaggedDocument(words=['Parabéns', 'lojas', 'Zoop', 'adorei', 'comprar', 'pela', 'Internet', 'seguro', 'e', 'prático', 'Parabéns', 'a', 'todos', 'feliz', 'Páscoa'], tags=['1']),\n",
              " TaggedDocument(words=['aparelho', 'eficiente', '.', 'no', 'site', 'a', 'marca', 'do', 'aparelho', 'esta', 'impresso', 'como', '3desinfector', 'e', 'ao', 'chegar', 'esta', 'com', 'outro', 'nome', '...', 'atualizar', 'com', 'a', 'marca', 'correta', 'uma', 'vez', 'que', 'é', 'o', 'mesmo', 'aparelho'], tags=['2']),\n",
              " TaggedDocument(words=['Mas', 'um', 'pouco', ',', 'travando', '...', 'pelo', 'valor', 'ta', 'Boa', '.'], tags=['3']),\n",
              " TaggedDocument(words=['Vendedor', 'confiável', ',', 'produto', 'ok', 'e', 'entrega', 'antes', 'do', 'prazo', '.'], tags=['4']),\n",
              " TaggedDocument(words=['GOSTARIA', 'DE', 'SABER', 'O', 'QUE', 'HOUVE', ',', 'SEMPRE', 'RECEBI', 'E', 'ESSA', 'COMPRA', 'AGORA', 'ME', 'DECPCIONOU'], tags=['5']),\n",
              " TaggedDocument(words=['Loja', 'nota', '10'], tags=['6']),\n",
              " TaggedDocument(words=['obrigado', 'pela', 'atençao', 'amim', 'dispensada'], tags=['7']),\n",
              " TaggedDocument(words=['A', 'compra', 'foi', 'realizada', 'facilmente', '.', 'A', 'entrega', 'foi', 'efetuada', 'muito', 'antes', 'do', 'prazo', 'dado', '.', 'O', 'produto', 'já', 'começou', 'a', 'ser', 'usado', 'e', 'até', 'o', 'presente', ',', 'sem', 'problemas', '.'], tags=['8']),\n",
              " TaggedDocument(words=['relógio', 'muito', 'bonito', 'e', 'barato', '.'], tags=['9']),\n",
              " TaggedDocument(words=['Não', 'gostei', '!', 'Comprei', 'gato', 'por', 'lebre'], tags=['10']),\n",
              " TaggedDocument(words=['Sempre', 'compro', 'pela', 'Internet', 'e', 'a', 'entrega', 'ocorre', 'antes', 'do', 'prazo', 'combinado', ',', 'que', 'acredito', 'ser', 'o', 'prazo', 'máximo', '.', 'No', 'o', 'prazo', 'máximo', 'já', 'se', 'esgotou', 'e', 'ainda', 'não', 'recebi', 'o', 'produto', '.'], tags=['11']),\n",
              " TaggedDocument(words=['Recebi', 'exatamente', 'o', 'que', 'esperava', '.', 'As', 'demais', 'encomendas', 'de', 'outros', 'vendedores', 'atrasaram', ',', 'mas', 'esta', 'chegou', 'no', 'prazo', '.'], tags=['12']),\n",
              " TaggedDocument(words=['Recomendo', ','], tags=['13']),\n",
              " TaggedDocument(words=['muito', 'boa'], tags=['14']),\n",
              " TaggedDocument(words=['Tô', 'completamente', 'apaixonada', ',', 'loja', 'super', 'responsável', 'e', 'confiável', '!'], tags=['15']),\n",
              " TaggedDocument(words=['Nada', 'de', 'chegar', 'o', 'meu', 'pedido', '.'], tags=['16']),\n",
              " TaggedDocument(words=['Muito', 'bom', '.', 'muito', 'cheiroso', '.'], tags=['17']),\n",
              " TaggedDocument(words=['otimo', 'vendedor', 'chegou', 'ate', 'antes', 'do', 'prazo', ',', 'adorei', 'o', 'produto'], tags=['18']),\n",
              " TaggedDocument(words=['Processo', 'de', 'compra', 'tranquilo', 'e', 'eficiente', '.'], tags=['19']),\n",
              " TaggedDocument(words=['Tomara', 'q', 'dure', 'pois', 'é', 'de', 'pelinho', '.'], tags=['20']),\n",
              " TaggedDocument(words=['recebi', 'somente', '1', 'controle', 'Midea', 'Split', 'ESTILO', '.', 'Faltou', 'Controle', 'Remoto', 'para', 'Ar', 'Condicionado', 'Consul'], tags=['21']),\n",
              " TaggedDocument(words=['boa'], tags=['22']),\n",
              " TaggedDocument(words=['MT', 'lindo'], tags=['23']),\n",
              " TaggedDocument(words=['Ocorreu', 'tudo', 'como', 'contratado', 'sendo', 'a', 'entrega', 'realizada', 'antes', 'do', 'prazo', 'Estou', 'satisfeita'], tags=['24']),\n",
              " TaggedDocument(words=['Amei', 'achei', 'lindo', ',', 'muito', 'delicado', 'adorei'], tags=['25']),\n",
              " TaggedDocument(words=['Ótima', 'loja', 'para', 'parceria', ':', 'rápidíssima', ',', 'produtos', 'bem', 'embalados', 'e', 'de', 'qualidade', '!', 'Só', 'o', 'custo', 'do', 'frete', 'que', 'foi', 'meio', 'azedo', '.'], tags=['26']),\n",
              " TaggedDocument(words=['Recomendo', 'o', 'vendedor', '...'], tags=['27']),\n",
              " TaggedDocument(words=['Produto', 'entregue', 'como', 'solicitado', ',', 'e', 'com', 'muita', 'brevidade', '.', 'Parabéns', '!'], tags=['28']),\n",
              " TaggedDocument(words=['Eu', 'comprei', 'duas', 'unidades', 'e', 'só', 'recebi', 'uma', 'e', 'agora', 'o', 'que', 'faço', '?'], tags=['29']),\n",
              " TaggedDocument(words=['Produto', 'bom', ',', 'porém', 'o', 'que', 'veio', 'para', 'mim', 'não', 'condiz', 'com', 'a', 'foto', 'do', 'anúncio', '.'], tags=['30']),\n",
              " TaggedDocument(words=['Produto', 'muito', 'inferior', ',', 'mal', 'acabado', '.'], tags=['31']),\n",
              " TaggedDocument(words=['O', 'kit', 'mochila', 'patrulha', 'canina', 'é', 'lindo', '!', '!', 'Meu', 'netinho', 'vai', 'amar', '!', '!', 'Obrigada', '!', '!'], tags=['32']),\n",
              " TaggedDocument(words=['Maravilha'], tags=['33']),\n",
              " TaggedDocument(words=['Entrega', 'no', 'prazo'], tags=['34']),\n",
              " TaggedDocument(words=['Cumpriu', 'o', 'prometido', 'na', 'compra', 'e', 'com', 'o', 'uma', 'entrega', 'em', 'tempo', 'satisfatório'], tags=['35']),\n",
              " TaggedDocument(words=['Super', 'rápido', '.'], tags=['36']),\n",
              " TaggedDocument(words=['Satisfeito'], tags=['37']),\n",
              " TaggedDocument(words=['estao', 'de', 'parabens', '...', 'sempre', 'chega', 'com', 'muiiita', 'antecedencia', '..', 'Muito', 'obrigada', '....'], tags=['38']),\n",
              " TaggedDocument(words=['OK', 'RECOMENDO'], tags=['39']),\n",
              " TaggedDocument(words=['Produto', 'chegou', ',', 'mas', 'meu', 'PC', 'não', 'conseguiu', 'reconhecer', 'as', 'portas', 'USB', '.'], tags=['40']),\n",
              " TaggedDocument(words=['Produto', 'de', 'muito', 'boa', 'qualidade', ',', 'chegou', 'antes', 'do', 'prazo', 'prometido'], tags=['41']),\n",
              " TaggedDocument(words=['Este', 'foi', 'o', 'pedido', 'Balde', 'Com', '128', 'Peças', '-', 'Blocos', 'De', 'Montar', '2', 'un', '-', 'R', '$', '25,00', 'cada', '(', 'NÃO', 'FOI', 'ENTREGUE', ')', 'Vendido', 'e', 'entregue', 'targaryen', 'Tapete', 'de', 'Eva', 'Nº', 'Letras', '36', 'Peças', 'Crianças', '1', 'un', '-', 'R', '$', '35,90', '(', 'ESTE', 'FOI', 'ENTREG'], tags=['42']),\n",
              " TaggedDocument(words=['Entrega', 'muito', 'rápida', 'Parabéns'], tags=['43']),\n",
              " TaggedDocument(words=['comprei', 'tres', 'pacotes', 'de', 'cinco', 'folhas', 'cada', 'de', 'papel', 'transfer', 'para', 'tecido', 'escuro', 'e', 'so', 'recebi', 'dois'], tags=['44']),\n",
              " TaggedDocument(words=['Estava', 'faltando', 'apenas', 'um', 'produto', ',', 'eu', 'recebi', 'hoje', ',', 'muito', 'obrigada', '!', 'Tudo', 'certo', '!', 'Att', 'Elenice', '.'], tags=['45']),\n",
              " TaggedDocument(words=['A', 'bolsa', 'térmica', 'além', 'de', 'linda', 'é', 'super', 'espaçosa', '.', 'Produto', 'de', 'acordo', 'com', 'o', 'anunciado', 'e', 'a', 'entrega', 'super', 'rápida', ',', 'entregou', 'bem', 'antes', 'do', 'prazo', '.'], tags=['46']),\n",
              " TaggedDocument(words=['Demorou', 'de', 'mais', 'pra', 'entrega'], tags=['47']),\n",
              " TaggedDocument(words=['super', 'rapido', 'a', 'entrega', '....', 'chegou', 'antes', 'da', 'data', '...'], tags=['48']),\n",
              " TaggedDocument(words=['A', 'entrega', 'foi', 'dividida', 'em', 'duas', '.', 'Não', 'houve', 'comunicado', 'do', 'loja', '.', 'Cheguei', 'a', 'pensar', 'que', 'só', 'haviam', 'enviado', 'parte', 'do', 'produto', '.'], tags=['49']),\n",
              " TaggedDocument(words=['Não', 'funciona', 'não', 'faz', 'sincronismo'], tags=['50']),\n",
              " TaggedDocument(words=['Recomendo', 'a', 'todos', 'os', 'clientes'], tags=['51']),\n",
              " TaggedDocument(words=['Gostei'], tags=['52']),\n",
              " TaggedDocument(words=['OTIMA'], tags=['53']),\n",
              " TaggedDocument(words=['Gostei', 'muito', 'do', 'jogo', 'de', 'banho.A', 'estampa', 'florida', ',', 'o', 'bordado', ',', 'tudo', 'muito', 'bonito', '.', 'Ótimo', 'produto', '.'], tags=['54']),\n",
              " TaggedDocument(words=['Chegou', 'apenas', 'uma', 'peça', ',', 'mas', 'na', 'nota', 'e', 'na', 'garantia', 'constam', 'as', 'duas', 'joias', '.'], tags=['55']),\n",
              " TaggedDocument(words=['EU', 'NÃO', 'RECEBI', 'O', 'PRODUTO', 'E', 'CONSTA', 'NO', 'SISTEMA', 'QUE', 'EU', 'RECEBI', 'ALÉM', 'DE', 'PAGAR', 'CARO', 'DO', 'FRETE'], tags=['56']),\n",
              " TaggedDocument(words=['Comprei', 'o', 'relógio', ',', 'unissex', 'e', 'enviaram', 'um', 'relógio', 'feminino', ',', 'bem', 'menor', 'que', 'as', 'especificações', 'do', 'anúncio', '.'], tags=['57']),\n",
              " TaggedDocument(words=['Sempre', 'compro', 'na', 'Zoop.Pra', 'mim', 'é', 'a', 'melhor', 'loja', 'on-line'], tags=['58']),\n",
              " TaggedDocument(words=['Produto', 'de', 'qualidade', 'excelente'], tags=['59']),\n",
              " TaggedDocument(words=['Ótimo', 'custo-benefício'], tags=['60']),\n",
              " TaggedDocument(words=['OK'], tags=['61']),\n",
              " TaggedDocument(words=['Gostei', 'da', 'atenção', 'com', 'a', 'entrega'], tags=['62']),\n",
              " TaggedDocument(words=['Se', 'fosse', 'vidro', 'tinha', 'quebrado', ';', 'veio', 'na', 'caixa', 'sem', 'nenhuma', 'proteção', 'por', 'dentro', ',', 'a', 'caixa', 'estava', 'muito', 'amassada', '.', 'Desculpe', '..', 'mas', 'gosto', 'de', 'comprar', 'de', 'vcs', '.'], tags=['63']),\n",
              " TaggedDocument(words=['A', 'peça', 'não', 'serviu'], tags=['64']),\n",
              " TaggedDocument(words=['Comprei', 'o', 'produto', 'dia', '25', 'de', 'fevereiro', 'e', 'hoje', 'dia', '29', 'de', 'marco', 'não', 'fora', 'entregue', 'na', 'minha', 'residência', '.', 'Não', 'sei', 'se', 'os', 'correios', 'desse', 'Brasil', 'e', 'péssimo', 'ou', 'foi', 'a', 'própria', 'loja', 'que', 'demorou', 'postar', '.'], tags=['65']),\n",
              " TaggedDocument(words=['Entregou', 'no', 'prazo', 'certo', ',', 'fiquei', 'feliz', 'com', 'a', 'compra', 'que', 'fiz'], tags=['66']),\n",
              " TaggedDocument(words=['Lindo', 'relógio', 'adorei'], tags=['67']),\n",
              " TaggedDocument(words=['Comprei', 'dois', 'lustres', 'pendentes', ',', 'com', 'a', 'parceira', 'targaryen', 'e', 'só', 'me', 'enviaram', 'um', 'lustre', '.', 'Abri', 'reclamação', ',', 'mas', 'ainda', 'não', 'recebi', 'resposta', '.', 'Aguardo', 'solução', 'por', 'parte', 'de', 'Lojas', 'Zoop', '.'], tags=['68']),\n",
              " TaggedDocument(words=['Muito', 'bom', 'alta', 'qualidade', '!'], tags=['69']),\n",
              " TaggedDocument(words=['Produto', 'bonito', ',', 'entregue', 'bem', 'valado', 'e', 'dentro', 'do', 'prazo', '.', 'Recomendo', '!'], tags=['70']),\n",
              " TaggedDocument(words=['Muito', 'bom'], tags=['71']),\n",
              " TaggedDocument(words=['Faltou', '1', 'produto', 'e', 'os', 'que', 'recebi', '1', 'veio', 'quebrado'], tags=['72']),\n",
              " TaggedDocument(words=['chegou', 'dentro', 'do', 'prazo', 'e', 'o', 'produto', 'é', 'de', 'excelente', 'qualidade', '!', 'Acabou', 'as', 'dores', 'nas', 'costas', ',', 'estou', 'dormindo', 'muito', 'bem', '!'], tags=['73']),\n",
              " TaggedDocument(words=['aqui', 'está', 'descrevendo', 'como', 'entregue', 'só', 'que', 'ate', 'agora', 'não', 'recebi'], tags=['74']),\n",
              " TaggedDocument(words=['Acho', 'que', 'rastreando', 'o', 'produto', 'devia', 'ser', 'melhor', 'e', 'mais', 'preciso', ',', 'mas', 'no', 'geral', 'foi', 'uma', 'ótima', 'experiência'], tags=['75']),\n",
              " TaggedDocument(words=['Ainda', 'não', 'tive', 'a', 'oportunidade', 'de', 'testar'], tags=['76']),\n",
              " TaggedDocument(words=['Comecei', 'a', 'usar', 'agora'], tags=['77']),\n",
              " TaggedDocument(words=['nada', 'a', 'declarar'], tags=['78']),\n",
              " TaggedDocument(words=['Comprar', 'um', 'produto', 'correto', 'na', 'capa', 'mas', 'interno', 'ser', 'outro.', '?', '?', '?', '?', '?', '?', '?'], tags=['79']),\n",
              " TaggedDocument(words=['entrega', 'super', 'rapida'], tags=['80']),\n",
              " TaggedDocument(words=['Fiz', 'um', 'pedido', 'de', '4', 'garrafas', 'de', 'azeite.Chegaram', '2', 'num', 'dia', 'e', 'as', 'outras', '2', 'quase', '48', 'horas', 'depois.Contato', 'com', 'a', 'loja', 'muito', 'dificil', ',', 'tanto', 'via', 'e-mail', 'qto', 'por', 'telef.O', 'suspense', 'terminou', 'mas', 'lá', 'não', 'compro', 'mais'], tags=['81']),\n",
              " TaggedDocument(words=['O', 'produto', 'chegou', 'muito', 'rapido', 'e', 'de', 'boa', 'qualidade', 'recomendo', 'o', 'produto'], tags=['82']),\n",
              " TaggedDocument(words=['Não', 'posso', '!', 'Estou', 'aguardando', 'a', 'chegada', 'do', 'produto', 'que', 'comprei', '!', 'Logo', 'que', 'isso', 'aconteça', ',', 'terei', 'minha', 'opinião', 'formada', '!'], tags=['83']),\n",
              " TaggedDocument(words=['Comprei', 'dois', 'produtos', 'e', 'recebi', 'somente', 'um', '.', 'Mandei', 'dois', 'emails', 'para', 'a', 'loja', 'e', 'não', 'tive', 'nenhum', 'retorno', '.', 'Estou', 'insatisfeita', '.'], tags=['84']),\n",
              " TaggedDocument(words=['Não', 'recomendaria', 'esta', 'loja', 'nem', 'pretendo', 'voltar', 'a', 'comprar', 'nela.A', 'mercadoria', 'foi', 'entregue', 'após', 'o', 'prazo', 'e', 'quase', '1', 'mês', 'após', 'a', 'compra', '.', 'No', 'site', 'das', 'Zoop', 'costumam', 'chegar', 'antes', 'do', 'prazo', '.', 'Estranhei', 'muito'], tags=['85']),\n",
              " TaggedDocument(words=['Recomendo'], tags=['86']),\n",
              " TaggedDocument(words=['Atendeu', 'minha', 'expectativa', '.'], tags=['87']),\n",
              " TaggedDocument(words=['Entrega', 'antes', 'do', 'prazo', '.', 'Produto', 'muito', 'prático', 'e', 'de', 'fácil', 'manuseio', '.'], tags=['88']),\n",
              " TaggedDocument(words=['otimo', 'produto', 'só', 'nao', 'veio', 'manual', ',', 'mas', 'sem', 'problemas', '.'], tags=['89']),\n",
              " TaggedDocument(words=['Uma', 'das', 'peças', 'não', 'encaixava', ',', 'estava', 'de', 'diâmetro', 'diferente', '.', 'Eu', 'tive', 'que', 'serrar', 'e', 'martelar', 'para', 'poder', 'caber', 'e', 'encaixar', '.', 'De', 'resto', ',', 'tudo', 'ok', '.'], tags=['90']),\n",
              " TaggedDocument(words=['Excelente', 'produto', '.'], tags=['91']),\n",
              " TaggedDocument(words=['Tudo', 'certo'], tags=['92']),\n",
              " TaggedDocument(words=['Demora', 'na', 'entrega', ',', 'detestei', 'o', 'atendimento', 'e', 'NUNCA', 'mais', 'compro', '.', 'baratheon', 'quando', 'vendia', 'por', 'eles', 'mesmos', 'era', 'bem', 'melhor', '!'], tags=['93']),\n",
              " TaggedDocument(words=['Produto', 'muito', 'bom'], tags=['94']),\n",
              " TaggedDocument(words=['o', 'meu', 'produto', 'não', 'chegou', '...', 'segundo', 'o', 'rastreio', 'está', 'parado', 'em', 'Ribeirão', 'Preto', 'sp', '...'], tags=['95']),\n",
              " TaggedDocument(words=['produto', 'deu', 'defeito', 'na', '1', 'vez', 'de', 'uso', '.'], tags=['96']),\n",
              " TaggedDocument(words=['super', 'recomendo', 'produto', 'profissional', 'de', 'qualidade'], tags=['97']),\n",
              " TaggedDocument(words=['até', 'agora', 'não', 'recebi', 'o', 'produto', '.'], tags=['98']),\n",
              " TaggedDocument(words=['A', 'loja', 'anuncia', 'um', 'produto', 'e', 'entrega', 'outro', '.'], tags=['99']),\n",
              " TaggedDocument(words=['muito', 'bom', 'e', 'rapido', 'quando', 'vi', 'ja', 'tinha', 'chegado'], tags=['100']),\n",
              " TaggedDocument(words=['O', 'produto', 'chegou', 'muito', 'bem'], tags=['101']),\n",
              " TaggedDocument(words=['otimo'], tags=['102']),\n",
              " TaggedDocument(words=['Apesar', 'de', 'ter', 'sido', 'entregue', 'rapidamente', ',', 'substituíram', 'a', 'caixa', 'METEORO', 'pela', 'caixa', 'BORNE', '.', 'Quando', 'tentei', 'reclamar', 'nas', 'Zoop', 'o', 'sistema', 'estaav', 'fora', 'do', 'ar', '.', 'A', 'guitarra', 'e', 'acessórios', 'estavam', 'corretos', '.'], tags=['103']),\n",
              " TaggedDocument(words=['Muito', 'satisfeito'], tags=['104']),\n",
              " TaggedDocument(words=['parabéns', 'para', 'loja', 'e', 'revendedor', 'apesar', 'de', 'ter', 'demorado', 'um', 'pouco'], tags=['105']),\n",
              " TaggedDocument(words=['Entregue', 'dentro', 'do', 'prazo', ',', 'e', 'com', 'bom', 'período', 'de', 'validade', '.'], tags=['106']),\n",
              " TaggedDocument(words=['O', 'Jogo', 'de', 'toalhas', 'é', 'lindo', 'mais', 'bonito', 'do', 'que', 'na', 'foto', ',', 'amei', '.'], tags=['107']),\n",
              " TaggedDocument(words=['produto', 'foi', 'entregue', 'com', 'umas', 'das', 'alças', 'com', 'problemas', '(', 'está', 'faltando', '1', 'pino', 'de', 'fixação', ')'], tags=['108']),\n",
              " TaggedDocument(words=['Foi', 'marcado', 'o', 'dia', '14/02', 'para', 'entrega', 'do', 'pedido', 'e', 'no', 'rastreamento', 'marcava', 'que', 'o', 'produto', 'já', 'havia', 'sido', 'entregue', 'na', 'data', 'mas', 'na', 'realidade', 'não', 'foi', 'entregue', '.', 'O', 'produto', 'só', 'foi', 'entregue', 'no', 'dia', '28/02', '.'], tags=['109']),\n",
              " TaggedDocument(words=['LOJA', 'ALÉM', 'DO', 'FRETE', 'SER', 'MUITO', 'CARO', '.', 'O', 'PRODUTO', 'LEVA', 'QUASE', '30', 'DIAS', 'ÚTEIS', ',', 'PARA', 'CHEGAR', 'NA', 'SUA', 'CASA'], tags=['110']),\n",
              " TaggedDocument(words=['Recebi', 'bem', 'rápido', ',', 'porém', 'veio', 'outro', 'produto', ',', 'e', 'não', 'o', 'que', 'eu', 'pedi', ',', 'o', 'modelo', 'veio', 'diferente', ',', 'a', 'cor', ',', 'veio', 'uma', 'capinha', 'que', 'não', 'tem', 'zíper', ',', 'enfim', ',', 'não', 'recomendo', '.'], tags=['111']),\n",
              " TaggedDocument(words=['sempre', 'comprei', 'no', 'e', 'estou', 'satisfeito', '.'], tags=['112']),\n",
              " TaggedDocument(words=['fiz', 'a', 'compra', 'por', 'tabela', 'e', 'graças', 'A', 'Deus', 'deu', 'tudo', 'certo', 'fico', 'muito', 'grato', 'pode', 'confiar', '.'], tags=['113']),\n",
              " TaggedDocument(words=['produto', 'de', 'qualidade', 'e', 'eficiência', 'na', 'entrega', '.', 'recebi', 'muito', 'antes', 'do', 'combinado', '.', 'recomendo'], tags=['114']),\n",
              " TaggedDocument(words=['Produto', 'bom', 'veio', 'no', 'dentro', 'do', 'prazo', 'chegou', 'em', '08', 'dias', 'estão', 'de', 'parabéns', '.'], tags=['115']),\n",
              " TaggedDocument(words=['Enviei', '2', 'solicitações', 'pelo', 'site', 'para', 'trocar', 'o', 'endereço', '.', 'Recebi', 'a', 'mensagem', 'de', 'que', 'iam', 'me', 'ligar', 'em', '48h', 'mas', 'não', 'ligaram', '.'], tags=['116']),\n",
              " TaggedDocument(words=['Tudo', 'ok', ',', 'o', 'baratheon', 'sempre', 'responsável', 'com', 'a', 'suas', 'entregas', '.'], tags=['117']),\n",
              " TaggedDocument(words=['o', 'acabento', 'que', 'estava', 'na', 'foto', 'era', 'bonito', 'a', 'que', 'chegou', 'foi', 'de', 'um', 'sintetico', 'feio', 'com', 'um', 'acabento', 'todo', 'borrado', 'orrivel', 'nao', 'gostei'], tags=['118']),\n",
              " TaggedDocument(words=['E', 'muito', 'desordenado', 'comprei', 'três', 'produtos', 'mais', 'não', 'veio', 'no', 'dia', 'sertões', 'veio', 'separado', 'e', 'em', 'data', 'separada'], tags=['119']),\n",
              " TaggedDocument(words=['A'], tags=['120']),\n",
              " TaggedDocument(words=['entrega', 'rapida'], tags=['121']),\n",
              " TaggedDocument(words=['foi', 'bom'], tags=['122']),\n",
              " TaggedDocument(words=['Mercadoria', 'certa', 'entregue', 'no', 'prazo', 'combinado', '.', 'Grata'], tags=['123']),\n",
              " TaggedDocument(words=[',', 'muito', 'ruim', '!'], tags=['124']),\n",
              " TaggedDocument(words=['Ao', 'fazer', 'a', 'compra', 'do', 'kit', 'entendi', 'que', 'receberia', '2', 'frascos', 'de', '60', 'cápsulas', '(', 'cada', ')', 'e', 'não', '2', 'frascos', 'com', '60', 'cápsulas', 'no', 'total', '.', 'Só', 'não', 'vou', 'devolver', 'porque', 'estou', 'precisando', 'do', 'produto', '.'], tags=['125']),\n",
              " TaggedDocument(words=['Entrega', 'bem', 'antes', 'do', 'prazo', 'perfeito', '!', '!'], tags=['126']),\n",
              " TaggedDocument(words=['Cada', 'vez', 'que', 'compro', 'mais', 'fico', 'satisfeita', 'parabéns', 'pela', 'honestidade', 'com', 'seus', 'clientes', '👏👏👏👏', '?'], tags=['127']),\n",
              " TaggedDocument(words=['bem', 'rapido', 'a', 'entrega', 'e', 'bom', 'comprar', 'com', 'vcs'], tags=['128']),\n",
              " TaggedDocument(words=['Produto', 'não', 'recomendo', 'não', 'ler', 'em', 'nenhum', 'dispositivo'], tags=['129']),\n",
              " TaggedDocument(words=['Entrega', 'super', 'rápida', ',', 'parabéns', '!'], tags=['130']),\n",
              " TaggedDocument(words=['Tudo', 'rápido', 'e', 'eficiente', '.'], tags=['131']),\n",
              " TaggedDocument(words=['Creme', 'maravilhoso', 'e', 'entrega', 'super', 'rápida'], tags=['132']),\n",
              " TaggedDocument(words=['Tentando', 'cancelar', 'o', 'produto', 'desde', 'antes', 'da', 'emissão', 'da', 'nota', 'fiscal', '.', 'Não', 'fui', 'avisada', 'que', 'estava', 'no', 'correio', ',', 'não', 'tive', 'nenhuma', 'resposta', 'do', 'cancelamento', 'e', 'nao', 'consigo', 'devolver', '.'], tags=['133']),\n",
              " TaggedDocument(words=['Chegou', 'hoje', 'sem', 'comentários'], tags=['134']),\n",
              " TaggedDocument(words=['Boa', 'Noite', 'é', 'lamentável', ',', 'esta', 'loja', 'que', 'tantas', 'compras', 'eu', 'ja', 'fiz', 'e', 'hoje', 'não', 'me', 'da', 'satisfação', 'sequer', 'de', 'um', 'relógio', 'na', 'importância', 'de', '50,00', 'reais', '...', 'um', 'produto', 'com', 'defeito', 'e', 'até', 'agora', 'não', 'me', 'deu', 'retor'], tags=['135']),\n",
              " TaggedDocument(words=['Muito', 'bom', '!', 'Aquilo', 'que', 'esperava', '!'], tags=['136']),\n",
              " TaggedDocument(words=['A', 'capa', 'protetora', 'não', 'é', 'exatamente', 'o', 'que', 'eu', 'esperava', 'deixa', 'a', 'desejar', 'no', 'tipo', 'material', 'e', 'na', 'qualidade', '.'], tags=['137']),\n",
              " TaggedDocument(words=['No', 'site', 'o', 'produto', 'parece', 'ter', 'melhor', 'qualidade', 'de', 'material', 'e', 'acabamento', '.'], tags=['138']),\n",
              " TaggedDocument(words=['Recebi', 'meu', 'produto', 'corretamente', 'e', 'dentro', 'do', 'prazo', ',', 'verificando', 'na', 'caixa', 'esta', 'tudo', 'correto', ',', 'mas', 'ainda', 'não', 'montei.Produto', 'lindo', ',', 'cor', 'perfeita', ',', 'amamos', '.', 'SUPER', 'RECOMENDO', '.'], tags=['139']),\n",
              " TaggedDocument(words=['A', 'embalagem', 'deixou', 'a', 'desejar', ',', 'por', 'pouco', 'o', 'produto', 'não', 'foi', 'danificado', ',', 'a', 'caixa', 'estava', 'toda', 'amassada', '.'], tags=['140']),\n",
              " TaggedDocument(words=['Parabéns', '.Produto', 'entregue', 'bem', 'antes', 'do', 'prazo.Atendeu', 'às', 'minhas', 'necessidades', '.'], tags=['141']),\n",
              " TaggedDocument(words=['Recomendo', '.'], tags=['142']),\n",
              " TaggedDocument(words=['Faltaram', 'os', 'cabos', 'e', 'o', 'manual'], tags=['143']),\n",
              " TaggedDocument(words=['ótimo', 'chegou', 'bem', 'antes', 'do', 'prazo', '.'], tags=['144']),\n",
              " TaggedDocument(words=['Entregue', 'no', 'prazo', 'produto', 'muito', 'bom', '.'], tags=['145']),\n",
              " TaggedDocument(words=['O', 'produto', 'foi', 'embalado', 'apenas', 'com', 'papel', 'pardo', 'sobre', 'a', 'embalagem', 'e', 'enviado', 'pelos', 'correios', '.', 'Lógico', ',', 'a', 'embalagem', 'chegou', 'amassada', 'e', 'só', 'deus', 'sabe', 'se', 'o', 'produto', 'está', 'funcionando', 'ou', 'não', ',', 'ainda', 'não', 'testei', '.'], tags=['146']),\n",
              " TaggedDocument(words=['Acho', 'q', 'deveriam', 'mandar', 'por', 'sedex', 'ao', 'invés', 'de', 'pac'], tags=['147']),\n",
              " TaggedDocument(words=['Última', 'vez', 'que', 'compro', 'pois', 'hoje', 'vai', 'fazer', '1', 'mês', 'que', 'fiz', 'a', 'comprar', 'e', 'nada', ',', 'e', 'se', 'demorar', 'mas', 'tempo', 'de', 'entregar', 'estarei', 'procurando', 'meus', 'direitos', 'contra', 'as', 'lojas', 'Zoop', 'e', 'a', 'targaryen', '.'], tags=['148']),\n",
              " TaggedDocument(words=['Lindo', '...', 'Só', 'faltou', 'instruções', 'da', 'troca', 'de', 'pulseiras', '.'], tags=['149']),\n",
              " TaggedDocument(words=['Produto', 'exatamente', 'conforme', 'descrito', '.', 'Chegou', 'bem', 'antes', 'do', 'prazo', '!'], tags=['150']),\n",
              " TaggedDocument(words=['O', 'produto', 'chegou', 'bem', 'antes', 'do', 'prazo', 'estipulado', ',', 'amei', 'o', 'atendimento', '!', 'Super', 'recomendo'], tags=['151']),\n",
              " TaggedDocument(words=['Não', 'gostei', 'do', 'produto', ',', 'material', 'de', 'péssima', 'qualidade', '.'], tags=['152']),\n",
              " TaggedDocument(words=['Dos', 'dois', 'produtos', 'comprados', ',', 'foi', 'entregue', 'apenas', 'um', '!'], tags=['153']),\n",
              " TaggedDocument(words=['Nao', 'compro', 'mais', 'na', 'Zoop', '.', 'Se', 'é', 'parceiro', 'da', 'Zoop', 'ou', 'não', 'essa', 'targaryen', 'jamais', 'uso', 'novamente', '.', 'Quando', 'eu', 'ler', 'que', 'é', 'dessa', 'empresa', 'saio', 'correndo', '.', 'Um', 'absurdo', '.', 'Quase', 'um', 'mês', 'para', 'entregar', '.', 'Extra.com', 'ok'], tags=['154']),\n",
              " TaggedDocument(words=['Recebi', 'corretamente', 'o', 'produto'], tags=['155']),\n",
              " TaggedDocument(words=['recebi', 'o', 'produto', 'dentro', 'do', 'prazo', 'informado', ',', 'ainda', 'não', 'utilizei', '.'], tags=['156']),\n",
              " TaggedDocument(words=['O', 'pedido', 'chegou', 'antes', 'do', 'combinado', ',', 'muito', 'bom', '.'], tags=['157']),\n",
              " TaggedDocument(words=['produto', 'entregue', 'conforme', 'anunciado', '.'], tags=['158']),\n",
              " TaggedDocument(words=['recebe', 'apenas', '01', 'peça', 'do', 'produto', '!', 'estou', 'precisando', 'da', '2', 'peças', 'restante', '!'], tags=['159']),\n",
              " TaggedDocument(words=['LOJA', '10'], tags=['160']),\n",
              " TaggedDocument(words=['O', 'violão', 'que', 'comprei', 'é', 'lindo', ',', 'porém', 'a', 'cor', 'do', 'adesivo', 'não', 'confere', 'com', 'a', 'foto', 'do', 'ato', 'da', 'compra', ',', 'mas', 'aprovei', '.'], tags=['161']),\n",
              " TaggedDocument(words=['Chegou', 'antes', 'do', 'prazo', '!', 'Produto', 'excelente', '!'], tags=['162']),\n",
              " TaggedDocument(words=['trabalho', 'com', 'profissionalismo', 'das', 'lojas', 'Zoop', '.', 'indico', 'com', 'certeza'], tags=['163']),\n",
              " TaggedDocument(words=['O', 'MP3', 'player', 'não', 'funciona', ',', 'mesmo', 'trocando', 'a', 'pilha', 'diversas', 'vezes', '.', 'Tive', 'que', 'devolver', '.'], tags=['164']),\n",
              " TaggedDocument(words=['super', 'recomendo', 'o', 'produto', 'que', 'é', 'muito', 'bom', '!'], tags=['165']),\n",
              " TaggedDocument(words=['Pré', 'treino', 'muito', 'bom', ',', 'um', 'dos', 'melhores', 'do', 'mercado', ',', 'se', 'não', 'for', 'o', 'melhor', '.'], tags=['166']),\n",
              " TaggedDocument(words=['A', 'loja', 'postou', 'o', 'produto', 'de', 'e', 'mediato', 'o', 'correio', 'demorou', 'um', 'pouco'], tags=['167']),\n",
              " TaggedDocument(words=['Sempre', 'compro', 'no', 'e', 'sempre', 'sou', 'bem', 'atendido', ',', 'site', 'eficiente', 'e', 'produtos', 'de', 'ótima', 'qualidade', ',', 'recomendo', 'a', 'todos', 'podem', 'comprar', 'de', 'olhos', 'fechados', '!'], tags=['168']),\n",
              " TaggedDocument(words=['Muito', 'bom', 'desde', 'da', 'compra', 'a', 'entrega', 'td', 'direitinho', 'e', 'rapido'], tags=['169']),\n",
              " TaggedDocument(words=['Tudo', 'ok', '!'], tags=['170']),\n",
              " TaggedDocument(words=['A', 'targaryen', 'não', 'é', 'de', 'confiança', 'não', 'entregou', 'a', 'minha', 'compra', 'e', 'colocou', 'no', 'rastreamento', 'do', 'pedido', 'que', 'foi', 'entregue', 'no', 'dia', '14/12/17', 'empresa', 'falsa', 'quero', 'receber', 'meus', 'produtos', 'que', 'foram', 'pagos', 'com', 'boleto', 'bancari'], tags=['171']),\n",
              " TaggedDocument(words=['Entrega', 'e', 'qualidade', 'do', 'produto', 'de', 'acordo', 'com', 'o', 'esperado', '.'], tags=['172']),\n",
              " TaggedDocument(words=['Excelente', 'recomendo'], tags=['173']),\n",
              " TaggedDocument(words=['A', 'bolsa', 'e', 'muito', 'bonita', 'por', 'fora', 'Mas', 'dentro', 'não', 'tem', 'forro', 'E', 'é', 'bem', 'fragil'], tags=['174']),\n",
              " TaggedDocument(words=['Quando', 'instalei', 'o', 'cartucho', 'de', 'tinta', ',', 'a', 'minha', 'impressora', 'indicou', 'que', 'o', 'mesmo', 'estava', 'vazio', ',', 'e', 'apresentou', 'a', 'mensagem', 'de', 'erro', '``', '!', \"''\", 'em', 'cima', 'do', 'marcador', 'de', 'nível', 'da', 'tinta', '.', 'Já', 'solicitei', 'a', 'troca', '.'], tags=['175']),\n",
              " TaggedDocument(words=['muito', 'bom', ',', 'recomendo', 'o', 'produto', '.'], tags=['176']),\n",
              " TaggedDocument(words=['quanto', 'ao', 'site', 'não', 'tenho', 'o', 'que', 'questionar', '!', 'sempre', 'cumprem', 'super', 'o', 'combinado', '...', 'recomendo', 'sempre', '!', 'mas', 'o', 'produto', 'é', 'fraco', '..'], tags=['177']),\n",
              " TaggedDocument(words=['bom', 'em', 'todos', 'os', 'aspectos'], tags=['178']),\n",
              " TaggedDocument(words=['Até', 'hoje', 'estou', 'satisfeito', 'com', 'a', 'sbmarino'], tags=['179']),\n",
              " TaggedDocument(words=['Não', 'foram', 'entregue', 'as', 'duas', 'capas', 'de', 'couro', 'compradas', '.', 'Apenas', 'uma', 'delas', '.', 'Aguardo', 'a', 'devolução', 'do', 'dinheiro', 'ou', 'a', 'entrega', 'da', 'segunda', 'capa', '.'], tags=['180']),\n",
              " TaggedDocument(words=['Gostei', '!'], tags=['181']),\n",
              " TaggedDocument(words=['Fiquei', 'feliz', 'com', '.', 'O', 'tecido', ',', 'mas', 'acho', 'que', 'faltou', 'o', 'lençol', 'de', 'cima', 'para', 'ficar', 'completo', ',', 'espero', 'que', 'logo', 'lancem', '.'], tags=['182']),\n",
              " TaggedDocument(words=['Chegou', 'antes', 'do', 'prazo', 'é', 'a', 'cabeceira', 'é', 'linda', '.'], tags=['183']),\n",
              " TaggedDocument(words=['Houve', 'alguma', 'confusão', 'entre', 'vendedor', 'e', 'o', ',', 'pois', 'recebi', 'um', 'email', 'do', 'pedindo', 'o', 'cancelamento', 'do', 'produto', 'por', 'algum', 'imprevisto', 'na', 'entrega', ';', 'neguei', 'e', 'recebi', 'o', 'produto', 'dias', 'depois', '.'], tags=['184']),\n",
              " TaggedDocument(words=['10'], tags=['185']),\n",
              " TaggedDocument(words=['Gostei', 'do', 'produto', 'chegou', 'no', 'tempo', 'certo', 'os', 'vendedores', 'estão', 'de', 'parabéns'], tags=['186']),\n",
              " TaggedDocument(words=['Atendimento', 'excelente'], tags=['187']),\n",
              " TaggedDocument(words=['Gostei'], tags=['188']),\n",
              " TaggedDocument(words=['No', 'dia', '19', 'de', 'maio', 'usei', 'e', 'a', 'à', 'alça', 'quebrou', 'sem', 'muito', 'peso'], tags=['189']),\n",
              " TaggedDocument(words=['Toalha', 'do', 'maior', 'campeão', 'do', 'Brasil', 'maravilhosa'], tags=['190']),\n",
              " TaggedDocument(words=['A', 'entrega', 'foi', 'realizado', 'muito', 'antes', 'do', 'previsto', '.', 'Bom', 'produto', '...', 'estou', 'satisfeita'], tags=['191']),\n",
              " TaggedDocument(words=['Até', 'agora', 'tudo', 'bem', 'estou', 'esperando', 'a', 'entrega', 'do', 'produto'], tags=['192']),\n",
              " TaggedDocument(words=['A', 'compra', 'ocorreu', 'como', 'o', 'esperado', ',', 'desde', 'de', 'o', 'pedido', 'até', 'o', 'recebimento', 'do', 'produto', '.', 'Tudo', 'bem', 'certinho', '.'], tags=['193']),\n",
              " TaggedDocument(words=['O', 'produto', 'foi', 'entregue', 'antes', 'do', 'prazo', '.'], tags=['194']),\n",
              " TaggedDocument(words=['Gostei', 'muito', 'do', 'produto', 'era', 'exatamente', 'boque', 'eu', 'esperava', ',', 'entrega', 'dentro', 'do', 'prazo', ',', 'parabéns', 'recomendo', 'a', 'loja'], tags=['195']),\n",
              " TaggedDocument(words=['comprei', 'o', 'produto', 'na', 'cor', 'preta', 'e', 'chegou', 'na', 'cor', 'vermelha', '.'], tags=['196']),\n",
              " TaggedDocument(words=['já', 'é', 'a', 'segunda', 'vez', 'que', 'compro', 'nesta', 'loja', ',', 'super', 'eficiente', 'entrega', 'rápida', 'e', 'antes', 'do', 'prazo', 'contratado', ',', 'produto', 'bem', 'embalado', ',', 'Nota', '10', 'Muito', 'Obrigado'], tags=['197']),\n",
              " TaggedDocument(words=['otimo'], tags=['198']),\n",
              " TaggedDocument(words=['Pensei', 'que', 'a', 'mochila', 'fosse', 'um', 'material', 'mais', 'resistente', '.'], tags=['199']),\n",
              " TaggedDocument(words=['Comprei', 'um', 'produto', 'e', 'veio', 'outro', '.', 'Mandei', 'msg', 'informando', 'o', 'erro', ',', 'porém', 'não', 'obtive', 'resposta', '.', 'Obrigado'], tags=['200']),\n",
              " TaggedDocument(words=['o', 'produto', 'demora', 'muita', 'para', 'chegar', '!'], tags=['201']),\n",
              " TaggedDocument(words=['So', 'recebemos', 'um', 'relogio', 'pelo', 'correio', 'att'], tags=['202']),\n",
              " TaggedDocument(words=['entrega', 'rápida', ',', 'produto', 'conforme', 'esperado'], tags=['203']),\n",
              " TaggedDocument(words=['Tudo', 'como', 'anunciado', '....', 'Ótimo', 'produto', '...'], tags=['204']),\n",
              " TaggedDocument(words=['Produto', 'de', 'boa', 'qualidade', ',', 'exatamente', 'conforme', 'anunciado', ',', 'e', 'o', 'preço', 'baixo', 'é', 'uma', 'atrativo', 'a', 'mais', '.'], tags=['205']),\n",
              " TaggedDocument(words=['Somente', 'foi', 'entregue', 'uma', 'unidade', ',', 'ao', 'invés', 'de', 'duas', '.'], tags=['206']),\n",
              " TaggedDocument(words=['adorei', 'o', 'produto', ';', ';', 'recebi', 'antes', 'do', 'prazo', 'combinado', ',', ',', 'ficou', 'muito', 'bonito'], tags=['207']),\n",
              " TaggedDocument(words=['Muito', 'satisfeito', '.'], tags=['208']),\n",
              " TaggedDocument(words=['Otimo', 'produto', 'porem', 'caro', 'demais', '!', '!', '!'], tags=['209']),\n",
              " TaggedDocument(words=['Produtos', 'otimos', ',', 'entrega', 'rápida', '.', 'Super', 'recomendo', '!', '!', '!'], tags=['210']),\n",
              " TaggedDocument(words=['recebi', 'sim', 'mais', 'com', 'defeito', 'os', 'encaixes', 'sao', 'dois', 'igual', 'e', 'nao', 'fecham'], tags=['211']),\n",
              " TaggedDocument(words=['Ainda', 'não', 'recebi'], tags=['212']),\n",
              " TaggedDocument(words=['Tive', 'um', 'pós', 'venda', 'excelente', 'através', 'do', 'Sr', 'Renato'], tags=['213']),\n",
              " TaggedDocument(words=['Gostei', 'muito', 'do', 'produto', ',', 'a', 'entrega', 'veio', 'antes', 'do', 'prazo', '.', 'Recomendo', ',', 'fica', 'bem', 'encaixado', 'no', 'celular', ',', 'não', 'tira', 'a', 'elegância', 'do', 'aparelho', ',', 'como', 'outras', 'as', 'capas', 'que', 'deixam', 'monstruoso', 'com', 'o', 'tamanho', '.'], tags=['214']),\n",
              " TaggedDocument(words=['Muito', 'bom'], tags=['215']),\n",
              " TaggedDocument(words=['Até', 'agora', 'nao', 'recebi.Comprei', 'este', 'aparelho', 'por', 'questao', 'de', 'saude', ',', 'portanto', 'nao', 'recomendo', 'esta', 'loja', '.'], tags=['216']),\n",
              " TaggedDocument(words=['Recomendo', 'a', 'todos', '.', 'Produto', 'de', 'ótima', 'qualidade', ',', 'entregue', 'sem', 'problemas', '.'], tags=['217']),\n",
              " TaggedDocument(words=['Produto', 'chegou', 'dentro', 'do', 'prazo', '.', 'Veio', 'conforme', 'descrição', 'e', 'é', 'excelente', '.'], tags=['218']),\n",
              " TaggedDocument(words=['o', 'produto', 'chegou', 'antes', 'do', 'prazo', ',', 'e', 'gostei', 'bastante', '!', '!', 'agora', 'meu', 'rapazinho', 'de', '3', 'aninhos', 'vai', 'aproveitar', 'ao', 'maximo', '!', '!'], tags=['219']),\n",
              " TaggedDocument(words=['Loja', 'Nota', '10'], tags=['220']),\n",
              " TaggedDocument(words=['Parabéns', '.', 'Recebi', 'antes', 'do', 'prazo', '.', 'tudo', 'correto', 'como', 'foi', 'combinado', '.'], tags=['221']),\n",
              " TaggedDocument(words=['O', 'produto', 'entregue', 'difere', 'do', 'pedido', 'trata-se', 'de', 'um', 'produto', 'inferior', '!', 'Gostaria', 'que', 'fosse', 'solucionado', 'o', 'problema', '!', 'Não', 'estou', 'satisfeito', 'com', 'procedimento', '!'], tags=['222']),\n",
              " TaggedDocument(words=['Muito', 'bom', 'mesmo', '!'], tags=['223']),\n",
              " TaggedDocument(words=['Comprei', 'o', 'produto', ',', 'paguei', 'no', 'boleto', 'e', 'só', 'recebi', 'metade', 'do', 'produto', ',', 'anunciaram', 'uma', 'coisa', 'é', 'mandaram', 'outra', '.', 'Muito', 'insatisfeita', '😡😡😡'], tags=['224']),\n",
              " TaggedDocument(words=['Entrega', 'antes', 'do', 'prazo', 'produto', 'muito', 'bem', 'conservado', '.'], tags=['225']),\n",
              " TaggedDocument(words=['Apesar', 'da', 'demora', 'em', 'expedir', 'a', 'nota', 'fiscal', ',', 'depois', 'de', 'expedida', 'a', 'entrega', 'foi', 'rápida', 'e', 'o', 'produto', 'veio', 'bem', 'embalado', '.', 'Recomendo', '.'], tags=['226']),\n",
              " TaggedDocument(words=['Comprei', 'o', 'produto', 'dia', 'em', 'inicio', 'de', 'março', 'e', 'não', 'recebi', 'no', 'prazo', 'abrindo', 'até', 'um', 'protocolo', 'para', 'resolverem', 'minha', 'situação'], tags=['227']),\n",
              " TaggedDocument(words=['Não', 'recebi', 'o', 'produto', ',', 'assim', 'como', 'nenhum', 'contato', 'por', 'parte', 'do', '.vendedor'], tags=['228']),\n",
              " TaggedDocument(words=['Nem', 'ratrear', 'estou', 'conseguindo', ':', '('], tags=['229']),\n",
              " TaggedDocument(words=['nota', '10'], tags=['230']),\n",
              " TaggedDocument(words=['Esperando', 'o', 'instalador'], tags=['231']),\n",
              " TaggedDocument(words=['comprei', 'um', 'produto', 'para', 'ser', 'entregue', 'por', 'essa', 'loja', 'e', 'ainda', 'não', 'recebi', 'pois', 'assim', 'já', 'se', 'passou', 'a', 'data', 'de', 'entrega'], tags=['232']),\n",
              " TaggedDocument(words=['Ótimo', 'serviço'], tags=['233']),\n",
              " TaggedDocument(words=['Ótima', 'compra', '.', 'Ótimo', 'produto', '.', 'Só', 'senti', 'falta', 'de', 'algum', 'comunicado', 'entre', 'a', 'compra', 'e', 'a', 'chegada', 'do', 'produto', ',', 'só', 'contato', '.', 'Mas', 'valeu', '.'], tags=['234']),\n",
              " TaggedDocument(words=['veio', 'conforme', 'o', 'pedido', 'mais', 'o', 'pós', 'venda', 'não', 'respondeu', 'nenhuma', 'das', 'minhas', 'perguntas'], tags=['235']),\n",
              " TaggedDocument(words=['Comprei', 'duas', 'mochilas', ',', 'recebi', 'apenas', 'uma', ',', 'o', 'natal', 'está', 'chegando', 'e', 'até', 'agora', 'nada', '!'], tags=['236']),\n",
              " TaggedDocument(words=['Perfeitos😁'], tags=['237']),\n",
              " TaggedDocument(words=['O', 'preço', 'foi', 'ótimo', ',', 'o', 'prazo', 'de', 'entrega', 'que', 'é', 'longo', '(', 'mais', 'de', '1', 'mês', 'para', 'entregar', ')', '.', 'Comprei', '2', 'cartuchos', 'e', 'entregaram', 'apenas', '1', ',', 'reclamei', 'e', 'enviaram', 'o', 'outro', 'ainda', 'dentro', 'do', 'prazo', 'de', 'entrega', '.'], tags=['238']),\n",
              " TaggedDocument(words=['prazo', 'foi', 'estendido', ',', 'porém', 'entregue', 'no', 'prazo', 'divulgado', 'na', 'propaganda', '.', 'Cadeira', 'conforme', 'foto', ',', 'vem', 'para', 'montar', ',', 'mais', 'fácil', 'e', 'linda'], tags=['239']),\n",
              " TaggedDocument(words=['Simplesmente', 'lindo', '!', '!', 'Adorei', 'o', 'produto', '!', '!', 'Tamanho', 'perfeito', '!', '!', 'Já', 'comprei', 'várias', 'produtos', ',', 'já', 'faz', 'anos', 'que', 'compro', 'no', 'baratheon', '!', '!'], tags=['240']),\n",
              " TaggedDocument(words=['MUITO', 'BOM', '!', 'CHEGOU', 'DENTRO', 'DO', 'PRAZO', '.'], tags=['241']),\n",
              " TaggedDocument(words=['Otimo', ',', 'preço', ',', 'entregou', 'antes', 'do', 'prazo', 'e', 'produto', 'de', 'ótima', 'qualidade', '.'], tags=['242']),\n",
              " TaggedDocument(words=['comprei', 'um', 'relogio', 'de', 'presente', 'de', 'natal', 'para', 'meu', 'filho', 'e', 'ate', 'agora', 'nao', 'chegou', '.', 'enviei', 'mensagens', 'e', 'na', 'ultima', 'conversa', 'o', 'relogio', 'chegaria', 'ontem', ',', 'porem', 'nao', 'recebi', 'nada', '.'], tags=['243']),\n",
              " TaggedDocument(words=['só', 'poderia', 'entregar', 'mais', 'rápido', 'fim', 'de', 'ano'], tags=['244']),\n",
              " TaggedDocument(words=['Otima', 'Venda', ',', 'tudo', 'perfeito', '.'], tags=['245']),\n",
              " TaggedDocument(words=['Produto', 'de', 'ótima', 'qualidade', '!', '!', 'Chegou', 'antes', 'do', 'tempo', 'esperado', '.', 'Amei', '<', '3'], tags=['246']),\n",
              " TaggedDocument(words=['Veio', 'bem', 'embalado', ',', 'Envio', 'rápido', '!'], tags=['247']),\n",
              " TaggedDocument(words=['Estou', 'muito', 'satisfeita', 'com', 'a', 'minha', 'compra', 'e', 'com', 'o', 'recebimento', 'do', 'produto', ';', 'dentro', 'do', 'prazo', '!'], tags=['248']),\n",
              " TaggedDocument(words=['Até', 'agora', 'não', 'recebi', 'nada', ',', 'a', 'colcha', 'estava', 'prevista', 'para', 'anteontem', '(', '18/12', ')', 'e', 'até', 'agora', 'nada'], tags=['249']),\n",
              " TaggedDocument(words=['Os', 'pincéis', 'vieram', 'amassados', ',', 'não', 'condiz', 'com', 'algumas', 'fotos', ',', 'mas', 'condiz', 'com', 'a', 'descrição', '.', 'São', 'fracos', ',', 'não', 'cabem', 'na', 'case', 'e', 'um', 'veio', 'descolado'], tags=['250']),\n",
              " TaggedDocument(words=['Produto', 'correspondente', 'as', 'minhas', 'expectativas', '!', 'Foi', 'entregue', 'antes', 'do', 'prazo', 'estabelecido', '!'], tags=['251']),\n",
              " TaggedDocument(words=['Indico', 'a', 'loja', 'compro', 'sempre', 'na', 'Zoop', '.'], tags=['252']),\n",
              " TaggedDocument(words=['O', 'produto', 'veio', 'diferente', 'da', 'q', 'mostra', 'na', 'foto', ',', 'não', 'é', 'de', 'luxo', ',', 'nem', 'acolchoado', 'como', 'dizia', '.'], tags=['253']),\n",
              " TaggedDocument(words=['Foi', 'tudo', 'normal', ',', 'como', 'é', 'mesmo', 'uma', 'compra', 'por', 'internet', '.', 'Obrigado', '.'], tags=['254']),\n",
              " TaggedDocument(words=['Boa', 'compra', '.'], tags=['255']),\n",
              " TaggedDocument(words=['Produto', 'chegou', 'dentro', 'do', 'prazo', '.', 'Atende', 'pelo', 'custo', 'benefício', ',', 'porém', 'a', 'bolsa', 'não', 'é', 'forrada', 'e', 'a', 'alça', 'é', 'de', 'plástico', '.', 'Estou', 'satisfeita', '.'], tags=['256']),\n",
              " TaggedDocument(words=['Estou', 'plenamente', 'satisfeita', 'com', 'minha', 'aquisição', '.', 'E', 'recomendo', '.', 'A', 'única', 'coisa', 'que', 'não', 'concordo', 'é', 'com', 'o', 'valor', 'de', 'frete', '.', 'Autíssimo', '.'], tags=['257']),\n",
              " TaggedDocument(words=['Comprei', '02', 'só', 'enviaram', '01'], tags=['258']),\n",
              " TaggedDocument(words=['parece', 'que', 'mantem', 'bem', 'o', 'alimento', 'sem', 'murchar', '(', 'batata', 'palha', ')', 'mas', 'a', 'tampa', 'é', 'estranha', ',', 'parece', 'que', 'não', 'fecha', '.', 'e', 'o', 'inox', 'da', 'tampa', 'é', 'feio', '.'], tags=['259']),\n",
              " TaggedDocument(words=['Estou', 'aguardando', 'uma', 'resposta', 'até', 'hoje', ',', 'sobre', 'os', 'meus', 'produtos', ',', 'já', 'foram', 'pagos', 'e', 'ainda', 'NÃO', 'os', 'recebi', ',', 'foram', '03', 'iguais', 'e', 'necessito', 'falar', 'com', 'pessoas', 'e', 'NÃO', 'máquina', 'ou', 'gravações', '.'], tags=['260']),\n",
              " TaggedDocument(words=['Entrega', 'e', 'produto', 'perfeito', '!'], tags=['261']),\n",
              " TaggedDocument(words=['Parabéns', '😤', 'pelo', 'excelente', 'atendimento', 'de', 'qualidade', '.'], tags=['262']),\n",
              " TaggedDocument(words=['Produto', 'entregue', 'antecipadamente', '.'], tags=['263']),\n",
              " TaggedDocument(words=['gostei', 'de', 'comprar', 'recebi', 'o', 'produto', 'antes', 'do', 'prazo', 'e', 'de', 'boa', 'qualidade', '.', 'recomendo', '.'], tags=['264']),\n",
              " TaggedDocument(words=['Super', 'recomendo', ',', 'Sempre', 'chegando', 'antes', 'da', 'dta', 'prevista', '=D'], tags=['265']),\n",
              " TaggedDocument(words=['Correios', 'não', 'entregou'], tags=['266']),\n",
              " TaggedDocument(words=['Entrega', 'feita', 'no', 'prazo', 'e', 'produto', 'em', 'perfeitas', 'condicoes', 'Parabens', 'a', 'equipe'], tags=['267']),\n",
              " TaggedDocument(words=['ainda', 'não', 'recebi', 'o', 'produto'], tags=['268']),\n",
              " TaggedDocument(words=['Gostaria', 'de', 'receber', 'os', 'produtos', 'corretos', ',', 'tentei', 'realizar', 'a', 'troca', 'pela', 'devolução', 'de', 'dinheiro', 'no', 'cartão', ',', 'mas', 'o', 'site', 'da', 'Zoop', 'não', 'possibilita', 'que', 'seja', 'realizado', '.'], tags=['269']),\n",
              " TaggedDocument(words=['Produto', 'perfeito', ',', 'entrega', 'rápida', '.', 'Estou', 'satisfeitíssima', '.', '👏🏽'], tags=['270']),\n",
              " TaggedDocument(words=['meu', 'produto', 'veio', 'com', 'defeito', ',', 'devolvi', 'conforme', 'informado.postado', 'no', 'correio', 'conforme', 'indicado.e', 'até', 'hoje', 'não', 'recebi', 'nenhuma', 'notificação', 'da', 'empresa', 'quanto', 'a', 'devolução', 'e', 'análise', 'para', 'ter', 'meuressarcimento'], tags=['271']),\n",
              " TaggedDocument(words=['O', 'pedido', 'chegou', 'antes', 'do', 'prazo', '.', 'Obrigada', '.'], tags=['272']),\n",
              " TaggedDocument(words=['Só', 'recebemos', '1', 'cartucho', 'já', 'abrimos', 'reclamação', 'no', 'site', 'e', 'ainda', 'não', 'obtive', 'resposta', '.'], tags=['273']),\n",
              " TaggedDocument(words=['Produto', 'de', 'alta', 'qualidade', '.', 'Descrição', 'confere', 'com', 'o', 'produto', 'Entregue', 'no', 'tempo', 'certo', '.', 'Recomendo', '.'], tags=['274']),\n",
              " TaggedDocument(words=['O', 'tampo', 'da', 'mesa', 'chegou', 'todo', 'amassado', 'e', 'batido', '.'], tags=['275']),\n",
              " TaggedDocument(words=['Dentro', 'do', 'prazo', 'porém', 'poderiam', 'agilizar', 'como', 'no', 'meu', 'outro', 'produto', 'que', 'foi', 'entregue', 'em', '2', 'dias', '.'], tags=['276']),\n",
              " TaggedDocument(words=['O', 'relógio', 'é', 'lindo', 'e', 'a', 'entrega', 'foi', 'muito', 'rápida', '.', 'Recomendo', '!'], tags=['277']),\n",
              " TaggedDocument(words=['Adorei', '!', 'Pequeno', ',', 'fácil', 'de', 'usar', ',', 'não', 'arranha', 'apela', 'e', 'limpa', 'a', 'pele', '..', 'recomendo'], tags=['278']),\n",
              " TaggedDocument(words=['Como', 'sempre', ',', 'excelente', 'serviço', '.'], tags=['279']),\n",
              " TaggedDocument(words=['Até', 'o', 'momento', 'eu', 'n', 'recebir', 'o', 'produto'], tags=['280']),\n",
              " TaggedDocument(words=['Como', 'sempre', 'Zoop', 'entrega', 'certinho'], tags=['281']),\n",
              " TaggedDocument(words=['Produto', 'perfeito', ',', 'chegou', 'antes', 'do', 'prazo', '!'], tags=['282']),\n",
              " TaggedDocument(words=['Muito', 'bom', 'o', 'produto', ',', 'melhor', 'que', 'esperava', 'e', 'foi', 'entregue', 'no', 'prazo', ',', 'gostei', 'bastante', '.'], tags=['283']),\n",
              " TaggedDocument(words=['Muito', 'bom', 'o', 'produto', 'e', 'preço', 'cobrado', '!'], tags=['284']),\n",
              " TaggedDocument(words=['Sdds'], tags=['285']),\n",
              " TaggedDocument(words=['muito', 'bom', 'o', 'produto.Recomendo'], tags=['286']),\n",
              " TaggedDocument(words=['entrega', 'dentro', 'do', 'prazo', 'isso', 'é', 'importante', '.'], tags=['287']),\n",
              " TaggedDocument(words=['Gostei', 'muito', ',', 'o', 'objeto', 'veio', 'o', 'mesmo', 'comprado', ',', 'já', 'comprei', 'em', 'outras', 'lojas', 'e', 'veio', 'outra', 'cor', 'ñ', 'Gostei', '!', 'Com', 'Zoop', 'tudo', 'ok', '.'], tags=['288']),\n",
              " TaggedDocument(words=['O', 'aparelho', 'chegou', 'apresentando', 'defeito', ',', 'não', 'está', 'apresentando', 'todas', 'as', 'funções', 'no', 'visor', 'digital', '.'], tags=['289']),\n",
              " TaggedDocument(words=['O', 'produto', 'não', 'está', 'nas', 'medidas', 'corretas', 'indicadas', 'na', 'oferta', '.', 'Terei', 'q', 'ligar', 'para', 'vcs', 'para', 'troca'], tags=['290']),\n",
              " TaggedDocument(words=['No', 'aguardo', 'de', 'um', 'retorno', 'urgente', '.'], tags=['291']),\n",
              " TaggedDocument(words=['Produto', 'mais', 'que', 'passou', 'do', 'prazo', 'de', 'entregar', ',', 'tento', 'resolver', 'o', 'problema', 'com', 'a', 'empresa', 'e', 'não', 'consigo', 'falar', 'com', 'ninguém', '.', 'Tudo', 'que', 'fazem', 'é', 'me', 'passar', 'para', 'reclamar', 'num', 'sistema', 'que', 'não', 'funciona', '.'], tags=['292']),\n",
              " TaggedDocument(words=['Só', 'recebi', 'um', 'produto', '.', 'Consta', 'que', 'já', 'recebi', 'os', 'dois', '.', 'Não', 'recebi', 'a', 'sapateira', '.'], tags=['293']),\n",
              " TaggedDocument(words=['Deram', 'um', 'prazo', 'muito', 'grande', 'para', 'a', 'entrega', 'do', 'produto', 'e', 'não', 'conseguiram', 'entregar', 'no', 'prazo'], tags=['294']),\n",
              " TaggedDocument(words=['Excelente', 'produto', 'indico', 'a', 'qualquer', 'pessoa', '.'], tags=['295']),\n",
              " TaggedDocument(words=['tudo', 'certinho', 'entrega', 'no', 'prazo', 'ótimo', '.'], tags=['296']),\n",
              " TaggedDocument(words=['Não', 'recebi', 'o', 'produto.e', 'agora', '?'], tags=['297']),\n",
              " TaggedDocument(words=['Chegou', 'amassado', '...'], tags=['298']),\n",
              " TaggedDocument(words=['Recomendo', '!'], tags=['299']),\n",
              " TaggedDocument(words=['comprei', 'tapete', 'de', 'borracha', 'para', 'tr4', 'mitsubishi', 'a', 'loja', 'entregou', 'um', 'tapete', 'de', 'pvc', 'horrivel', 'no', 'titulo', 'ta', 'tapete', 'borracha', 'tr4', ',', 'me', 'enganaram', 'e', 'agora', 'o', 'que', 'fazer', 'sendo', 'que', 'tem', 'despesa', 'para', 'devoluçao', ',', 'por'], tags=['300']),\n",
              " TaggedDocument(words=['Ótimo', 'perfume', '.', 'Fragrância', 'maravilhosa', '.', 'Recomendo'], tags=['301']),\n",
              " TaggedDocument(words=['muito', 'boa', 'e', 'rapida', 'e', 'o', 'produto', 'veio', 'em', 'bom', 'estado', 'agora', 'e', 'mesmo', 'fazer', 'os', 'testes', '!'], tags=['302']),\n",
              " TaggedDocument(words=['O', 'produto', 'superou', 'minha', 'expectativa', '.', 'O', 'prazo', 'de', 'entrega', 'foi', 'antecipado', 'em', '7', 'dias', '.', 'Já', 'instalei', 'e', 'ficou', 'show', '.'], tags=['303']),\n",
              " TaggedDocument(words=['entrega', 'rapida'], tags=['304']),\n",
              " TaggedDocument(words=['Previsão', 'de', 'entrega', 'até', '18/10', ',', 'recebi', 'em', '05/10', ',', 'excelente', '.'], tags=['305']),\n",
              " TaggedDocument(words=['Cortina', 'de', 'plástico', ',', 'na', 'foto', 'parece', 'tecido', 'desenho', 'diferente', 'cores', 'morta', 'apagadas', ',', 'uma', 'verdadeira', 'porcaria', ',', 'não', 'recomendo', 'ninguém', 'compra', 'decepção', 'total'], tags=['306']),\n",
              " TaggedDocument(words=['SOLICITEI', 'DEVOLUÇÃO', '.', 'PRODUTO', 'COM', 'DEFEITO'], tags=['307']),\n",
              " TaggedDocument(words=['Loja', 'em', 'si', 'é', 'boa', 'pena', 'a', 'americana', 'nao', 'da', 'suporte', 'ao', 'cliente'], tags=['308']),\n",
              " TaggedDocument(words=['Exatamente', 'o', 'que', 'eu', 'precisava'], tags=['309']),\n",
              " TaggedDocument(words=['Achei', 'a', 'qualidade', 'do', 'produto', 'muito', 'ruim', ',', 'não', 'veio', 'nenhuma', 'bucha', 'ou', 'parafuso', 'para', 'fixar', 'na', 'parede', '.'], tags=['310']),\n",
              " TaggedDocument(words=['Obrigada', ',', 'chegou', 'mto', 'rápido'], tags=['311']),\n",
              " TaggedDocument(words=['O', 'único', 'problema', 'é', 'que', 'a', 'marcação', 'de', 'data', 'é', 'a', 'marcação', 'americana', '.'], tags=['312']),\n",
              " TaggedDocument(words=['Acho', 'que', 'o', 'produto', 'deveria', 'ter', 'um', 'prazo', 'de', 'validade', 'maior', '.'], tags=['313']),\n",
              " TaggedDocument(words=['Entrega', 'antes', 'do', 'prazo', ',', 'recomendo', 'essa', 'loja', '.'], tags=['314']),\n",
              " TaggedDocument(words=['show'], tags=['315']),\n",
              " TaggedDocument(words=['Boa', 'noite', 'as', 'lojas', 'Zoop', 'são', 'ótimas', 'adoro', 'o', 'site', 'hoje', 'faço', 'pouquíssima', 'compra', 'pelo', 'frete', 'abusivo', 'infelizmente', 'não', 'compensa', 'como', 'antes', 'mas', 'precisamos', 'comprar', 'obrigada'], tags=['316']),\n",
              " TaggedDocument(words=['Excelente', 'produto', ',', 'bonito', 'e', 'sofisticado', '.'], tags=['317']),\n",
              " TaggedDocument(words=['Não', 'veio', 'a', 'nota', 'fiscal'], tags=['318']),\n",
              " TaggedDocument(words=['agradeço', 'muito', ',', 'pois', 'recebi', 'o', 'produto', 'correto', 'conforme', 'encontrado', 'no', 'site', ',', 'a', 'entrega', 'foi', 'super', 'rápida', '.', 'fiquei', 'muito', 'satisfeito', 'e', 'com', 'certeza', 'vou', 'recomentar', 'para', 'os', 'amigo', '.'], tags=['319']),\n",
              " TaggedDocument(words=['Entrega', 'rápida', 'produto', 'conforme', 'anunciado'], tags=['320']),\n",
              " TaggedDocument(words=['MEU', 'PRODUTO', 'AINDA', 'NÃO', 'FOI', 'ENTREGUE', ',', 'JÁ', 'FIZ', 'MINHA', 'RECLAMAÇÃO', 'E', 'ATÉ', 'AGORA', 'NÃO', 'TIVE', 'NENHUMA', 'PREVISÃO', 'DE', 'ENTREGA', '.', 'ESTOU', 'SUPER', 'INSATISFEITO', 'E', 'QUERO', 'MEU', 'DINHEIRO', 'DE', 'VOLTA', '.', 'FOI', 'DENUNCIAR', 'AO', 'PROCON', '.'], tags=['321']),\n",
              " TaggedDocument(words=['A', 'cortina', 'não', 'é', 'o', 'modelo', 'que', 'pedi', '.', '|'], tags=['322']),\n",
              " TaggedDocument(words=['A', 'impressão', 'está', 'saindo', 'com', 'a', 'tinta', 'fraquinha', '...'], tags=['323']),\n",
              " TaggedDocument(words=['Comprei', 'Rosa', 'com', 'Braços', 'Brancos', 'e', 'entregam', 'toda', 'Preta', '?'], tags=['324']),\n",
              " TaggedDocument(words=['Preciso', 'de', 'uma', 'previsão', '.'], tags=['325']),\n",
              " TaggedDocument(words=['Estou', 'muito', 'satisfeita', 'chegou', 'antes', 'do', 'prazo', 'super', 'recomendo'], tags=['326']),\n",
              " TaggedDocument(words=['Produto', 'chegou', 'antes', 'do', 'prazo', 'estipulado', 'e', 'atendeu', 'plenamente', 'minhas', 'expectativas', '.'], tags=['327']),\n",
              " TaggedDocument(words=['Entrega', 'dentro', 'do', 'prazo', ',', 'produto', 'sem', 'nenhum', 'problema'], tags=['328']),\n",
              " TaggedDocument(words=['bom'], tags=['329']),\n",
              " TaggedDocument(words=['Boa', 'qualidade', 'e', 'preço', '.'], tags=['330']),\n",
              " TaggedDocument(words=['Sempre', 'entrega', 'antes', 'do', 'prazo', '.'], tags=['331']),\n",
              " TaggedDocument(words=['muito', 'bom.super', 'recomendo.entrega', 'sempre', 'certa', '.'], tags=['332']),\n",
              " TaggedDocument(words=['Entregue', 'antes', 'do', 'prazo', '!', 'Produto', 'perfeito', '!'], tags=['333']),\n",
              " TaggedDocument(words=['Recomendo', 'para', 'todos', ',', 'não', 'tive', 'problema', 'nenhum', ',', 'mercadoria', 'e', 'prazo', 'ótimos', '.'], tags=['334']),\n",
              " TaggedDocument(words=['Gostei', 'de', 'ter', 'comprado', 'nesta', 'loja', '.', 'Atendimento', 'perfeito', '.'], tags=['335']),\n",
              " TaggedDocument(words=['Comprei', 'uma', 'cadeira', ',', 'recebi', 'no', 'prazo', ',', 'porém', 'a', 'cadeira', 'veio', 'quebrada', 'na', 'parte', 'inferior', '.', 'Poderiam', 'ter', 'um', 'maior', 'cuidado', 'na', 'embalagem', '.'], tags=['336']),\n",
              " TaggedDocument(words=['Sempre', 'compro', 'e', 'sempre', 'recebo', 'o', 'produto', 'certo', 'no', 'prazo', 'ou', 'antes', 'do', 'prazo'], tags=['337']),\n",
              " TaggedDocument(words=['ENTREGA', 'MUITO', 'RAPIDA'], tags=['338']),\n",
              " TaggedDocument(words=['O', 'produto', 'foi', 'entregue', 'bem', 'antes', 'do', 'prazo.adorei'], tags=['339']),\n",
              " TaggedDocument(words=['Ainda', 'nao', 'instalei', 'mais', 'gostei', 'muito'], tags=['340']),\n",
              " TaggedDocument(words=['Bom', 'produto', '.', 'Entrega', 'rápida', '.', 'Recomendo'], tags=['341']),\n",
              " TaggedDocument(words=['Produto', 'recebido', 'no', 'prazo', 'e', 'em', 'perfeitas', 'condições', '.'], tags=['342']),\n",
              " TaggedDocument(words=['muito', 'bom'], tags=['343']),\n",
              " TaggedDocument(words=['Recebi', 'outra', 'boneca', ',', 'quero', 'devolver', 'e', 'não', 'consigo', 'contato', '!', 'Jamais', 'compraria', 'novamente', 'dessa', 'loja', '!'], tags=['344']),\n",
              " TaggedDocument(words=['ótima', 'compra', 'mas', 'o', 'frete', 'nao', 'compensa', ',', 'pesa', 'no', 'orçamento', '.', 'devia', 'ter', 'frete', 'grates'], tags=['345']),\n",
              " TaggedDocument(words=['N/a'], tags=['346']),\n",
              " TaggedDocument(words=['O', 'produto', 'chegou', 'como', 'eu', 'imaginava', ',', 'por', 'enquanto', 'estou', 'gostando'], tags=['347']),\n",
              " TaggedDocument(words=['Ótima', 'rápida', 'na', 'entrega', 'OBRIGADO'], tags=['348']),\n",
              " TaggedDocument(words=['Produto', 'bom', ',', 'prazo', 'bom', '...'], tags=['349']),\n",
              " TaggedDocument(words=['Muito', 'bom', '.', 'Já', 'é', 'o', 'segundo', 'objeto', 'que', 'compro', 'e', 'recebi', 'sem', 'problema', 'nenhum'], tags=['350']),\n",
              " TaggedDocument(words=['Bonito', 'e', 'de', 'boa', 'qualidade', '.', 'Adorei'], tags=['351']),\n",
              " TaggedDocument(words=['O', 'produto', 'chegou', 'antes', 'do', 'prazo', '.'], tags=['352']),\n",
              " TaggedDocument(words=['Boa', 'noite', ',', 'não', 'gostei', 'pois', 'nunca', 'conseguimos', 'falar', 'com', 'vcs', 'pelo', 'telefone'], tags=['353']),\n",
              " TaggedDocument(words=['Vendedor', 'compromisso', 'do', 'vou', 'o', 'cliente'], tags=['354']),\n",
              " TaggedDocument(words=['O', 'produto', 'não', 'atendeu', 'minhas', 'espectativas', ',', 'pois', 'os', 'potinhos', 'são', 'dificeis', 'de', 'abrir', 'e', 'fechar', 'e', 'a', 'bandeja', 'onde', 'vai', 'os', 'potinhos', 'veio', 'com', 'pontos', 'de', 'ferrugem'], tags=['355']),\n",
              " TaggedDocument(words=['Muito', 'satisfeito', 'entrega', 'super', 'rápida', '..', 'Show', '..', 'parabéns', '..', 'eu', 'vacilei', 'e', 'comprei', 'um', 'celular', 'nas', 'casas', 'Bahia', 'tem', 'quase', 'um', 'mês', 'e', 'não', 'entregaram', '..'], tags=['356']),\n",
              " TaggedDocument(words=['ótimo'], tags=['357']),\n",
              " TaggedDocument(words=['Tudo', 'cento', 'e', 'no', 'prazo', 'recomento'], tags=['358']),\n",
              " TaggedDocument(words=['Não', 'recebi', 'o', 'jogo', 'na', 'cor', 'tabaco', '.', 'Só', 'o', 'vermelho', '.'], tags=['359']),\n",
              " TaggedDocument(words=['Nao', 'foi', 'entregue', 'na', 'minha', 'casa', ',', 'por', 'isso', 'nao', 'gostei', ',', 'nao', 'tenho', 'tempo', 'de', 'esta', 'indo', 'nos', 'correios', '..'], tags=['360']),\n",
              " TaggedDocument(words=['Compra', 'perfeita', '.'], tags=['361']),\n",
              " TaggedDocument(words=['O', 'produto', 'veio', 'estragado'], tags=['362']),\n",
              " TaggedDocument(words=['Minha', 'mercadoria', 'não', 'foi', 'entregue', ',', 'já', 'paguei', 'a', 'primeira', 'fatura', 'quero', 'cancelar', 'a', 'compra', 'pois', 'paguei', 'o', 'frete', 'e', 'não', 'recebi', 'a', 'mercadoria', '.'], tags=['363']),\n",
              " TaggedDocument(words=['PRODUTO', 'JA', 'CHEGOU', 'COM', 'DEFEITO', 'NÃO', 'FUCIONOU', 'CONFORME', 'MINHA', 'NECESSIDADE', 'DE', 'USO', '.', 'INFELIZMENTE', 'ULTIMA', 'COMPRA', 'MINHA', 'TOTALMENTE', 'INSATISFEITO', '.'], tags=['364']),\n",
              " TaggedDocument(words=['Recebi', 'apenas', '1', 'caixa', 'com', '100', 'unidades', ',', 'e', 'pedi', '2', 'caixas', '.'], tags=['365']),\n",
              " TaggedDocument(words=['Estou', 'extremamente', 'decepcionado', '.', 'Isso', 'nunca', 'havia', 'acontecido'], tags=['366']),\n",
              " TaggedDocument(words=['COMPREI', 'DOIS', 'PENDENTES', 'SÓ', 'CHEGOU', 'UM', '.', 'PRECISO', 'SABER', 'O', 'QUE', 'FOI', 'QUE', 'HOUVE', '?'], tags=['367']),\n",
              " TaggedDocument(words=['Recomendo', 'esta', 'loja', 'entrega', 'direitinho'], tags=['368']),\n",
              " TaggedDocument(words=['Tudo', 'conforme', 'e', 'entrega', 'muito', 'rápida', '!', '!', '!', '!', 'Que', 'pena', 'que', 'não', 'verifiquei', 'a', 'cor', ',', 'pois', 'era', 'preta', 'e', 'precisava', 'de', 'cinza', '.', 'Outro', 'ponto', 'que', 'tive', 'que', 'lixar', 'pouco', 'para', 'funcionar', ',', 'mas', 'nada', 'demais', '.'], tags=['369']),\n",
              " TaggedDocument(words=['Entrega', 'rapida', 'e', 'correta'], tags=['370']),\n",
              " TaggedDocument(words=['Produto', 'de', 'fácil', 'montagem', 'e', 'atende', 'perfeitamente', 'ao', 'propósito', 'para', 'otimizar', 'espaço', '.'], tags=['371']),\n",
              " TaggedDocument(words=['Produto', 'veio', 'com', 'amassados', 'e', 'também', 'não', 'está', 'funcionando', 'corretamente', '.'], tags=['372']),\n",
              " TaggedDocument(words=['Gostei', 'do', 'produto'], tags=['373']),\n",
              " TaggedDocument(words=['Produto', 'de', 'ótima', 'qualidade'], tags=['374']),\n",
              " TaggedDocument(words=['Estou', 'esperando', 'há', 'mais', 'de', 'vinte', 'dias', 'e', 'ainda', 'não', 'recebi', 'meu', 'produto', 'e', 'não', 'consigo', 'nenhuma', 'informação', '.'], tags=['375']),\n",
              " TaggedDocument(words=['Estou', 'aguardando', 'posição', 'da', 'empresa', 'para', 'fazer', 'a', 'devolução', 'do', 'produto', '.'], tags=['376']),\n",
              " TaggedDocument(words=['O', 'CEP', 'foi', 'escrito', 'errado', ',', 'tive', 'que', 'retirar', 'o', 'produto', 'nos', 'Correios', 'da', 'cidade', 'vizinha', '.'], tags=['377']),\n",
              " TaggedDocument(words=['fornecedor', 'não', 'enviou', 'o', 'produto', 'correto', '.', 'solicitei', 'o', 'sabor', 'chocolate', 'e', 'me', 'foi', 'enviado', 'outro', 'sabor', '.'], tags=['378']),\n",
              " TaggedDocument(words=['Recomendo', 'está', 'loja', '.'], tags=['379']),\n",
              " TaggedDocument(words=['Ótimo', 'produto', '.'], tags=['380']),\n",
              " TaggedDocument(words=['Excelente'], tags=['381']),\n",
              " TaggedDocument(words=['Continuem', 'assim', ',', 'com', 'essa', 'responsabilidade', 'com', 'o', 'consumidor', ',', 'tanto', 'no', 'produto', ',', 'quanto', 'no', 'prazo', 'de', 'entrega', '.', 'Primeira', 'vez', 'que', 'compro', 'e', 'vou', 'comprar', 'muitas', '.', 'Obrigado', '.'], tags=['382']),\n",
              " TaggedDocument(words=['Adorei', '.', 'Moderno', ',', 'bonito', ',', 'meu', 'cantinho', 'do', 'café', 'vai', 'ficar', 'top'], tags=['383']),\n",
              " TaggedDocument(words=['bom', ',', 'foi', 'o', 'que', 'esperava', '.'], tags=['384']),\n",
              " TaggedDocument(words=['Tudo', 'correu', 'como', 'combinado', ',', 'nada', 'a', 'reclamar', '.'], tags=['385']),\n",
              " TaggedDocument(words=['De', 'fácil', 'manuseio', ',', 'até', 'o', 'presente', 'atende', 'as', 'expectativas', '.'], tags=['386']),\n",
              " TaggedDocument(words=['Relógio', 'lindo', 'entrega', 'antes', 'do', 'prazo'], tags=['387']),\n",
              " TaggedDocument(words=['Veio', 'conforme', 'o', 'anunciado', 'simples', 'mais', 'bonita', '.'], tags=['388']),\n",
              " TaggedDocument(words=['Produto', 'condiz', 'com', 'o', 'anúncio'], tags=['389']),\n",
              " TaggedDocument(words=['O', 'produto', 'ainda', 'não', 'chegou'], tags=['390']),\n",
              " TaggedDocument(words=['satisfeito', 'eu', 'recomendo'], tags=['391']),\n",
              " TaggedDocument(words=['Amei', ',', 'chegou', 'rapidinho', ',', 'ainda', 'vou', 'testa-lo.Obrigado', '!', '!'], tags=['392']),\n",
              " TaggedDocument(words=['Gostei', 'muito', 'do', 'que', 'comprei', 'com', 'vcs', 'muito', 'obrigada', 'breve', 'farei', 'outras', 'compras', 'vanda'], tags=['393']),\n",
              " TaggedDocument(words=['Ainda', 'não', 'recebi', 'o', 'produto', '...'], tags=['394']),\n",
              " TaggedDocument(words=['Recebi', ',', 'a', 'bolsa', 'é', 'diferente', 'mas', 'gostei', 'estava', 'previsto', 'pra', '31', 'de', 'janeiro', 'estava', 'achando', 'muito', 'tempo', 'porque', 'é', 'pra', 'escola', 'e', 'estou', 'aguardando', 'o', 'vale', 'compra', 'da', 'primeira', 'compra', 'da', 'bolsa', 'que', 'não', 'deu', 'certo'], tags=['395']),\n",
              " TaggedDocument(words=['Recebi', 'o', 'produto', 'que', 'queria', 'e', 'antes', 'do', 'prazo', 'combinado', ',', 'muito', 'bom', ',', 'recomendo', 'com', 'certeza', '.'], tags=['396']),\n",
              " TaggedDocument(words=['Na', 'propaganda', 'está', 'escrito', 'Mixer', 'elétrico', 'e', 'veio', 'um', 'portátil', 'que', 'eu', 'tenho', 'três', 'que', 'quebrou', 'por', 'isso', 'eu', 'queria', 'um', 'elétrico', ',', 'vocês', 'devem', 'especificar', 'melhor', 'os', 'produtos'], tags=['397']),\n",
              " TaggedDocument(words=['Produto', 'entregue', 'antes', 'do', 'prazo', 'combinado', '.', 'Não', 'é', 'a', 'primeira', 'vez', 'que', 'compro', 'pelo', 'site', 'Lojas', 'Zoop', 'e', 'recomendo', 'tal', 'empresa', 'pela', 'seriedade', 'no', 'trato', 'com', 'os', 'clientes', '.'], tags=['398']),\n",
              " TaggedDocument(words=['Comprei', '2', 'produtos', 'so', 'mandaram', '1', 'e', 'n', 'mim', 'deram', 'nenhuma', 'justificativa', '!'], tags=['399']),\n",
              " TaggedDocument(words=['Agradeço', 'muito', 'bom', '.'], tags=['400']),\n",
              " TaggedDocument(words=['*', '*', '*', '*', '*', '*', '*', '*', '*', '*', '*', '*', '*', '*', '*', '*', '*', '*', '*'], tags=['401']),\n",
              " TaggedDocument(words=['Dentro', 'do', 'previsto'], tags=['402']),\n",
              " TaggedDocument(words=['Recebi', 'antes', 'do', 'prazo', 'estimado', '.'], tags=['403']),\n",
              " TaggedDocument(words=['Só', 'imaginei', 'que', 'fosse', 'maior', 'a', 'boneca', '.', 'Mais', 'é', 'legal'], tags=['404']),\n",
              " TaggedDocument(words=['Atenciosos', ',', 'ligam', 'para', 'dar', 'acompanhamento', '.', 'Bom', 'prazo', 'de', 'validade', '.', 'Demorou', 'de', 'chegar', '.', 'Agora', 'é', 'verificar', 'a', 'qualidade', 'do', 'produto', '.'], tags=['405']),\n",
              " TaggedDocument(words=['Muito', 'eficiente', 'entregou', 'bem', 'rápido', 'eu', 'recomendo'], tags=['406']),\n",
              " TaggedDocument(words=['Muito', 'lindo', 'o', 'Relógio', '!'], tags=['407']),\n",
              " TaggedDocument(words=['Otimo', 'produto', 'e', 'entrega', 'no', 'prazo'], tags=['408']),\n",
              " TaggedDocument(words=['Chegou', 'antes', 'da', 'data', 'do', 'prazo', ',', 'porem', 'vazou', 'um', 'pouco', 'do', 'produto', '!'], tags=['409']),\n",
              " TaggedDocument(words=['Sempre', 'que', 'compro', 'com', 'vocês', 'meus', 'itens', 'chega', 'em', 'perfeito', 'estado', '....'], tags=['410']),\n",
              " TaggedDocument(words=['Produto', 'entregue', 'antes', 'do', 'prazo', 'em', 'ótimo', 'estado', '.'], tags=['411']),\n",
              " TaggedDocument(words=['Muito', 'bom', '.'], tags=['412']),\n",
              " TaggedDocument(words=['Entrega', 'super', 'rápida', '.', 'Produto', 'de', 'ótima', 'qualidade', '.', 'Recomendo', '.'], tags=['413']),\n",
              " TaggedDocument(words=['Olá', 'único', 'problema', 'fui', 'que', 'não', 'recebemos', 'o', 'produto', 'no', 'endereço', 'solicitado', ',', 'tivemos', 'que', 'ir', 'atrás', 'do', 'produto', 'na', 'agência', 'dos', 'correios', 'no', 'centro', 'da', 'cidade', ',', 'sendo', 'que', 'pagamos', 'até', 'a', 'mais', 'para', 'receber', 'em', 'cas'], tags=['414']),\n",
              " TaggedDocument(words=['Produto', 'lindo', ',', 'ótimo'], tags=['415']),\n",
              " TaggedDocument(words=['excelente'], tags=['416']),\n",
              " TaggedDocument(words=['Esperava', 'mais', ',', 'as', 'toalhas', 'poderiam', 'ser', 'mais', 'grossas', '.'], tags=['417']),\n",
              " TaggedDocument(words=['Entrega', 'uma', 'dia', 'antes', 'do', 'previsto'], tags=['418']),\n",
              " TaggedDocument(words=['Demora', 'um', 'pouco', 'pra', 'esquentar', ',', 'mesmo', 'na', 'potência', 'máxima', '5', '.', 'Mas', 'atende', 'bem', '.', 'Nos', 'rimeiros', 'dias', 'de', 'uso', 'tem', 'um', 'cheiro', 'meio', 'que', 'borracha', 'queimada', ',', 'mas', 'passa', '...', 'recomendo', 'pela', 'praticidade', 'e', 'custo/benefício', '.'], tags=['419']),\n",
              " TaggedDocument(words=['Foi', 'entregue', 'bem', 'embalado', '.', 'Entrega', 'rapido', 'comforme', 'prometido', 'Comforme', 'a', 'imagem', '.'], tags=['420']),\n",
              " TaggedDocument(words=['O', 'produto', 'chegou', 'antes', 'do', 'prazo', 'e', 'em', 'perfeitas', 'condições', '.'], tags=['421']),\n",
              " TaggedDocument(words=['O', 'produto', 'não', 'corresponde', 'ao', 'que', 'eu', 'comprei', ',', 'a', 'película', 'é', 'muito', 'menor', 'que', 'a', 'tela', 'do', 'celular', 'e', 'não', 'cobre', 'toda', 'a', 'tela', '.'], tags=['422']),\n",
              " TaggedDocument(words=['produto', 'conforme', 'anunciado', ',', 'e', 'veio', 'antes', 'do', 'prazo', '...', 'perfeito'], tags=['423']),\n",
              " TaggedDocument(words=['Produto', 'bom', 'e', 'entregue', 'antes', 'do', 'previsto', '.'], tags=['424']),\n",
              " TaggedDocument(words=['Ainda', 'não', 'usei', 'em', 'nenhuma', 'viagem', ',', 'mas', 'parece', 'ser', 'muito', 'boa', '.'], tags=['425']),\n",
              " TaggedDocument(words=['O', 'produto', 'foi', 'encaminhado', 'para', 'cidade', 'de', 'destino', 'no', 'dia', '31/03', 'e', 'até', 'o', 'momento', 'não', 'recebi', '.'], tags=['426']),\n",
              " TaggedDocument(words=['Recomendo'], tags=['427']),\n",
              " TaggedDocument(words=['Produto', 'não', 'foi', 'entregue', '!'], tags=['428']),\n",
              " TaggedDocument(words=['Não', 'recebi', 'o', 'braço', 'de', 'ducha', 'com', 'desviador', ',', 'somente', 'a', 'ducha', '20x20', 'com', 'braço', 'de', '30cm', '.'], tags=['429']),\n",
              " TaggedDocument(words=['Adoro', 'comprar', 'nas', 'lojas', 'Zoop'], tags=['430']),\n",
              " TaggedDocument(words=['Entrega', 'muito', 'rápido', ',', 'e', 'produto', 'excelente'], tags=['431']),\n",
              " TaggedDocument(words=['Ótimo'], tags=['432']),\n",
              " TaggedDocument(words=['O', 'produto', 'pode', 'estar', 'com', 'mal', 'funcionamento', '.', 'Ou', 'o', 'meu', 'telefone', 'não', 'está', 'conseguindo', 'fazer', 'a', 'leitura', '.'], tags=['433']),\n",
              " TaggedDocument(words=['Produto', 'entregue'], tags=['434']),\n",
              " TaggedDocument(words=['Muito', 'bom'], tags=['435']),\n",
              " TaggedDocument(words=['Recebi', 'o', 'produto', 'que', 'eh', 'falso', 'quero', 'meu', 'dinheiro', 'de', 'volta'], tags=['436']),\n",
              " TaggedDocument(words=['PRODUTO', 'NÃO', 'VEIO', 'CONFORME', 'ESTAVA', 'NO', 'SITE', '.', 'MOSTRAVA', 'CALENDÁRIO', 'SITE', 'MAS', 'QUANDO', 'RECEBI', 'VEIO', 'SEM', 'E', 'ESTA', 'DIFÍCIL', 'PARA', 'FAZER', 'A', 'TROCA', 'E', 'ESTORNO', 'DO', 'PRODUTO'], tags=['437']),\n",
              " TaggedDocument(words=['Produto', 'bom', '.', 'Entrega', 'antes', 'do', 'prazo'], tags=['438']),\n",
              " TaggedDocument(words=['Bom'], tags=['439']),\n",
              " TaggedDocument(words=['gostei', 'muito'], tags=['440']),\n",
              " TaggedDocument(words=['Comprei', 'dois', 'produtos', ',', 'sendo', 'que', 'um', 'deles', 'não', 'chegou', '.', 'Um', 'cabo', 'adaptador', 'de', 'áudio', '.'], tags=['441']),\n",
              " TaggedDocument(words=['Gostei', 'muito', ',', 'chegou', 'tudo', 'certinho', 'até', 'antes', 'do', 'prazo', 'de', 'entrega', '.'], tags=['442']),\n",
              " TaggedDocument(words=['Produto', 'entregue', 'dentro', 'do', 'prazo', '.'], tags=['443']),\n",
              " TaggedDocument(words=['Fornecedor', 'targaryen', 'me', 'mandou', 'um', 'massageador', 'completamente', 'diferente', 'do', 'que', 'comprei', ',', 'de', 'preço', 'inferior', 'e', 'cheio', 'de', 'avaliações', 'negativas', '.', 'Ninguém', 'erra', 'mandando', 'um', 'superior', 'né', ',', 'curioso', '..', 'Ou', 'seja', ',', 'n', 'recomendo'], tags=['444']),\n",
              " TaggedDocument(words=['Recebi', 'o', 'produto', 'no', 'prazo', ',', 'tudo', 'ok'], tags=['445']),\n",
              " TaggedDocument(words=['Muito', 'ruim', ',', 'não', 'veio', 'um', 'produto', 'e', 'o', 'outro', 'veio', 'errado', '..'], tags=['446']),\n",
              " TaggedDocument(words=['ABRI', 'PROTOCOLO', 'PARA', 'DEVOLUÇÃO', ',', 'PRODUTO', 'DE', 'BAIXA', 'QUALIDADE', 'DEU', 'PROBLEMA', 'NO', 'PRIMEIRO', 'DIA', 'DE', 'USO', '.', 'Zoop', 'VIROU', 'UM', 'MERCADO', 'LIVRE', '....', '6', 'PEDIDOS', '6', 'PROBLEMAS'], tags=['447']),\n",
              " TaggedDocument(words=['Entrega', 'no', 'prazo', 'e', 'como', 'descrito', 'no', 'site'], tags=['448']),\n",
              " TaggedDocument(words=['O', 'meu', 'pedido', 'de', 'numero', '03-492551892', ',', 'veio', 'em', 'partes', '.', 'ficou', 'faltando', 'um', 'Sapatênis', 'Manchester', 'Polo', 'Match', '.', 'Que', 'cada', 'dia', 'mostra', 'que', 'esta', 'em', 'um', 'lugar', 'e', 'eu', 'entro', 'no', 'site', ',', 'aparece', 'que', 'já', 'foi', 'entregue', '!'], tags=['449']),\n",
              " TaggedDocument(words=['A', 'Zoop', 'sempre', 'se', 'superandoo'], tags=['450']),\n",
              " TaggedDocument(words=['Fui', 'surpreendido', 'pela', 'eficácia', '.', 'Ótimo', 'atentimento', '.'], tags=['451']),\n",
              " TaggedDocument(words=['otimo', 'atendimento', ',', 'tudo', 'certo', ',', 'entregue', 'dentro', 'do', 'prazo', '.'], tags=['452']),\n",
              " TaggedDocument(words=['Obrigada', 'pela', 'qualidade', 'do', 'produto', ',', 'e', 'pela', 'entrega', 'tbm', 'que', 'era', 'previsto', 'para', '10/08', 'e', 'chegou', 'dia', '22/07', '.', 'Adorei', '.', 'Parabéns', '.'], tags=['453']),\n",
              " TaggedDocument(words=['A', 'mercadoria', 'não', 'foi', 'entregue', 'ainda', '..'], tags=['454']),\n",
              " TaggedDocument(words=['Ainda', 'não', 'utilizei', 'o', 'produto'], tags=['455']),\n",
              " TaggedDocument(words=['Recebi', 'a', 'encomenda', 'de', 'forma', 'normal', 'e', 'dentro', 'do', 'prazo', ',', 'contudo', ',', 'recebi', 'de', 'primeira', 'uma', 'data', 'de', 'entrega', 'estimada', 'e', 'que', 'posterior', ',', 'a', 'data', 'foi', 'aumentando', '.', 'Não', 'gostei', 'dessa', 'atitude', '.', 'Demorou', '2', 'semanas', '.'], tags=['456']),\n",
              " TaggedDocument(words=['Eu', 'pedi', 'q', 'cancelacem', 'antes', 'da', 'nf', 'ser', 'emitida', 'pq', 'eu', 'havia', 'ganhado', 'de', 'presente', 'um', 'igual', '...', 'não', 'cancelaram', '...', 'mandaram', 'assim', 'msm', '...', 'eu', 'pedi', 'quando', 'a', 'nf', 'ainda', 'não', 'tinha', 'sido', 'emitida'], tags=['457']),\n",
              " TaggedDocument(words=['Muito', 'linda', 'deu', 'um', 'charme', 'na', 'minha', 'sala', '.'], tags=['458']),\n",
              " TaggedDocument(words=['Ótimo', 'atendimento', 'e', 'entrega', 'antes', 'do', 'prazo', '.'], tags=['459']),\n",
              " TaggedDocument(words=['Não', 'recebi', 'o', 'produto', 'completo', ',', 'comprei', 'quantidade', '02', 'e', 'recebi', 'somente', '01.', 'e', 'consta', 'na', 'nota', 'da', 'entrega', 'tem', 'quantidade', '02', 'e', 'com', 'volume', '01', '.', 'Quero', 'receber', 'a', 'outra', 'sem', 'custo', 'nenhum', '.', 'Pois', 'o', 'erro', 'não', 'foi', 'me'], tags=['460']),\n",
              " TaggedDocument(words=['Recomendo', '.'], tags=['461']),\n",
              " TaggedDocument(words=['As', 'bolsas', 'são', 'lindas', 'por', 'fora', ',', 'a', 'cor', 'é', 'bem', 'próxima', 'da', 'foto', ',', 'mas', 'por', 'dentro', 'não', 'tem', 'o', 'forro', 'da', 'descrição', 'e', 'o', 'acabamento', 'deixou', 'um', 'pouco', 'a', 'desejar', ',', 'no', 'mais', 'a', 'entrega', 'foi', 'super', 'rápida'], tags=['462']),\n",
              " TaggedDocument(words=['preciso', 'urgente', 'desta', 'mercadoria', ',', 'o', 'prazo', 'maximo', 'era', 'até', 'o', 'dia', '3', 'e', 'até', 'agora', 'não', 'chegou'], tags=['463']),\n",
              " TaggedDocument(words=['Otimo', 'material', 'bem', 'resistente', 'espaçosa', '👏👏👏', 'gostei', '!'], tags=['464']),\n",
              " TaggedDocument(words=['Ótimo', 'serviço'], tags=['465']),\n",
              " TaggedDocument(words=['Prestação', 'de', 'serviços', 'de', 'alta', 'qualidade'], tags=['466']),\n",
              " TaggedDocument(words=['O', 'produto', 'é', 'de', 'muita', 'baixa', 'qualidade'], tags=['467']),\n",
              " TaggedDocument(words=['Produto', 'entregue', 'bem', 'embalado', ',', 'em', 'perfeitas', 'condições', '.'], tags=['468']),\n",
              " TaggedDocument(words=['Demorou', 'mas', 'entregou', '!'], tags=['469']),\n",
              " TaggedDocument(words=['A', 'compra', 'efetuada', 'foram', 'dois', 'ursos', 'que', 'rezam', ',', 'um', 'rosa', 'e', 'um', 'azul', ',', 'recebi', 'somente', 'um', 'dos', 'produtos', 'que', 'adquiri', ',', 'o', 'rosa', ',', 'estou', 'aguardando', 'retorno', 'do', 'vendedor', ',', 'sobre', 'o', 'que', 'ocorreu', 'e', 'se', 'vou', 'receber', 'o', 'outro'], tags=['470']),\n",
              " TaggedDocument(words=['Produto', 'com', 'defeito', 'apresenta', 'risco', 'por', 'não', 'ser', 'confiável', ',', 'já', 'eviei', 'e-mail', 'e', 'efetuei', 'ligações', 'e', 'sem', 'retorno', '.'], tags=['471']),\n",
              " TaggedDocument(words=['De', 'modo', 'geral', ',', 'é', 'satisfatório', 'por', 'ser', 'gravação', 'em', 'laser', '.', 'Mas', 'justamente', 'por', 'ser', 'a', 'laser', ',', 'deixa', 'a', 'desejar', 'quanto', 'a', 'centralização', 'do', 'pingente', 'com', 'a', 'marca', ',', 'bem', 'como', 'da', 'qualidade', 'da', 'gravação', '.'], tags=['472']),\n",
              " TaggedDocument(words=['Chegou', 'antes', 'da', 'data', 'prevista', ',', 'eu', 'recomendaria', 'para', 'meus', 'amigos', 'a', 'loja', 'está', 'de', 'parabéns', '.'], tags=['473']),\n",
              " TaggedDocument(words=['Tapete', 'lindo.Chegou', 'muito', 'antes', 'do', 'prazo', '.'], tags=['474']),\n",
              " TaggedDocument(words=['Gostei', 'muito'], tags=['475']),\n",
              " TaggedDocument(words=['Poderia', 'ter', 'agilizado', 'com', 'a', 'entrega', '!', 'Porém', 'recebi', 'o', 'produto', 'em', 'ótimas', 'condições', '!'], tags=['476']),\n",
              " TaggedDocument(words=['Recebi', '1', 'prancha', '.', 'Mas', 'falta', 'a', 'outra', 'porque', 'são', '2', '.', 'Falta', 'o', 'pedido', '02-645381563'], tags=['477']),\n",
              " TaggedDocument(words=['Protudo', 'chegou', 'em', 'ótimo', 'estado', 'de', 'conservação', ',', 'e', 'antes', 'do', 'prazo', '!'], tags=['478']),\n",
              " TaggedDocument(words=['Produto', 'de', 'excelente', 'qualidade', 'e', 'a', 'entrega', 'foi', 'feita', 'antes', 'do', 'prazo', 'previsto', '.', 'Muito', 'satisfeita', '.'], tags=['479']),\n",
              " TaggedDocument(words=['O', 'produto', 'é', 'muito', 'lindo', 'e', 'está', 'com', 'preço', 'excelente', '!', 'A', 'entrega', 'foi', 'super', 'rápida', ',', 'ocorrendo', 'muito', 'antes', 'do', 'prazo', '!', 'Recomendo', '!', 'O', 'quarto', 'ficou', 'irado', '!', '!', '!', '!'], tags=['480']),\n",
              " TaggedDocument(words=['O', 'produto', 'veio', 'sem', 'nota', 'fiscal', ',', 'tive', 'que', 'solicitar', 'pelo', 'telefone', '.'], tags=['481']),\n",
              " TaggedDocument(words=['O', 'produto', 'não', 'é', 'bom', '.'], tags=['482']),\n",
              " TaggedDocument(words=['Muito', 'satisfeito', 'eu', 'recomendo'], tags=['483']),\n",
              " TaggedDocument(words=['Podem', 'comprar', 'sem', 'medo'], tags=['484']),\n",
              " TaggedDocument(words=['gosto', 'de', 'comprar', 'nessa', 'loja', 'porque', 'agente', 'ñ', 'precisa', 'avisar', 'da', 'entrega'], tags=['485']),\n",
              " TaggedDocument(words=['Excelente', 'produto', '!', '!'], tags=['486']),\n",
              " TaggedDocument(words=['Produto', 'entregue', 'no', 'prazo', 'nota', '10'], tags=['487']),\n",
              " TaggedDocument(words=['a', 'descrição', 'do', 'produto', 'estava', 'errada', 'e', 'não', 'consegui', 'usar', 'o', 'produto', ',', 'pedi', 'o', 'cancelamento', 'fazem', '15', 'dias', 'e', 'ainda', 'não', 'obtive', 'resposta'], tags=['488']),\n",
              " TaggedDocument(words=['Muito', 'Bom', ',', 'exelente'], tags=['489']),\n",
              " TaggedDocument(words=['atendimento', 'eficaz', 'e', 'entrega', 'dentro', 'do', 'prazo'], tags=['490']),\n",
              " TaggedDocument(words=['Chegou', 'um', 'pouco', 'antes', 'do', 'prazo', ',', 'isso', 'é', 'bom'], tags=['491']),\n",
              " TaggedDocument(words=['Gostei', 'demais', 'do', 'travesseiro', '.', 'É', 'como', 'descrito', 'no', 'site', '.'], tags=['492']),\n",
              " TaggedDocument(words=['Super', 'recomendo.entrega', 'e', 'produtos', 'ok', '.'], tags=['493']),\n",
              " TaggedDocument(words=['Sem', 'pontualidade', 'não', 'da', 'satisfação', 'ao', 'cliente', '.'], tags=['494']),\n",
              " TaggedDocument(words=['Satisfeito', 'com', 'a', 'aquisição', 'e', 'negócio', '.', 'Entrega', 'no', 'prazo', ',', 'com', 'produto', 'bem', 'embalado', ',', 'com', 'a', 'Nota', 'Fiscal', ',', 'caixa', 'original', ',', 'garantia', 'e', 'manual', 'do', 'usuário', '.', 'Primeiras', 'impressões', 'o', 'relógio', 'está', 'em', 'perfeito', '.'], tags=['495']),\n",
              " TaggedDocument(words=['Atendeu', 'as', 'expectativas'], tags=['496']),\n",
              " TaggedDocument(words=['MUITO', 'BOM', ',', 'ENCOMENDA', 'CHEGOU', 'CERTINHA'], tags=['497']),\n",
              " TaggedDocument(words=['meu', 'mosquiteiro', 'veio', 'com', 'dois', 'furos', 'na', 'parte', 'superior', 'e', 'pedir', 'um', 'mosquiteiro', 'King', 'porem', 'nao', 'veio', 'Kiung', 'e', 'sim', 'QUEEM'], tags=['498']),\n",
              " TaggedDocument(words=['Muito', 'bom'], tags=['499']),\n",
              " TaggedDocument(words=['Produto', 'chegou', 'rapidamente', 'e', 'conforme', 'o', 'anunciado', '.'], tags=['500']),\n",
              " TaggedDocument(words=['Produto', 'de', 'baixa', 'qualidade', '.'], tags=['501']),\n",
              " TaggedDocument(words=['Produto', 'de', 'qualidade', ',', 'preço', 'justo', ',', 'entrega', 'dentro', 'do', 'prazo', '.', 'O', 'produto', 'atendeu', 'as', 'minhas', 'expectativas', '.', 'Recomendo', 'o', 'vendedor', '.'], tags=['502']),\n",
              " TaggedDocument(words=['me', 'foi', 'enviado', 'o', 'produto', 'errado', '!'], tags=['503']),\n",
              " TaggedDocument(words=['Efetuei', 'a', 'compra', 'e', 'pagamento', 'de', 'duas', 'unidades', 'e', 'recebi', 'apenas', 'uma', 'unidade', '.', 'Aguardando', 'tratativa', '.'], tags=['504']),\n",
              " TaggedDocument(words=['Adorei', 'o', 'produto', ',', 'chegou', 'antes', 'do', 'prazo', 'estipulado.Estou', 'muito', 'satisfeita', '.'], tags=['505']),\n",
              " TaggedDocument(words=['tudo', 'ok'], tags=['506']),\n",
              " TaggedDocument(words=['O', 'quadro', 'foi', 'entregue', 'pelos', 'correios', 'e', 'chegou', 'com', 'uma', 'madeira', 'atrás', 'quebrada', 'e', 'a', 'tela', 'do', 'quadro', 'danificada', 'afundada', '...', 'ou', 'seja', '...', 'chegou', 'avariado', 'o', 'produto'], tags=['507']),\n",
              " TaggedDocument(words=['Produto', 'importado', ',', 'o', 'meu', 'veio', 'com', 'defeito'], tags=['508']),\n",
              " TaggedDocument(words=['Produto', 'simples', 'e', 'bonito'], tags=['509']),\n",
              " TaggedDocument(words=['Gostei', 'muito', 'da', 'agilidade', 'na', 'entrega'], tags=['510']),\n",
              " TaggedDocument(words=['Ainda', 'não', 'recebi'], tags=['511']),\n",
              " TaggedDocument(words=['Esperava', 'maior', 'um', 'pouco'], tags=['512']),\n",
              " TaggedDocument(words=['o', 'produto', 'é', 'razoavel', '!', 'envio', 'do', 'produto', 'embalagem', 'propria', '!', 'chegou', 'td', 'amassado', 'quase', 'q', 'danificou', '!'], tags=['513']),\n",
              " TaggedDocument(words=['Produto', 'chegou', 'antes', 'do', 'prazo', ',', 'muito', 'bem', 'embalado', 'pelo', 'fornecedor', ',', 'sem', 'avarias', '.', 'A', 'qualidado', 'produto', 'é', 'muito', 'boa', '.'], tags=['514']),\n",
              " TaggedDocument(words=['Só', 'gostaria', 'de', 'saber', 'o', 'dia', 'correto', 'da', 'entrega', '.'], tags=['515']),\n",
              " TaggedDocument(words=['Produtos', 'muito', 'bons', '!'], tags=['516']),\n",
              " TaggedDocument(words=['Otimo', 'produto'], tags=['517']),\n",
              " TaggedDocument(words=['Bom', 'dia', '...', 'comprei', 'um', 'bebedouro', 'vermelho', 'metálico', '...', 'é', 'recebi', 'um', 'bebedouro', 'Rosa', '...', 'obs', '...', 'meu', 'cachorro', 'é', 'macho', '...'], tags=['518']),\n",
              " TaggedDocument(words=['Não', 'foi', 'entregue', ',', 'a', 'primeira', 'vez', 'que', 'acontece', 'isso', '.'], tags=['519']),\n",
              " TaggedDocument(words=['o', 'produto', 'demorou', 'um', 'mês', 'para', 'ser', 'entregue', '.', 'tempo', 'demais', 'poderia', 'ter', 'chegado', 'antes', 'da', 'data', 'limite', '.', 'fora', 'isso', 'tudo', 'oK', '.'], tags=['520']),\n",
              " TaggedDocument(words=['Comprei', '2', 'unidades', 'do', 'produto', ',', 'veio', 'avariado', 'visto', 'que', 'a', 'embalagem', 'é', 'muito', 'fraca', ',', 'sendo', 'que', 'veio', 'com', 'dois', 'buracos', 'no', 'fundo', 'da', 'panela', ',', 'devido', 'a', 'pressão', 'que', 'dog', 'colocado', 'em', 'cima', 'dele', '.'], tags=['521']),\n",
              " TaggedDocument(words=['só', 'acho', 'que', 'poderia', 'ter', 'comprado', 'mais', 'cartuchos', ',', 'mas', 'não', 'as', 'fiz', 'porque', 'cada', 'cartucho', 'veio', 'em', 'um', 'frete', 'diferente', ',', 'coisa', 'que', 'poderiam', 'ser', 'colocados', 'em', 'um', 'único', 'pacote', ',', 'o', 'que', 'baratearia', 'o', 'frete', '.'], tags=['522']),\n",
              " TaggedDocument(words=['Eu', 'comprei', 'nas', 'Zoop', ',', 'por', 'se', 'tratar', 'de', 'uma', 'loja', 'de', 'confiança', ',', 'porém', 'ao', 'chegar', 'o', 'produto', 'descobri', 'que', 'o', 'que', 'foi', 'vendido', 'pela', 'marca', 'Targus', ',', 'era', 'na', 'verdade', 'um', 'produto', 'falsificado', ',', 'não', 'confio', 'mais'], tags=['523']),\n",
              " TaggedDocument(words=['Excelente', 'serviço'], tags=['524']),\n",
              " TaggedDocument(words=['COMPREI', 'UM', 'JOGO', 'DE', 'PANELAS', 'COM', '8', 'PANELAS', 'E', 'UMA', 'PANELA', 'DE', 'PRESSÃO', 'VERMELHO', 'E', 'PANELAS', 'DO', 'TIPO', 'OVAL', '.', 'RECEBI', 'UM', 'JOGO', 'COM', '6', 'PANELAS', 'E', 'JOGO', 'DE', 'ESPÁTULAS', 'PRETOS', '.', 'COISA', 'QUE', 'NÃO', 'PEDI', '.', 'VEIO', 'APENAS', 'UMA', 'FRIDEIRA', '.'], tags=['525']),\n",
              " TaggedDocument(words=['comprei', 'num', 'dia', 'e', 'recebi', 'no', 'outro', 'e', 'a', 'mercadoria', 'é', 'excelente', '!', '!', '!'], tags=['526']),\n",
              " TaggedDocument(words=['Não', 'gostei', 'da', 'qualidade', 'do', 'enchimento', 'das', 'almofadas'], tags=['527']),\n",
              " TaggedDocument(words=['Conforme', 'já', 'solicitei', ',', 'preciso', 'fazer', 'a', 'devolução', '.', 'Ele', 'não', 'foi', 'entregue', 'no', 'prazo', 'que', 'eu', 'precisa', '.', 'Já', 'solicitei', 'por', 'aqui', 'e', 'já', 'entrei', 'em', 'contato', 'com', 'o', 'vendedor', '.', 'Estou', 'no', 'aguardo', 'para', 'fazer', 'a', 'devolução', '.'], tags=['528']),\n",
              " TaggedDocument(words=['GOSTAEI', 'DA', 'RAPIDEZ', 'DA', 'ENTREGA'], tags=['529']),\n",
              " TaggedDocument(words=['Quero', 'saber', 'dos', 'demais', 'produtos', 'eram', '3', 'itens'], tags=['530']),\n",
              " TaggedDocument(words=['Parabéns'], tags=['531']),\n",
              " TaggedDocument(words=['Não', 'posso', 'dar', 'opinião', 'sobre', 'produto', 'pois', 'não', 'recebi', ',', 'sobre', 'a', 'loja', 'eu', 'não', 'recomendo', ',', 'pois', 'atrasa', 'as', 'entregas', '.'], tags=['532']),\n",
              " TaggedDocument(words=['Produto', 'chegou', 'no', 'prazo', ',', 'em', 'perfeitas', 'condiçoes', 'e', 'veio', 'embalado', 'de', 'forma', 'incrivel', '.', 'Muito', 'bem', 'embalado', 'mesmo', '...', 'Chegou', 'sem', 'nenhum', 'arranhao', '!'], tags=['533']),\n",
              " TaggedDocument(words=['Não', 'recebi', 'o', 'produto'], tags=['534']),\n",
              " TaggedDocument(words=['Comprei', '2', '(', 'dois', ')', 'produtos', 'iguais', 'e', 'tive', 'que', 'pagar', '2', '(', 'dois', ')', 'fretes', '.', 'A', 'Empresa', 'poderia', 'ter', 'colocado', 'em', 'uma', 'única', 'embalagem', 'e', 'cobrar', 'apenas', 'um', 'frete', '.', 'Produto', 'entregue', 'em', 'perfeitas', 'condições', '.', 'Ótimo', 'produto', '.'], tags=['535']),\n",
              " TaggedDocument(words=['Ótimo', 'produto', '!'], tags=['536']),\n",
              " TaggedDocument(words=['Produto', 'de', 'qualidade', ',', 'entrega', 'muito', 'demorada'], tags=['537']),\n",
              " TaggedDocument(words=['Entrega', 'muita', 'rápida', 'e', 'produto', 'em', 'ótimo', 'estado', '.'], tags=['538']),\n",
              " TaggedDocument(words=['Gostaria', 'de', 'saber', 'se', 'o', 'produto', 'mudou', 'de', 'embalagem', '.', 'Pois', 'comprei', 'a', 'embalagem', 'vermelha', 'e', 'recebi', 'outra', 'embalagem', 'toda', 'florida', '.', 'Preciso', 'saber', 'se', 'é', 'o', 'mesmo', 'produto', '.'], tags=['539']),\n",
              " TaggedDocument(words=['Lavabo', 'bem', 'bonito', 'e', 'igual', 'a', 'descrição', ',', 'veio', 'com', 'uma', 'mancha', 'bem', 'pequena', ',', 'mas', 'nada', 'que', 'seja', 'um', 'problema', ',', 'recomendo', '.'], tags=['540']),\n",
              " TaggedDocument(words=['produto', 'entregue', 'totalmente', 'diferente', 'do', 'comprado'], tags=['541']),\n",
              " TaggedDocument(words=['Ótimo', 'em', 'TDS', 'os', 'aspectos'], tags=['542']),\n",
              " TaggedDocument(words=['Ainda', 'estou', 'aguardando'], tags=['543']),\n",
              " TaggedDocument(words=['Aida', 'nao', 'recebi', 'o', 'produto'], tags=['544']),\n",
              " TaggedDocument(words=['Recebi', 'antes', 'da', 'data', 'prometida', '.', 'Recomendo', 'esta', 'loja', '.'], tags=['545']),\n",
              " TaggedDocument(words=['Demorou', 'quase', 'trinta', 'dias', '.tempo', 'demais'], tags=['546']),\n",
              " TaggedDocument(words=['Depende', 'para', 'que', 'eu', 'possa', 'avaliar', 'se', 'resolverem', 'meu', 'problema', 'pos', 'a', 'compra', 'era', '4', 'os', 'correios', 'só', 'entregarão', 'um', 'pacote', 'contendo', '2', 'peneus'], tags=['547']),\n",
              " TaggedDocument(words=['Gostei', 'muito'], tags=['548']),\n",
              " TaggedDocument(words=['Bom'], tags=['549']),\n",
              " TaggedDocument(words=['Boa', 'tarde', '!', 'Tive', 'problemas', 'com', 'meu', 'pedido', 'sim', '!', 'Veio', 'o', 'mosqueteiro', 'errado', '.', 'Pedi', 'um', 'de', 'tamanho', 'Queen', ',', 'que', 'arrastasse', 'até', 'o', 'chão', 'e', 'com', 'o', 'círculo', 'em', 'cima', 'bem', 'grande', '.', 'Veio', 'pequeno', 'de', 'cama', 'de', 'casal', 'nor'], tags=['550']),\n",
              " TaggedDocument(words=['ate', 'agora', 'tudo', 'perfeito', ',', 'produto', 'e', 'entrega', 'no', 'prazo'], tags=['551']),\n",
              " TaggedDocument(words=['Comprei', '2', 'relógios', ',', 'mas', 'só', 'foi', 'entregue', '1'], tags=['552']),\n",
              " TaggedDocument(words=['produto', 'ok', ',', 'recebido', 'dentro', 'do', 'prazo', ',', 'bem', 'antes', 'do', 'previsto', '.'], tags=['553']),\n",
              " TaggedDocument(words=['A', 'entrega', 'foi', 'antecipado', ',', 'mais', 'umas', 'das', 'panelas', 'de', 'pressão', 'veio', 'com', 'o', 'suporte', 'quebrado', '.'], tags=['554']),\n",
              " TaggedDocument(words=['Tudo', 'ok', '.'], tags=['555']),\n",
              " TaggedDocument(words=['Ótimo', 'produto', '!', 'Recomendo', '!'], tags=['556']),\n",
              " TaggedDocument(words=['ENTREGA', 'MUITO', 'DEMORADA', ',', 'COMPREI', 'EM', '26/03/2018', 'E', 'ATÉ', 'AGORA', 'NÃO', 'RECEBI', 'OS', 'PRODUTOS'], tags=['557']),\n",
              " TaggedDocument(words=['bom'], tags=['558']),\n",
              " TaggedDocument(words=['O', 'produto', 'chegou', 'conforme', 'anunciado', '.', 'Gostei', '.'], tags=['559']),\n",
              " TaggedDocument(words=['Dentro', 'do', 'prazo', 'e', 'informacoes', 'do', 'encaminhamento', 'do', 'produto', 'de', 'forma', 'clara'], tags=['560']),\n",
              " TaggedDocument(words=['Excelente', '.', 'Recomendo', '.'], tags=['561']),\n",
              " TaggedDocument(words=['O', 'produto', 'enteque', 'veio', 'Errado'], tags=['562']),\n",
              " TaggedDocument(words=['NÃO', 'RECEBI', 'O', 'PRODUTO', ',', 'O', 'PRODUTO', 'CONSTA', 'COMO', 'ENVIADO', 'PARA', 'O', 'CORREIO', 'DE', 'RIBEIRÃO', 'PRETO', '.', 'O', 'CORREIO', 'NÃO', 'RECEBEU', 'O', 'PRODUTO', '.', 'ENVIE', 'VARIAS', 'MENSAGEM', 'PARA', 'A', 'targaryen', 'E', 'NÃO', 'OBTIVE', '.', 'ESTA', 'targaryen', 'ESTA', 'SUJANDO', 'SEU', 'NOME'], tags=['563']),\n",
              " TaggedDocument(words=['Gostei'], tags=['564']),\n",
              " TaggedDocument(words=['O', 'produto', 'veio', 'fora', 'da', 'especificação', '.', 'A', 'calota', 'vendida', 'tinha', 'o', 'símbolo', 'da', 'Citroën', ',', 'mas', 'a', 'calota', 'veio', 'sem', 'este', 'símbolo', '.'], tags=['565']),\n",
              " TaggedDocument(words=['Então', 'conprei', 'gostei', 'mas', 'nao', 'e', 'tudo', 'isso', 'nao', 'achei', 'q', 'seria', 'melhor'], tags=['566']),\n",
              " TaggedDocument(words=['Loja', 'de', 'confiança', 'chegou', 'no', 'praso'], tags=['567']),\n",
              " TaggedDocument(words=['amei', 'o', 'produto', ',', 'super', 'fácil', 'de', 'manusear', 'e', 'a', 'Zoop', 'está', 'de', 'PARABÉNS', ',', 'pois', 'chegou', 'BEM', 'ANTES', 'do', 'prazo', '.'], tags=['568']),\n",
              " TaggedDocument(words=['Super', 'recomendo', 'os', 'produtos', 'são', 'lindos', '!', '!', '😍😍'], tags=['569']),\n",
              " TaggedDocument(words=['Pedi', 'duas', 'carteiras', '.', 'Uma', 'veio', 'com', 'defeito', 'e', 'outra', 'veio', 'errada', ',', 'ñ', 'é', 'a', 'q', 'pedi', '....', 'pedi', 'reembolso', 'e', 'creio', 'q', 'isso', 'correrá', 'bem', '.'], tags=['570']),\n",
              " TaggedDocument(words=['Motor', 'ótimo', ',', 'só', 'não', 'vem', 'as', 'cremalheiras', 'junto', '!'], tags=['571']),\n",
              " TaggedDocument(words=['Gostei', 'muito', 'do', 'produto', '.', 'Entrega', 'muito', 'rápida', '.'], tags=['572']),\n",
              " TaggedDocument(words=['Excelente', 'produto', 'e', 'a', 'entrega', 'chegou', 'antes', 'do', 'prazo', 'previsto', '!', '!', '!', 'Ótimo'], tags=['573']),\n",
              " TaggedDocument(words=['produto', 'chegou', 'antes', 'do', 'prazo', 'estabelecido', '.'], tags=['574']),\n",
              " TaggedDocument(words=['Excelente', 'chegou', 'antes', 'do', 'combinado', ',', 'parabéns', '!'], tags=['575']),\n",
              " TaggedDocument(words=['Gostei', 'muito', 'do', 'produto', 'nao', 'tem', 'ardencia', 'nos', 'olhos', 'e', 'nem', 'cheiro', 'alisou', '90', '%', 'fos', 'meus', 'cabelos', 'mais', 'acho', 'que', 'da', 'segunda', 'vez', 'ficara', 'super', 'liso', '.'], tags=['576']),\n",
              " TaggedDocument(words=['Entregou', 'antes', 'do', 'prazo', 'estipulado', '.', 'ÓTIMO', '.', 'Por', 'isso', 'que', 'sempre', 'compro', 'no', 'site', '.'], tags=['577']),\n",
              " TaggedDocument(words=['APESAR', 'DE', 'NÃO', 'TER', 'UM', 'BOM', 'ACABAMENTO', ',', 'O', 'PRODUTO', 'É', 'BEM', 'FUNCIONAL', '.'], tags=['578']),\n",
              " TaggedDocument(words=['Entrega', 'perfeita', ',', 'até', 'antes', 'do', 'prazo', '.', 'produto', 'em', 'perfeito', 'estado', 'e', 'de', 'ótima', 'qualidade', '.'], tags=['579']),\n",
              " TaggedDocument(words=['aaa'], tags=['580']),\n",
              " TaggedDocument(words=['Ótimo', 'produto'], tags=['581']),\n",
              " TaggedDocument(words=['Veio', 'certinho', 'e', 'super', 'rápido', '!', 'Amei', 'meu', 'lustre', 'gente', '!', '!', '!', '!'], tags=['582']),\n",
              " TaggedDocument(words=['Bonito', ',', 'bom', 'e', 'chegou', 'rápido'], tags=['583']),\n",
              " TaggedDocument(words=['Recebi', 'apenas', '1', 'detector', 'de', 'metal', 'e', 'a', 'compra', 'foram', 'de', '2', 'unidades', '.', 'Como', 'podemos', 'resolver', 'isso', '?', 'Aguardo', 'orientações', '.'], tags=['584']),\n",
              " TaggedDocument(words=['Boa', 'noite', 'na', 'compra', 'diz', 'wireless', '150mbs', 'Multilaser', 'mais', '3g', 'não', 'teria', 'que', 'vim', 'o', 'modem', '3g', 'que', 'conecta', 'no', 'USB', 'nele', '.'], tags=['585']),\n",
              " TaggedDocument(words=['Satisfeito'], tags=['586']),\n",
              " TaggedDocument(words=['Chegou', 'dentro', 'do', 'prazo', '.', 'Muito', 'bonito', '.', 'Valeu', '.'], tags=['587']),\n",
              " TaggedDocument(words=['Muito', 'bom', 'recomendo'], tags=['588']),\n",
              " TaggedDocument(words=['otimi', 'produto', 'entrega', 'excelente'], tags=['589']),\n",
              " TaggedDocument(words=['legal', '.', 'tudo', 'certo', '.', 'entrega', 'rapida'], tags=['590']),\n",
              " TaggedDocument(words=['Comprei', 'dois', 'pares', 'de', 'aliança', 'e', 'chegou', 'apenas', 'duas', 'unidades', 'masculinas', 'em', 'minha', 'casa', '!', 'Estou', 'aguardando', 'resposta', 'da', 'empresa', 'para', 'envio', 'das', 'outras', 'duas', 'unidades', 'femeninas', 'que', 'não', 'cheopu', '!'], tags=['591']),\n",
              " TaggedDocument(words=['Acho', 'que', 'deveriam', 'mudar', 'o', 'modo', 'de', 'entrega', ',', 'pois', 'os', 'Correios', 'deixam', 'muito', 'a', 'desejar', '.', 'Vieram', 'uma', 'única', 'vez', 'entregar', 'meu', 'produto', 'e', 'foi', 'um', 'domingo', 'à', 'tarde', 'e', 'mandaram', 'de', 'volta', 'pro', 'remetente', 'o', 'produto', '.'], tags=['592']),\n",
              " TaggedDocument(words=['ACHO', 'QUE', 'DEVERIA', 'NOS', 'ENFORMAR', 'MAIS', 'RAPIDO', 'ONDE', 'ESTA', 'O', 'PRODUTO'], tags=['593']),\n",
              " TaggedDocument(words=['Amei', '....'], tags=['594']),\n",
              " TaggedDocument(words=['Eu', 'recebi', 'desta', 'loja', 'apenas', 'dois', 'pendentes', '.', 'Paguei', 'o', 'boleto', 'antecipado', 'e', 'um', 'produto', 'não', 'veio', ':', 'Trata-se', 'de', 'um', 'Pendente', 'Em', 'Alumínio', 'Meia', 'Bola', 'Medio', 'Escovado', 'no', 'valor', 'de', 'R', '$', '90', '.', 'Quero', '$', 'de', 'volta', '.'], tags=['595']),\n",
              " TaggedDocument(words=['Vcs', 'tá', 'deixando', 'a', 'desejar', 'comprei', 'produtos', 'com', 'vcs', 'e', 'vcs', 'demora', 'entregar', 'e', 'ainda', 'cancela', 'o', 'pedido', 'sem', 'autorização'], tags=['596']),\n",
              " TaggedDocument(words=['Produto', 'entregue', 'antes', 'do', 'prazo', '.', 'Bom', 'custo', 'benefício', '.'], tags=['597']),\n",
              " TaggedDocument(words=['Não', 'recebi', 'uma', 'outra', 'encomenda', 'dessa', 'loja.estou', 'esperando', 'eles', 'me', 'enviarem', 'as', 'duas', 'proteínas', 'de', '2kg', '...'], tags=['598']),\n",
              " TaggedDocument(words=['O', 'produto', 'foi', 'entregue', 'antes', 'do', 'prazo', '.', 'E', 'aprovado', '!'], tags=['599']),\n",
              " TaggedDocument(words=['Fiz', 'uma.compra', 'de', 'dois', 'porém', 'os', 'dois', 'tem', 'o', 'mesmo', 'código', 'e', 'só', 'veio', 'um', 'comprei', 'uma', 'colcha', 'que', 'chegou', 'certinho', 'mas', 'não', 'veio', 'a', 'saia', 'da', 'cama', 'box'], tags=['600']),\n",
              " TaggedDocument(words=['Chegou', 'bem', 'antes', 'do', 'prazo', 'determinado', ',', 'e', 'tudo', 'certinho', 'amei', 'o', 'produto', 'e', 'super', 'recomendo', '.'], tags=['601']),\n",
              " TaggedDocument(words=['atendeu', 'as', 'expectivas'], tags=['602']),\n",
              " TaggedDocument(words=['Compro', 'por', 'que', 'confio', ',', 'minhas', 'comprar', 'sempre', 'chegaram', 'no', 'prazo', 'e', 'até', 'antes', 'dele', ',', 'nunca', 'tive', 'problemas', 'eu', 'recomendo', '.'], tags=['603']),\n",
              " TaggedDocument(words=['rapidez', 'na', 'entrega', '.'], tags=['604']),\n",
              " TaggedDocument(words=['Mercadoria', 'conforme', 'foi', 'pedido', '.', 'Chegou', 'antes', 'do', 'prazo', '.', 'Recomendo', '!'], tags=['605']),\n",
              " TaggedDocument(words=['mas', 'esta', 'demorando', 'muito', 'desta', 'vez', '.'], tags=['606']),\n",
              " TaggedDocument(words=['Produto', 'entregue', ',', 'para', 'os', 'leigos', 'como', 'eu', ':', 'as', 'peças', 'vêm', 'desmontadas', 'e', 'devemos', 'montar', ',', 'algumas', ',', 'tal', 'qual', 'a', 'biciclieta', ',', 'necessitam', 'de', 'cola', 'para', 'permanecer', 'de', 'pé', ':', 'melhor', 'opção', 'é', 'a', 'cola', 'madeira', '.'], tags=['607']),\n",
              " TaggedDocument(words=['Prazo', 'esgotado', '.', 'Produto', 'ainda', 'não', 'entregue'], tags=['608']),\n",
              " TaggedDocument(words=['Bom', ',', 'a', 'resma', 'chegou', 'muitobem', 'embalada', ',', 'dentro', 'do', 'prazo', 'e', 'afora', 'vamos', 'testar', 'para', 'verificar', 'a', 'qualidade', 'do', 'papel', '.'], tags=['609']),\n",
              " TaggedDocument(words=['Produto', 'correto', 'e', 'entregue', 'no', 'prazo', 'conforme', 'acordado', '.', 'Eu', 'recomendo', '.'], tags=['610']),\n",
              " TaggedDocument(words=['Super', 'recomendo', ';', 'para', 'mim', ',', 'foi', 'uma', 'agradável', 'surpresa', ',', 'o', 'nível', 'de', 'atendimento', 'da', 'Amaricanas.com', 'Sensacional', '!', '!', '!'], tags=['611']),\n",
              " TaggedDocument(words=['Parabéns', 'a', 'loja', 'Zoop', 'e', 'o', 'parceiro', 'meu', 'produto', 'veio', 'bem', 'embalado', 'e', 'ele', 'é', 'mto', 'lindo', 'e', 'grande', 'do', 'jeito', 'que', 'eu', 'queria', '.', 'A', 'cor', 'marrom', 'é', 'conforme', 'mostra', 'na', 'foto', 'eu', 'amei', 'o', 'meu', 'pendente', '.'], tags=['612']),\n",
              " TaggedDocument(words=['Recebi', 'apenas', '1', 'perfume', '(', 'perfume', 'H2O', ')', '.', 'O', 'perfume', 'Ototemo', 'NÃO', 'recebi', 'ainda', '.', 'Estou', 'preocupada', 'pois', 'no', 'pedido', 'consta', 'que', 'recebi', 'dois', 'perfumes', '!', '!', '!'], tags=['613']),\n",
              " TaggedDocument(words=['Maravilhosa'], tags=['614']),\n",
              " TaggedDocument(words=['O', 'produto', 'chegou', 'bem', 'antes', 'do', 'prazo', ',', 'mas', 'com', 'defeito', ',', 'veio', 'quebrado', 'o', 'lugar', 'de', 'fazer', 'o', 'encaixar', '.', 'Muito', 'bonitinha', ',', 'mas', 'frágil', '.', 'Tentei', 'realizar', 'a', 'troca', 'pelo', 'site', 'e', 'não', 'consegui', '.'], tags=['615']),\n",
              " TaggedDocument(words=['ainda', 'nao', 'recebi', 'e', 'a', 'ultima', 'informacao', 'sobre', 'p', 'produto', 'e', 'do', 'dia', '08/12/2017', '.'], tags=['616']),\n",
              " TaggedDocument(words=['O', 'película', 'de', 'vidro', 'veio', 'com', 'defeito', 'e', 'não', 'estou', 'conseguindo', 'resolver', 'o', 'problema', '.'], tags=['617']),\n",
              " TaggedDocument(words=['Ainda', 'falta', 'a', 'capa'], tags=['618']),\n",
              " TaggedDocument(words=['Eu', 'adorei', 'muito', '.'], tags=['619']),\n",
              " TaggedDocument(words=['Bom'], tags=['620']),\n",
              " TaggedDocument(words=['Entrega', 'foi', 'rapida', 'sobre', 'o', 'perfume', 'é', 'bom', 'mas', 'ja', 'tive', 'melhores', 'mas', 'pelo', 'valor', 'vale', 'a', 'pena'], tags=['621']),\n",
              " TaggedDocument(words=['Minha', 'mercadoria', 'era', 'para', 'levar', 'mais', 'ou', 'menos', '20', 'dias', 'para', 'chegar', ',', 'demorou', 'quase', 'dois', 'meses', '!', '!', '!', '!', '!'], tags=['622']),\n",
              " TaggedDocument(words=['Ótimo', 'produto', ',', 'estou', 'satisfeito', 'com', 'minha', 'compra'], tags=['623']),\n",
              " TaggedDocument(words=['O', 'PRODUTO', 'É', 'BOM', ',', 'MAS', 'QUASE', '2', 'MESES', 'PARA', 'RECEBER', '!', '!', '!', '!'], tags=['624']),\n",
              " TaggedDocument(words=['Só', 'veio', 'uma', 'capa', 'comprei', '3', 'aí', 'paguei', '.', 'Mais', 'de', '100', 'reais', 'por', 'uma', 'capa'], tags=['625']),\n",
              " TaggedDocument(words=['bom', 'tmb'], tags=['626']),\n",
              " TaggedDocument(words=['veio', 'no', 'prazo', 'e', 'funcionando', 'muito', 'bem', '.'], tags=['627']),\n",
              " TaggedDocument(words=['Não', 'é', 'original', ',', 'infelizmente', 'o', 'pós', 'vendas', 'da', 'é', 'extremamente', 'ruim', ',', 'pois', 'já', 'entrei', 'em', 'contato', 'e', 'até', 'agora', 'nada', ',', 'aí', 'consegui', 'ligar', 'para', 'o', 'fornecedor', 'parceiro', 'que', 'já', 'devolveu', 'o', 'dinheiro', '.'], tags=['628']),\n",
              " TaggedDocument(words=['maravilhoso'], tags=['629']),\n",
              " TaggedDocument(words=['Entrega', 'rápida', 'e', 'pedido', 'entregue', 'conforme', 'solicitado', '.', 'Recomendo', '.'], tags=['630']),\n",
              " TaggedDocument(words=['Já', 'entrei', 'em', 'contato', 'com', 'a', 'Zoop', 'pelo', 'telefone', 'e', 'eles', 'me', 'falam', 'q', 'vai', 'mandar', 'o', 'link', 'direto', 'com', 'o', 'parceiro', 'pra', 'eu', 'saber', 'detalhes', 'da', 'entrega', 'da', 'conta', 'e', 'esse', 'link', 'n', 'veio', '.', 'Péssimo', 'suporte', 'ao', 'cliente'], tags=['631']),\n",
              " TaggedDocument(words=['CUMPRIRAM', '...'], tags=['632']),\n",
              " TaggedDocument(words=['Apesar', 'do', 'tamanho', 'a', 'escova', 'é', 'leve', 'e', 'de', 'fácil', 'manuseio'], tags=['633']),\n",
              " TaggedDocument(words=['Muito', 'frágil', ',', 'mas', 'funciona', 'certinho', '.'], tags=['634']),\n",
              " TaggedDocument(words=['Comunicação', 'e', 'respeito', 'com', 'o', 'consumidor', '.', 'É', 'raro', ',', 'comprar', 'aqui', 'sempre'], tags=['635']),\n",
              " TaggedDocument(words=['Não', 'recebi', 'o', 'produto', 'não', 'recebi', 'uma', 'justificativa', 'do', 'vendedor', '.', 'entrei', 'em', 'contato', 'mas', 'até', 'agora', 'não', 'obtive', 'uma', 'resposta', '.'], tags=['636']),\n",
              " TaggedDocument(words=['Estou', 'muito', 'satisfeita', ',', 'a', 'rapidez', 'que', 'chegou', 'o', 'produto', ',', 'bem', 'antes', 'do', 'previsto'], tags=['637']),\n",
              " TaggedDocument(words=['Melhor', 'fantasia', 'da', 'vida'], tags=['638']),\n",
              " TaggedDocument(words=['Loja', 'eficiente', ',', 'entrega', 'correta', 'e', 'antes', 'do', 'prazo', '.'], tags=['639']),\n",
              " TaggedDocument(words=['ótima'], tags=['640']),\n",
              " TaggedDocument(words=['Eu', 'recomendaria', 'essa', 'loja', '.', 'Chegou', 'dentro', 'do', 'prazo', '.', 'E', 'ótima', 'mercadoria'], tags=['641']),\n",
              " TaggedDocument(words=['Recebi', 'a', 'jarra', 'da', 'Cafeteria', 'mas', 'a', 'mesma', 'não', 'é', 'o', 'modelo', 'que', 'comprei', '.', 'Eu', 'comprei', 'a', 'jarra', 'da', 'cafeteira', 'Electrolux', 'CMM20', 'e', 'a', 'que', 'recebi', 'não', 'é', 'desse', 'modelo', 'da', 'Cafeteria', '.'], tags=['642']),\n",
              " TaggedDocument(words=['adorei', 'veio', 'certinho', 'muito', 'obrigado'], tags=['643']),\n",
              " TaggedDocument(words=['Entrega', 'feita', 'e', 'o', 'produto', 'é', 'o', 'que', 'eu', 'queria', ',', 'muito', 'bom', '!', '!'], tags=['644']),\n",
              " TaggedDocument(words=['bom', 'produto', ',', 'veio', 'sem', 'neum', 'defeito', 'bom', '.'], tags=['645']),\n",
              " TaggedDocument(words=['Ainda', 'não', 'recebi', 'minha', 'capa', 'de', 'sofá', 'tô', 'aguardando'], tags=['646']),\n",
              " TaggedDocument(words=['O', 'correio', 'nao', 'entregou', 'no', 'endereço', ',', 'tivemos', 'que', 'retirar', ',', 'a', 'caixa', 'estava', 'aberta', 'e', 'a', 'churrasqueira', 'amassada'], tags=['647']),\n",
              " TaggedDocument(words=['Chegou', 'super', 'rápido', 'e', 'bem', 'embalado', '.'], tags=['648']),\n",
              " TaggedDocument(words=['Melhor', 'site', 'de', 'compras', 'pela', 'internet', '!'], tags=['649']),\n",
              " TaggedDocument(words=['Chegou', 'muito', 'antes', 'do', 'prazo', '!'], tags=['650']),\n",
              " TaggedDocument(words=['Ainda', 'não', 'recebi', 'o', 'produto', '...', 'varios', 'dias', 'que', 'fiz', 'a', 'compra', '.', 'entrega', 'demorada', 'pelas', 'compras', 'que', 'faço', 'online', ',', 'ainda', 'estou', 'aguardando', 'a', 'entrega'], tags=['651']),\n",
              " TaggedDocument(words=['Não', 'instalei', 'ainda'], tags=['652']),\n",
              " TaggedDocument(words=['Chegou', 'antes', 'da', 'data', 'prevista', ',', 'tudo', 'ok'], tags=['653']),\n",
              " TaggedDocument(words=['eu', 'tinha', 'aberto', 'a', 'reclamação', 'solicitando', 'o', 'reenvio', 'ontem', 'e', 'durante', 'a', 'tarde', 'aconteceu', 'grato'], tags=['654']),\n",
              " TaggedDocument(words=['Foi', 'Boa', 'a', 'compra', 'recomendo'], tags=['655']),\n",
              " TaggedDocument(words=['Infelizmente', 'compensa', 'pagar', 'um', 'pouco', 'mais', 'e', 'comprar', 'em', 'loja', 'física', 'na', 'sua', 'cidade', 'todas', 'as', 'lojas', 'inclusive', 'estão', 'com', 'péssimo', 'prazo', 'de', 'entrega', 'dos', 'produtos', '!'], tags=['656']),\n",
              " TaggedDocument(words=['Produto', 'dentro', 'dom', 'esperado', '.'], tags=['657']),\n",
              " TaggedDocument(words=['Só', 'ñ', 'gostei', 'de', 'uma', 'coisa', 'o', 'relógio', 'está', 'só', 'parando', 'com', 'bateria', 'fraca', 'está', 'novicimo', 'esse', 'relógio', 'e', 'já', 'está', 'parando'], tags=['658']),\n",
              " TaggedDocument(words=['a', 'troca', 'mais', 'rápida', 'do', 'mundo', '.', 'Estou', 'realmente', 'impressionado', 'com', 'a', 'eficiência', 'do', '.', 'Não', 'tive', 'nenhuma', 'burocracia', ',', 'o', 'produto', 'da', 'troca', 'estava', 'em', 'minha', 'casa', 'em', 'um', 'piscar', 'de', 'olhos', '.', 'Parabéns', '.'], tags=['659']),\n",
              " TaggedDocument(words=['Ótimo', 'produto', '!', 'Prazo', 'rápido', '!', '!', '!'], tags=['660']),\n",
              " TaggedDocument(words=['Ainda', 'não', 'pode', 'avaliar', 'o', 'produto', '.', 'Estou', 'aguardando', 'a', 'Matriz', 'e', 'os', 'botões', ',', 'também', 'comprados', 'no', 'site', 'das', 'Lojas', 'Zoop', '.', 'Estou', 'estranhando', 'o', 'fato', 'da', 'nota', 'fiscal', 'desses', 'produtos', 'não', 'ter', 'sido', 'emitida', '.'], tags=['661']),\n",
              " TaggedDocument(words=['Muito', 'bom'], tags=['662']),\n",
              " TaggedDocument(words=['Entrega', 'dentro', 'do', 'prazo', ',', 'e', 'produto', 'em', 'excelente', 'condição'], tags=['663']),\n",
              " TaggedDocument(words=['Produto', 'igual', 'ao', 'anunciado', ',', 'estou', 'super', 'satisfeita.Funciona', 'perfeitamente', '.'], tags=['664']),\n",
              " TaggedDocument(words=['Recebi', 'o', 'produto', 'no', 'prazo', 'e', 'bem', 'embalado', '!'], tags=['665']),\n",
              " TaggedDocument(words=['Cofre', 'com', 'bom', 'espaço', 'interno', 'e', 'prateleira', 'para', 'facilitar', 'a', 'organização', '.', 'Bom', 'produto', '.'], tags=['666']),\n",
              " TaggedDocument(words=['Já', 'solicitei', 'devolução', 'do', 'produto', '.', 'Veio', 'amassado', ',', 'parece', 'que', 'houve', 'uma', 'queda'], tags=['667']),\n",
              " TaggedDocument(words=['Não', 'recebi', 'o', 'produto', 'que', 'comprei', 'e', 'paguei', '.'], tags=['668']),\n",
              " TaggedDocument(words=['chegou', 'antes', 'do', 'prazo', ',', 'e', 'o', 'produto', 'mto', 'bom'], tags=['669']),\n",
              " TaggedDocument(words=['Respondi', 'que', 'sim', 'para', '``', 'recebi', 'o', 'produto', 'correto', \"''\", 'por', 'falta', 'de', 'opção', '.', 'Eu', 'ainda', 'não', 'vi', 'o', 'produto', '.', 'Não', 'quis', 'abrir', 'a', 'embalagem', ',', 'pois', 'é', 'presente', '.', 'Caso', 'haja', 'alguma', 'desconformidade', 'entrarei', 'em', 'contato', '.'], tags=['670']),\n",
              " TaggedDocument(words=['esta', 'de', 'acordo', 'com', 'meus', 'propósitos'], tags=['671']),\n",
              " TaggedDocument(words=['O', 'mp3', 'player', 'é', 'muito', 'bonito', 'e', 'pequeno', '.', 'Contudo', ',', 'o', 'som', 'dele', 'é', 'muito', 'ruim', ',', 'com', 'ruídos', 'e', 'chiados', '.', 'Troquei', 'o', 'fone', 'de', 'ouvido', 'pelo', 'da', 'apple', ',', 'mas', 'não', 'mudou', 'nada', '.', 'O', 'problema', 'é', 'na', 'qualidade', 'do', 'produto', 'mesmo', '.'], tags=['672']),\n",
              " TaggedDocument(words=['X'], tags=['673']),\n",
              " TaggedDocument(words=['Produto', 'bonito', ',', 'parece', 'de', 'boa', 'qualidade', ',', 'entretanto', ',', 'nas', 'imagens', 'do', 'site', ',', 'o', 'produto', 'parecia', 'mais', 'robusto', ',', 'elegante', 'e', 'com', 'cor', 'uniforme', '.', 'O', 'tom', 'varia', '...'], tags=['674']),\n",
              " TaggedDocument(words=['Ainda', 'não', 'instalei', 'mas', 'chegou', 'no', 'prazo', 'certinho', '!', '!'], tags=['675']),\n",
              " TaggedDocument(words=['Ótimo', 'produto', ',', 'entrega', 'muito', 'rápida', '!'], tags=['676']),\n",
              " TaggedDocument(words=['Ótimo', ',', 'excelente', 'produto', 'recomendo', 'a', 'todos'], tags=['677']),\n",
              " TaggedDocument(words=['nao', 'veio', 'o', 'produto', 'que', 'pedi', 'veio', 'um', 'quite', 'de', 'marmitas', '10', 'peças', 'eu', 'comprei', 'um', 'jogo', 'de', 'panelas'], tags=['678']),\n",
              " TaggedDocument(words=['a', 'experiência', 'de', 'compra', 'on-line', 'e', 'a', 'entrega', 'foram', 'boas', ',', 'porém', 'o', 'produto', 'não', 'atendeu', 'às', 'expectativas', 'e', 'estou', 'tendo', 'dificuldades', 'com', 'a', 'troca', '/devolução', '.'], tags=['679']),\n",
              " TaggedDocument(words=['parabenizo', 'pela', 'qualidade', 'do', 'produto', 'e', 'pontualidade', 'na', 'entrega', '..'], tags=['680']),\n",
              " TaggedDocument(words=['Ainda', 'não', 'recebi', '.', 'Como', 'faço', '?'], tags=['681']),\n",
              " TaggedDocument(words=['Recebi', 'o', 'produto', 'errado', '.', 'Comprei', 'original', 'e', 'recebi', 'produtos', 'paralelos', '.', 'Reciclados', '.', 'Picareta'], tags=['682']),\n",
              " TaggedDocument(words=['Produto', 'entregue', 'divergente', 'do', 'adquirido', 'e', 'não', 'deram', 'resposta', 'a', 'solicitação', 'feita', 'no', 'site', '.', 'Trata-se', 'de', 'presente', 'e', 'não', 'pude', 'entregar', ',', 'aguardo', 'troca', 'do', 'mesmo', '.'], tags=['683']),\n",
              " TaggedDocument(words=['Tapete', 'lindo', 'e', 'personalizado', ',', 'bordado', 'em', 'volta', 'e', 'com', 'o', 'logo', 'classic', ',', 'todo', 'de', 'borracha', 'PVC', ',', 'mt', 'bom', 'fácil', 'de', 'limpar'], tags=['684']),\n",
              " TaggedDocument(words=['Produto', 'bem', 'acabado', '👍🏻'], tags=['685']),\n",
              " TaggedDocument(words=['O', 'produto', 'está', 'com', 'problemas', '(', 'defeito', ')', '.'], tags=['686']),\n",
              " TaggedDocument(words=['Comprei', 'duas', 'bonecas', 'baby', 'kiss', 'Sid', 'nil', 'dia', '07/12/17', 'e', 'eles', 'entregaram', 'somente', '1', 'boneca', ',', 'não', 'veio', 'junto', 'nota', 'fiscal', ',', 'caixa', 'amassada', 'e', 'também', 'não', 'consigo', 'contato', 'com', 'a', 'Zoop', 'o', 'telefone', 'só', 'da', 'ocupado'], tags=['687']),\n",
              " TaggedDocument(words=['ótimo', 'produto', 'e', 'entrega', 'super', 'rápida', '.'], tags=['688']),\n",
              " TaggedDocument(words=['Recebi', 'i', 'procuto', 'antes', 'do', 'prazo', 'determinado', '...'], tags=['689']),\n",
              " TaggedDocument(words=['BOA', 'LOJA', ',', 'CUMPRIU', 'TUDO', 'O', 'QUE', 'ESTAVA', 'NO', 'ANUNCIO', '!', 'A', 'ENTREGA', 'FOI', 'SUPER-RÁPIDO', '!'], tags=['690']),\n",
              " TaggedDocument(words=['Produto', 'chegou', 'antes', 'do', 'prazo'], tags=['691']),\n",
              " TaggedDocument(words=['O', 'tapete', 'e', 'muito', 'lindo', 'e', 'material', 'muito', 'bom', ',', 'super', 'fofinho', '.', 'A', 'entrega', 'foi', 'dentro', 'do', 'prazo', ',', 'so', 'o', 'embrulho', 'que', 'ele', 'veio', 'e', 'que', 'assusta', 'e', 'tao', 'pequeno', 'que', 'nem', 'parece', 'que', 'tem', 'um', 'lindo', 'tapete', 'dentro', '.'], tags=['692']),\n",
              " TaggedDocument(words=['Ótima', 'loja', ',', 'produto', 'muito', 'bonito', ',', 'entrega', 'antes', 'do', 'prazo', '.', 'Recomendo', '!', '!', '!', '!'], tags=['693']),\n",
              " TaggedDocument(words=['Bom'], tags=['694']),\n",
              " TaggedDocument(words=['Hoje', 'no', 'mercado', 'encontramos', 'roteador', 'de', 'baixa', 'potência', '.', 'E', 'este', 'aparelho', 'é', 'muito', 'bom', 'e', 'potente'], tags=['695']),\n",
              " TaggedDocument(words=['De', 'forma', 'geral', 'o', 'produto', 'é', 'bom', ',', 'porém', ',', 'som', 'sai', 'muito', 'baixo', 'o', 'que', 'torna', 'produto', 'em', 'um', 'produto', 'de', 'média', 'qualidade', '.'], tags=['696']),\n",
              " TaggedDocument(words=['O', 'produto', 'foi', 'entregue', 'no', 'prazo', ',', 'até', 'uma', 'semana', 'antes', ',', 'porém', 'houve', 'um', 'imprevisto', 'na', 'minha', 'entrega', ',', 'tentei', 'entrar', 'em', 'contato', 'várias', 'vezes', 'sem', 'nenhum', 'sucesso', ',', 'fiquei', 'mais', 'de', 'semana', 'sem', 'saber', 'de', 'nada', '.'], tags=['697']),\n",
              " TaggedDocument(words=['Muito', 'bom', 'amei', 'o', 'produto'], tags=['698']),\n",
              " TaggedDocument(words=['Ainda', 'não', 'recebi', 'um', 'dos', 'relógios', ',', 'ainda', 'aguardando', '...', 'obrigada', '!'], tags=['699']),\n",
              " TaggedDocument(words=['Nao', 'foi', 'possível', 'verificar', 'no', 'site', 'que', 'um', 'dos', 'lados', 'da', 'almofada', 'era', 'preto', '.'], tags=['700']),\n",
              " TaggedDocument(words=['A', 'capa', 'é', 'muito', 'boa', 'para', 'o', 'celular', 'mas', 'e', 'película', 'inclusa', 'é', 'de', 'muita', 'péssima', 'qualidade', '.'], tags=['701']),\n",
              " TaggedDocument(words=['Não', 'abri', 'a', 'caixa', 'ainda', '!'], tags=['702']),\n",
              " TaggedDocument(words=['o', 'produto', 'é', 'de', 'alta', 'qualidade', '...', 'adorei', '!', '!', '!', '!'], tags=['703']),\n",
              " TaggedDocument(words=['Não', 'posso', 'avaliar', 'o', 'que', 'não', 'recebi'], tags=['704']),\n",
              " TaggedDocument(words=['Muito', 'obrigada'], tags=['705']),\n",
              " TaggedDocument(words=['Produto', 'muito', 'frágil'], tags=['706']),\n",
              " TaggedDocument(words=['Ótima', 'entrega', ',', 'rápida', 'e', 'objetiva'], tags=['707']),\n",
              " TaggedDocument(words=['Veio', 'quebrado', 'e', 'faltando', 'peça'], tags=['708']),\n",
              " TaggedDocument(words=['Recebi', 'o', 'produto', 'de', 'outro', 'modelo', '.', 'Desatenção', 'por', 'parte', 'do', 'distribuidor', ':', '('], tags=['709']),\n",
              " TaggedDocument(words=['Gostei', 'bastante', 'do', 'tecido', ',', 'bem', 'macio'], tags=['710']),\n",
              " TaggedDocument(words=['o', 'produto', 'e', 'muito', 'bom', 'obrigada'], tags=['711']),\n",
              " TaggedDocument(words=['Mudarei', 'a', 'avaliação', 'se', 'tudo', 'der', 'certo', '.'], tags=['712']),\n",
              " TaggedDocument(words=['Relógio', 'que', 'comprei', 'foi', 'uma', 'replica', 'do', 'original', '.'], tags=['713']),\n",
              " TaggedDocument(words=['chegou', ',', 'obrigada', 'mas', 'a', 'caixa', ',', 'a', 'embalagem', 'amassada', 'e', 'é', 'um', 'presente', '.'], tags=['714']),\n",
              " TaggedDocument(words=['OTIMO', ','], tags=['715']),\n",
              " TaggedDocument(words=['Produto', 'entregue', 'conforme', 'contratado', '.'], tags=['716']),\n",
              " TaggedDocument(words=['Segunda', 'compra', 'na', 'loja', '.', 'Estou', 'muito', 'satisfeito', '.', 'Produtos', 'chegaram', 'rapidamente', '.', 'Recomendo', '.'], tags=['717']),\n",
              " TaggedDocument(words=['Adorei', 'os', 'produtos', 'somente', 'achei', 'muito', 'ruim', 'ter', 'de', 'pagar', '2', 'fretes', 'para', 'o', 'mesmo', 'produto', 'do', 'mesmo', 'vendedor'], tags=['718']),\n",
              " TaggedDocument(words=['Gostei', ',', 'som', 'mt', '.', 'bom', '.'], tags=['719']),\n",
              " TaggedDocument(words=['Entrega', 'antes', 'do', 'prazo', '-', 'Otimo'], tags=['720']),\n",
              " TaggedDocument(words=['Há', 'varios', 'anos', 'compro', 'na', 'loja', 'e', 'até', 'agora', ',', 'nada', 'tenho', 'a', 'reclamar', '.'], tags=['721']),\n",
              " TaggedDocument(words=['Ainda', 'não', 'recebi', 'o', 'produto'], tags=['722']),\n",
              " TaggedDocument(words=['Zoop', 'está', 'de', 'parabéns', ',', 'entrega', 'super', 'rápida', '.'], tags=['723']),\n",
              " TaggedDocument(words=['Balança', 'de', 'ótima', 'qualidade', ',', 'tem', 'suprido', 'as', 'minha', 'necessidade', 'com', 'muita', 'eficiência', '.'], tags=['724']),\n",
              " TaggedDocument(words=['Produto', 'veio', 'diferente', 'ao', 'anuncuado', '.', 'Liguei', 'e', 'só', 'esperando', 'o', 'código', 'para', 'a', 'devolução', 'do', 'produto', 'e', 'reembolso', 'do', 'valor', 'pago', '.'], tags=['725']),\n",
              " TaggedDocument(words=['Parabéns', 'entrega', 'antes', 'da', 'data', 'prevista', ',', 'um', 'produto', 'bom', 'e', 'barato', 'som', 'do', 'produto', 'muito', 'bom', 'corrir', 'com', 'ele', 'não', 'me', 'incomodo', 'não', 'ficou', 'caindo', 'ou', 'folgando', 'no', 'meu', 'ouvido', 'olha', 'que', 'corrir', '8', 'km', 'recomendo', '.'], tags=['726']),\n",
              " TaggedDocument(words=['Loja', 'totalmente', 'confiável', ',', 'produto', 'entregue', 'antes', 'do', 'prazo', ',', 'todo', 'o', 'trajeto', 'do', 'produto', 'foi', 'informado', 'corretamente', '!', 'Produto', 'foi', 'entregue', 'em', 'perfeitas', 'condições', 'para', 'uso', ',', 'e', 'exatamente', 'como', 'solicitado', '!'], tags=['727']),\n",
              " TaggedDocument(words=['Produto', 'bom', 'e', 'entrega', 'rápida'], tags=['728']),\n",
              " TaggedDocument(words=['Falta', 'de', 'respeito', 'com', 'consumidor', ';', 'produto', 'mal', 'embalado', ',', 'vidros', 'sem', 'lacre', 'vazando', ';', 'náo', 'recebi', 'autorização', 'de', 'devolução', ',', 'mesmo', 'tendo', 'reclamado', 'no', 'dia', 'da', 'entrega', ';', 'o', 'pior', ',', 'terei', 'que', 'levar', 'ao', 'correio'], tags=['729']),\n",
              " TaggedDocument(words=['Bom'], tags=['730']),\n",
              " TaggedDocument(words=['Melhor', 'preço', 'e', 'entrega', 'super', 'rápida', ',', 'sou', 'fregues', 'a', 'muito', 'tempo', ',', 'loja', 'totalmente', 'confiável', '...'], tags=['731']),\n",
              " TaggedDocument(words=['e', 'a', 'melhor', 'loja', 'para', 'fazer', 'compras'], tags=['732']),\n",
              " TaggedDocument(words=['Bom', 'demais'], tags=['733']),\n",
              " TaggedDocument(words=['Lojas', 'Zoop', '-', 'cumpre', 'prazo', ',', 'mercadoria', 'correto', '...', 'tudo', 'certinho', '.', 'O', 'único', 'problema', 'que', 'meu', 'nome', 'está', 'incorreto', 'e', 'não', 'consigo', 'corrigi-lo', '.'], tags=['734']),\n",
              " TaggedDocument(words=['Entrega', 'super', 'rápida', '!', 'Produto', 'de', 'acordo', 'com', 'as', 'características', 'descritas', 'no', 'site', '!', 'Excelente', '!'], tags=['735']),\n",
              " TaggedDocument(words=['Pensei', 'que', 'o', 'defletor', 'era', 'uma', 'grande', 'placa', ',', 'porém', 'são', '3', 'pequenas', 'peças', ',', 'que', 'se', 'encaixam', 'uma', 'na', 'outra', '.', 'sinceramente', 'não', 'gostei', 'pois', 'no', 'mercado', 'há', 'opção', 'de', 'peça', 'única', ',', 'mais', 'bonita', 'e', 'com', 'melhor', 'design', '.'], tags=['736']),\n",
              " TaggedDocument(words=['não', 'fiquei', 'satisfeito', 'com', 'o', 'material', 'do', 'produto'], tags=['737']),\n",
              " TaggedDocument(words=['SUPER', 'RECOMENDO', 'O', 'PRODUTO', 'E', 'A', 'LOJA', '.', 'VEIJO', 'CERTINHO', 'E', 'ANTES', 'DO', 'PRAZO', 'PREVISTO'], tags=['738']),\n",
              " TaggedDocument(words=['Mais', 'agilidade', 'na', 'entrega'], tags=['739']),\n",
              " TaggedDocument(words=['Lugar', 'ótimo', 'pra', 'fazer', 'compras', '!'], tags=['740']),\n",
              " TaggedDocument(words=['Ate', 'agora', 'nao', 'revebi', 'o', 'produto', '.', 'Espero', 'que', 'ao', 'menos', 'a', 'pontuação', 'tenha', 'sido', 'feita', 'de', 'acordo', 'com', 'a', 'promoção', '.'], tags=['741']),\n",
              " TaggedDocument(words=['Entrega', 'no', 'prazo', ',', 'gostei'], tags=['742']),\n",
              " TaggedDocument(words=['O', 'tamanho', 'G', 'ta', 'pequeno', ',', 'ele', 'é', 'G', 'adulto', 'ou', 'infantil', '?'], tags=['743']),\n",
              " TaggedDocument(words=['Chegou', 'no', 'prazo', 'determinado', ',', 'muito', 'bem', 'embrulhado', '.', 'Estou', 'satisfeita', '.'], tags=['744']),\n",
              " TaggedDocument(words=['A', 'estampa', 'é', 'muito', 'bonita', ',', 'mas', 'o', 'enchimento', 'é', 'muito', 'ruim', '.'], tags=['745']),\n",
              " TaggedDocument(words=['O', 'botão', 'para', 'abrir', 'o', 'carro', 'não', 'está', 'funcionando', '.'], tags=['746']),\n",
              " TaggedDocument(words=['Produto', 'ótimo', '.', '..', 'chegou', 'antes', 'do', 'esperado', '.'], tags=['747']),\n",
              " TaggedDocument(words=['Bom', 'produto'], tags=['748']),\n",
              " TaggedDocument(words=['Otimo', 'deu', 'tudo', 'certinho', 'nota', '10', '.'], tags=['749']),\n",
              " TaggedDocument(words=['Muito', 'bom', 'recomendo', '.'], tags=['750']),\n",
              " TaggedDocument(words=['perfeito', '.'], tags=['751']),\n",
              " TaggedDocument(words=['só', 'recebi', 'um', 'dos', 'produtos', '...', 'até', 'o', 'momento', 'não', 'recebi', 'o', 'Conjunto', 'Quadros', 'Decorativos', 'Fé', 'Amor', 'Família', 'com', 'Vidro', 'A4', '...', 'no', 'aguardo'], tags=['752']),\n",
              " TaggedDocument(words=['preço', 'bom', ',', 'produto', 'ótimo', 'e', 'entrega', 'rápida'], tags=['753']),\n",
              " TaggedDocument(words=['Ótimo', 'produto', 'e', 'chegou', 'antes', 'do', 'prazo'], tags=['754']),\n",
              " TaggedDocument(words=['correto'], tags=['755']),\n",
              " TaggedDocument(words=['Recomendo', '...', 'chegou', 'dentro', 'do', 'prazo', '.'], tags=['756']),\n",
              " TaggedDocument(words=['bom'], tags=['757']),\n",
              " TaggedDocument(words=['Excelente', 'produto', ',', 'veio', 'embaço', 'perfeitamente', ',', 'chegou', 'antes', 'do', 'previsto', '.', 'Amei'], tags=['758']),\n",
              " TaggedDocument(words=['otimo', 'de', 'se', 'comprar'], tags=['759']),\n",
              " TaggedDocument(words=['Produto', 'chegou', 'dentro', 'do', 'prazo'], tags=['760']),\n",
              " TaggedDocument(words=['Muito', 'bom'], tags=['761']),\n",
              " TaggedDocument(words=['Produto', 'de', 'otima', 'qualidade', ',', 'parabéns', '.'], tags=['762']),\n",
              " TaggedDocument(words=['muito', 'boa', 'a', 'loja'], tags=['763']),\n",
              " TaggedDocument(words=['entregue', 'antes', 'do', 'prazo', ',', 'sistema', 'de', 'acompanhamento', 'do', 'produto', 'credibiliza', 'a', 'loja', '.'], tags=['764']),\n",
              " TaggedDocument(words=['Boa', 'tarde', 'meu', 'produto', 'veio', 'faltando', 'peças', 'e', 'do', 'tempo', 'que', 'compro', 'pela', 'lojas', 'Zoop', 'sempre', 'veio', 'certinho', 'e', 'dessa', 'vez', 'não'], tags=['765']),\n",
              " TaggedDocument(words=['chegou', 'antes', 'do', 'prazo'], tags=['766']),\n",
              " TaggedDocument(words=['Tá', 'demorando', 'mt'], tags=['767']),\n",
              " TaggedDocument(words=['Infelizmente', 'o', 'produto', 'veio', 'com', 'defeito', ',', 'a', 'mídia', 'esta', 'corrompida', '....', 'Perdi', 'a', 'troca', 'pois', 'inutilizei', 'a', 'embalagem', 'sem', 'antes', 'testar', ',', 'o', 'que', 'me', 'deixa', 'incapacitado', 'de', 'trocar', '...'], tags=['768']),\n",
              " TaggedDocument(words=['Eu', 'amei', 'o', 'produto', '.', 'Chegou', 'antes', 'do', 'prazo'], tags=['769']),\n",
              " TaggedDocument(words=['Eu', 'compro', 'sempre', 'no', 'baratheon', 'e', 'adoro', 'tudo', '.'], tags=['770']),\n",
              " TaggedDocument(words=['Sempre', 'cumpre', 'os', 'prazos', 'de', 'entregues'], tags=['771']),\n",
              " TaggedDocument(words=['tudo', 'aconteceu', 'como', 'o', 'previsto'], tags=['772']),\n",
              " TaggedDocument(words=['Entrega', 'rápida', 'produto', 'perfeito'], tags=['773']),\n",
              " TaggedDocument(words=['ROUBO', '!', 'Na', 'nota', 'fiscal', 'são', '2', 'unidades', 'mas', 'no', 'embrulho', 'vem', 'apenas', 'UMA', '.', 'Querem', 'cobrar', 'sem', 'entregar', '?'], tags=['774']),\n",
              " TaggedDocument(words=['Excelente', 'produto', 'para', 'colecionador', '.', 'Recomendo', '!'], tags=['775']),\n",
              " TaggedDocument(words=['Produto', 'original', ',', 'entrega', 'rápida', 'e', 'bom', 'preço', '!', '!', '!'], tags=['776']),\n",
              " TaggedDocument(words=['Produto', 'bom', 'e', 'entrega', 'no', 'tempo', 'rapido', 'excelente'], tags=['777']),\n",
              " TaggedDocument(words=['Adorei', 'o', 'produto', 'é', 'a', 'compra', 'excelente', '!'], tags=['778']),\n",
              " TaggedDocument(words=['ASPIRADOR', 'MUITO', 'BOM', ',', 'LEVE', 'E', 'FÁCIL', 'DE', 'MANUSEAR', '!'], tags=['779']),\n",
              " TaggedDocument(words=['Material', 'do', 'produto', 'bom', ',', 'porém', 'não', 'cabe', 'perfeitamente', '.'], tags=['780']),\n",
              " TaggedDocument(words=['Compensa', 'comprar', '.', 'Pra', 'quem', 'quer', 'um', 'material', 'de', 'reserva', 'pra', 'usar', 'em', 'treinos', ',', 'vale', 'bastante', '.'], tags=['781']),\n",
              " TaggedDocument(words=['Veio', 'certinho', 'e', 'rapido', 'boa', 'qualidade', '!'], tags=['782']),\n",
              " TaggedDocument(words=['Produto', 'lindo', 'e', 'de', 'ótima', 'qualidade'], tags=['783']),\n",
              " TaggedDocument(words=['Produto', 'de', 'qualidade', ',', 'recomendo', '...'], tags=['784']),\n",
              " TaggedDocument(words=['Produto', 'entregue', 'dentro', 'do', 'prazo', 'previsto'], tags=['785']),\n",
              " TaggedDocument(words=['O', 'poduto', 'é', 'muito', 'bom', 'eu', 'recomendo', 'É', 'chegou', 'rápido'], tags=['786']),\n",
              " TaggedDocument(words=['Pedido', ':', '02-662119905', 'Alça', 'Dupla', 'X-double', 'Couro', 'Legitimo', 'Cameras', 'Dslr', 'Double', 'Strap', 'INFORMO', 'QUE', 'O', 'PRODUTO', 'NÃO', 'FOI', 'ENTREGUE', ',', 'PORÉM', 'NO', 'SITE', 'ESTÁ', 'SENDO', 'INFORMADO', 'QUE', 'FOI', '.', 'PEÇO', 'ESCLARECIMENTOS', '.'], tags=['787']),\n",
              " TaggedDocument(words=['Recomendo', '!'], tags=['788']),\n",
              " TaggedDocument(words=['Veio', 'um', 'relógio', 'feminino', 'no', 'lugar', 'do', 'relógio', 'masculino', 'que', 'eu', 'pedi', ',', 'fiz', 'o', 'cancelamento', 'e', 'a', 'devolução', 'do', 'que', 'eu', 'recebi', 'e', 'também', 'sobre', 'o', 'estorno', 'e', 'não', 'recebi', 'nenhuma', 'resposta', '.'], tags=['789']),\n",
              " TaggedDocument(words=['Muito', 'bim'], tags=['790']),\n",
              " TaggedDocument(words=['Ou', 'a', 'película', 'é', 'errada', 'ou', 'o', 'modelo', 'não', 'protege', 'toda', 'a', 'frente'], tags=['791']),\n",
              " TaggedDocument(words=['Satisfatório', '!'], tags=['792']),\n",
              " TaggedDocument(words=['Excelente', '.'], tags=['793']),\n",
              " TaggedDocument(words=['Gosto', 'muito', 'de', 'comprar', 'com', 'lojas', 'Zoop', '.', 'São', 'confiáveis', '.'], tags=['794']),\n",
              " TaggedDocument(words=['Comprei', 'a', 'capa', 'de', 'cor', 'preta', ',', 'porém', 'recebi', 'em', '23/07/2018', 'na', 'cor', 'branca', ',', 'gostaria', 'de', 'trocar', ',', 'visto', 'que', 'o', 'produto', 'veio', 'na', 'cor', 'errada', '.'], tags=['795']),\n",
              " TaggedDocument(words=['Não', 'recebi', 'o', 'produto', 'na', 'data', 'prevista', ',', 'enviei', 'várias', 'mensagens', 'p', 'informações', ',', 'ja', 'q', 'no', 'rastreamento', 'estava', 'parado', 'há', '3', 'semanas', ',', 'simplesmente', 'não', 'gostei', 'e', 'não', 'recomendo', 'entrega', 'da', 'targaryen'], tags=['796']),\n",
              " TaggedDocument(words=['Produto', 'chegou', 'bem', 'antes', 'da', 'data', 'prevista'], tags=['797']),\n",
              " TaggedDocument(words=['Gostei', 'mto', 'do', 'produto', '!'], tags=['798']),\n",
              " TaggedDocument(words=['Estou', 'muito', 'satisfeita'], tags=['799']),\n",
              " TaggedDocument(words=['Eu', 'comprei', '2', 'unidades', 'do', 'papel', 'de', 'parede', '.', 'Mas', 'só', 'Chegou', '1', 'rolo', '.', 'Como', 'resolver', 'essa', 'situação', 'm'], tags=['800']),\n",
              " TaggedDocument(words=['Super', 'recomendo', 'a', 'loja', '.', 'Produto', 'entregue', 'muito', 'antes', 'do', 'prazo', 'e', 'de', 'excelente', 'qualidade', '.'], tags=['801']),\n",
              " TaggedDocument(words=['Muito', 'bom', '.', 'Entrega', 'antecipada', 'faz', 'a', 'diferença', ';'], tags=['802']),\n",
              " TaggedDocument(words=['Excelente', 'loja', '...', 'envio', 'rápido', 'e', 'produto', 'certo', '.'], tags=['803']),\n",
              " TaggedDocument(words=['Tudo', 'correto', 'exceto', 'a', 'demora', 'que', 'não', 'é', 'culpa', 'do', 'fornecedor', 'e', 'sim', 'dos', 'Correios', '.'], tags=['804']),\n",
              " TaggedDocument(words=['Produto', 'bom', ',', 'entrega', 'rápida'], tags=['805']),\n",
              " TaggedDocument(words=['Produto', 'de', 'otima', 'qualidade', 'e', 'bem', 'embalado'], tags=['806']),\n",
              " TaggedDocument(words=['Recomendo', 'a', 'todos', 'a', 'compra', 'de', 'produtos', 'na', 'Zoop', ',', 'minha', 'compra', 'foi', 'entregue', 'a', 'contento', 'e', 'no', 'prazo', '.'], tags=['807']),\n",
              " TaggedDocument(words=['No', 'site', 'da', 'Zoop', 'a', 'data', 'de', 'entrega', 'seria', '04/01', ',', 'mas', 'no', 'código', 'de', 'rastreio', 'o', 'produto', 'foi', 'postado', 'no', 'correio', 'no', 'dia', '04/01', ',', 'ou', 'seja', ',', 'o', 'produto', 'ainda', 'está', 'em', 'trânsito', 'no', 'dia', 'de', 'hoje', '06/01', '.'], tags=['808']),\n",
              " TaggedDocument(words=['Entrega', 'feita', 'muito', 'antes', 'do', 'prazo', ',', 'chegou', 'bem', 'embalado', 'e', 'produto', 'excelente', '!', '!'], tags=['809']),\n",
              " TaggedDocument(words=['Produto', 'lindo', 'perfeito', ',', 'chegou', 'no', 'tempo', 'certo', 'tudo', 'direitinho'], tags=['810']),\n",
              " TaggedDocument(words=['Ótimo', 'produto', ',', 'entrega', 'antes', 'do', 'prazo', '.', 'Recomendo', '!'], tags=['811']),\n",
              " TaggedDocument(words=['O', 'produto', 'chegou', 'antes', 'do', 'prazo', 'previsto'], tags=['812']),\n",
              " TaggedDocument(words=['Rápido', 'ainda', 'veio', 'com', 'um', 'brinde', '!', 'top'], tags=['813']),\n",
              " TaggedDocument(words=['quero', 'o', 'meu', 'produto'], tags=['814']),\n",
              " TaggedDocument(words=['Sistema', 'operacional', 'de', 'compra', 'fácil', 'de', 'ser', 'manuseado', 'e', 'compreendido', '.', 'Entrega', 'rápida', 'e', 'o', 'metros', 'comprado', 'corresponde', 'com', 'o', 'da', 'propaganda', '.', 'Compraria', 'novamente', '.'], tags=['815']),\n",
              " TaggedDocument(words=['O', 'produto', 'chegou', 'rasgado'], tags=['816']),\n",
              " TaggedDocument(words=['O', 'produto', 'é', 'feito', 'de', 'um', 'material', 'de', 'Boa', 'qualidade', ',', 'mas', 'é', 'muito', 'difícil', 'colocar', 'a', 'lâmina', 'de', 'uma', 'forma', 'precisa', 'no', 'navalhete', 'podendo', 'até', 'se', 'ferir', 'na', 'hora', 'de', 'colocar', 'ou', 'retirar', 'a', 'lâmina', '!'], tags=['817']),\n",
              " TaggedDocument(words=['Bom', 'produto', ',', 'gostei', '.', 'Apenas', 'faltou', 'ser', 'um', 'pouco', 'mais', 'alti', '.', 'mas', 'recomendo', '.'], tags=['818']),\n",
              " TaggedDocument(words=['Pratico', 'fácil', 'de', 'lavar', 'bem', 'compacto', '.', 'Minha', 'esposa', 'amou', '.recomendo'], tags=['819']),\n",
              " TaggedDocument(words=['Entregaram', 'os', 'produtos', ',', 'mas', ',', 'Não', 'cumpriram', 'o', 'prazo', 'de', 'entrega', 'passou', 'do', 'prazo', '.'], tags=['820']),\n",
              " TaggedDocument(words=['O', 'produto', 'é', 'ótimo', 'e', 'original', 'recomendo', '.'], tags=['821']),\n",
              " TaggedDocument(words=['Minha', 'compra', 'veio', 'pela', 'metade', ',', 'comprei', 'uma', 'capinha', 'de', 'celular', 'e', 'uma', 'película', 'de', 'vidro', 'somente', 'veio', 'a', 'capinha', 'a', 'película', 'não', 'veio'], tags=['822']),\n",
              " TaggedDocument(words=['Motivo', 'q', 'um', 'dos', 'fones', 'n', 'consigo', 'sintonizar', 'rádio', 'FM', 'da', 'cor', 'preta', 'n', 'restante', 'parece', 'bom', '.'], tags=['823']),\n",
              " TaggedDocument(words=['chegou', 'rapidinho', '!', '!', '!', '!'], tags=['824']),\n",
              " TaggedDocument(words=['O', 'produto', 'chegou', 'no', 'prazo', 'e', 'em', 'perfeitas', 'condições', '!'], tags=['825']),\n",
              " TaggedDocument(words=['Produto', 'excelente', 'para', 'jogar', 'no', 'PS2', '.', 'Consta', 'que', 'serve', 'também', 'para', 'PS3', 'e', 'PC', ',', 'vou', 'testar', '.'], tags=['826']),\n",
              " TaggedDocument(words=['Bom', 'produto', '.'], tags=['827']),\n",
              " TaggedDocument(words=['Produto', 'chegou', 'no', 'prazo', 'da', 'entrega', 'sem', 'nenhum', 'detalhe', '.'], tags=['828']),\n",
              " TaggedDocument(words=['Material', 'de', 'otima', 'qualidade', '!'], tags=['829']),\n",
              " TaggedDocument(words=['Entre', 'super', 'rápida', '!'], tags=['830']),\n",
              " TaggedDocument(words=['entregue', 'bem', 'embalado'], tags=['831']),\n",
              " TaggedDocument(words=['excelente'], tags=['832']),\n",
              " TaggedDocument(words=['Dois', 'dias', 'após', 'o', 'prazo', ',', 'um', 'mês', 'após', 'a', 'compra', 'e', 'nada', 'do', 'produto', 'chegar', '!', '!', 'Frete', 'caro', 'e', 'ineficiente', '!', '!'], tags=['833']),\n",
              " TaggedDocument(words=['Tudo', 'conforme', 'combinado', '.'], tags=['834']),\n",
              " TaggedDocument(words=['Recebi', 'o', 'produto', 'com', 'cx', 'aberta', ',', 'sem', 'lacre', ',', 'sem', 'nota', 'fiscal', ',', 'sem', 'pedido', 'de', 'compra', 'e', 'com', 'remetente', 'diferente', 'do', 'anuncio', '.', 'Quero', 'devolucao', 'do', 'dinheiro', '.', 'Descontentamento'], tags=['835']),\n",
              " TaggedDocument(words=['Recomendo', ',', 'é', 'um', 'bons', 'relógio', ',', 'mas', 'tinha', 'q', 'ter', 'como', 'desativar', 'o', 'segundo', 'tempo', ',', 'e', 'no', 'manual', 'tinha', 'q', 'vim', 'explicado', 'pra', 'q', 'serve', 'a', 'função', 'TR', ',', 'fora', 'isso', 'eu', 'recomendo', ',', 'foi', 'entregue', 'bem', 'antes', 'do', 'prazo'], tags=['836']),\n",
              " TaggedDocument(words=['Produto', 'de', 'ótima', 'qualidade', '.'], tags=['837']),\n",
              " TaggedDocument(words=['A', 'entrega', 'foi', 'realizada', 'corretamente', ',', 'dentro', 'do', 'combinado', '.', 'O', 'produto', 'veio', 'perfeito', 'e', 'em', 'condições', 'de', 'uso', '.'], tags=['838']),\n",
              " TaggedDocument(words=['Foi', 'entregue', 'uma', 'quantidade', 'do', 'produto', '.', 'Sendo', 'que', 'pedi', 'duas', 'quantidades'], tags=['839']),\n",
              " TaggedDocument(words=['Estou', 'satisfeita', 'com', 'produto', '.'], tags=['840']),\n",
              " TaggedDocument(words=['Ótimo', 'vendedor', ',', 'ótimo', 'produto', 'chegou', 'no', 'prazo', 'certo', 'eu', 'recomendo'], tags=['841']),\n",
              " TaggedDocument(words=['O', 'prazo', 'de', 'entrega', 'podia', 'ser', 'menor', '!'], tags=['842']),\n",
              " TaggedDocument(words=['cEGOU', 'ANTES', 'DO', 'PRAZO', ',', 'MUITO', 'BOM', '!', '!', '!', '!'], tags=['843']),\n",
              " TaggedDocument(words=['Muito', 'Bom', '!', 'Gostei', 'Bastante', '!', 'Tecido', 'Ótimo', '!', 'Atendeu', 'Minhas', 'Espectativas', '!', '👏👏👏', 'Super', 'Recomendo', '!', '👍'], tags=['844']),\n",
              " TaggedDocument(words=['Produto', 'adequado', 'as', 'minhas', 'necessidades'], tags=['845']),\n",
              " TaggedDocument(words=['recomendo'], tags=['846']),\n",
              " TaggedDocument(words=['Loja', 'confiável'], tags=['847']),\n",
              " TaggedDocument(words=['Produto', 'de', 'excelente', 'qualidade', ',', 'vendedores', 'responsáveis', ',', 'entrega', 'no', 'prazo', '...', 'Super', 'satisfeita', '.'], tags=['848']),\n",
              " TaggedDocument(words=['Primeira', 'vez', 'que', 'compro', 'pela', 'loja', 'virtual', 'e', 'não', 'me', 'arrependo', '.', 'Chegou', 'no', 'prazo', '.'], tags=['849']),\n",
              " TaggedDocument(words=['Recebi', 'uma', 'escova', 'de', 'outra', 'marca', '.', 'Não', 'consigo', 'resolver', 'o', 'problema', '.', 'Péssimos', 'atendimentos', 'das', 'lojas', 'Zoop', 'e', 'parceira', '!', '!', '!'], tags=['850']),\n",
              " TaggedDocument(words=['chegou', 'tudo', 'certo', ',', 'recomendo', '.'], tags=['851']),\n",
              " TaggedDocument(words=['Ótimo'], tags=['852']),\n",
              " TaggedDocument(words=['Adorei'], tags=['853']),\n",
              " TaggedDocument(words=['Otima', 'loja'], tags=['854']),\n",
              " TaggedDocument(words=['Chegou', 'bem', 'rápido', 'e', 'parece', 'ser', 'bom', ',', 'só', 'vou', 'descobrir', 'com', 'o', 'uso', ',', 'a', 'capa', 'para', 'o', 'sofá', 'de', '3', 'lugares', 'veio', 'um', 'pouco', 'menor', 'a', 'largura', 'veio', '1,46', ',', 'mas', 'a', 'de', '2', 'lugares', 'veio', 'no', 'tamanho', 'certo', '.'], tags=['855']),\n",
              " TaggedDocument(words=['Adorei', 'o', 'produto', ',', 'chegou', 'antes', 'do', 'prazo'], tags=['856']),\n",
              " TaggedDocument(words=['Imagens', 'na', 'hora', 'da', 'compra', 'são', 'bem', 'distantes', 'do', 'produto', 'final'], tags=['857']),\n",
              " TaggedDocument(words=['Produto', 'de', 'qualidade', '.', 'Entrega', 'rápida', '.', 'Recomendo'], tags=['858']),\n",
              " TaggedDocument(words=['Minha', 'nota', 'é', '10'], tags=['859']),\n",
              " TaggedDocument(words=['Tenha', 'sempre', 'esse', 'atendimento', 'ao', 'cliente', '.'], tags=['860']),\n",
              " TaggedDocument(words=['Era', 'o', 'que', 'eu', 'estava', 'esperando', 'muito', 'bonito', 'e', 'seu', 'led', 'é', 'perfeito', 'sem', 'conta', 'o', 'som', 'que', 'é', 'muito', 'potente', 'enfim', 'perfeito'], tags=['861']),\n",
              " TaggedDocument(words=['O', 'produto', 'é', 'conforme', 'a', 'foto', '.', 'atendeu', 'todas', 'minhas', 'expectativas', '.', 'Super', 'Indico'], tags=['862']),\n",
              " TaggedDocument(words=['O', 'pedido', 'não', 'foi', 'feito', 'no', 'dia', '03/7', ',', 'como', 'consta', 'neste', 'formulário', '.', 'Até', 'que', 'o', 'produto', 'seja', 'entregue', ',', 'não', 'tenho', 'como', 'recomendar', 'a', 'loja', '.', 'Há', 'que', 'aguardar', '.'], tags=['863']),\n",
              " TaggedDocument(words=['Agradeço', 'muito', '!', 'Amei', 'chegou', 'antes', 'do', 'prazo', 'e', 'perfeita', '!', 'Virei', 'cliente', '!', 'Super', 'indico', '!', 'Obrigada'], tags=['864']),\n",
              " TaggedDocument(words=['O', 'cheiro', 'muito', 'bom'], tags=['865']),\n",
              " TaggedDocument(words=['Muito', 'fácil', 'e', 'rápido', '.', 'Tempo', 'de', 'entrega', 'no', 'menor', 'prazo', '..', 'Mas', ',', 'o', 'produto', 'é', 'muito', 'inferior', '.', 'Obrigada', '.'], tags=['866']),\n",
              " TaggedDocument(words=['Produto', 'veio', 'certo', 'como', 'vi', 'na', 'foto', 'e', 'chegou', 'antes', 'do', 'prazo', '.', 'Gostei', 'bastante', '!', '!', '!'], tags=['867']),\n",
              " TaggedDocument(words=['Gosto', 'muito', 'de', 'comprarias', 'Zoop'], tags=['868']),\n",
              " TaggedDocument(words=['Ótimo', ',', 'produto', 'certinho', ',', 'entregue', 'dentro', 'do', 'prazo', ',', 'tudo', 'ok', '.'], tags=['869']),\n",
              " TaggedDocument(words=['Muito', 'bonito', ',', 'aparenta', 'qualidade', '.', 'Ainda', 'não', 'o', 'apliquei', ',', 'por', 'isso', 'não', 'posso', 'falar', 'quanto', 'a', 'aderência', 'do', 'mesmo', '.', 'Pelo', 'custo', 'beneficio', 'RECOMENDO', '.'], tags=['870']),\n",
              " TaggedDocument(words=['MATERIAL', 'MUITO', 'BOM'], tags=['871']),\n",
              " TaggedDocument(words=['Poderia', 'ter', 'vindo', 'melhor', 'embalado', ',', 'o', 'relógio', 'chegou', 'com', 'alguns', 'riscos', 'mas', 'é', 'um', 'ótimo', 'produto'], tags=['872']),\n",
              " TaggedDocument(words=['Não', 'dei', 'nota', '5', 'pq', 'não', 'veio', 'na', 'mesma', 'embalagem', '.', 'Veio', 'embalagem', 'branca', 'proibido', 'pra', 'venda', ',', 'mas', 'por', 'outro', 'lado', 'o', 'preço', 'estava', 'bom'], tags=['873']),\n",
              " TaggedDocument(words=['Ótima'], tags=['874']),\n",
              " TaggedDocument(words=['muito', 'bom', 'produto', 'e', 'chegou', 'perfeito'], tags=['875']),\n",
              " TaggedDocument(words=['fantástico'], tags=['876']),\n",
              " TaggedDocument(words=['Ao', 'comprar', '11', 'lixeiras', ',', 'tive', 'que', 'pagar', 'o', 'frete', 'individualmente', ',', 'como', 'se', 'tivesse', 'comprado', 'apenas', '1', 'lixeira', '.', 'O', 'poderia', 'ter', 'montado', '1', 'caixa', 'maior', 'com', 'as', '11', 'lixeiras', 'dentro', 'que', 'seria', 'mais', 'barato'], tags=['877']),\n",
              " TaggedDocument(words=['Ok'], tags=['878']),\n",
              " TaggedDocument(words=['Tudo', 'ok', '.', 'Conforme', 'o', 'anúncio', '.'], tags=['879']),\n",
              " TaggedDocument(words=['Perfeito'], tags=['880']),\n",
              " TaggedDocument(words=['Os', 'produtos', 'chegaram', 'certinho', 'no', 'prazo', 'estou', 'muito', 'satisfeita', 'muito', 'obrigado', 'vcs', 'estão', 'de', 'parabéns'], tags=['881']),\n",
              " TaggedDocument(words=['A', 'entrega', 'foi', 'antes', 'do', 'prazo', 'estipulado', ',', 'e', 'o', 'produto', 'foi', 'entregue', 'como', 'descrito', '.'], tags=['882']),\n",
              " TaggedDocument(words=['recomendo', 'a', 'loa', 'pois', 'cumpriu', 'o', 'prazo', 'certinho', 'mas', 'o', 'produto', 'é', 'muito', 'ruim', '...', 'pessima', 'qualidade', '.'], tags=['883']),\n",
              " TaggedDocument(words=['gostei', 'da', 'compra', 'chegou', 'antes', 'do', 'combinado', '..', 'recomendo', '...'], tags=['884']),\n",
              " TaggedDocument(words=['Recomendo', 'rápida', 'entrega'], tags=['885']),\n",
              " TaggedDocument(words=['Chegou', 'dentro', 'do', 'prazo', '.'], tags=['886']),\n",
              " TaggedDocument(words=['Recebi', 'a', 'fonte', 'correta', ',', 'porém', 'o', 'cabo', 'de', 'energia', 'estava', 'com', 'um', 'dos', 'dentes', 'da', 'tomada', 'partido', ',', 'fora', 'isso', 'testei', 'a', 'fonte', 'e', 'funcionou', 'perfeitamente'], tags=['887']),\n",
              " TaggedDocument(words=['produto', 'entregue', 'antes', 'do', 'prazo', ',', 'muito', 'satisfeita', '.'], tags=['888']),\n",
              " TaggedDocument(words=['Comprei', 'a', 'capinha', ',', 'paguei', 'o', 'frete', 'caro', 'e', 'quando', 'recebo', 'o', 'produto', 'não', 'veio', 'a', 'cor', 'na', 'qual', 'eu', 'havia', 'comprado', '.', 'Decidi', 'não', 'devolver', ',', 'pelo', 'custo', 'adicional', 'e', 'demora', 'na', 'entrega', 'do', 'produto', 'correto', '.'], tags=['889']),\n",
              " TaggedDocument(words=['Produto', 'enviado', 'com', 'muito', 'carinho', 'e', 'atenção', '!', '!', '!', 'Adorei', '.'], tags=['890']),\n",
              " TaggedDocument(words=['Recebi', 'produto', 'errado', 'à', 'uma', 'semana', '.', 'Aceitei', 'mas', 'o', 'valor', 'do', 'produto', 'entregue', 'é', 'menor', '.', 'Pedi', 'reembolso', 'mas', 'até', 'agora', 'nada', ',', 'faz', '9', 'dias', 'já'], tags=['891']),\n",
              " TaggedDocument(words=['recebi', '2', 'dos', '3', 'produtos', 'desejados'], tags=['892']),\n",
              " TaggedDocument(words=['Produto', 'não', 'foi', 'entregue', ',', 'entregaram', 'somente', 'um', 'envelope', 'vazio', ',', 'sem', 'nada', ',', 'nem', 'um', 'papel', 'dentro', ',', 'um', 'absurdo', ',', 'puro', 'golpe', ',', 'caso', 'de', 'POLICIA', '.'], tags=['893']),\n",
              " TaggedDocument(words=['Entrega', 'rápida', 'antes', 'do', 'prazo', ',', 'objeto', 'muito', 'bom', 'de', 'acordo', 'com', 'o', 'anuncio', '.'], tags=['894']),\n",
              " TaggedDocument(words=['Gostei', 'muito', 'do', 'meu', 'produto', 'só', 'acho', 'que', 'os', 'panos', 'poderiam', 'ser', 'maiores', ',', 'mais', 'está', 'Tudo', 'certo', '....', 'super', 'recomendo', 'este', 'sitie', ',', 'entrega', 'muito', 'antes', 'do', 'prazo', '...', 'com', 'certeza', 'irei', 'comprar', 'outras', 'vezes', '.'], tags=['895']),\n",
              " TaggedDocument(words=['Lojas', 'de', 'altamente', 'de', 'qualidade'], tags=['896']),\n",
              " TaggedDocument(words=['Excelente', 'produto', '.'], tags=['897']),\n",
              " TaggedDocument(words=['Chegou', 'muito', 'rápido', ',', 'fiquei', 'na', 'duvida', 'por', 'nao', 'conhecer', 'o', 'produto', ',', 'mas', 'muito', 'bom', 'o', 'produto'], tags=['898']),\n",
              " TaggedDocument(words=['Super', 'recomendo', 'o', 'produto', 'e', 'a', 'loja', '!'], tags=['899']),\n",
              " TaggedDocument(words=['Produto', 'muito', 'bom', 'entrega', 'rápida'], tags=['900']),\n",
              " TaggedDocument(words=['esperava', 'pelo', 'preço', 'que', 'o', 'produto', 'fosse', 'melhor', '.', 'o', 'material', 'é', 'de', 'baixa', 'qualidade', 'e', 'a', 'tampa', 'fica', 'meio', 'solta', '.', 'não', 'gostei', 'pelo', 'preço', 'absurdo', '.', 'nao', 'vale', 'a', 'pena', '.'], tags=['901']),\n",
              " TaggedDocument(words=['SATISFEITA', 'COM', 'PRODUTO', ',', 'CUMPRE', 'O', 'OBJETIVO', 'QUE', 'É', 'BOMBEAR', 'ÁGUA', ',', 'NO', 'MEU', 'CASO', ',', 'PARA', 'UMA', 'FONTE', 'DE', 'ÁGUA', '.', 'E', 'LOJAS', 'Zoop', 'SEMPRE', 'ENTREGA', 'ANTES', 'DO', 'PRAZO', 'E', 'PREÇO', 'BOMMMMM'], tags=['902']),\n",
              " TaggedDocument(words=['Recebi', 'ante', 'da', 'data', 'entrega', ',', 'a', 'americana', 'está', 'de', 'parabéns', ',', 'o', 'tapete', 'muito', 'bom', ',', 'cor', 'bonita', 'eu', 'super', 'recomendo', '...'], tags=['903']),\n",
              " TaggedDocument(words=['Recebi', 'metade', 'do', 'material', '.'], tags=['904']),\n",
              " TaggedDocument(words=['Ainda', 'não', 'abri', 'a', 'embalagem', 'porque', 'vou', 'dar', 'de', 'presente', '.', 'Mas', 'recebi', 'antes', 'mesmo', 'do', 'prazo', '.'], tags=['905']),\n",
              " TaggedDocument(words=['Otimo', 'qualidade'], tags=['906']),\n",
              " TaggedDocument(words=['Muito', 'bem', 'atendida', 'chegou', 'antes', 'do', 'prazo'], tags=['907']),\n",
              " TaggedDocument(words=['A', 'única', 'coisa', 'q', 'eu', 'acho', 'q', 'as', 'entregas', 'poderiam', 'ser', 'mais', 'rápidas', 'n', 'a', 'cada', '10', 'ou', '15', 'dias', 'e', 'muito', 'demorado'], tags=['908']),\n",
              " TaggedDocument(words=['Nao', 'consegui', 'fazer', 'contato', 'com', 'o', 'fornecedor', 'para', 'solicitar', 'a', 'troca', '.', 'Veio', 'o', 'modeo', 'errado', 'do', 'relógio'], tags=['909']),\n",
              " TaggedDocument(words=['Ótima', 'empresa', ',', 'entregou', 'antes', 'do', 'prazo', '.', 'Vocês', 'estão', 'de', 'parabéns', '.'], tags=['910']),\n",
              " TaggedDocument(words=['Comprei', 'um', 'produto', 'pra', 'entregar', 'na', 'minha', 'casa', ',', 'paguei', 'frete', ',', 'e', 'deixaram', 'no', 'correio', 'pra', 'retirar', ',', 'não', 'é', 'certo', ',', 'porq', 'cobram', 'frete', 'então', '?'], tags=['911']),\n",
              " TaggedDocument(words=['Qualidade', 'e', 'preço', 'justo', ',', 'com', 'entrega', 'em', 'tempo', 'recorde', '.'], tags=['912']),\n",
              " TaggedDocument(words=['Produto', 'de', 'ótima', 'qualidade', 'e', 'entrega', 'turbo', '!'], tags=['913']),\n",
              " TaggedDocument(words=['Recebi', 'super', 'rápido', '.'], tags=['914']),\n",
              " TaggedDocument(words=['Entrega', 'super', 'rápida', ',', 'recomendo', 'o', 'parceiro', 'targaryen', '.', 'NOTA', '1000', '!', '!'], tags=['915']),\n",
              " TaggedDocument(words=['Material', 'de', 'boa', 'qualidade', 'e', 'bonito', '..', 'Só', 'achei', 'que', 'fosse', 'maior', '!', '!', '!'], tags=['916']),\n",
              " TaggedDocument(words=['Produto', 'enorme', 'e', 'confortavel', '.'], tags=['917']),\n",
              " TaggedDocument(words=['Adorei', 'o', 'produto', 'e', 'chegou', 'antes', 'do', 'q', 'eu', 'esperava', '...', 'super', 'recomendo'], tags=['918']),\n",
              " TaggedDocument(words=['produto', 'bom', 'gostei', 'muito', '!'], tags=['919']),\n",
              " TaggedDocument(words=['O', 'produto', 'não', 'foi', 'entregue', 'na', 'minha', 'casa', 'Tive', 'q', 'ir', 'buscar', 'na', 'agência', 'Paguei', '20', 'reais', 'de', 'frete', 'é', 'ainda', 'assim', 'não', 'recebi', 'em', 'casa'], tags=['920']),\n",
              " TaggedDocument(words=['Muito', 'bom'], tags=['921']),\n",
              " TaggedDocument(words=['Alguns', 'itens', 'do', 'produto', 'como', 'tampo', 'de', 'vidro', 'e', 'pés', ',', 'deixaram', 'a', 'deixar', 'devido', 'a', 'fragilidade', 'do', 'material'], tags=['922']),\n",
              " TaggedDocument(words=['Veio', 'com', 'defeitos'], tags=['923']),\n",
              " TaggedDocument(words=['O', 'tecido', 'não', 'era', 'oq', 'eu', 'esperava', ',', 'parece', 'uma', 'borracha', ',', 'igual', 'aos', 'plásticos', 'q', 'forravamos', 'as', 'mesas', 'em', 'tempo', 'do', 'colégio', '.', 'Abri', 'apenas', 'uma', 'e', 'a', 'outra', 'nem', 'abri', ',', 'por', 'favor', 'me', 'façam', 'a', 'troca', 'deste', 'priduto'], tags=['924']),\n",
              " TaggedDocument(words=['Comprei', 'na', 'segunda-feira', 'a', 'tarde', '.', 'Terça-feira', 'foi', 'feriado', 'e', 'na', 'quarta-feira', 'o', 'produto', 'chegou', 'em', 'minha', 'casa', '.', 'Parabéns', 'pela', 'rapidez', '.'], tags=['925']),\n",
              " TaggedDocument(words=['O', 'tamanho', 'é', 'pequeno', 'e', 'percebi', 'depois', 'que', 'no', 'anúncio', 'não', 'dá', 'destaque', 'as', 'dimensões', 'do', 'produto', '.', 'Deixa', 'a', 'desejar'], tags=['926']),\n",
              " TaggedDocument(words=['O', 'produto', 'chegou', 'muito', 'antes', 'do', 'prazo', 'combinado', 'e', 'deforma', 'segura', '.', 'Fiquei', 'muito', 'satisfeito', '!', '!', '!'], tags=['927']),\n",
              " TaggedDocument(words=['Mada', 'a', 'declarar'], tags=['928']),\n",
              " TaggedDocument(words=['Ainda', 'não', 'pude', 'testar', ',', 'mas', 'chegou', 'em', 'tempo', 'Record', '.'], tags=['929']),\n",
              " TaggedDocument(words=['Entrega', 'rápida', 'e', 'produto', 'muito', 'bacana', '!', '!', '!'], tags=['930']),\n",
              " TaggedDocument(words=['To', 'esperando', 'até', 'agora', 'nunca', 'recebi', 'nenhum', 'relógio', 'eu', 'comprei', 'não', 'recomendado', 'essa', 'loja'], tags=['931']),\n",
              " TaggedDocument(words=['A', 'entrega', 'foi', 'realizada', 'antes', 'mesmo', 'do', 'prazo', 'estabelecido', '.', 'Produto', 'bem', 'embalado', 'e', 'aprovado'], tags=['932']),\n",
              " TaggedDocument(words=['as', 'imagens', 'mostrava', 'foto', 'diferente', 'do', 'produto', 'que', 'recebi', '.'], tags=['933']),\n",
              " TaggedDocument(words=['Comprei', 'com', 'a', 'voltagem', '220', 'e', 'veio', '110v'], tags=['934']),\n",
              " TaggedDocument(words=['Entrega', 'perfeita', 'e', 'bem', 'antes', 'da', 'data', 'prevista', '.'], tags=['935']),\n",
              " TaggedDocument(words=['Adorei', 'o', 'produto', ',', 'ainda', 'não', 'o', 'coloquei', 'no', 'lugar', 'para', 'testar', 'a', 'fixação', 'do', 'adesivo', 'mas', 'espero', 'que', 'seja', 'bom', '.', 'Achei', 'que', 'seria', 'um', 'pouco', 'maior', ',', 'porém', 'estou', 'satisfeita', '.', 'Chegou', 'antes', 'do', 'prazo', 'estipulado👏'], tags=['936']),\n",
              " TaggedDocument(words=['Apesar', 'da', 'entrega', 'dentro', 'do', 'prazo', ',', 'o', 'tempo', 'é', 'longo', 'comparando-se', 'anoutras', 'compras', 'que', 'costumo', 'fazer', 'via', 'internet'], tags=['937']),\n",
              " TaggedDocument(words=['Tudo', 'ok'], tags=['938']),\n",
              " TaggedDocument(words=['Produto', 'mal', 'feito', ',', 'torto', ',', 'com', 'as', 'soldas', 'mal', 'feitas', '.'], tags=['939']),\n",
              " TaggedDocument(words=['Comprei', 'um', 'produto', 'que', 'está', 'com', 'defeito', 'e', 'não', 'consigo', 'trocar', 'da', 'erro', 'no', 'site', '.'], tags=['940']),\n",
              " TaggedDocument(words=['Chegou', 'em', 'perfeito', 'estado', 'e', 'antes', 'do', 'prazo', 'previsto', '.', 'Obrigada', 'pela', 'rapidez', '.'], tags=['941']),\n",
              " TaggedDocument(words=['Almofada', 'linda', ',', 'cor', 'linda', 'e', 'grandona', '.', 'Fiz', 'uma', 'excelente', 'compra', '.'], tags=['942']),\n",
              " TaggedDocument(words=['Otimo'], tags=['943']),\n",
              " TaggedDocument(words=['ÓTIMOS', 'PARCEIROS', '!', 'PARABÉNS', '!', '!', '!'], tags=['944']),\n",
              " TaggedDocument(words=['O', 'relógio', 'chegou', 'sem', 'funcionar', ',', 'e', 'não', 'é', 'original', 'Oakley', '.'], tags=['945']),\n",
              " TaggedDocument(words=['rapido', 'e', 'pratico', 'da', 'compra'], tags=['946']),\n",
              " TaggedDocument(words=['no', 'site', 'dizia', 'que', 'chegaria', 'até', '13/03', 'e', 'ainda', 'não', 'chegou', '!'], tags=['947']),\n",
              " TaggedDocument(words=['Não', 'realiza', 'o', 'que', 'promete', ',', 'depois', 'de', 'instalado', 'fica', 'vazando', 'pelo', 'cartucho', ',', 'mesmo', 'seguindo', 'as', 'instruções', ',', 'não', 'vale', 'a', 'pena', ',', 'dinheiro', 'jogado', 'fora', '.'], tags=['948']),\n",
              " TaggedDocument(words=['A', 'entrega', 'está', 'atrasada', 'e', 'sem', 'previsão', 'de', 'quando', 'vai', 'chegar'], tags=['949']),\n",
              " TaggedDocument(words=['Paguei', 'para', 'entregarem', 'na', 'minha', 'residência', ',', 'paguei', 'frete', ',', 'e', 'ainda', 'tive', 'que', 'gastar', 'pra', 'ir', 'buscar', 'num', 'correio', ',', 'completamente', 'longe', 'do', 'endereço', 'solicitado', '!'], tags=['950']),\n",
              " TaggedDocument(words=['Tudo', 'ok'], tags=['951']),\n",
              " TaggedDocument(words=['Uma', 'loja', 'super', 'perfeita', 'que', 'compre', 'com', 'seus', 'o', 'que', 'fala', 'pra', 'seu', 'cliente', 'chega', 'a', 'te', 'mesmo', 'ante', 'do', 'prazo'], tags=['952']),\n",
              " TaggedDocument(words=['Sempre', 'comprei', 'e', 'não', 'tiver', 'problema', ',', 'porém', 'dessa', 'vem', 'sim', 'meus', 'produtos', 'não', 'chegou', 'até', 'agora'], tags=['953']),\n",
              " TaggedDocument(words=['Tudo', 'dentro', 'do', 'esperado', ',', 'a', 'não', 'ser', 'o', 'correio', 'que', 'trouxe', 'a', 'embalagem', 'parecendo', 'estar', 'atropelado', 'por', 'um', 'trem', ',', 'tive', 'de', 'pessar', 'os', 'tres', 'produtos', 'pra', 'ver', 'se', 'tinha', 'perda', ',', 'pois', 'estava', 'vazando', '.'], tags=['954']),\n",
              " TaggedDocument(words=['Muito', 'eficiente', 'a', 'entrega', ',', 'com', 'produto', 'de', 'qualidade.👍'], tags=['955']),\n",
              " TaggedDocument(words=['Tudo', 'certinho', ',', 'obrigada', '.'], tags=['956']),\n",
              " TaggedDocument(words=['Fiquei', 'muito', 'satisfeita'], tags=['957']),\n",
              " TaggedDocument(words=['Atendimento', 'nota', '10', '.', 'Produto', 'de', 'muita', 'qualidade', 'e', 'prazo', 'de', 'entrega', 'respeitado', ',', 'aliás', 'chegou', 'muito', 'antes', 'do', 'tempo', 'dado', 'inicialmente', '!', 'Parabéns', '.'], tags=['958']),\n",
              " TaggedDocument(words=['Produto', 'excelente', '.', 'Recomendo', '.'], tags=['959']),\n",
              " TaggedDocument(words=['Produto', 'maravilhoso', '...', 'recomendo'], tags=['960']),\n",
              " TaggedDocument(words=['Recomendo'], tags=['961']),\n",
              " TaggedDocument(words=['Muito', 'bom', '....'], tags=['962']),\n",
              " TaggedDocument(words=['Data', 'prevista', 'para', 'entrega', '17/5', ',', 'estamos', 'com', 'urgência', 'desse', 'produto', 'e', 'nada', '.'], tags=['963']),\n",
              " TaggedDocument(words=['O', 'produto', 'chegou', '.', 'Porem', 'a', 'embalagem', 'estava', 'aberta', 'e', 'em', 'um', 'dos', 'braços', 'da', 'cadeira', 'o', 'encaixa', 'do', 'parafuso', 'estava', 'quebrado', '.', 'Fora', 'isso', ',', 'o', 'prazo', 'de', 'entrega', 'foi', 'bom', '.'], tags=['964']),\n",
              " TaggedDocument(words=['O', 'produto', 'é', 'muito', 'bom'], tags=['965']),\n",
              " TaggedDocument(words=['Não', 'recebi', 'até', 'agora', 'a', 'mercadoria', '.'], tags=['966']),\n",
              " TaggedDocument(words=['Loja', 'entregou', 'antes', 'do', 'esperado'], tags=['967']),\n",
              " TaggedDocument(words=['Adoro', 'comprar', 'na', 'loja'], tags=['968']),\n",
              " TaggedDocument(words=['o', 'produto', 'é', 'bom', 'a', 'entrega', 'é', 'rapida', ';', 'mas', 'frete', 'muito', 'caro', '.'], tags=['969']),\n",
              " TaggedDocument(words=['LOJA', 'CONFIAVEL', ',', 'MAS', 'AINDA', 'NÃO', 'RECEBI', 'O', 'PRODUTO'], tags=['970']),\n",
              " TaggedDocument(words=['A', 'compra', 'foi', 'feita', 'e', 'entregue', 'no', 'prazo', '.', 'Recomendo', 'a', 'loja', 'e', 'o', 'site', 'da', 'Zoop', '.'], tags=['971']),\n",
              " TaggedDocument(words=['preciso', 'receber', 'esse', 'produto', ',', 'deve', 'ter', 'sido', 'entregue', 'a', 'outra', 'pessoa'], tags=['972']),\n",
              " TaggedDocument(words=['Muito', 'bom'], tags=['973']),\n",
              " TaggedDocument(words=['Recomendo'], tags=['974']),\n",
              " TaggedDocument(words=['Linda', 'mochila', 'e', 'entrega', 'rápida'], tags=['975']),\n",
              " TaggedDocument(words=['Recomendo', 'a', 'compra', '!'], tags=['976']),\n",
              " TaggedDocument(words=['muito', 'bom'], tags=['977']),\n",
              " TaggedDocument(words=['Apresentaram', 'uma', 'imagem', 'do', 'produto', 'marca', 'DELL', 'e', 'enviaram', 'um', 'produto', 'Made', 'in', 'China', '.', 'Decepcionante', '.', 'E', 'sou', 'cliente', 'há', 'muito', 'tempo', '.', 'Não', 'compro', 'mais', '.'], tags=['978']),\n",
              " TaggedDocument(words=['Satisfeito'], tags=['979']),\n",
              " TaggedDocument(words=['Não', 'cumpriu', 'o', 'prazo', 'de', 'entrega', '.', 'Já', 'se', 'passaram', 'dois', 'dias', 'do', 'combinado', '.'], tags=['980']),\n",
              " TaggedDocument(words=['Recomendo', 'o', 'produto'], tags=['981']),\n",
              " TaggedDocument(words=['garrafa', 'e', 'linda', 'y', 'ven', '6copinhos', 'valeu', 'pena', 'chegou', 'antes', 'do', 'prazo', 'previsto', 'ame', 'super', 'recomendo'], tags=['982']),\n",
              " TaggedDocument(words=['O', 'produto', 'é', 'ótimo', 'meu', 'sobrinho', 'adorou', '.', 'Todas', 'as', 'ferramentas', 'são', 'funcionais', 'e', 'a', 'bancada', 'da', 'altura', 'certa', '.', 'Vale', 'a', 'pena', '.'], tags=['983']),\n",
              " TaggedDocument(words=['A', 'empresa', 'prestou', 'ótima', 'assistência', ',', 'o', 'produto', 'chegou', 'em', 'ótimo', 'estado', '.'], tags=['984']),\n",
              " TaggedDocument(words=['Somente', 'um', 'adentro', 'o', 'terminal', 'do', 'carregador', 'não', 'é', 'compatível', 'com', 'as', 'tomadas', 'de', 'uso', 'atualmente', ',', 'sendo', 'necessário', 'um', 'adaptador', '.', 'Solicito', 'que', 'encaminhe', 'um', 'conector', 'compatível', '.', 'Abraços'], tags=['985']),\n",
              " TaggedDocument(words=['.', 'O', 'produto', 'nao', 'vem', 'na', 'embalagem', 'origiaal', 'e', 'simplismente', 'foi', 'colocado', 'uma', 'gota', 'de', 'uma', 'base', 'qualquer', 'em', 'um', 'tubinho', 'de', 'plastico', 'que', 'nao', 'é', 'a', 'original', 'simplesmente', 'anuncio', 'verdadeiramente', 'enganacao', '.'], tags=['986']),\n",
              " TaggedDocument(words=['A', 'compra', 'foi', 'feita', 'em', '30/06/17', 'e', 'previsão', 'de', 'entrega', 'era', '13/07/17', '.', 'Estamos', 'no', 'dia', '17/07/17', 'e', 'até', 'agora', 'nada', '.', 'Esquema', 'de', 'entrega', 'dessa', 'loja', 'é', 'um', 'fracasso', '.'], tags=['987']),\n",
              " TaggedDocument(words=['Chegou', 'muito', 'rápido', '.'], tags=['988']),\n",
              " TaggedDocument(words=['Minha', 'avaliação', 'ta', 'sendo', 'esta', 'pq', 'aqui', 'aparece', 'q', 'recebi', 'o', 'produto', 'e', 'ainda', 'não', 'chegou', 'em', 'casa.Por', 'favor', ',', 'queria', 'saber', 'o', 'q', 'está', 'acontecendo', '?', '?', '?', 'Atenciosamente', ',', 'Juliana'], tags=['989']),\n",
              " TaggedDocument(words=['Material', 'inferior', 'ao', 'que', 'demonstrava', 'na', 'imagem', '.'], tags=['990']),\n",
              " TaggedDocument(words=['Foi', 'uma', 'compra', 'que', 'chegou', 'antes', 'da', 'data', 'marcada.gostei', 'do', 'produto', 'e', 'recomendo', '.'], tags=['991']),\n",
              " TaggedDocument(words=['Comprei', 'uma', 'coisa', 'e', 'me', 'entregaram', 'outra', 'e', 'não', 'consigo', 'fazer', 'a', 'troca', 'e', 'não', 'consigo', 'falar', 'com', 'a', 'central', '!'], tags=['992']),\n",
              " TaggedDocument(words=['Parabéns', 'a', 'está', 'empresa', 'então', 'site', 'Zoop.com.br', 'obrigado'], tags=['993']),\n",
              " TaggedDocument(words=['Gostei', 'muito', 'do', 'produto', '.'], tags=['994']),\n",
              " TaggedDocument(words=['chegou', 'correto', 'e', 'antes', 'do', 'prazo'], tags=['995']),\n",
              " TaggedDocument(words=['Ótimo', 'produto', 'e', 'prazo', 'de', 'entrega', '.'], tags=['996']),\n",
              " TaggedDocument(words=['Apenas', 'a', 'caixa', 'do', 'produto', 'veio', 'avariada', '.'], tags=['997']),\n",
              " TaggedDocument(words=['sempre', 'compro', 'pela', 'baratheon', 'e', 'recomendo', ',', 'ótimos', 'produtos', 'e', 'entrega', 'rapida'], tags=['998']),\n",
              " TaggedDocument(words=['bem', ',', 'nao', 'fiquei', 'muito', 'satisfeita', 'porque', 'comprei', 'errado', ',', 'nao', 'queria', 'lençol', 'de', 'solteiro', 'para', 'berço', 'e', 'sim', 'lençol', 'de', 'solteiro.O', 'pano', 'dos', 'lençois', 'nao', 'é', 'de', 'boa', 'qualidade', '.'], tags=['999']),\n",
              " ...]"
            ]
          },
          "metadata": {},
          "execution_count": 15
        }
      ]
    },
    {
      "cell_type": "code",
      "source": [
        "from gensim.models import Doc2Vec\n",
        "\n",
        "modelo = Doc2Vec(dados_tag, vector_size=100, min_count=2, window=2,\n",
        "                 workers= 1, seed=45, epochs=20)"
      ],
      "metadata": {
        "id": "pegHRCxUVJZ5"
      },
      "execution_count": null,
      "outputs": []
    },
    {
      "cell_type": "code",
      "source": [
        "vetor_inferido = modelo.infer_vector(['entrega'])\n",
        "vetor_inferido"
      ],
      "metadata": {
        "id": "joFjM1ZeVNHA",
        "colab": {
          "base_uri": "https://localhost:8080/"
        },
        "outputId": "76fc594d-274e-45a7-aa2c-9cf4df9fe427"
      },
      "execution_count": null,
      "outputs": [
        {
          "output_type": "execute_result",
          "data": {
            "text/plain": [
              "array([-1.64769620e-01, -4.19039913e-02,  4.54760119e-02, -3.79462056e-02,\n",
              "        5.01080491e-02,  9.11147520e-02, -6.34148195e-02, -1.34524927e-02,\n",
              "       -1.44093094e-04, -8.93729702e-02, -8.32309127e-02,  6.39296416e-03,\n",
              "       -1.13408774e-01,  2.26794947e-02, -5.24243526e-02, -8.90790075e-02,\n",
              "        4.26806416e-03,  5.67897819e-02, -7.33350264e-03, -4.51776519e-04,\n",
              "        2.68019903e-02, -4.48587239e-02,  6.47819713e-02,  2.54743416e-02,\n",
              "        4.34280699e-03, -5.58641972e-03, -1.45101354e-01, -5.51957004e-02,\n",
              "       -2.37516519e-02, -4.98959906e-02,  8.09897929e-02,  3.47317606e-02,\n",
              "        2.39257645e-02,  7.19653517e-02,  4.09114398e-02, -8.42812844e-03,\n",
              "       -8.25305060e-02,  1.40931830e-01, -1.23146042e-01, -1.24326143e-02,\n",
              "        8.56279396e-04,  1.19140306e-02,  2.38020960e-02, -6.98463097e-02,\n",
              "       -6.39492720e-02, -3.93858925e-02,  2.58012526e-02, -5.63793350e-03,\n",
              "       -8.53652507e-02, -2.06154697e-02,  3.98675874e-02,  1.44594358e-02,\n",
              "        1.33702401e-02, -1.30390283e-02,  6.22284152e-02, -1.67827949e-01,\n",
              "        1.85730832e-03,  3.75886559e-02, -5.75352088e-02, -8.52775872e-02,\n",
              "        1.73251852e-02,  4.57353657e-03,  1.39215095e-02, -8.22586268e-02,\n",
              "       -7.97502231e-03,  3.52681731e-03, -1.26321996e-02,  1.27346525e-02,\n",
              "        2.97153387e-02,  5.66098690e-02, -1.02107897e-02, -9.56945345e-02,\n",
              "        7.10890768e-03,  4.33823615e-02,  3.71651612e-02,  2.57770508e-03,\n",
              "       -8.56250301e-02,  1.28495181e-02, -1.17691616e-02, -1.06816217e-02,\n",
              "        5.43306991e-02,  7.11552501e-02,  2.62766704e-02,  4.18101177e-02,\n",
              "        1.32385939e-01,  9.06422213e-02, -1.18223064e-01,  6.91905618e-02,\n",
              "        1.44152809e-02,  8.88124704e-02,  1.56804472e-02,  1.65616861e-03,\n",
              "       -2.97884159e-02, -2.21279450e-03,  3.44381109e-02, -7.01104430e-03,\n",
              "        6.40101079e-03,  4.53412533e-02, -2.78560147e-02,  9.92778316e-02],\n",
              "      dtype=float32)"
            ]
          },
          "metadata": {},
          "execution_count": 17
        }
      ]
    },
    {
      "cell_type": "code",
      "source": [
        "frases_similares = modelo.dv.most_similar([vetor_inferido],topn=5)\n",
        "frases_similares"
      ],
      "metadata": {
        "id": "MSDFWvqxVNBt",
        "colab": {
          "base_uri": "https://localhost:8080/"
        },
        "outputId": "09c2198b-3595-4f83-8821-2c3a89e86f4c"
      },
      "execution_count": null,
      "outputs": [
        {
          "output_type": "execute_result",
          "data": {
            "text/plain": [
              "[('24666', 0.8576596975326538),\n",
              " ('9304', 0.8565875887870789),\n",
              " ('33496', 0.8525092601776123),\n",
              " ('7314', 0.845014750957489),\n",
              " ('15598', 0.8377625942230225)]"
            ]
          },
          "metadata": {},
          "execution_count": 18
        }
      ]
    },
    {
      "cell_type": "code",
      "execution_count": null,
      "metadata": {
        "id": "aYizgudGyjnv",
        "colab": {
          "base_uri": "https://localhost:8080/"
        },
        "outputId": "5d4d5f3e-e903-4e21-b272-fbb30314e0ab"
      },
      "outputs": [
        {
          "output_type": "stream",
          "name": "stdout",
          "text": [
            "Review: entrega antes do prazo - Similaridade: 0.8577\n",
            "Review: entrega no prazo. - Similaridade: 0.8566\n",
            "Review: Ainda estou esperando a entrega!  - Similaridade: 0.8525\n",
            "Review: entrega antes do prazo. - Similaridade: 0.8450\n",
            "Review: Rever a política de entrega  - Similaridade: 0.8378\n"
          ]
        }
      ],
      "source": [
        "for idx, similaridade in frases_similares:\n",
        "    print(f\"Review: {dados.iloc[int(idx)]['review']} - Similaridade: {similaridade:.4f}\")"
      ]
    },
    {
      "cell_type": "markdown",
      "metadata": {
        "id": "CZ1znWU22J0F"
      },
      "source": [
        "# Aula 2 - Ajustando os textos de review"
      ]
    },
    {
      "cell_type": "code",
      "source": [
        "nltk.download('stopwords')"
      ],
      "metadata": {
        "id": "FlVBuawXWnYq",
        "colab": {
          "base_uri": "https://localhost:8080/"
        },
        "outputId": "ee25786d-fcaf-4f72-f7fe-495805676622"
      },
      "execution_count": null,
      "outputs": [
        {
          "output_type": "stream",
          "name": "stderr",
          "text": [
            "[nltk_data] Downloading package stopwords to /root/nltk_data...\n",
            "[nltk_data]   Package stopwords is already up-to-date!\n"
          ]
        },
        {
          "output_type": "execute_result",
          "data": {
            "text/plain": [
              "True"
            ]
          },
          "metadata": {},
          "execution_count": 20
        }
      ]
    },
    {
      "cell_type": "code",
      "source": [
        "import re\n",
        "from nltk.corpus import stopwords\n",
        "\n",
        "def tratamento_inicial (texto):\n",
        "  texto = re.sub(r'\\W',' ',texto.lower())\n",
        "\n",
        "  tokens = word_tokenize_pt(texto)\n",
        "  stop_words = set(stopwords.words('portuguese'))\n",
        "  stop_words.discard('não')\n",
        "\n",
        "  return ' '.join([w for w in tokens if w not in stop_words])"
      ],
      "metadata": {
        "id": "XirixJuxWoTZ"
      },
      "execution_count": null,
      "outputs": []
    },
    {
      "cell_type": "code",
      "source": [
        "dados['tratamento_1'] = dados['review'].apply(tratamento_inicial)"
      ],
      "metadata": {
        "id": "sZAXP2FlWzyV"
      },
      "execution_count": null,
      "outputs": []
    },
    {
      "cell_type": "code",
      "source": [
        "dados['tratamento_1']"
      ],
      "metadata": {
        "id": "cLN7vvBpWzV8",
        "colab": {
          "base_uri": "https://localhost:8080/",
          "height": 458
        },
        "outputId": "3d3a7af2-10f3-45c5-8b8b-db4f9920fb62"
      },
      "execution_count": null,
      "outputs": [
        {
          "output_type": "execute_result",
          "data": {
            "text/plain": [
              "0                        recebi bem antes prazo estipulado\n",
              "1        parabéns lojas zoop adorei comprar internet se...\n",
              "2        aparelho eficiente site marca aparelho impress...\n",
              "3                              pouco travando valor ta boa\n",
              "4        vendedor confiável produto ok entrega antes prazo\n",
              "                               ...                        \n",
              "39457    entregou dentro prazo produto chegou condições...\n",
              "39458    produto não enviado nf não existe venda nf cer...\n",
              "39459    excelente mochila entrega super rápida super r...\n",
              "39460    solicitei compra capa retrovisor celta prisma ...\n",
              "39461    produto chegou ja devolver pois defeito não se...\n",
              "Name: tratamento_1, Length: 39462, dtype: object"
            ],
            "text/html": [
              "<div>\n",
              "<style scoped>\n",
              "    .dataframe tbody tr th:only-of-type {\n",
              "        vertical-align: middle;\n",
              "    }\n",
              "\n",
              "    .dataframe tbody tr th {\n",
              "        vertical-align: top;\n",
              "    }\n",
              "\n",
              "    .dataframe thead th {\n",
              "        text-align: right;\n",
              "    }\n",
              "</style>\n",
              "<table border=\"1\" class=\"dataframe\">\n",
              "  <thead>\n",
              "    <tr style=\"text-align: right;\">\n",
              "      <th></th>\n",
              "      <th>tratamento_1</th>\n",
              "    </tr>\n",
              "  </thead>\n",
              "  <tbody>\n",
              "    <tr>\n",
              "      <th>0</th>\n",
              "      <td>recebi bem antes prazo estipulado</td>\n",
              "    </tr>\n",
              "    <tr>\n",
              "      <th>1</th>\n",
              "      <td>parabéns lojas zoop adorei comprar internet se...</td>\n",
              "    </tr>\n",
              "    <tr>\n",
              "      <th>2</th>\n",
              "      <td>aparelho eficiente site marca aparelho impress...</td>\n",
              "    </tr>\n",
              "    <tr>\n",
              "      <th>3</th>\n",
              "      <td>pouco travando valor ta boa</td>\n",
              "    </tr>\n",
              "    <tr>\n",
              "      <th>4</th>\n",
              "      <td>vendedor confiável produto ok entrega antes prazo</td>\n",
              "    </tr>\n",
              "    <tr>\n",
              "      <th>...</th>\n",
              "      <td>...</td>\n",
              "    </tr>\n",
              "    <tr>\n",
              "      <th>39457</th>\n",
              "      <td>entregou dentro prazo produto chegou condições...</td>\n",
              "    </tr>\n",
              "    <tr>\n",
              "      <th>39458</th>\n",
              "      <td>produto não enviado nf não existe venda nf cer...</td>\n",
              "    </tr>\n",
              "    <tr>\n",
              "      <th>39459</th>\n",
              "      <td>excelente mochila entrega super rápida super r...</td>\n",
              "    </tr>\n",
              "    <tr>\n",
              "      <th>39460</th>\n",
              "      <td>solicitei compra capa retrovisor celta prisma ...</td>\n",
              "    </tr>\n",
              "    <tr>\n",
              "      <th>39461</th>\n",
              "      <td>produto chegou ja devolver pois defeito não se...</td>\n",
              "    </tr>\n",
              "  </tbody>\n",
              "</table>\n",
              "<p>39462 rows × 1 columns</p>\n",
              "</div><br><label><b>dtype:</b> object</label>"
            ]
          },
          "metadata": {},
          "execution_count": 23
        }
      ]
    },
    {
      "cell_type": "code",
      "execution_count": null,
      "metadata": {
        "id": "OXyOnGZX5WQC",
        "colab": {
          "base_uri": "https://localhost:8080/",
          "height": 53
        },
        "outputId": "103bb79f-f044-4518-b438-8e128dab25ed"
      },
      "outputs": [
        {
          "output_type": "execute_result",
          "data": {
            "text/plain": [
              "'Sempre compro pela Internet e a entrega ocorre antes do prazo combinado, que acredito ser o prazo máximo. No  o prazo máximo já se esgotou e ainda não recebi o produto.'"
            ],
            "application/vnd.google.colaboratory.intrinsic+json": {
              "type": "string"
            }
          },
          "metadata": {},
          "execution_count": 24
        }
      ],
      "source": [
        "dados['review'][11]"
      ]
    },
    {
      "cell_type": "code",
      "execution_count": null,
      "metadata": {
        "id": "LFsm80JY5B-n",
        "colab": {
          "base_uri": "https://localhost:8080/",
          "height": 53
        },
        "outputId": "aaa8962a-38a6-4513-b59c-652d63d354cd"
      },
      "outputs": [
        {
          "output_type": "execute_result",
          "data": {
            "text/plain": [
              "'sempre compro internet entrega ocorre antes prazo combinado acredito prazo máximo prazo máximo esgotou ainda não recebi produto'"
            ],
            "application/vnd.google.colaboratory.intrinsic+json": {
              "type": "string"
            }
          },
          "metadata": {},
          "execution_count": 25
        }
      ],
      "source": [
        "dados['tratamento_1'][11]"
      ]
    },
    {
      "cell_type": "markdown",
      "metadata": {
        "id": "qujAUTGf5p-2"
      },
      "source": [
        "## Uniformizando o texto"
      ]
    },
    {
      "cell_type": "code",
      "execution_count": null,
      "metadata": {
        "id": "LbCKdMd-5rCY",
        "colab": {
          "base_uri": "https://localhost:8080/"
        },
        "outputId": "ba5a75fe-59e5-4374-ecec-49f73f3d06a6"
      },
      "outputs": [
        {
          "output_type": "stream",
          "name": "stdout",
          "text": [
            "Requirement already satisfied: unidecode in /usr/local/lib/python3.10/dist-packages (1.3.8)\n"
          ]
        }
      ],
      "source": [
        "!pip install unidecode"
      ]
    },
    {
      "cell_type": "code",
      "source": [
        "import unidecode\n",
        "\n",
        "sem_acentos = [unidecode.unidecode(texto) for texto in dados['tratamento_1']]"
      ],
      "metadata": {
        "id": "ZHyPHd1JW87f"
      },
      "execution_count": null,
      "outputs": []
    },
    {
      "cell_type": "code",
      "source": [
        "dados['tratamento_2'] = sem_acentos\n",
        "dados['tratamento_2']"
      ],
      "metadata": {
        "id": "tyceSA_bW96B",
        "colab": {
          "base_uri": "https://localhost:8080/",
          "height": 458
        },
        "outputId": "f1e5e497-2f0f-4f9c-c4d9-3638848a04bd"
      },
      "execution_count": null,
      "outputs": [
        {
          "output_type": "execute_result",
          "data": {
            "text/plain": [
              "0                        recebi bem antes prazo estipulado\n",
              "1        parabens lojas zoop adorei comprar internet se...\n",
              "2        aparelho eficiente site marca aparelho impress...\n",
              "3                              pouco travando valor ta boa\n",
              "4        vendedor confiavel produto ok entrega antes prazo\n",
              "                               ...                        \n",
              "39457    entregou dentro prazo produto chegou condicoes...\n",
              "39458    produto nao enviado nf nao existe venda nf cer...\n",
              "39459    excelente mochila entrega super rapida super r...\n",
              "39460    solicitei compra capa retrovisor celta prisma ...\n",
              "39461    produto chegou ja devolver pois defeito nao se...\n",
              "Name: tratamento_2, Length: 39462, dtype: object"
            ],
            "text/html": [
              "<div>\n",
              "<style scoped>\n",
              "    .dataframe tbody tr th:only-of-type {\n",
              "        vertical-align: middle;\n",
              "    }\n",
              "\n",
              "    .dataframe tbody tr th {\n",
              "        vertical-align: top;\n",
              "    }\n",
              "\n",
              "    .dataframe thead th {\n",
              "        text-align: right;\n",
              "    }\n",
              "</style>\n",
              "<table border=\"1\" class=\"dataframe\">\n",
              "  <thead>\n",
              "    <tr style=\"text-align: right;\">\n",
              "      <th></th>\n",
              "      <th>tratamento_2</th>\n",
              "    </tr>\n",
              "  </thead>\n",
              "  <tbody>\n",
              "    <tr>\n",
              "      <th>0</th>\n",
              "      <td>recebi bem antes prazo estipulado</td>\n",
              "    </tr>\n",
              "    <tr>\n",
              "      <th>1</th>\n",
              "      <td>parabens lojas zoop adorei comprar internet se...</td>\n",
              "    </tr>\n",
              "    <tr>\n",
              "      <th>2</th>\n",
              "      <td>aparelho eficiente site marca aparelho impress...</td>\n",
              "    </tr>\n",
              "    <tr>\n",
              "      <th>3</th>\n",
              "      <td>pouco travando valor ta boa</td>\n",
              "    </tr>\n",
              "    <tr>\n",
              "      <th>4</th>\n",
              "      <td>vendedor confiavel produto ok entrega antes prazo</td>\n",
              "    </tr>\n",
              "    <tr>\n",
              "      <th>...</th>\n",
              "      <td>...</td>\n",
              "    </tr>\n",
              "    <tr>\n",
              "      <th>39457</th>\n",
              "      <td>entregou dentro prazo produto chegou condicoes...</td>\n",
              "    </tr>\n",
              "    <tr>\n",
              "      <th>39458</th>\n",
              "      <td>produto nao enviado nf nao existe venda nf cer...</td>\n",
              "    </tr>\n",
              "    <tr>\n",
              "      <th>39459</th>\n",
              "      <td>excelente mochila entrega super rapida super r...</td>\n",
              "    </tr>\n",
              "    <tr>\n",
              "      <th>39460</th>\n",
              "      <td>solicitei compra capa retrovisor celta prisma ...</td>\n",
              "    </tr>\n",
              "    <tr>\n",
              "      <th>39461</th>\n",
              "      <td>produto chegou ja devolver pois defeito nao se...</td>\n",
              "    </tr>\n",
              "  </tbody>\n",
              "</table>\n",
              "<p>39462 rows × 1 columns</p>\n",
              "</div><br><label><b>dtype:</b> object</label>"
            ]
          },
          "metadata": {},
          "execution_count": 28
        }
      ]
    },
    {
      "cell_type": "code",
      "source": [
        "dados['review_token'] = dados['tratamento_2'].apply(word_tokenize_pt)\n",
        "dados_tag = [TaggedDocument(words=linha['review_token'], tags=[str(i)]) for i, linha in dados.iterrows()]\n",
        "modelo = Doc2Vec(dados_tag, vector_size=100, min_count=2, window=2,\n",
        "                 workers= 1, seed=45, epochs=20)\n",
        "frases_similares = modelo.dv.most_similar([modelo.infer_vector(['entrega'])],topn=5)\n",
        "for idx, similaridade in frases_similares:\n",
        "    print(f\"Review: {dados.iloc[int(idx)]['tratamento_2']} - Similaridade: {similaridade:.4f}\")"
      ],
      "metadata": {
        "id": "wH2mCsWrXBXA",
        "colab": {
          "base_uri": "https://localhost:8080/"
        },
        "outputId": "3605864b-787a-4515-cce5-17f8906c1c6d"
      },
      "execution_count": null,
      "outputs": [
        {
          "output_type": "stream",
          "name": "stdout",
          "text": [
            "Review: entrega antes prazo - Similaridade: 0.8671\n",
            "Review: entrega antes prazo - Similaridade: 0.8662\n",
            "Review: prazo entrega gigante assim conseguiram atrasar entrega - Similaridade: 0.8636\n",
            "Review: entrega prazo produto conforme solicitado - Similaridade: 0.8619\n",
            "Review: entrega prazo produto dentro esperado - Similaridade: 0.8570\n"
          ]
        }
      ]
    },
    {
      "cell_type": "markdown",
      "metadata": {
        "id": "U9J9aKOrDHoD"
      },
      "source": [
        "## Correções nos dados"
      ]
    },
    {
      "cell_type": "code",
      "source": [
        "df = dados.drop_duplicates(subset= ['tratamento_2'])\n",
        "df"
      ],
      "metadata": {
        "id": "h0aSIDxUXGWR",
        "colab": {
          "base_uri": "https://localhost:8080/",
          "height": 701
        },
        "outputId": "2fa889fd-3176-445f-cce5-d7f67907e273"
      },
      "execution_count": null,
      "outputs": [
        {
          "output_type": "execute_result",
          "data": {
            "text/plain": [
              "       nota_review                                             review  \\\n",
              "0                5              Recebi bem antes do prazo estipulado.   \n",
              "1                5  Parabéns lojas Zoop adorei comprar pela Intern...   \n",
              "2                4  aparelho eficiente. no site a marca do aparelh...   \n",
              "3                4    Mas um pouco ,travando...pelo valor ta Boa.\\r\\n   \n",
              "4                5  Vendedor confiável, produto ok e entrega antes...   \n",
              "...            ...                                                ...   \n",
              "39457            5  Entregou dentro do prazo. O produto chegou em ...   \n",
              "39458            3  O produto não foi enviado com NF, não existe v...   \n",
              "39459            5  Excelente mochila, entrega super rápida. Super...   \n",
              "39460            1  Solicitei a compra de uma capa de retrovisor c...   \n",
              "39461            1  meu produto chegou e ja tenho que devolver, po...   \n",
              "\n",
              "                                            review_token  \\\n",
              "0                [recebi, bem, antes, prazo, estipulado]   \n",
              "1      [parabens, lojas, zoop, adorei, comprar, inter...   \n",
              "2      [aparelho, eficiente, site, marca, aparelho, i...   \n",
              "3                      [pouco, travando, valor, ta, boa]   \n",
              "4      [vendedor, confiavel, produto, ok, entrega, an...   \n",
              "...                                                  ...   \n",
              "39457  [entregou, dentro, prazo, produto, chegou, con...   \n",
              "39458  [produto, nao, enviado, nf, nao, existe, venda...   \n",
              "39459  [excelente, mochila, entrega, super, rapida, s...   \n",
              "39460  [solicitei, compra, capa, retrovisor, celta, p...   \n",
              "39461  [produto, chegou, ja, devolver, pois, defeito,...   \n",
              "\n",
              "                                            tratamento_1  \\\n",
              "0                      recebi bem antes prazo estipulado   \n",
              "1      parabéns lojas zoop adorei comprar internet se...   \n",
              "2      aparelho eficiente site marca aparelho impress...   \n",
              "3                            pouco travando valor ta boa   \n",
              "4      vendedor confiável produto ok entrega antes prazo   \n",
              "...                                                  ...   \n",
              "39457  entregou dentro prazo produto chegou condições...   \n",
              "39458  produto não enviado nf não existe venda nf cer...   \n",
              "39459  excelente mochila entrega super rápida super r...   \n",
              "39460  solicitei compra capa retrovisor celta prisma ...   \n",
              "39461  produto chegou ja devolver pois defeito não se...   \n",
              "\n",
              "                                            tratamento_2  \n",
              "0                      recebi bem antes prazo estipulado  \n",
              "1      parabens lojas zoop adorei comprar internet se...  \n",
              "2      aparelho eficiente site marca aparelho impress...  \n",
              "3                            pouco travando valor ta boa  \n",
              "4      vendedor confiavel produto ok entrega antes prazo  \n",
              "...                                                  ...  \n",
              "39457  entregou dentro prazo produto chegou condicoes...  \n",
              "39458  produto nao enviado nf nao existe venda nf cer...  \n",
              "39459  excelente mochila entrega super rapida super r...  \n",
              "39460  solicitei compra capa retrovisor celta prisma ...  \n",
              "39461  produto chegou ja devolver pois defeito nao se...  \n",
              "\n",
              "[31475 rows x 5 columns]"
            ],
            "text/html": [
              "\n",
              "  <div id=\"df-32ef36c8-828b-45c5-a832-671efca3ceda\" class=\"colab-df-container\">\n",
              "    <div>\n",
              "<style scoped>\n",
              "    .dataframe tbody tr th:only-of-type {\n",
              "        vertical-align: middle;\n",
              "    }\n",
              "\n",
              "    .dataframe tbody tr th {\n",
              "        vertical-align: top;\n",
              "    }\n",
              "\n",
              "    .dataframe thead th {\n",
              "        text-align: right;\n",
              "    }\n",
              "</style>\n",
              "<table border=\"1\" class=\"dataframe\">\n",
              "  <thead>\n",
              "    <tr style=\"text-align: right;\">\n",
              "      <th></th>\n",
              "      <th>nota_review</th>\n",
              "      <th>review</th>\n",
              "      <th>review_token</th>\n",
              "      <th>tratamento_1</th>\n",
              "      <th>tratamento_2</th>\n",
              "    </tr>\n",
              "  </thead>\n",
              "  <tbody>\n",
              "    <tr>\n",
              "      <th>0</th>\n",
              "      <td>5</td>\n",
              "      <td>Recebi bem antes do prazo estipulado.</td>\n",
              "      <td>[recebi, bem, antes, prazo, estipulado]</td>\n",
              "      <td>recebi bem antes prazo estipulado</td>\n",
              "      <td>recebi bem antes prazo estipulado</td>\n",
              "    </tr>\n",
              "    <tr>\n",
              "      <th>1</th>\n",
              "      <td>5</td>\n",
              "      <td>Parabéns lojas Zoop adorei comprar pela Intern...</td>\n",
              "      <td>[parabens, lojas, zoop, adorei, comprar, inter...</td>\n",
              "      <td>parabéns lojas zoop adorei comprar internet se...</td>\n",
              "      <td>parabens lojas zoop adorei comprar internet se...</td>\n",
              "    </tr>\n",
              "    <tr>\n",
              "      <th>2</th>\n",
              "      <td>4</td>\n",
              "      <td>aparelho eficiente. no site a marca do aparelh...</td>\n",
              "      <td>[aparelho, eficiente, site, marca, aparelho, i...</td>\n",
              "      <td>aparelho eficiente site marca aparelho impress...</td>\n",
              "      <td>aparelho eficiente site marca aparelho impress...</td>\n",
              "    </tr>\n",
              "    <tr>\n",
              "      <th>3</th>\n",
              "      <td>4</td>\n",
              "      <td>Mas um pouco ,travando...pelo valor ta Boa.\\r\\n</td>\n",
              "      <td>[pouco, travando, valor, ta, boa]</td>\n",
              "      <td>pouco travando valor ta boa</td>\n",
              "      <td>pouco travando valor ta boa</td>\n",
              "    </tr>\n",
              "    <tr>\n",
              "      <th>4</th>\n",
              "      <td>5</td>\n",
              "      <td>Vendedor confiável, produto ok e entrega antes...</td>\n",
              "      <td>[vendedor, confiavel, produto, ok, entrega, an...</td>\n",
              "      <td>vendedor confiável produto ok entrega antes prazo</td>\n",
              "      <td>vendedor confiavel produto ok entrega antes prazo</td>\n",
              "    </tr>\n",
              "    <tr>\n",
              "      <th>...</th>\n",
              "      <td>...</td>\n",
              "      <td>...</td>\n",
              "      <td>...</td>\n",
              "      <td>...</td>\n",
              "      <td>...</td>\n",
              "    </tr>\n",
              "    <tr>\n",
              "      <th>39457</th>\n",
              "      <td>5</td>\n",
              "      <td>Entregou dentro do prazo. O produto chegou em ...</td>\n",
              "      <td>[entregou, dentro, prazo, produto, chegou, con...</td>\n",
              "      <td>entregou dentro prazo produto chegou condições...</td>\n",
              "      <td>entregou dentro prazo produto chegou condicoes...</td>\n",
              "    </tr>\n",
              "    <tr>\n",
              "      <th>39458</th>\n",
              "      <td>3</td>\n",
              "      <td>O produto não foi enviado com NF, não existe v...</td>\n",
              "      <td>[produto, nao, enviado, nf, nao, existe, venda...</td>\n",
              "      <td>produto não enviado nf não existe venda nf cer...</td>\n",
              "      <td>produto nao enviado nf nao existe venda nf cer...</td>\n",
              "    </tr>\n",
              "    <tr>\n",
              "      <th>39459</th>\n",
              "      <td>5</td>\n",
              "      <td>Excelente mochila, entrega super rápida. Super...</td>\n",
              "      <td>[excelente, mochila, entrega, super, rapida, s...</td>\n",
              "      <td>excelente mochila entrega super rápida super r...</td>\n",
              "      <td>excelente mochila entrega super rapida super r...</td>\n",
              "    </tr>\n",
              "    <tr>\n",
              "      <th>39460</th>\n",
              "      <td>1</td>\n",
              "      <td>Solicitei a compra de uma capa de retrovisor c...</td>\n",
              "      <td>[solicitei, compra, capa, retrovisor, celta, p...</td>\n",
              "      <td>solicitei compra capa retrovisor celta prisma ...</td>\n",
              "      <td>solicitei compra capa retrovisor celta prisma ...</td>\n",
              "    </tr>\n",
              "    <tr>\n",
              "      <th>39461</th>\n",
              "      <td>1</td>\n",
              "      <td>meu produto chegou e ja tenho que devolver, po...</td>\n",
              "      <td>[produto, chegou, ja, devolver, pois, defeito,...</td>\n",
              "      <td>produto chegou ja devolver pois defeito não se...</td>\n",
              "      <td>produto chegou ja devolver pois defeito nao se...</td>\n",
              "    </tr>\n",
              "  </tbody>\n",
              "</table>\n",
              "<p>31475 rows × 5 columns</p>\n",
              "</div>\n",
              "    <div class=\"colab-df-buttons\">\n",
              "\n",
              "  <div class=\"colab-df-container\">\n",
              "    <button class=\"colab-df-convert\" onclick=\"convertToInteractive('df-32ef36c8-828b-45c5-a832-671efca3ceda')\"\n",
              "            title=\"Convert this dataframe to an interactive table.\"\n",
              "            style=\"display:none;\">\n",
              "\n",
              "  <svg xmlns=\"http://www.w3.org/2000/svg\" height=\"24px\" viewBox=\"0 -960 960 960\">\n",
              "    <path d=\"M120-120v-720h720v720H120Zm60-500h600v-160H180v160Zm220 220h160v-160H400v160Zm0 220h160v-160H400v160ZM180-400h160v-160H180v160Zm440 0h160v-160H620v160ZM180-180h160v-160H180v160Zm440 0h160v-160H620v160Z\"/>\n",
              "  </svg>\n",
              "    </button>\n",
              "\n",
              "  <style>\n",
              "    .colab-df-container {\n",
              "      display:flex;\n",
              "      gap: 12px;\n",
              "    }\n",
              "\n",
              "    .colab-df-convert {\n",
              "      background-color: #E8F0FE;\n",
              "      border: none;\n",
              "      border-radius: 50%;\n",
              "      cursor: pointer;\n",
              "      display: none;\n",
              "      fill: #1967D2;\n",
              "      height: 32px;\n",
              "      padding: 0 0 0 0;\n",
              "      width: 32px;\n",
              "    }\n",
              "\n",
              "    .colab-df-convert:hover {\n",
              "      background-color: #E2EBFA;\n",
              "      box-shadow: 0px 1px 2px rgba(60, 64, 67, 0.3), 0px 1px 3px 1px rgba(60, 64, 67, 0.15);\n",
              "      fill: #174EA6;\n",
              "    }\n",
              "\n",
              "    .colab-df-buttons div {\n",
              "      margin-bottom: 4px;\n",
              "    }\n",
              "\n",
              "    [theme=dark] .colab-df-convert {\n",
              "      background-color: #3B4455;\n",
              "      fill: #D2E3FC;\n",
              "    }\n",
              "\n",
              "    [theme=dark] .colab-df-convert:hover {\n",
              "      background-color: #434B5C;\n",
              "      box-shadow: 0px 1px 3px 1px rgba(0, 0, 0, 0.15);\n",
              "      filter: drop-shadow(0px 1px 2px rgba(0, 0, 0, 0.3));\n",
              "      fill: #FFFFFF;\n",
              "    }\n",
              "  </style>\n",
              "\n",
              "    <script>\n",
              "      const buttonEl =\n",
              "        document.querySelector('#df-32ef36c8-828b-45c5-a832-671efca3ceda button.colab-df-convert');\n",
              "      buttonEl.style.display =\n",
              "        google.colab.kernel.accessAllowed ? 'block' : 'none';\n",
              "\n",
              "      async function convertToInteractive(key) {\n",
              "        const element = document.querySelector('#df-32ef36c8-828b-45c5-a832-671efca3ceda');\n",
              "        const dataTable =\n",
              "          await google.colab.kernel.invokeFunction('convertToInteractive',\n",
              "                                                    [key], {});\n",
              "        if (!dataTable) return;\n",
              "\n",
              "        const docLinkHtml = 'Like what you see? Visit the ' +\n",
              "          '<a target=\"_blank\" href=https://colab.research.google.com/notebooks/data_table.ipynb>data table notebook</a>'\n",
              "          + ' to learn more about interactive tables.';\n",
              "        element.innerHTML = '';\n",
              "        dataTable['output_type'] = 'display_data';\n",
              "        await google.colab.output.renderOutput(dataTable, element);\n",
              "        const docLink = document.createElement('div');\n",
              "        docLink.innerHTML = docLinkHtml;\n",
              "        element.appendChild(docLink);\n",
              "      }\n",
              "    </script>\n",
              "  </div>\n",
              "\n",
              "\n",
              "<div id=\"df-47f0e6f9-c9dc-478c-8976-a1b66ce1b4e7\">\n",
              "  <button class=\"colab-df-quickchart\" onclick=\"quickchart('df-47f0e6f9-c9dc-478c-8976-a1b66ce1b4e7')\"\n",
              "            title=\"Suggest charts\"\n",
              "            style=\"display:none;\">\n",
              "\n",
              "<svg xmlns=\"http://www.w3.org/2000/svg\" height=\"24px\"viewBox=\"0 0 24 24\"\n",
              "     width=\"24px\">\n",
              "    <g>\n",
              "        <path d=\"M19 3H5c-1.1 0-2 .9-2 2v14c0 1.1.9 2 2 2h14c1.1 0 2-.9 2-2V5c0-1.1-.9-2-2-2zM9 17H7v-7h2v7zm4 0h-2V7h2v10zm4 0h-2v-4h2v4z\"/>\n",
              "    </g>\n",
              "</svg>\n",
              "  </button>\n",
              "\n",
              "<style>\n",
              "  .colab-df-quickchart {\n",
              "      --bg-color: #E8F0FE;\n",
              "      --fill-color: #1967D2;\n",
              "      --hover-bg-color: #E2EBFA;\n",
              "      --hover-fill-color: #174EA6;\n",
              "      --disabled-fill-color: #AAA;\n",
              "      --disabled-bg-color: #DDD;\n",
              "  }\n",
              "\n",
              "  [theme=dark] .colab-df-quickchart {\n",
              "      --bg-color: #3B4455;\n",
              "      --fill-color: #D2E3FC;\n",
              "      --hover-bg-color: #434B5C;\n",
              "      --hover-fill-color: #FFFFFF;\n",
              "      --disabled-bg-color: #3B4455;\n",
              "      --disabled-fill-color: #666;\n",
              "  }\n",
              "\n",
              "  .colab-df-quickchart {\n",
              "    background-color: var(--bg-color);\n",
              "    border: none;\n",
              "    border-radius: 50%;\n",
              "    cursor: pointer;\n",
              "    display: none;\n",
              "    fill: var(--fill-color);\n",
              "    height: 32px;\n",
              "    padding: 0;\n",
              "    width: 32px;\n",
              "  }\n",
              "\n",
              "  .colab-df-quickchart:hover {\n",
              "    background-color: var(--hover-bg-color);\n",
              "    box-shadow: 0 1px 2px rgba(60, 64, 67, 0.3), 0 1px 3px 1px rgba(60, 64, 67, 0.15);\n",
              "    fill: var(--button-hover-fill-color);\n",
              "  }\n",
              "\n",
              "  .colab-df-quickchart-complete:disabled,\n",
              "  .colab-df-quickchart-complete:disabled:hover {\n",
              "    background-color: var(--disabled-bg-color);\n",
              "    fill: var(--disabled-fill-color);\n",
              "    box-shadow: none;\n",
              "  }\n",
              "\n",
              "  .colab-df-spinner {\n",
              "    border: 2px solid var(--fill-color);\n",
              "    border-color: transparent;\n",
              "    border-bottom-color: var(--fill-color);\n",
              "    animation:\n",
              "      spin 1s steps(1) infinite;\n",
              "  }\n",
              "\n",
              "  @keyframes spin {\n",
              "    0% {\n",
              "      border-color: transparent;\n",
              "      border-bottom-color: var(--fill-color);\n",
              "      border-left-color: var(--fill-color);\n",
              "    }\n",
              "    20% {\n",
              "      border-color: transparent;\n",
              "      border-left-color: var(--fill-color);\n",
              "      border-top-color: var(--fill-color);\n",
              "    }\n",
              "    30% {\n",
              "      border-color: transparent;\n",
              "      border-left-color: var(--fill-color);\n",
              "      border-top-color: var(--fill-color);\n",
              "      border-right-color: var(--fill-color);\n",
              "    }\n",
              "    40% {\n",
              "      border-color: transparent;\n",
              "      border-right-color: var(--fill-color);\n",
              "      border-top-color: var(--fill-color);\n",
              "    }\n",
              "    60% {\n",
              "      border-color: transparent;\n",
              "      border-right-color: var(--fill-color);\n",
              "    }\n",
              "    80% {\n",
              "      border-color: transparent;\n",
              "      border-right-color: var(--fill-color);\n",
              "      border-bottom-color: var(--fill-color);\n",
              "    }\n",
              "    90% {\n",
              "      border-color: transparent;\n",
              "      border-bottom-color: var(--fill-color);\n",
              "    }\n",
              "  }\n",
              "</style>\n",
              "\n",
              "  <script>\n",
              "    async function quickchart(key) {\n",
              "      const quickchartButtonEl =\n",
              "        document.querySelector('#' + key + ' button');\n",
              "      quickchartButtonEl.disabled = true;  // To prevent multiple clicks.\n",
              "      quickchartButtonEl.classList.add('colab-df-spinner');\n",
              "      try {\n",
              "        const charts = await google.colab.kernel.invokeFunction(\n",
              "            'suggestCharts', [key], {});\n",
              "      } catch (error) {\n",
              "        console.error('Error during call to suggestCharts:', error);\n",
              "      }\n",
              "      quickchartButtonEl.classList.remove('colab-df-spinner');\n",
              "      quickchartButtonEl.classList.add('colab-df-quickchart-complete');\n",
              "    }\n",
              "    (() => {\n",
              "      let quickchartButtonEl =\n",
              "        document.querySelector('#df-47f0e6f9-c9dc-478c-8976-a1b66ce1b4e7 button');\n",
              "      quickchartButtonEl.style.display =\n",
              "        google.colab.kernel.accessAllowed ? 'block' : 'none';\n",
              "    })();\n",
              "  </script>\n",
              "</div>\n",
              "\n",
              "  <div id=\"id_51795dc9-f8eb-4ba4-bb6b-262e5a832cf1\">\n",
              "    <style>\n",
              "      .colab-df-generate {\n",
              "        background-color: #E8F0FE;\n",
              "        border: none;\n",
              "        border-radius: 50%;\n",
              "        cursor: pointer;\n",
              "        display: none;\n",
              "        fill: #1967D2;\n",
              "        height: 32px;\n",
              "        padding: 0 0 0 0;\n",
              "        width: 32px;\n",
              "      }\n",
              "\n",
              "      .colab-df-generate:hover {\n",
              "        background-color: #E2EBFA;\n",
              "        box-shadow: 0px 1px 2px rgba(60, 64, 67, 0.3), 0px 1px 3px 1px rgba(60, 64, 67, 0.15);\n",
              "        fill: #174EA6;\n",
              "      }\n",
              "\n",
              "      [theme=dark] .colab-df-generate {\n",
              "        background-color: #3B4455;\n",
              "        fill: #D2E3FC;\n",
              "      }\n",
              "\n",
              "      [theme=dark] .colab-df-generate:hover {\n",
              "        background-color: #434B5C;\n",
              "        box-shadow: 0px 1px 3px 1px rgba(0, 0, 0, 0.15);\n",
              "        filter: drop-shadow(0px 1px 2px rgba(0, 0, 0, 0.3));\n",
              "        fill: #FFFFFF;\n",
              "      }\n",
              "    </style>\n",
              "    <button class=\"colab-df-generate\" onclick=\"generateWithVariable('df')\"\n",
              "            title=\"Generate code using this dataframe.\"\n",
              "            style=\"display:none;\">\n",
              "\n",
              "  <svg xmlns=\"http://www.w3.org/2000/svg\" height=\"24px\"viewBox=\"0 0 24 24\"\n",
              "       width=\"24px\">\n",
              "    <path d=\"M7,19H8.4L18.45,9,17,7.55,7,17.6ZM5,21V16.75L18.45,3.32a2,2,0,0,1,2.83,0l1.4,1.43a1.91,1.91,0,0,1,.58,1.4,1.91,1.91,0,0,1-.58,1.4L9.25,21ZM18.45,9,17,7.55Zm-12,3A5.31,5.31,0,0,0,4.9,8.1,5.31,5.31,0,0,0,1,6.5,5.31,5.31,0,0,0,4.9,4.9,5.31,5.31,0,0,0,6.5,1,5.31,5.31,0,0,0,8.1,4.9,5.31,5.31,0,0,0,12,6.5,5.46,5.46,0,0,0,6.5,12Z\"/>\n",
              "  </svg>\n",
              "    </button>\n",
              "    <script>\n",
              "      (() => {\n",
              "      const buttonEl =\n",
              "        document.querySelector('#id_51795dc9-f8eb-4ba4-bb6b-262e5a832cf1 button.colab-df-generate');\n",
              "      buttonEl.style.display =\n",
              "        google.colab.kernel.accessAllowed ? 'block' : 'none';\n",
              "\n",
              "      buttonEl.onclick = () => {\n",
              "        google.colab.notebook.generateWithVariable('df');\n",
              "      }\n",
              "      })();\n",
              "    </script>\n",
              "  </div>\n",
              "\n",
              "    </div>\n",
              "  </div>\n"
            ],
            "application/vnd.google.colaboratory.intrinsic+json": {
              "type": "dataframe",
              "variable_name": "df",
              "summary": "{\n  \"name\": \"df\",\n  \"rows\": 31475,\n  \"fields\": [\n    {\n      \"column\": \"nota_review\",\n      \"properties\": {\n        \"dtype\": \"number\",\n        \"std\": 1,\n        \"min\": 1,\n        \"max\": 5,\n        \"num_unique_values\": 5,\n        \"samples\": [\n          4,\n          3,\n          2\n        ],\n        \"semantic_type\": \"\",\n        \"description\": \"\"\n      }\n    },\n    {\n      \"column\": \"review\",\n      \"properties\": {\n        \"dtype\": \"string\",\n        \"num_unique_values\": 31475,\n        \"samples\": [\n          \"Produto entregue lacrado e em perfeito estado.\",\n          \"Recebi parte da minha encomenda apenas. \\u00c9 uma pena porque o produto \\u00e9 \\u00f3timo e veio no prazo. N\\u00e3o entendi porque n\\u00e3o veio completo.\",\n          \"Entrega mto r\\u00e1pida, antes do prazo. Produto excelente! \"\n        ],\n        \"semantic_type\": \"\",\n        \"description\": \"\"\n      }\n    },\n    {\n      \"column\": \"review_token\",\n      \"properties\": {\n        \"dtype\": \"object\",\n        \"semantic_type\": \"\",\n        \"description\": \"\"\n      }\n    },\n    {\n      \"column\": \"tratamento_1\",\n      \"properties\": {\n        \"dtype\": \"string\",\n        \"num_unique_values\": 31475,\n        \"samples\": [\n          \"produto entregue lacrado perfeito estado\",\n          \"recebi parte encomenda apenas pena porque produto \\u00f3timo veio prazo n\\u00e3o entendi porque n\\u00e3o veio completo\",\n          \"entrega mto r\\u00e1pida antes prazo produto excelente\"\n        ],\n        \"semantic_type\": \"\",\n        \"description\": \"\"\n      }\n    },\n    {\n      \"column\": \"tratamento_2\",\n      \"properties\": {\n        \"dtype\": \"string\",\n        \"num_unique_values\": 31475,\n        \"samples\": [\n          \"produto entregue lacrado perfeito estado\",\n          \"recebi parte encomenda apenas pena porque produto otimo veio prazo nao entendi porque nao veio completo\",\n          \"entrega mto rapida antes prazo produto excelente\"\n        ],\n        \"semantic_type\": \"\",\n        \"description\": \"\"\n      }\n    }\n  ]\n}"
            }
          },
          "metadata": {},
          "execution_count": 30
        }
      ]
    },
    {
      "cell_type": "code",
      "execution_count": null,
      "metadata": {
        "id": "Huw1Bc1L_Rdy",
        "colab": {
          "base_uri": "https://localhost:8080/",
          "height": 36
        },
        "outputId": "37fdb802-a32c-4363-e8b7-416780dbcd40"
      },
      "outputs": [
        {
          "output_type": "execute_result",
          "data": {
            "text/plain": [
              "'A'"
            ],
            "application/vnd.google.colaboratory.intrinsic+json": {
              "type": "string"
            }
          },
          "metadata": {},
          "execution_count": 31
        }
      ],
      "source": [
        "df['review'][120]"
      ]
    },
    {
      "cell_type": "code",
      "execution_count": null,
      "metadata": {
        "id": "y4M2qxViFBZN",
        "colab": {
          "base_uri": "https://localhost:8080/",
          "height": 36
        },
        "outputId": "ec344ba4-0933-400d-a91e-5537991016c6"
      },
      "outputs": [
        {
          "output_type": "execute_result",
          "data": {
            "text/plain": [
              "''"
            ],
            "application/vnd.google.colaboratory.intrinsic+json": {
              "type": "string"
            }
          },
          "metadata": {},
          "execution_count": 32
        }
      ],
      "source": [
        "df['tratamento_2'][120]"
      ]
    },
    {
      "cell_type": "code",
      "source": [
        "df = df[df['tratamento_2'] != '']"
      ],
      "metadata": {
        "id": "dDvcDqXvXUWg"
      },
      "execution_count": null,
      "outputs": []
    },
    {
      "cell_type": "code",
      "execution_count": null,
      "metadata": {
        "id": "hqQlIZ-3GQWJ",
        "colab": {
          "base_uri": "https://localhost:8080/",
          "height": 36
        },
        "outputId": "fe38ac54-72eb-43aa-d93c-3b8eb4ff7462"
      },
      "outputs": [
        {
          "output_type": "execute_result",
          "data": {
            "text/plain": [
              "'simplismeente ameiii'"
            ],
            "application/vnd.google.colaboratory.intrinsic+json": {
              "type": "string"
            }
          },
          "metadata": {},
          "execution_count": 34
        }
      ],
      "source": [
        "df['tratamento_2'][3319]"
      ]
    },
    {
      "cell_type": "code",
      "execution_count": null,
      "metadata": {
        "id": "kRqx3FxxGbTc",
        "colab": {
          "base_uri": "https://localhost:8080/",
          "height": 36
        },
        "outputId": "59cb639f-d834-46b1-b3e8-464e21378e57"
      },
      "outputs": [
        {
          "output_type": "execute_result",
          "data": {
            "text/plain": [
              "'recebi rapido antes prazo otimo qualidade adoreii'"
            ],
            "application/vnd.google.colaboratory.intrinsic+json": {
              "type": "string"
            }
          },
          "metadata": {},
          "execution_count": 35
        }
      ],
      "source": [
        "df['tratamento_2'][8354]"
      ]
    },
    {
      "cell_type": "code",
      "execution_count": null,
      "metadata": {
        "id": "p5MIoC81GpOz",
        "colab": {
          "base_uri": "https://localhost:8080/",
          "height": 36
        },
        "outputId": "6c11c54e-11d6-4b12-abee-d6174bfeb588"
      },
      "outputs": [
        {
          "output_type": "execute_result",
          "data": {
            "text/plain": [
              "'produto chegou direitinho antes muuuito antes prazo superou expectativas'"
            ],
            "application/vnd.google.colaboratory.intrinsic+json": {
              "type": "string"
            }
          },
          "metadata": {},
          "execution_count": 36
        }
      ],
      "source": [
        "df['tratamento_2'][12843]"
      ]
    },
    {
      "cell_type": "code",
      "source": [
        "def normalizar_repeticoes(texto):\n",
        "  return re.sub(r'(?!rr|ss)(.)\\1+', r'\\1', texto)\n",
        "\n",
        "df['tratamento_3'] = df['tratamento_2'].apply(normalizar_repeticoes)"
      ],
      "metadata": {
        "id": "5UnrYfAyXYHF",
        "colab": {
          "base_uri": "https://localhost:8080/"
        },
        "outputId": "6f3c039c-5851-4fc6-ba7d-182a1a600949"
      },
      "execution_count": null,
      "outputs": [
        {
          "output_type": "stream",
          "name": "stderr",
          "text": [
            "<ipython-input-37-696f58db5688>:4: SettingWithCopyWarning: \n",
            "A value is trying to be set on a copy of a slice from a DataFrame.\n",
            "Try using .loc[row_indexer,col_indexer] = value instead\n",
            "\n",
            "See the caveats in the documentation: https://pandas.pydata.org/pandas-docs/stable/user_guide/indexing.html#returning-a-view-versus-a-copy\n",
            "  df['tratamento_3'] = df['tratamento_2'].apply(normalizar_repeticoes)\n"
          ]
        }
      ]
    },
    {
      "cell_type": "code",
      "execution_count": null,
      "metadata": {
        "id": "7EYjG-ZKHBal",
        "colab": {
          "base_uri": "https://localhost:8080/",
          "height": 36
        },
        "outputId": "5dd26615-fee6-4584-fb8e-721b718cc2bd"
      },
      "outputs": [
        {
          "output_type": "execute_result",
          "data": {
            "text/plain": [
              "'simplismente amei'"
            ],
            "application/vnd.google.colaboratory.intrinsic+json": {
              "type": "string"
            }
          },
          "metadata": {},
          "execution_count": 38
        }
      ],
      "source": [
        "df['tratamento_3'][3319]"
      ]
    },
    {
      "cell_type": "code",
      "execution_count": null,
      "metadata": {
        "id": "X6ViObvyIiQE",
        "colab": {
          "base_uri": "https://localhost:8080/",
          "height": 36
        },
        "outputId": "298c9a03-0ab4-40b8-dd82-0ded116a752d"
      },
      "outputs": [
        {
          "output_type": "execute_result",
          "data": {
            "text/plain": [
              "'recebi rapido antes prazo otimo qualidade adorei'"
            ],
            "application/vnd.google.colaboratory.intrinsic+json": {
              "type": "string"
            }
          },
          "metadata": {},
          "execution_count": 39
        }
      ],
      "source": [
        "df['tratamento_3'][8354]"
      ]
    },
    {
      "cell_type": "code",
      "source": [
        "df.reset_index(drop=True, inplace=True)"
      ],
      "metadata": {
        "id": "Fi1mOtUGXh3V"
      },
      "execution_count": null,
      "outputs": []
    },
    {
      "cell_type": "markdown",
      "metadata": {
        "id": "-XIOufPODKmy"
      },
      "source": [
        "## Lematização"
      ]
    },
    {
      "cell_type": "code",
      "execution_count": null,
      "metadata": {
        "collapsed": true,
        "id": "Mwq5ujHLJCvl",
        "colab": {
          "base_uri": "https://localhost:8080/"
        },
        "outputId": "1a0cb8ba-a482-4d59-99d0-cc0c01ba8af0"
      },
      "outputs": [
        {
          "output_type": "stream",
          "name": "stdout",
          "text": [
            "Requirement already satisfied: stanza in /usr/local/lib/python3.10/dist-packages (1.9.2)\n",
            "Requirement already satisfied: emoji in /usr/local/lib/python3.10/dist-packages (from stanza) (2.14.0)\n",
            "Requirement already satisfied: numpy in /usr/local/lib/python3.10/dist-packages (from stanza) (1.26.4)\n",
            "Requirement already satisfied: protobuf>=3.15.0 in /usr/local/lib/python3.10/dist-packages (from stanza) (3.20.3)\n",
            "Requirement already satisfied: requests in /usr/local/lib/python3.10/dist-packages (from stanza) (2.32.3)\n",
            "Requirement already satisfied: networkx in /usr/local/lib/python3.10/dist-packages (from stanza) (3.4.2)\n",
            "Requirement already satisfied: torch>=1.3.0 in /usr/local/lib/python3.10/dist-packages (from stanza) (2.5.0+cu121)\n",
            "Requirement already satisfied: tqdm in /usr/local/lib/python3.10/dist-packages (from stanza) (4.66.5)\n",
            "Requirement already satisfied: tomli in /usr/local/lib/python3.10/dist-packages (from stanza) (2.0.2)\n",
            "Requirement already satisfied: filelock in /usr/local/lib/python3.10/dist-packages (from torch>=1.3.0->stanza) (3.16.1)\n",
            "Requirement already satisfied: typing-extensions>=4.8.0 in /usr/local/lib/python3.10/dist-packages (from torch>=1.3.0->stanza) (4.12.2)\n",
            "Requirement already satisfied: jinja2 in /usr/local/lib/python3.10/dist-packages (from torch>=1.3.0->stanza) (3.1.4)\n",
            "Requirement already satisfied: fsspec in /usr/local/lib/python3.10/dist-packages (from torch>=1.3.0->stanza) (2024.6.1)\n",
            "Requirement already satisfied: sympy==1.13.1 in /usr/local/lib/python3.10/dist-packages (from torch>=1.3.0->stanza) (1.13.1)\n",
            "Requirement already satisfied: mpmath<1.4,>=1.1.0 in /usr/local/lib/python3.10/dist-packages (from sympy==1.13.1->torch>=1.3.0->stanza) (1.3.0)\n",
            "Requirement already satisfied: charset-normalizer<4,>=2 in /usr/local/lib/python3.10/dist-packages (from requests->stanza) (3.4.0)\n",
            "Requirement already satisfied: idna<4,>=2.5 in /usr/local/lib/python3.10/dist-packages (from requests->stanza) (3.10)\n",
            "Requirement already satisfied: urllib3<3,>=1.21.1 in /usr/local/lib/python3.10/dist-packages (from requests->stanza) (2.2.3)\n",
            "Requirement already satisfied: certifi>=2017.4.17 in /usr/local/lib/python3.10/dist-packages (from requests->stanza) (2024.8.30)\n",
            "Requirement already satisfied: MarkupSafe>=2.0 in /usr/local/lib/python3.10/dist-packages (from jinja2->torch>=1.3.0->stanza) (2.1.5)\n",
            "/usr/bin/python3: No module named stanza.download\n"
          ]
        }
      ],
      "source": [
        "!pip install stanza\n",
        "!python -m stanza.download pt"
      ]
    },
    {
      "cell_type": "code",
      "source": [
        "import stanza\n",
        "\n",
        "stanza.download('pt')\n",
        "nlp = stanza.Pipeline('pt',\n",
        "                      processors='tokenize,lemma',\n",
        "                      use_gpu=False,\n",
        "                      batch_size= 64,\n",
        "                      n_process = 4)"
      ],
      "metadata": {
        "id": "DEXcROp3XtC8",
        "colab": {
          "base_uri": "https://localhost:8080/",
          "height": 640,
          "referenced_widgets": [
            "5909fe1bc05b4cdab3b920984dd5e102",
            "16699f2cc9ff492983943003f7205727",
            "90cd9fc64271469b8ee168a80dd5d24e",
            "67094fce86754bc68907790be17641a9",
            "e3a59a4df5ea476c86cf8f2a03caae87",
            "92d29f82d42343e2af3a6c31b98f3f84",
            "457be54902834e448c1349a5d8f0ea8b",
            "c4cad996099741b9b7e9d0b83643f1ab",
            "5900f7400596457fb9b3c786767323cf",
            "492aa5c2c41b48a882c2edb494376561",
            "62b496ee128040d0af5631e4d2e7c72e",
            "27f1a07bbc6c4c64812572e62a3ae419",
            "6fd29a8d428a466e806c345f5cecedb5",
            "49ef065591d54c34a2eeb666ddfb5061",
            "8a23eff1337f46f798b2f5e4c31a7570",
            "9e71df0b4b7744f5b6f579de6b294329",
            "505f6cba54a647dd90db339e31262ec8",
            "f352412a0d7c469993744856e59e5788",
            "93e7bcabff7b4c56a4f6bd715a5549f5",
            "a5057ab1f41f4b11b8a3d22479260d0a",
            "812569f603f248a0abefaabcbcd8ddfb",
            "6ac3f25630594b49977e2470cc573816"
          ]
        },
        "outputId": "82b9d2e6-0cdb-4642-adf9-f6bcd33402fb"
      },
      "execution_count": null,
      "outputs": [
        {
          "output_type": "display_data",
          "data": {
            "text/plain": [
              "Downloading https://raw.githubusercontent.com/stanfordnlp/stanza-resources/main/resources_1.9.0.json:   0%|   …"
            ],
            "application/vnd.jupyter.widget-view+json": {
              "version_major": 2,
              "version_minor": 0,
              "model_id": "5909fe1bc05b4cdab3b920984dd5e102"
            }
          },
          "metadata": {}
        },
        {
          "output_type": "stream",
          "name": "stderr",
          "text": [
            "INFO:stanza:Downloaded file to /root/stanza_resources/resources.json\n",
            "INFO:stanza:Downloading default packages for language: pt (Portuguese) ...\n",
            "INFO:stanza:File exists: /root/stanza_resources/pt/default.zip\n",
            "INFO:stanza:Finished downloading models and saved to /root/stanza_resources\n",
            "INFO:stanza:Checking for updates to resources.json in case models have been updated.  Note: this behavior can be turned off with download_method=None or download_method=DownloadMethod.REUSE_RESOURCES\n"
          ]
        },
        {
          "output_type": "display_data",
          "data": {
            "text/plain": [
              "Downloading https://raw.githubusercontent.com/stanfordnlp/stanza-resources/main/resources_1.9.0.json:   0%|   …"
            ],
            "application/vnd.jupyter.widget-view+json": {
              "version_major": 2,
              "version_minor": 0,
              "model_id": "27f1a07bbc6c4c64812572e62a3ae419"
            }
          },
          "metadata": {}
        },
        {
          "output_type": "stream",
          "name": "stderr",
          "text": [
            "INFO:stanza:Downloaded file to /root/stanza_resources/resources.json\n",
            "WARNING:stanza:Language pt package default expects mwt, which has been added\n",
            "INFO:stanza:Loading these models for language: pt (Portuguese):\n",
            "===============================\n",
            "| Processor | Package         |\n",
            "-------------------------------\n",
            "| tokenize  | bosque          |\n",
            "| mwt       | bosque          |\n",
            "| lemma     | bosque_nocharlm |\n",
            "===============================\n",
            "\n",
            "INFO:stanza:Using device: cpu\n",
            "INFO:stanza:Loading: tokenize\n",
            "/usr/local/lib/python3.10/dist-packages/stanza/models/tokenization/trainer.py:82: FutureWarning: You are using `torch.load` with `weights_only=False` (the current default value), which uses the default pickle module implicitly. It is possible to construct malicious pickle data which will execute arbitrary code during unpickling (See https://github.com/pytorch/pytorch/blob/main/SECURITY.md#untrusted-models for more details). In a future release, the default value for `weights_only` will be flipped to `True`. This limits the functions that could be executed during unpickling. Arbitrary objects will no longer be allowed to be loaded via this mode unless they are explicitly allowlisted by the user via `torch.serialization.add_safe_globals`. We recommend you start setting `weights_only=True` for any use case where you don't have full control of the loaded file. Please open an issue on GitHub for any issues related to this experimental feature.\n",
            "  checkpoint = torch.load(filename, lambda storage, loc: storage)\n",
            "INFO:stanza:Loading: mwt\n",
            "/usr/local/lib/python3.10/dist-packages/stanza/models/mwt/trainer.py:201: FutureWarning: You are using `torch.load` with `weights_only=False` (the current default value), which uses the default pickle module implicitly. It is possible to construct malicious pickle data which will execute arbitrary code during unpickling (See https://github.com/pytorch/pytorch/blob/main/SECURITY.md#untrusted-models for more details). In a future release, the default value for `weights_only` will be flipped to `True`. This limits the functions that could be executed during unpickling. Arbitrary objects will no longer be allowed to be loaded via this mode unless they are explicitly allowlisted by the user via `torch.serialization.add_safe_globals`. We recommend you start setting `weights_only=True` for any use case where you don't have full control of the loaded file. Please open an issue on GitHub for any issues related to this experimental feature.\n",
            "  checkpoint = torch.load(filename, lambda storage, loc: storage)\n",
            "INFO:stanza:Loading: lemma\n",
            "/usr/local/lib/python3.10/dist-packages/stanza/models/lemma/trainer.py:239: FutureWarning: You are using `torch.load` with `weights_only=False` (the current default value), which uses the default pickle module implicitly. It is possible to construct malicious pickle data which will execute arbitrary code during unpickling (See https://github.com/pytorch/pytorch/blob/main/SECURITY.md#untrusted-models for more details). In a future release, the default value for `weights_only` will be flipped to `True`. This limits the functions that could be executed during unpickling. Arbitrary objects will no longer be allowed to be loaded via this mode unless they are explicitly allowlisted by the user via `torch.serialization.add_safe_globals`. We recommend you start setting `weights_only=True` for any use case where you don't have full control of the loaded file. Please open an issue on GitHub for any issues related to this experimental feature.\n",
            "  checkpoint = torch.load(filename, lambda storage, loc: storage)\n",
            "INFO:stanza:Done loading processors!\n"
          ]
        }
      ]
    },
    {
      "cell_type": "code",
      "source": [
        "def lematizar_texto(textos):\n",
        "  texto_lematizados = []\n",
        "\n",
        "  for texto in textos:\n",
        "    doc_frase = nlp(texto)\n",
        "    frase_lematizada = ' '.join([palavra.lemma for frase in doc_frase.sentences for palavra in frase.words])\n",
        "    texto_lematizados.append(frase_lematizada)\n",
        "\n",
        "  return texto_lematizados"
      ],
      "metadata": {
        "id": "AzmHVsATXuum"
      },
      "execution_count": null,
      "outputs": []
    },
    {
      "cell_type": "code",
      "source": [
        "textos = ['gostei muito experiencia comprar',\n",
        "          'minha filha gostou produto',\n",
        "          'compra foi facil compra rapida']\n",
        "lematizar_texto(textos)"
      ],
      "metadata": {
        "id": "c-UC_LsfX92a",
        "colab": {
          "base_uri": "https://localhost:8080/"
        },
        "outputId": "fc2fab0c-143d-4c93-d429-33d8b37b24e9"
      },
      "execution_count": null,
      "outputs": [
        {
          "output_type": "execute_result",
          "data": {
            "text/plain": [
              "['gostar muito experiencia comprar',\n",
              " 'meu filha gostar produto',\n",
              " 'compra ser facil compra rapido']"
            ]
          },
          "metadata": {},
          "execution_count": 44
        }
      ]
    },
    {
      "cell_type": "code",
      "source": [
        "df['tratamento_4'] = lematizar_texto(df['tratamento_3'])"
      ],
      "metadata": {
        "id": "wmXoeWekX8Eu",
        "colab": {
          "base_uri": "https://localhost:8080/"
        },
        "outputId": "8bf72f40-4908-4d35-c157-52094533f4bf"
      },
      "execution_count": null,
      "outputs": [
        {
          "output_type": "stream",
          "name": "stderr",
          "text": [
            "<ipython-input-45-5e1b48a16cfb>:1: SettingWithCopyWarning: \n",
            "A value is trying to be set on a copy of a slice from a DataFrame.\n",
            "Try using .loc[row_indexer,col_indexer] = value instead\n",
            "\n",
            "See the caveats in the documentation: https://pandas.pydata.org/pandas-docs/stable/user_guide/indexing.html#returning-a-view-versus-a-copy\n",
            "  df['tratamento_4'] = lematizar_texto(df['tratamento_3'])\n"
          ]
        }
      ]
    },
    {
      "cell_type": "code",
      "source": [
        "df['tratamento_4']"
      ],
      "metadata": {
        "id": "6G7ph60JX7OQ",
        "colab": {
          "base_uri": "https://localhost:8080/",
          "height": 458
        },
        "outputId": "416fc007-7a26-4094-d57b-b5fab9abbffb"
      },
      "execution_count": null,
      "outputs": [
        {
          "output_type": "execute_result",
          "data": {
            "text/plain": [
              "0                        recebi bem antes prazo estipulado\n",
              "1        parabem loja zop adorei comprar internet segur...\n",
              "2        aparelho eficiente site marca aparelho imprimi...\n",
              "3                                pouco travar valor to bom\n",
              "4        vendedor confiavel produto ok entregar antes p...\n",
              "                               ...                        \n",
              "31469    entregar dentro prazo produto chegar condico p...\n",
              "31470    produto nao enviado em f nao existir venda em ...\n",
              "31471    excelente mochila entregar super rapido super ...\n",
              "31472    solicitei compra capa retrovisor celta prisma ...\n",
              "31473    produto chegar ja devolver pois defeito nao se...\n",
              "Name: tratamento_4, Length: 31474, dtype: object"
            ],
            "text/html": [
              "<div>\n",
              "<style scoped>\n",
              "    .dataframe tbody tr th:only-of-type {\n",
              "        vertical-align: middle;\n",
              "    }\n",
              "\n",
              "    .dataframe tbody tr th {\n",
              "        vertical-align: top;\n",
              "    }\n",
              "\n",
              "    .dataframe thead th {\n",
              "        text-align: right;\n",
              "    }\n",
              "</style>\n",
              "<table border=\"1\" class=\"dataframe\">\n",
              "  <thead>\n",
              "    <tr style=\"text-align: right;\">\n",
              "      <th></th>\n",
              "      <th>tratamento_4</th>\n",
              "    </tr>\n",
              "  </thead>\n",
              "  <tbody>\n",
              "    <tr>\n",
              "      <th>0</th>\n",
              "      <td>recebi bem antes prazo estipulado</td>\n",
              "    </tr>\n",
              "    <tr>\n",
              "      <th>1</th>\n",
              "      <td>parabem loja zop adorei comprar internet segur...</td>\n",
              "    </tr>\n",
              "    <tr>\n",
              "      <th>2</th>\n",
              "      <td>aparelho eficiente site marca aparelho imprimi...</td>\n",
              "    </tr>\n",
              "    <tr>\n",
              "      <th>3</th>\n",
              "      <td>pouco travar valor to bom</td>\n",
              "    </tr>\n",
              "    <tr>\n",
              "      <th>4</th>\n",
              "      <td>vendedor confiavel produto ok entregar antes p...</td>\n",
              "    </tr>\n",
              "    <tr>\n",
              "      <th>...</th>\n",
              "      <td>...</td>\n",
              "    </tr>\n",
              "    <tr>\n",
              "      <th>31469</th>\n",
              "      <td>entregar dentro prazo produto chegar condico p...</td>\n",
              "    </tr>\n",
              "    <tr>\n",
              "      <th>31470</th>\n",
              "      <td>produto nao enviado em f nao existir venda em ...</td>\n",
              "    </tr>\n",
              "    <tr>\n",
              "      <th>31471</th>\n",
              "      <td>excelente mochila entregar super rapido super ...</td>\n",
              "    </tr>\n",
              "    <tr>\n",
              "      <th>31472</th>\n",
              "      <td>solicitei compra capa retrovisor celta prisma ...</td>\n",
              "    </tr>\n",
              "    <tr>\n",
              "      <th>31473</th>\n",
              "      <td>produto chegar ja devolver pois defeito nao se...</td>\n",
              "    </tr>\n",
              "  </tbody>\n",
              "</table>\n",
              "<p>31474 rows × 1 columns</p>\n",
              "</div><br><label><b>dtype:</b> object</label>"
            ]
          },
          "metadata": {},
          "execution_count": 46
        }
      ]
    },
    {
      "cell_type": "markdown",
      "metadata": {
        "id": "rEA8_J65LR_0"
      },
      "source": [
        "# Aula 3 - Otimizando o Doc2vec"
      ]
    },
    {
      "cell_type": "code",
      "source": [
        "df_lem = df.drop_duplicates(subset=['tratamento_4'])\n",
        "df_lem"
      ],
      "metadata": {
        "colab": {
          "base_uri": "https://localhost:8080/",
          "height": 927
        },
        "id": "UeNBAIhjkZ19",
        "outputId": "c7f8ad51-e359-432d-bf30-f50ee4271b12"
      },
      "execution_count": null,
      "outputs": [
        {
          "output_type": "execute_result",
          "data": {
            "text/plain": [
              "       nota_review                                             review  \\\n",
              "0                5              Recebi bem antes do prazo estipulado.   \n",
              "1                5  Parabéns lojas Zoop adorei comprar pela Intern...   \n",
              "2                4  aparelho eficiente. no site a marca do aparelh...   \n",
              "3                4    Mas um pouco ,travando...pelo valor ta Boa.\\r\\n   \n",
              "4                5  Vendedor confiável, produto ok e entrega antes...   \n",
              "...            ...                                                ...   \n",
              "31469            5  Entregou dentro do prazo. O produto chegou em ...   \n",
              "31470            3  O produto não foi enviado com NF, não existe v...   \n",
              "31471            5  Excelente mochila, entrega super rápida. Super...   \n",
              "31472            1  Solicitei a compra de uma capa de retrovisor c...   \n",
              "31473            1  meu produto chegou e ja tenho que devolver, po...   \n",
              "\n",
              "                                            review_token  \\\n",
              "0                [recebi, bem, antes, prazo, estipulado]   \n",
              "1      [parabens, lojas, zoop, adorei, comprar, inter...   \n",
              "2      [aparelho, eficiente, site, marca, aparelho, i...   \n",
              "3                      [pouco, travando, valor, ta, boa]   \n",
              "4      [vendedor, confiavel, produto, ok, entrega, an...   \n",
              "...                                                  ...   \n",
              "31469  [entregou, dentro, prazo, produto, chegou, con...   \n",
              "31470  [produto, nao, enviado, nf, nao, existe, venda...   \n",
              "31471  [excelente, mochila, entrega, super, rapida, s...   \n",
              "31472  [solicitei, compra, capa, retrovisor, celta, p...   \n",
              "31473  [produto, chegou, ja, devolver, pois, defeito,...   \n",
              "\n",
              "                                            tratamento_1  \\\n",
              "0                      recebi bem antes prazo estipulado   \n",
              "1      parabéns lojas zoop adorei comprar internet se...   \n",
              "2      aparelho eficiente site marca aparelho impress...   \n",
              "3                            pouco travando valor ta boa   \n",
              "4      vendedor confiável produto ok entrega antes prazo   \n",
              "...                                                  ...   \n",
              "31469  entregou dentro prazo produto chegou condições...   \n",
              "31470  produto não enviado nf não existe venda nf cer...   \n",
              "31471  excelente mochila entrega super rápida super r...   \n",
              "31472  solicitei compra capa retrovisor celta prisma ...   \n",
              "31473  produto chegou ja devolver pois defeito não se...   \n",
              "\n",
              "                                            tratamento_2  \\\n",
              "0                      recebi bem antes prazo estipulado   \n",
              "1      parabens lojas zoop adorei comprar internet se...   \n",
              "2      aparelho eficiente site marca aparelho impress...   \n",
              "3                            pouco travando valor ta boa   \n",
              "4      vendedor confiavel produto ok entrega antes prazo   \n",
              "...                                                  ...   \n",
              "31469  entregou dentro prazo produto chegou condicoes...   \n",
              "31470  produto nao enviado nf nao existe venda nf cer...   \n",
              "31471  excelente mochila entrega super rapida super r...   \n",
              "31472  solicitei compra capa retrovisor celta prisma ...   \n",
              "31473  produto chegou ja devolver pois defeito nao se...   \n",
              "\n",
              "                                            tratamento_3  \\\n",
              "0                      recebi bem antes prazo estipulado   \n",
              "1      parabens lojas zop adorei comprar internet seg...   \n",
              "2      aparelho eficiente site marca aparelho impress...   \n",
              "3                            pouco travando valor ta boa   \n",
              "4      vendedor confiavel produto ok entrega antes prazo   \n",
              "...                                                  ...   \n",
              "31469  entregou dentro prazo produto chegou condicoes...   \n",
              "31470  produto nao enviado nf nao existe venda nf cer...   \n",
              "31471  excelente mochila entrega super rapida super r...   \n",
              "31472  solicitei compra capa retrovisor celta prisma ...   \n",
              "31473  produto chegou ja devolver pois defeito nao se...   \n",
              "\n",
              "                                            tratamento_4  \n",
              "0                      recebi bem antes prazo estipulado  \n",
              "1      parabem loja zop adorei comprar internet segur...  \n",
              "2      aparelho eficiente site marca aparelho imprimi...  \n",
              "3                              pouco travar valor to bom  \n",
              "4      vendedor confiavel produto ok entregar antes p...  \n",
              "...                                                  ...  \n",
              "31469  entregar dentro prazo produto chegar condico p...  \n",
              "31470  produto nao enviado em f nao existir venda em ...  \n",
              "31471  excelente mochila entregar super rapido super ...  \n",
              "31472  solicitei compra capa retrovisor celta prisma ...  \n",
              "31473  produto chegar ja devolver pois defeito nao se...  \n",
              "\n",
              "[31111 rows x 7 columns]"
            ],
            "text/html": [
              "\n",
              "  <div id=\"df-45d2bfd4-a57e-43df-8f24-d5a88cdd648d\" class=\"colab-df-container\">\n",
              "    <div>\n",
              "<style scoped>\n",
              "    .dataframe tbody tr th:only-of-type {\n",
              "        vertical-align: middle;\n",
              "    }\n",
              "\n",
              "    .dataframe tbody tr th {\n",
              "        vertical-align: top;\n",
              "    }\n",
              "\n",
              "    .dataframe thead th {\n",
              "        text-align: right;\n",
              "    }\n",
              "</style>\n",
              "<table border=\"1\" class=\"dataframe\">\n",
              "  <thead>\n",
              "    <tr style=\"text-align: right;\">\n",
              "      <th></th>\n",
              "      <th>nota_review</th>\n",
              "      <th>review</th>\n",
              "      <th>review_token</th>\n",
              "      <th>tratamento_1</th>\n",
              "      <th>tratamento_2</th>\n",
              "      <th>tratamento_3</th>\n",
              "      <th>tratamento_4</th>\n",
              "    </tr>\n",
              "  </thead>\n",
              "  <tbody>\n",
              "    <tr>\n",
              "      <th>0</th>\n",
              "      <td>5</td>\n",
              "      <td>Recebi bem antes do prazo estipulado.</td>\n",
              "      <td>[recebi, bem, antes, prazo, estipulado]</td>\n",
              "      <td>recebi bem antes prazo estipulado</td>\n",
              "      <td>recebi bem antes prazo estipulado</td>\n",
              "      <td>recebi bem antes prazo estipulado</td>\n",
              "      <td>recebi bem antes prazo estipulado</td>\n",
              "    </tr>\n",
              "    <tr>\n",
              "      <th>1</th>\n",
              "      <td>5</td>\n",
              "      <td>Parabéns lojas Zoop adorei comprar pela Intern...</td>\n",
              "      <td>[parabens, lojas, zoop, adorei, comprar, inter...</td>\n",
              "      <td>parabéns lojas zoop adorei comprar internet se...</td>\n",
              "      <td>parabens lojas zoop adorei comprar internet se...</td>\n",
              "      <td>parabens lojas zop adorei comprar internet seg...</td>\n",
              "      <td>parabem loja zop adorei comprar internet segur...</td>\n",
              "    </tr>\n",
              "    <tr>\n",
              "      <th>2</th>\n",
              "      <td>4</td>\n",
              "      <td>aparelho eficiente. no site a marca do aparelh...</td>\n",
              "      <td>[aparelho, eficiente, site, marca, aparelho, i...</td>\n",
              "      <td>aparelho eficiente site marca aparelho impress...</td>\n",
              "      <td>aparelho eficiente site marca aparelho impress...</td>\n",
              "      <td>aparelho eficiente site marca aparelho impress...</td>\n",
              "      <td>aparelho eficiente site marca aparelho imprimi...</td>\n",
              "    </tr>\n",
              "    <tr>\n",
              "      <th>3</th>\n",
              "      <td>4</td>\n",
              "      <td>Mas um pouco ,travando...pelo valor ta Boa.\\r\\n</td>\n",
              "      <td>[pouco, travando, valor, ta, boa]</td>\n",
              "      <td>pouco travando valor ta boa</td>\n",
              "      <td>pouco travando valor ta boa</td>\n",
              "      <td>pouco travando valor ta boa</td>\n",
              "      <td>pouco travar valor to bom</td>\n",
              "    </tr>\n",
              "    <tr>\n",
              "      <th>4</th>\n",
              "      <td>5</td>\n",
              "      <td>Vendedor confiável, produto ok e entrega antes...</td>\n",
              "      <td>[vendedor, confiavel, produto, ok, entrega, an...</td>\n",
              "      <td>vendedor confiável produto ok entrega antes prazo</td>\n",
              "      <td>vendedor confiavel produto ok entrega antes prazo</td>\n",
              "      <td>vendedor confiavel produto ok entrega antes prazo</td>\n",
              "      <td>vendedor confiavel produto ok entregar antes p...</td>\n",
              "    </tr>\n",
              "    <tr>\n",
              "      <th>...</th>\n",
              "      <td>...</td>\n",
              "      <td>...</td>\n",
              "      <td>...</td>\n",
              "      <td>...</td>\n",
              "      <td>...</td>\n",
              "      <td>...</td>\n",
              "      <td>...</td>\n",
              "    </tr>\n",
              "    <tr>\n",
              "      <th>31469</th>\n",
              "      <td>5</td>\n",
              "      <td>Entregou dentro do prazo. O produto chegou em ...</td>\n",
              "      <td>[entregou, dentro, prazo, produto, chegou, con...</td>\n",
              "      <td>entregou dentro prazo produto chegou condições...</td>\n",
              "      <td>entregou dentro prazo produto chegou condicoes...</td>\n",
              "      <td>entregou dentro prazo produto chegou condicoes...</td>\n",
              "      <td>entregar dentro prazo produto chegar condico p...</td>\n",
              "    </tr>\n",
              "    <tr>\n",
              "      <th>31470</th>\n",
              "      <td>3</td>\n",
              "      <td>O produto não foi enviado com NF, não existe v...</td>\n",
              "      <td>[produto, nao, enviado, nf, nao, existe, venda...</td>\n",
              "      <td>produto não enviado nf não existe venda nf cer...</td>\n",
              "      <td>produto nao enviado nf nao existe venda nf cer...</td>\n",
              "      <td>produto nao enviado nf nao existe venda nf cer...</td>\n",
              "      <td>produto nao enviado em f nao existir venda em ...</td>\n",
              "    </tr>\n",
              "    <tr>\n",
              "      <th>31471</th>\n",
              "      <td>5</td>\n",
              "      <td>Excelente mochila, entrega super rápida. Super...</td>\n",
              "      <td>[excelente, mochila, entrega, super, rapida, s...</td>\n",
              "      <td>excelente mochila entrega super rápida super r...</td>\n",
              "      <td>excelente mochila entrega super rapida super r...</td>\n",
              "      <td>excelente mochila entrega super rapida super r...</td>\n",
              "      <td>excelente mochila entregar super rapido super ...</td>\n",
              "    </tr>\n",
              "    <tr>\n",
              "      <th>31472</th>\n",
              "      <td>1</td>\n",
              "      <td>Solicitei a compra de uma capa de retrovisor c...</td>\n",
              "      <td>[solicitei, compra, capa, retrovisor, celta, p...</td>\n",
              "      <td>solicitei compra capa retrovisor celta prisma ...</td>\n",
              "      <td>solicitei compra capa retrovisor celta prisma ...</td>\n",
              "      <td>solicitei compra capa retrovisor celta prisma ...</td>\n",
              "      <td>solicitei compra capa retrovisor celta prisma ...</td>\n",
              "    </tr>\n",
              "    <tr>\n",
              "      <th>31473</th>\n",
              "      <td>1</td>\n",
              "      <td>meu produto chegou e ja tenho que devolver, po...</td>\n",
              "      <td>[produto, chegou, ja, devolver, pois, defeito,...</td>\n",
              "      <td>produto chegou ja devolver pois defeito não se...</td>\n",
              "      <td>produto chegou ja devolver pois defeito nao se...</td>\n",
              "      <td>produto chegou ja devolver pois defeito nao se...</td>\n",
              "      <td>produto chegar ja devolver pois defeito nao se...</td>\n",
              "    </tr>\n",
              "  </tbody>\n",
              "</table>\n",
              "<p>31111 rows × 7 columns</p>\n",
              "</div>\n",
              "    <div class=\"colab-df-buttons\">\n",
              "\n",
              "  <div class=\"colab-df-container\">\n",
              "    <button class=\"colab-df-convert\" onclick=\"convertToInteractive('df-45d2bfd4-a57e-43df-8f24-d5a88cdd648d')\"\n",
              "            title=\"Convert this dataframe to an interactive table.\"\n",
              "            style=\"display:none;\">\n",
              "\n",
              "  <svg xmlns=\"http://www.w3.org/2000/svg\" height=\"24px\" viewBox=\"0 -960 960 960\">\n",
              "    <path d=\"M120-120v-720h720v720H120Zm60-500h600v-160H180v160Zm220 220h160v-160H400v160Zm0 220h160v-160H400v160ZM180-400h160v-160H180v160Zm440 0h160v-160H620v160ZM180-180h160v-160H180v160Zm440 0h160v-160H620v160Z\"/>\n",
              "  </svg>\n",
              "    </button>\n",
              "\n",
              "  <style>\n",
              "    .colab-df-container {\n",
              "      display:flex;\n",
              "      gap: 12px;\n",
              "    }\n",
              "\n",
              "    .colab-df-convert {\n",
              "      background-color: #E8F0FE;\n",
              "      border: none;\n",
              "      border-radius: 50%;\n",
              "      cursor: pointer;\n",
              "      display: none;\n",
              "      fill: #1967D2;\n",
              "      height: 32px;\n",
              "      padding: 0 0 0 0;\n",
              "      width: 32px;\n",
              "    }\n",
              "\n",
              "    .colab-df-convert:hover {\n",
              "      background-color: #E2EBFA;\n",
              "      box-shadow: 0px 1px 2px rgba(60, 64, 67, 0.3), 0px 1px 3px 1px rgba(60, 64, 67, 0.15);\n",
              "      fill: #174EA6;\n",
              "    }\n",
              "\n",
              "    .colab-df-buttons div {\n",
              "      margin-bottom: 4px;\n",
              "    }\n",
              "\n",
              "    [theme=dark] .colab-df-convert {\n",
              "      background-color: #3B4455;\n",
              "      fill: #D2E3FC;\n",
              "    }\n",
              "\n",
              "    [theme=dark] .colab-df-convert:hover {\n",
              "      background-color: #434B5C;\n",
              "      box-shadow: 0px 1px 3px 1px rgba(0, 0, 0, 0.15);\n",
              "      filter: drop-shadow(0px 1px 2px rgba(0, 0, 0, 0.3));\n",
              "      fill: #FFFFFF;\n",
              "    }\n",
              "  </style>\n",
              "\n",
              "    <script>\n",
              "      const buttonEl =\n",
              "        document.querySelector('#df-45d2bfd4-a57e-43df-8f24-d5a88cdd648d button.colab-df-convert');\n",
              "      buttonEl.style.display =\n",
              "        google.colab.kernel.accessAllowed ? 'block' : 'none';\n",
              "\n",
              "      async function convertToInteractive(key) {\n",
              "        const element = document.querySelector('#df-45d2bfd4-a57e-43df-8f24-d5a88cdd648d');\n",
              "        const dataTable =\n",
              "          await google.colab.kernel.invokeFunction('convertToInteractive',\n",
              "                                                    [key], {});\n",
              "        if (!dataTable) return;\n",
              "\n",
              "        const docLinkHtml = 'Like what you see? Visit the ' +\n",
              "          '<a target=\"_blank\" href=https://colab.research.google.com/notebooks/data_table.ipynb>data table notebook</a>'\n",
              "          + ' to learn more about interactive tables.';\n",
              "        element.innerHTML = '';\n",
              "        dataTable['output_type'] = 'display_data';\n",
              "        await google.colab.output.renderOutput(dataTable, element);\n",
              "        const docLink = document.createElement('div');\n",
              "        docLink.innerHTML = docLinkHtml;\n",
              "        element.appendChild(docLink);\n",
              "      }\n",
              "    </script>\n",
              "  </div>\n",
              "\n",
              "\n",
              "<div id=\"df-aebb30ab-becc-491a-af56-2857444ef7a9\">\n",
              "  <button class=\"colab-df-quickchart\" onclick=\"quickchart('df-aebb30ab-becc-491a-af56-2857444ef7a9')\"\n",
              "            title=\"Suggest charts\"\n",
              "            style=\"display:none;\">\n",
              "\n",
              "<svg xmlns=\"http://www.w3.org/2000/svg\" height=\"24px\"viewBox=\"0 0 24 24\"\n",
              "     width=\"24px\">\n",
              "    <g>\n",
              "        <path d=\"M19 3H5c-1.1 0-2 .9-2 2v14c0 1.1.9 2 2 2h14c1.1 0 2-.9 2-2V5c0-1.1-.9-2-2-2zM9 17H7v-7h2v7zm4 0h-2V7h2v10zm4 0h-2v-4h2v4z\"/>\n",
              "    </g>\n",
              "</svg>\n",
              "  </button>\n",
              "\n",
              "<style>\n",
              "  .colab-df-quickchart {\n",
              "      --bg-color: #E8F0FE;\n",
              "      --fill-color: #1967D2;\n",
              "      --hover-bg-color: #E2EBFA;\n",
              "      --hover-fill-color: #174EA6;\n",
              "      --disabled-fill-color: #AAA;\n",
              "      --disabled-bg-color: #DDD;\n",
              "  }\n",
              "\n",
              "  [theme=dark] .colab-df-quickchart {\n",
              "      --bg-color: #3B4455;\n",
              "      --fill-color: #D2E3FC;\n",
              "      --hover-bg-color: #434B5C;\n",
              "      --hover-fill-color: #FFFFFF;\n",
              "      --disabled-bg-color: #3B4455;\n",
              "      --disabled-fill-color: #666;\n",
              "  }\n",
              "\n",
              "  .colab-df-quickchart {\n",
              "    background-color: var(--bg-color);\n",
              "    border: none;\n",
              "    border-radius: 50%;\n",
              "    cursor: pointer;\n",
              "    display: none;\n",
              "    fill: var(--fill-color);\n",
              "    height: 32px;\n",
              "    padding: 0;\n",
              "    width: 32px;\n",
              "  }\n",
              "\n",
              "  .colab-df-quickchart:hover {\n",
              "    background-color: var(--hover-bg-color);\n",
              "    box-shadow: 0 1px 2px rgba(60, 64, 67, 0.3), 0 1px 3px 1px rgba(60, 64, 67, 0.15);\n",
              "    fill: var(--button-hover-fill-color);\n",
              "  }\n",
              "\n",
              "  .colab-df-quickchart-complete:disabled,\n",
              "  .colab-df-quickchart-complete:disabled:hover {\n",
              "    background-color: var(--disabled-bg-color);\n",
              "    fill: var(--disabled-fill-color);\n",
              "    box-shadow: none;\n",
              "  }\n",
              "\n",
              "  .colab-df-spinner {\n",
              "    border: 2px solid var(--fill-color);\n",
              "    border-color: transparent;\n",
              "    border-bottom-color: var(--fill-color);\n",
              "    animation:\n",
              "      spin 1s steps(1) infinite;\n",
              "  }\n",
              "\n",
              "  @keyframes spin {\n",
              "    0% {\n",
              "      border-color: transparent;\n",
              "      border-bottom-color: var(--fill-color);\n",
              "      border-left-color: var(--fill-color);\n",
              "    }\n",
              "    20% {\n",
              "      border-color: transparent;\n",
              "      border-left-color: var(--fill-color);\n",
              "      border-top-color: var(--fill-color);\n",
              "    }\n",
              "    30% {\n",
              "      border-color: transparent;\n",
              "      border-left-color: var(--fill-color);\n",
              "      border-top-color: var(--fill-color);\n",
              "      border-right-color: var(--fill-color);\n",
              "    }\n",
              "    40% {\n",
              "      border-color: transparent;\n",
              "      border-right-color: var(--fill-color);\n",
              "      border-top-color: var(--fill-color);\n",
              "    }\n",
              "    60% {\n",
              "      border-color: transparent;\n",
              "      border-right-color: var(--fill-color);\n",
              "    }\n",
              "    80% {\n",
              "      border-color: transparent;\n",
              "      border-right-color: var(--fill-color);\n",
              "      border-bottom-color: var(--fill-color);\n",
              "    }\n",
              "    90% {\n",
              "      border-color: transparent;\n",
              "      border-bottom-color: var(--fill-color);\n",
              "    }\n",
              "  }\n",
              "</style>\n",
              "\n",
              "  <script>\n",
              "    async function quickchart(key) {\n",
              "      const quickchartButtonEl =\n",
              "        document.querySelector('#' + key + ' button');\n",
              "      quickchartButtonEl.disabled = true;  // To prevent multiple clicks.\n",
              "      quickchartButtonEl.classList.add('colab-df-spinner');\n",
              "      try {\n",
              "        const charts = await google.colab.kernel.invokeFunction(\n",
              "            'suggestCharts', [key], {});\n",
              "      } catch (error) {\n",
              "        console.error('Error during call to suggestCharts:', error);\n",
              "      }\n",
              "      quickchartButtonEl.classList.remove('colab-df-spinner');\n",
              "      quickchartButtonEl.classList.add('colab-df-quickchart-complete');\n",
              "    }\n",
              "    (() => {\n",
              "      let quickchartButtonEl =\n",
              "        document.querySelector('#df-aebb30ab-becc-491a-af56-2857444ef7a9 button');\n",
              "      quickchartButtonEl.style.display =\n",
              "        google.colab.kernel.accessAllowed ? 'block' : 'none';\n",
              "    })();\n",
              "  </script>\n",
              "</div>\n",
              "\n",
              "  <div id=\"id_9ffcee41-8a93-459e-a5ac-78fbee365174\">\n",
              "    <style>\n",
              "      .colab-df-generate {\n",
              "        background-color: #E8F0FE;\n",
              "        border: none;\n",
              "        border-radius: 50%;\n",
              "        cursor: pointer;\n",
              "        display: none;\n",
              "        fill: #1967D2;\n",
              "        height: 32px;\n",
              "        padding: 0 0 0 0;\n",
              "        width: 32px;\n",
              "      }\n",
              "\n",
              "      .colab-df-generate:hover {\n",
              "        background-color: #E2EBFA;\n",
              "        box-shadow: 0px 1px 2px rgba(60, 64, 67, 0.3), 0px 1px 3px 1px rgba(60, 64, 67, 0.15);\n",
              "        fill: #174EA6;\n",
              "      }\n",
              "\n",
              "      [theme=dark] .colab-df-generate {\n",
              "        background-color: #3B4455;\n",
              "        fill: #D2E3FC;\n",
              "      }\n",
              "\n",
              "      [theme=dark] .colab-df-generate:hover {\n",
              "        background-color: #434B5C;\n",
              "        box-shadow: 0px 1px 3px 1px rgba(0, 0, 0, 0.15);\n",
              "        filter: drop-shadow(0px 1px 2px rgba(0, 0, 0, 0.3));\n",
              "        fill: #FFFFFF;\n",
              "      }\n",
              "    </style>\n",
              "    <button class=\"colab-df-generate\" onclick=\"generateWithVariable('df_lem')\"\n",
              "            title=\"Generate code using this dataframe.\"\n",
              "            style=\"display:none;\">\n",
              "\n",
              "  <svg xmlns=\"http://www.w3.org/2000/svg\" height=\"24px\"viewBox=\"0 0 24 24\"\n",
              "       width=\"24px\">\n",
              "    <path d=\"M7,19H8.4L18.45,9,17,7.55,7,17.6ZM5,21V16.75L18.45,3.32a2,2,0,0,1,2.83,0l1.4,1.43a1.91,1.91,0,0,1,.58,1.4,1.91,1.91,0,0,1-.58,1.4L9.25,21ZM18.45,9,17,7.55Zm-12,3A5.31,5.31,0,0,0,4.9,8.1,5.31,5.31,0,0,0,1,6.5,5.31,5.31,0,0,0,4.9,4.9,5.31,5.31,0,0,0,6.5,1,5.31,5.31,0,0,0,8.1,4.9,5.31,5.31,0,0,0,12,6.5,5.46,5.46,0,0,0,6.5,12Z\"/>\n",
              "  </svg>\n",
              "    </button>\n",
              "    <script>\n",
              "      (() => {\n",
              "      const buttonEl =\n",
              "        document.querySelector('#id_9ffcee41-8a93-459e-a5ac-78fbee365174 button.colab-df-generate');\n",
              "      buttonEl.style.display =\n",
              "        google.colab.kernel.accessAllowed ? 'block' : 'none';\n",
              "\n",
              "      buttonEl.onclick = () => {\n",
              "        google.colab.notebook.generateWithVariable('df_lem');\n",
              "      }\n",
              "      })();\n",
              "    </script>\n",
              "  </div>\n",
              "\n",
              "    </div>\n",
              "  </div>\n"
            ],
            "application/vnd.google.colaboratory.intrinsic+json": {
              "type": "dataframe",
              "variable_name": "df_lem",
              "summary": "{\n  \"name\": \"df_lem\",\n  \"rows\": 31111,\n  \"fields\": [\n    {\n      \"column\": \"nota_review\",\n      \"properties\": {\n        \"dtype\": \"number\",\n        \"std\": 1,\n        \"min\": 1,\n        \"max\": 5,\n        \"num_unique_values\": 5,\n        \"samples\": [\n          4,\n          3,\n          2\n        ],\n        \"semantic_type\": \"\",\n        \"description\": \"\"\n      }\n    },\n    {\n      \"column\": \"review\",\n      \"properties\": {\n        \"dtype\": \"string\",\n        \"num_unique_values\": 31111,\n        \"samples\": [\n          \"Recebi o produto que eh falso quero meu dinheiro de volta \",\n          \"Comprei 2 travesseiros e recebi apenas 1.\",\n          \"comprei um rel\\u00f3gio chegou outro. quero fazer a troca!\"\n        ],\n        \"semantic_type\": \"\",\n        \"description\": \"\"\n      }\n    },\n    {\n      \"column\": \"review_token\",\n      \"properties\": {\n        \"dtype\": \"object\",\n        \"semantic_type\": \"\",\n        \"description\": \"\"\n      }\n    },\n    {\n      \"column\": \"tratamento_1\",\n      \"properties\": {\n        \"dtype\": \"string\",\n        \"num_unique_values\": 31111,\n        \"samples\": [\n          \"recebi produto eh falso quero dinheiro volta\",\n          \"comprei 2 travesseiros recebi apenas 1\",\n          \"comprei rel\\u00f3gio chegou outro quero fazer troca\"\n        ],\n        \"semantic_type\": \"\",\n        \"description\": \"\"\n      }\n    },\n    {\n      \"column\": \"tratamento_2\",\n      \"properties\": {\n        \"dtype\": \"string\",\n        \"num_unique_values\": 31111,\n        \"samples\": [\n          \"recebi produto eh falso quero dinheiro volta\",\n          \"comprei 2 travesseiros recebi apenas 1\",\n          \"comprei relogio chegou outro quero fazer troca\"\n        ],\n        \"semantic_type\": \"\",\n        \"description\": \"\"\n      }\n    },\n    {\n      \"column\": \"tratamento_3\",\n      \"properties\": {\n        \"dtype\": \"string\",\n        \"num_unique_values\": 31111,\n        \"samples\": [\n          \"recebi produto eh falso quero dinheiro volta\",\n          \"comprei 2 travesseiros recebi apenas 1\",\n          \"comprei relogio chegou outro quero fazer troca\"\n        ],\n        \"semantic_type\": \"\",\n        \"description\": \"\"\n      }\n    },\n    {\n      \"column\": \"tratamento_4\",\n      \"properties\": {\n        \"dtype\": \"string\",\n        \"num_unique_values\": 31111,\n        \"samples\": [\n          \"recebi produto eh falso querer dinheiro volta\",\n          \"comprei 2 travesseiro recebi apenas 1\",\n          \"comprei relogio chegar outro querer fazer troca\"\n        ],\n        \"semantic_type\": \"\",\n        \"description\": \"\"\n      }\n    }\n  ]\n}"
            }
          },
          "metadata": {},
          "execution_count": 47
        }
      ]
    },
    {
      "cell_type": "code",
      "source": [
        "df_lem.reset_index(drop=True, inplace=True)"
      ],
      "metadata": {
        "id": "tdAj4oBrkZv8"
      },
      "execution_count": null,
      "outputs": []
    },
    {
      "cell_type": "code",
      "source": [
        "df_lem['review_token'] = df_lem['tratamento_4'].apply(word_tokenize_pt)\n",
        "dados_tag = [TaggedDocument(words=linha['review_token'], tags=[str(i)]) for i, linha in df_lem.iterrows()]\n",
        "modelo = Doc2Vec(dados_tag, vector_size=100, min_count=2, window=2,\n",
        "                 workers= 1, seed=45, epochs=20)\n",
        "frases_similares = modelo.dv.most_similar([modelo.infer_vector(['entrega'])],topn=5)\n",
        "for idx, similaridade in frases_similares:\n",
        "    print(f\"Review: {df_lem.iloc[int(idx)]['tratamento_4']} - Similaridade: {similaridade:.4f}\")"
      ],
      "metadata": {
        "colab": {
          "base_uri": "https://localhost:8080/"
        },
        "id": "GmbAHJSNkSMR",
        "outputId": "9d3aa5e1-051c-472f-84be-0b64c43963ca"
      },
      "execution_count": null,
      "outputs": [
        {
          "output_type": "stream",
          "name": "stderr",
          "text": [
            "<ipython-input-49-24e313764618>:1: SettingWithCopyWarning: \n",
            "A value is trying to be set on a copy of a slice from a DataFrame.\n",
            "Try using .loc[row_indexer,col_indexer] = value instead\n",
            "\n",
            "See the caveats in the documentation: https://pandas.pydata.org/pandas-docs/stable/user_guide/indexing.html#returning-a-view-versus-a-copy\n",
            "  df_lem['review_token'] = df_lem['tratamento_4'].apply(word_tokenize_pt)\n"
          ]
        },
        {
          "output_type": "stream",
          "name": "stdout",
          "text": [
            "Review: muito desencontro entrega produto - Similaridade: 0.8857\n",
            "Review: entrega demorando - Similaridade: 0.8686\n",
            "Review: correio sairam greve - Similaridade: 0.8595\n",
            "Review: adoro compro sempre - Similaridade: 0.8577\n",
            "Review: entregar atrasar - Similaridade: 0.8521\n"
          ]
        }
      ]
    },
    {
      "cell_type": "markdown",
      "metadata": {
        "id": "Qx6ADjtqYX9h"
      },
      "source": [
        "## Treinamento do Doc2vec"
      ]
    },
    {
      "cell_type": "code",
      "source": [
        "modelo = Doc2Vec(vector_size = 300, min_count = 2,\n",
        "                 window=5, workers = 1, seed=45, epochs = 15)\n",
        "modelo.build_vocab(dados_tag)\n",
        "\n",
        "modelo.train(dados_tag, total_examples=modelo.corpus_count,\n",
        "             epochs= modelo.epochs)"
      ],
      "metadata": {
        "id": "D0OCKvUVYdtt"
      },
      "execution_count": null,
      "outputs": []
    },
    {
      "cell_type": "markdown",
      "metadata": {
        "id": "_mly_Iy7uKnx"
      },
      "source": [
        "## Verificando a similardade - Doc2Vec"
      ]
    },
    {
      "cell_type": "code",
      "source": [
        "frases_similares = modelo.dv.most_similar([modelo.infer_vector(['entrega'])],topn=5)\n",
        "\n",
        "for idx, similaridade in frases_similares:\n",
        "    print(f\"Review: {df_lem.iloc[int(idx)]['tratamento_1']} - Similaridade: {similaridade:.4f}\")"
      ],
      "metadata": {
        "id": "YlZd6i7QYnAV",
        "colab": {
          "base_uri": "https://localhost:8080/"
        },
        "outputId": "65def39b-6cba-4bf3-bed1-305d25d539bf"
      },
      "execution_count": null,
      "outputs": [
        {
          "output_type": "stream",
          "name": "stdout",
          "text": [
            "Review: ultimamente atrasando entregas - Similaridade: 0.9480\n",
            "Review: compro sempre - Similaridade: 0.9349\n",
            "Review: gostaria entregas rápidas - Similaridade: 0.9254\n",
            "Review: embalagem veio violada - Similaridade: 0.9250\n",
            "Review: muitos desencontros entregas produtos - Similaridade: 0.9235\n"
          ]
        }
      ]
    },
    {
      "cell_type": "code",
      "source": [
        "frases_similares = modelo.dv.most_similar([modelo.infer_vector(['vendedor'])],topn=5)\n",
        "\n",
        "for idx, similaridade in frases_similares:\n",
        "    print(f\"Review: {df_lem.iloc[int(idx)]['tratamento_1']} - Similaridade: {similaridade:.4f}\")"
      ],
      "metadata": {
        "id": "JMr5K97lZBuo",
        "colab": {
          "base_uri": "https://localhost:8080/"
        },
        "outputId": "3fe85b71-8a37-41e6-827d-fa99cf71a786"
      },
      "execution_count": null,
      "outputs": [
        {
          "output_type": "stream",
          "name": "stdout",
          "text": [
            "Review: vendedor bom - Similaridade: 0.9413\n",
            "Review: nota 10 vendedor - Similaridade: 0.9359\n",
            "Review: vendedor pontualíssimo recomendo - Similaridade: 0.9326\n",
            "Review: produto entregue dentro prazo estipulado vendedor - Similaridade: 0.9325\n",
            "Review: compraria novamente vendedor - Similaridade: 0.9280\n"
          ]
        }
      ]
    },
    {
      "cell_type": "code",
      "source": [
        "frases_similares = modelo.dv.most_similar([modelo.infer_vector(['reputacao loja'])],topn=5)\n",
        "\n",
        "for idx, similaridade in frases_similares:\n",
        "    print(f\"Review: {df_lem.iloc[int(idx)]['tratamento_1']} - Similaridade: {similaridade:.4f}\")"
      ],
      "metadata": {
        "id": "mRdK9AaAZDEX",
        "colab": {
          "base_uri": "https://localhost:8080/"
        },
        "outputId": "f9c45be6-389f-45ef-9a66-a344828307f7"
      },
      "execution_count": null,
      "outputs": [
        {
          "output_type": "stream",
          "name": "stdout",
          "text": [
            "Review: atendimento perfeito dando garantia cliente - Similaridade: 0.2342\n",
            "Review: ótimo produto veio perfeitamente embalado atende todas necessidades precisávamos loja atenciosa - Similaridade: 0.2280\n",
            "Review: tudo ok rápido entrega bem embalado recebimento todos grupo baratheon ob - Similaridade: 0.2199\n",
            "Review: adquiri duas memórias pc antigo recebi defeito entrei contato através duas mensagens deram trabalho responder decepcionou - Similaridade: 0.2194\n",
            "Review: bem embalado aplicação não tão difícil realmente feito 2 pessoas veio coloração certa adesivo gruda rápido momento não descolou nenhuma ponta recomendo - Similaridade: 0.2133\n"
          ]
        }
      ]
    },
    {
      "cell_type": "markdown",
      "metadata": {
        "id": "02CTQJoVLUCV"
      },
      "source": [
        "# Aula 4 - Considerando o significado das frases"
      ]
    },
    {
      "cell_type": "code",
      "execution_count": null,
      "metadata": {
        "id": "0kE8qyX8YfbB"
      },
      "outputs": [],
      "source": [
        "modulo_url = 'https://tfhub.dev/google/universal-sentence-encoder/4'"
      ]
    },
    {
      "cell_type": "code",
      "source": [
        "import tensorflow_hub as hub\n",
        "\n",
        "modelo = hub.load(modulo_url)"
      ],
      "metadata": {
        "id": "iGgg76NOZHlp"
      },
      "execution_count": null,
      "outputs": []
    },
    {
      "cell_type": "code",
      "execution_count": null,
      "metadata": {
        "id": "WZffdgHgkAkz",
        "colab": {
          "base_uri": "https://localhost:8080/"
        },
        "outputId": "33a35d2e-49c9-4a98-827b-f3a3544c7b35"
      },
      "outputs": [
        {
          "output_type": "execute_result",
          "data": {
            "text/plain": [
              "<tensorflow.python.saved_model.load.Loader._recreate_base_user_object.<locals>._UserObject at 0x7b6925a2fe20>"
            ]
          },
          "metadata": {},
          "execution_count": 56
        }
      ],
      "source": [
        "modelo"
      ]
    },
    {
      "cell_type": "code",
      "source": [
        "reviews = df['tratamento_3'].tolist()\n",
        "reviews_emb = modelo(reviews)\n",
        "reviews_emb"
      ],
      "metadata": {
        "id": "IrFDvrJdZOHB",
        "colab": {
          "base_uri": "https://localhost:8080/"
        },
        "outputId": "30dcdd7e-f8d3-4a99-e9a3-458acd88077a"
      },
      "execution_count": null,
      "outputs": [
        {
          "output_type": "execute_result",
          "data": {
            "text/plain": [
              "<tf.Tensor: shape=(31474, 512), dtype=float32, numpy=\n",
              "array([[ 0.04775169,  0.01094663, -0.0541508 , ...,  0.09078011,\n",
              "        -0.02599917, -0.09261213],\n",
              "       [-0.00746649, -0.06605157, -0.04505714, ...,  0.05561579,\n",
              "        -0.02624756, -0.07801282],\n",
              "       [-0.00820429,  0.04282852, -0.02907449, ...,  0.07496072,\n",
              "        -0.06071885, -0.07618523],\n",
              "       ...,\n",
              "       [ 0.02074313, -0.0543616 , -0.06415588, ...,  0.0719423 ,\n",
              "         0.0105929 , -0.07603392],\n",
              "       [-0.04131037, -0.03054746,  0.01322938, ...,  0.06785525,\n",
              "        -0.0252889 , -0.07106064],\n",
              "       [ 0.05717909, -0.05808825, -0.02038886, ...,  0.07339787,\n",
              "        -0.06409648, -0.08014238]], dtype=float32)>"
            ]
          },
          "metadata": {},
          "execution_count": 57
        }
      ]
    },
    {
      "cell_type": "code",
      "source": [
        "from sklearn.metrics.pairwise import cosine_similarity\n",
        "\n",
        "cosine_similarity(reviews_emb)"
      ],
      "metadata": {
        "id": "1qP2BppBZPMf",
        "colab": {
          "base_uri": "https://localhost:8080/"
        },
        "outputId": "86fe4eec-a0f1-4554-f105-0ec6b1dc9d19"
      },
      "execution_count": null,
      "outputs": [
        {
          "output_type": "execute_result",
          "data": {
            "text/plain": [
              "array([[1.0000002 , 0.61586297, 0.5175547 , ..., 0.5427756 , 0.57541025,\n",
              "        0.6691027 ],\n",
              "       [0.61586297, 0.99999994, 0.5666107 , ..., 0.63920605, 0.6011834 ,\n",
              "        0.6711744 ],\n",
              "       [0.5175547 , 0.5666107 , 0.9999999 , ..., 0.58997375, 0.6564975 ,\n",
              "        0.5922985 ],\n",
              "       ...,\n",
              "       [0.5427756 , 0.63920605, 0.58997375, ..., 1.        , 0.6378722 ,\n",
              "        0.61628115],\n",
              "       [0.57541025, 0.6011834 , 0.6564975 , ..., 0.6378722 , 1.0000001 ,\n",
              "        0.6389235 ],\n",
              "       [0.6691027 , 0.6711744 , 0.5922985 , ..., 0.61628115, 0.6389235 ,\n",
              "        1.        ]], dtype=float32)"
            ]
          },
          "metadata": {},
          "execution_count": 58
        }
      ]
    },
    {
      "cell_type": "markdown",
      "metadata": {
        "id": "1Rp866GtZGqe"
      },
      "source": [
        "## Avaliando as sentenças similares"
      ]
    },
    {
      "cell_type": "code",
      "source": [
        "import numpy as np\n",
        "def sentencas_similares(tema, reviews, reviews_emb, top_n=5):\n",
        "  tema_emb = modelo([tema])\n",
        "  similaridades = cosine_similarity(tema_emb, reviews_emb).flatten()\n",
        "\n",
        "  indices_similares = np.argsort(-similaridades)\n",
        "  for idx in indices_similares[:top_n]:\n",
        "      print(f'Review: {reviews[idx]} - Similaridade: {similaridades[idx]:.4f}')"
      ],
      "metadata": {
        "id": "gXSaLFIW8OF2"
      },
      "execution_count": null,
      "outputs": []
    },
    {
      "cell_type": "code",
      "source": [
        "sentencas_similares('entrega', reviews, reviews_emb)"
      ],
      "metadata": {
        "id": "yFDNMHAlZe6Y",
        "colab": {
          "base_uri": "https://localhost:8080/"
        },
        "outputId": "d153036f-911b-45fa-8da2-2dab66133494"
      },
      "execution_count": null,
      "outputs": [
        {
          "output_type": "stream",
          "name": "stdout",
          "text": [
            "Review: eficiente entrega - Similaridade: 0.6829\n",
            "Review: entrega eficiente - Similaridade: 0.6756\n",
            "Review: agil entrega - Similaridade: 0.6563\n",
            "Review: entrega prazo - Similaridade: 0.6473\n",
            "Review: entrega agil - Similaridade: 0.6471\n"
          ]
        }
      ]
    },
    {
      "cell_type": "code",
      "source": [
        "sentencas_similares('reputação loja', reviews, reviews_emb, top_n=10)"
      ],
      "metadata": {
        "id": "mVFsDvaMZe2S",
        "colab": {
          "base_uri": "https://localhost:8080/"
        },
        "outputId": "0ee45866-90d7-492e-b800-38b46472cf58"
      },
      "execution_count": null,
      "outputs": [
        {
          "output_type": "stream",
          "name": "stdout",
          "text": [
            "Review: otima loja - Similaridade: 0.8578\n",
            "Review: recomento loja - Similaridade: 0.8339\n",
            "Review: pessima loja - Similaridade: 0.8335\n",
            "Review: adorei loja - Similaridade: 0.8170\n",
            "Review: rapidez eficiencia loja - Similaridade: 0.8018\n",
            "Review: loja confianca - Similaridade: 0.7909\n",
            "Review: produto loja confianca - Similaridade: 0.7888\n",
            "Review: loja ruim - Similaridade: 0.7868\n",
            "Review: otimas experiencias loja - Similaridade: 0.7839\n",
            "Review: satisfeita produto loja - Similaridade: 0.7816\n"
          ]
        }
      ]
    },
    {
      "cell_type": "markdown",
      "metadata": {
        "id": "KOVd4TdlLWCi"
      },
      "source": [
        "# Aula 5 - Transformando a similaridade em aplicação"
      ]
    },
    {
      "cell_type": "code",
      "source": [
        "# !pip install gradio"
      ],
      "metadata": {
        "id": "YnyLfuToZj0R"
      },
      "execution_count": null,
      "outputs": []
    },
    {
      "cell_type": "code",
      "source": [
        "import gradio as gr"
      ],
      "metadata": {
        "id": "r-FrMSzOZjt-"
      },
      "execution_count": null,
      "outputs": []
    },
    {
      "cell_type": "code",
      "source": [
        "nltk.download('punkt')\n",
        "nltk.download('stopwords')\n",
        "\n",
        "modulo_url = 'https://tfhub.dev/google/universal-sentence-encoder/4'\n",
        "modelo = hub.load(modulo_url)\n",
        "\n",
        "def tratar_texto(texto):\n",
        "  texto = re.sub(r'\\W', ' ', texto.lower())\n",
        "\n",
        "  word_tokenize_pt = partial(word_tokenize, language='portuguese')\n",
        "  tokens = word_tokenize_pt(texto)\n",
        "  stop_words = set(stopwords.words('portuguese'))\n",
        "  stop_words.discard('não')\n",
        "  tokens = [w for w in tokens if w not in stop_words]\n",
        "\n",
        "  texto_sem_acentos = unidecode.unidecode(' '.join(tokens))\n",
        "\n",
        "  texto_normalizado = re.sub(r'(?!rr|ss)(.)\\1+', r'\\1', texto_sem_acentos)\n",
        "  return texto_normalizado\n",
        "\n",
        "def process_csv(arquivo, tema):\n",
        "  df = pd.read_csv(arquivo.name)\n",
        "\n",
        "  df['review_tratada'] = df['review'].apply(tratar_texto)\n",
        "  df = df[df['review_tratada']!='']\n",
        "  df.drop_duplicates(subset=['review_tratada'],inplace=True)\n",
        "\n",
        "  reviews_emb = modelo(df['review_tratada'].tolist())\n",
        "  tema_emb = modelo([tema])\n",
        "\n",
        "  similaridades = cosine_similarity(tema_emb,reviews_emb).flatten()\n",
        "  top_indices = np.argsort(-similaridades)\n",
        "\n",
        "  similar_reviews = df[['nota_review','review']].iloc[top_indices]\n",
        "\n",
        "  similar_df = similar_reviews.head(200)\n",
        "\n",
        "  nome_arquivo = f'reviews_similares_{tema}.csv'\n",
        "  similar_reviews.to_csv(nome_arquivo)\n",
        "  return similar_df, nome_arquivo\n",
        "\n",
        "with gr.Blocks() as app:\n",
        "  with gr.Row():\n",
        "    gr.Markdown('## Encontrando as reviews mais similares ao tema')\n",
        "  csv_entrada = gr.File(label='Envie o CSV com as reviews', file_types=['.csv'])\n",
        "  tema_entrada = gr.Textbox(label='Digite o tema para busca (ex: \"entrega\")')\n",
        "\n",
        "  botao = gr.Button('Clique para buscar as reviews')\n",
        "\n",
        "  tabela_saida = gr.Dataframe(label='Top 200 reviews similares', headers=['Nota', 'Reviews'], interactive=False)\n",
        "  arquivo_saida = gr.File(label='Baixar CSV ordenado com as reviews mais similares ao tema', interactive =False)\n",
        "\n",
        "  botao.click(process_csv, inputs=[csv_entrada,tema_entrada], outputs=[tabela_saida,arquivo_saida])\n",
        "app.launch()"
      ],
      "metadata": {
        "id": "0zG_kTrz9mp3",
        "colab": {
          "base_uri": "https://localhost:8080/",
          "height": 720
        },
        "outputId": "762f8691-d5a7-4ac6-9dd3-3386604ca844"
      },
      "execution_count": null,
      "outputs": [
        {
          "output_type": "stream",
          "name": "stderr",
          "text": [
            "[nltk_data] Downloading package punkt to /root/nltk_data...\n",
            "[nltk_data]   Package punkt is already up-to-date!\n",
            "[nltk_data] Downloading package stopwords to /root/nltk_data...\n",
            "[nltk_data]   Package stopwords is already up-to-date!\n"
          ]
        },
        {
          "output_type": "stream",
          "name": "stdout",
          "text": [
            "Running Gradio in a Colab notebook requires sharing enabled. Automatically setting `share=True` (you can turn this off by setting `share=False` in `launch()` explicitly).\n",
            "\n",
            "Colab notebook detected. To show errors in colab notebook, set debug=True in launch()\n",
            "* Running on public URL: https://f92e24536848366782.gradio.live\n",
            "\n",
            "This share link expires in 72 hours. For free permanent hosting and GPU upgrades, run `gradio deploy` from the terminal in the working directory to deploy to Hugging Face Spaces (https://huggingface.co/spaces)\n"
          ]
        },
        {
          "output_type": "display_data",
          "data": {
            "text/plain": [
              "<IPython.core.display.HTML object>"
            ],
            "text/html": [
              "<div><iframe src=\"https://f92e24536848366782.gradio.live\" width=\"100%\" height=\"500\" allow=\"autoplay; camera; microphone; clipboard-read; clipboard-write;\" frameborder=\"0\" allowfullscreen></iframe></div>"
            ]
          },
          "metadata": {}
        },
        {
          "output_type": "execute_result",
          "data": {
            "text/plain": []
          },
          "metadata": {},
          "execution_count": 66
        }
      ]
    }
  ],
  "metadata": {
    "colab": {
      "provenance": []
    },
    "kernelspec": {
      "display_name": "Python 3",
      "name": "python3"
    },
    "language_info": {
      "name": "python"
    },
    "widgets": {
      "application/vnd.jupyter.widget-state+json": {
        "5909fe1bc05b4cdab3b920984dd5e102": {
          "model_module": "@jupyter-widgets/controls",
          "model_name": "HBoxModel",
          "model_module_version": "1.5.0",
          "state": {
            "_dom_classes": [],
            "_model_module": "@jupyter-widgets/controls",
            "_model_module_version": "1.5.0",
            "_model_name": "HBoxModel",
            "_view_count": null,
            "_view_module": "@jupyter-widgets/controls",
            "_view_module_version": "1.5.0",
            "_view_name": "HBoxView",
            "box_style": "",
            "children": [
              "IPY_MODEL_16699f2cc9ff492983943003f7205727",
              "IPY_MODEL_90cd9fc64271469b8ee168a80dd5d24e",
              "IPY_MODEL_67094fce86754bc68907790be17641a9"
            ],
            "layout": "IPY_MODEL_e3a59a4df5ea476c86cf8f2a03caae87"
          }
        },
        "16699f2cc9ff492983943003f7205727": {
          "model_module": "@jupyter-widgets/controls",
          "model_name": "HTMLModel",
          "model_module_version": "1.5.0",
          "state": {
            "_dom_classes": [],
            "_model_module": "@jupyter-widgets/controls",
            "_model_module_version": "1.5.0",
            "_model_name": "HTMLModel",
            "_view_count": null,
            "_view_module": "@jupyter-widgets/controls",
            "_view_module_version": "1.5.0",
            "_view_name": "HTMLView",
            "description": "",
            "description_tooltip": null,
            "layout": "IPY_MODEL_92d29f82d42343e2af3a6c31b98f3f84",
            "placeholder": "​",
            "style": "IPY_MODEL_457be54902834e448c1349a5d8f0ea8b",
            "value": "Downloading https://raw.githubusercontent.com/stanfordnlp/stanza-resources/main/resources_1.9.0.json: "
          }
        },
        "90cd9fc64271469b8ee168a80dd5d24e": {
          "model_module": "@jupyter-widgets/controls",
          "model_name": "FloatProgressModel",
          "model_module_version": "1.5.0",
          "state": {
            "_dom_classes": [],
            "_model_module": "@jupyter-widgets/controls",
            "_model_module_version": "1.5.0",
            "_model_name": "FloatProgressModel",
            "_view_count": null,
            "_view_module": "@jupyter-widgets/controls",
            "_view_module_version": "1.5.0",
            "_view_name": "ProgressView",
            "bar_style": "success",
            "description": "",
            "description_tooltip": null,
            "layout": "IPY_MODEL_c4cad996099741b9b7e9d0b83643f1ab",
            "max": 48453,
            "min": 0,
            "orientation": "horizontal",
            "style": "IPY_MODEL_5900f7400596457fb9b3c786767323cf",
            "value": 48453
          }
        },
        "67094fce86754bc68907790be17641a9": {
          "model_module": "@jupyter-widgets/controls",
          "model_name": "HTMLModel",
          "model_module_version": "1.5.0",
          "state": {
            "_dom_classes": [],
            "_model_module": "@jupyter-widgets/controls",
            "_model_module_version": "1.5.0",
            "_model_name": "HTMLModel",
            "_view_count": null,
            "_view_module": "@jupyter-widgets/controls",
            "_view_module_version": "1.5.0",
            "_view_name": "HTMLView",
            "description": "",
            "description_tooltip": null,
            "layout": "IPY_MODEL_492aa5c2c41b48a882c2edb494376561",
            "placeholder": "​",
            "style": "IPY_MODEL_62b496ee128040d0af5631e4d2e7c72e",
            "value": " 392k/? [00:00&lt;00:00, 14.6MB/s]"
          }
        },
        "e3a59a4df5ea476c86cf8f2a03caae87": {
          "model_module": "@jupyter-widgets/base",
          "model_name": "LayoutModel",
          "model_module_version": "1.2.0",
          "state": {
            "_model_module": "@jupyter-widgets/base",
            "_model_module_version": "1.2.0",
            "_model_name": "LayoutModel",
            "_view_count": null,
            "_view_module": "@jupyter-widgets/base",
            "_view_module_version": "1.2.0",
            "_view_name": "LayoutView",
            "align_content": null,
            "align_items": null,
            "align_self": null,
            "border": null,
            "bottom": null,
            "display": null,
            "flex": null,
            "flex_flow": null,
            "grid_area": null,
            "grid_auto_columns": null,
            "grid_auto_flow": null,
            "grid_auto_rows": null,
            "grid_column": null,
            "grid_gap": null,
            "grid_row": null,
            "grid_template_areas": null,
            "grid_template_columns": null,
            "grid_template_rows": null,
            "height": null,
            "justify_content": null,
            "justify_items": null,
            "left": null,
            "margin": null,
            "max_height": null,
            "max_width": null,
            "min_height": null,
            "min_width": null,
            "object_fit": null,
            "object_position": null,
            "order": null,
            "overflow": null,
            "overflow_x": null,
            "overflow_y": null,
            "padding": null,
            "right": null,
            "top": null,
            "visibility": null,
            "width": null
          }
        },
        "92d29f82d42343e2af3a6c31b98f3f84": {
          "model_module": "@jupyter-widgets/base",
          "model_name": "LayoutModel",
          "model_module_version": "1.2.0",
          "state": {
            "_model_module": "@jupyter-widgets/base",
            "_model_module_version": "1.2.0",
            "_model_name": "LayoutModel",
            "_view_count": null,
            "_view_module": "@jupyter-widgets/base",
            "_view_module_version": "1.2.0",
            "_view_name": "LayoutView",
            "align_content": null,
            "align_items": null,
            "align_self": null,
            "border": null,
            "bottom": null,
            "display": null,
            "flex": null,
            "flex_flow": null,
            "grid_area": null,
            "grid_auto_columns": null,
            "grid_auto_flow": null,
            "grid_auto_rows": null,
            "grid_column": null,
            "grid_gap": null,
            "grid_row": null,
            "grid_template_areas": null,
            "grid_template_columns": null,
            "grid_template_rows": null,
            "height": null,
            "justify_content": null,
            "justify_items": null,
            "left": null,
            "margin": null,
            "max_height": null,
            "max_width": null,
            "min_height": null,
            "min_width": null,
            "object_fit": null,
            "object_position": null,
            "order": null,
            "overflow": null,
            "overflow_x": null,
            "overflow_y": null,
            "padding": null,
            "right": null,
            "top": null,
            "visibility": null,
            "width": null
          }
        },
        "457be54902834e448c1349a5d8f0ea8b": {
          "model_module": "@jupyter-widgets/controls",
          "model_name": "DescriptionStyleModel",
          "model_module_version": "1.5.0",
          "state": {
            "_model_module": "@jupyter-widgets/controls",
            "_model_module_version": "1.5.0",
            "_model_name": "DescriptionStyleModel",
            "_view_count": null,
            "_view_module": "@jupyter-widgets/base",
            "_view_module_version": "1.2.0",
            "_view_name": "StyleView",
            "description_width": ""
          }
        },
        "c4cad996099741b9b7e9d0b83643f1ab": {
          "model_module": "@jupyter-widgets/base",
          "model_name": "LayoutModel",
          "model_module_version": "1.2.0",
          "state": {
            "_model_module": "@jupyter-widgets/base",
            "_model_module_version": "1.2.0",
            "_model_name": "LayoutModel",
            "_view_count": null,
            "_view_module": "@jupyter-widgets/base",
            "_view_module_version": "1.2.0",
            "_view_name": "LayoutView",
            "align_content": null,
            "align_items": null,
            "align_self": null,
            "border": null,
            "bottom": null,
            "display": null,
            "flex": null,
            "flex_flow": null,
            "grid_area": null,
            "grid_auto_columns": null,
            "grid_auto_flow": null,
            "grid_auto_rows": null,
            "grid_column": null,
            "grid_gap": null,
            "grid_row": null,
            "grid_template_areas": null,
            "grid_template_columns": null,
            "grid_template_rows": null,
            "height": null,
            "justify_content": null,
            "justify_items": null,
            "left": null,
            "margin": null,
            "max_height": null,
            "max_width": null,
            "min_height": null,
            "min_width": null,
            "object_fit": null,
            "object_position": null,
            "order": null,
            "overflow": null,
            "overflow_x": null,
            "overflow_y": null,
            "padding": null,
            "right": null,
            "top": null,
            "visibility": null,
            "width": null
          }
        },
        "5900f7400596457fb9b3c786767323cf": {
          "model_module": "@jupyter-widgets/controls",
          "model_name": "ProgressStyleModel",
          "model_module_version": "1.5.0",
          "state": {
            "_model_module": "@jupyter-widgets/controls",
            "_model_module_version": "1.5.0",
            "_model_name": "ProgressStyleModel",
            "_view_count": null,
            "_view_module": "@jupyter-widgets/base",
            "_view_module_version": "1.2.0",
            "_view_name": "StyleView",
            "bar_color": null,
            "description_width": ""
          }
        },
        "492aa5c2c41b48a882c2edb494376561": {
          "model_module": "@jupyter-widgets/base",
          "model_name": "LayoutModel",
          "model_module_version": "1.2.0",
          "state": {
            "_model_module": "@jupyter-widgets/base",
            "_model_module_version": "1.2.0",
            "_model_name": "LayoutModel",
            "_view_count": null,
            "_view_module": "@jupyter-widgets/base",
            "_view_module_version": "1.2.0",
            "_view_name": "LayoutView",
            "align_content": null,
            "align_items": null,
            "align_self": null,
            "border": null,
            "bottom": null,
            "display": null,
            "flex": null,
            "flex_flow": null,
            "grid_area": null,
            "grid_auto_columns": null,
            "grid_auto_flow": null,
            "grid_auto_rows": null,
            "grid_column": null,
            "grid_gap": null,
            "grid_row": null,
            "grid_template_areas": null,
            "grid_template_columns": null,
            "grid_template_rows": null,
            "height": null,
            "justify_content": null,
            "justify_items": null,
            "left": null,
            "margin": null,
            "max_height": null,
            "max_width": null,
            "min_height": null,
            "min_width": null,
            "object_fit": null,
            "object_position": null,
            "order": null,
            "overflow": null,
            "overflow_x": null,
            "overflow_y": null,
            "padding": null,
            "right": null,
            "top": null,
            "visibility": null,
            "width": null
          }
        },
        "62b496ee128040d0af5631e4d2e7c72e": {
          "model_module": "@jupyter-widgets/controls",
          "model_name": "DescriptionStyleModel",
          "model_module_version": "1.5.0",
          "state": {
            "_model_module": "@jupyter-widgets/controls",
            "_model_module_version": "1.5.0",
            "_model_name": "DescriptionStyleModel",
            "_view_count": null,
            "_view_module": "@jupyter-widgets/base",
            "_view_module_version": "1.2.0",
            "_view_name": "StyleView",
            "description_width": ""
          }
        },
        "27f1a07bbc6c4c64812572e62a3ae419": {
          "model_module": "@jupyter-widgets/controls",
          "model_name": "HBoxModel",
          "model_module_version": "1.5.0",
          "state": {
            "_dom_classes": [],
            "_model_module": "@jupyter-widgets/controls",
            "_model_module_version": "1.5.0",
            "_model_name": "HBoxModel",
            "_view_count": null,
            "_view_module": "@jupyter-widgets/controls",
            "_view_module_version": "1.5.0",
            "_view_name": "HBoxView",
            "box_style": "",
            "children": [
              "IPY_MODEL_6fd29a8d428a466e806c345f5cecedb5",
              "IPY_MODEL_49ef065591d54c34a2eeb666ddfb5061",
              "IPY_MODEL_8a23eff1337f46f798b2f5e4c31a7570"
            ],
            "layout": "IPY_MODEL_9e71df0b4b7744f5b6f579de6b294329"
          }
        },
        "6fd29a8d428a466e806c345f5cecedb5": {
          "model_module": "@jupyter-widgets/controls",
          "model_name": "HTMLModel",
          "model_module_version": "1.5.0",
          "state": {
            "_dom_classes": [],
            "_model_module": "@jupyter-widgets/controls",
            "_model_module_version": "1.5.0",
            "_model_name": "HTMLModel",
            "_view_count": null,
            "_view_module": "@jupyter-widgets/controls",
            "_view_module_version": "1.5.0",
            "_view_name": "HTMLView",
            "description": "",
            "description_tooltip": null,
            "layout": "IPY_MODEL_505f6cba54a647dd90db339e31262ec8",
            "placeholder": "​",
            "style": "IPY_MODEL_f352412a0d7c469993744856e59e5788",
            "value": "Downloading https://raw.githubusercontent.com/stanfordnlp/stanza-resources/main/resources_1.9.0.json: "
          }
        },
        "49ef065591d54c34a2eeb666ddfb5061": {
          "model_module": "@jupyter-widgets/controls",
          "model_name": "FloatProgressModel",
          "model_module_version": "1.5.0",
          "state": {
            "_dom_classes": [],
            "_model_module": "@jupyter-widgets/controls",
            "_model_module_version": "1.5.0",
            "_model_name": "FloatProgressModel",
            "_view_count": null,
            "_view_module": "@jupyter-widgets/controls",
            "_view_module_version": "1.5.0",
            "_view_name": "ProgressView",
            "bar_style": "success",
            "description": "",
            "description_tooltip": null,
            "layout": "IPY_MODEL_93e7bcabff7b4c56a4f6bd715a5549f5",
            "max": 48453,
            "min": 0,
            "orientation": "horizontal",
            "style": "IPY_MODEL_a5057ab1f41f4b11b8a3d22479260d0a",
            "value": 48453
          }
        },
        "8a23eff1337f46f798b2f5e4c31a7570": {
          "model_module": "@jupyter-widgets/controls",
          "model_name": "HTMLModel",
          "model_module_version": "1.5.0",
          "state": {
            "_dom_classes": [],
            "_model_module": "@jupyter-widgets/controls",
            "_model_module_version": "1.5.0",
            "_model_name": "HTMLModel",
            "_view_count": null,
            "_view_module": "@jupyter-widgets/controls",
            "_view_module_version": "1.5.0",
            "_view_name": "HTMLView",
            "description": "",
            "description_tooltip": null,
            "layout": "IPY_MODEL_812569f603f248a0abefaabcbcd8ddfb",
            "placeholder": "​",
            "style": "IPY_MODEL_6ac3f25630594b49977e2470cc573816",
            "value": " 392k/? [00:00&lt;00:00, 12.0MB/s]"
          }
        },
        "9e71df0b4b7744f5b6f579de6b294329": {
          "model_module": "@jupyter-widgets/base",
          "model_name": "LayoutModel",
          "model_module_version": "1.2.0",
          "state": {
            "_model_module": "@jupyter-widgets/base",
            "_model_module_version": "1.2.0",
            "_model_name": "LayoutModel",
            "_view_count": null,
            "_view_module": "@jupyter-widgets/base",
            "_view_module_version": "1.2.0",
            "_view_name": "LayoutView",
            "align_content": null,
            "align_items": null,
            "align_self": null,
            "border": null,
            "bottom": null,
            "display": null,
            "flex": null,
            "flex_flow": null,
            "grid_area": null,
            "grid_auto_columns": null,
            "grid_auto_flow": null,
            "grid_auto_rows": null,
            "grid_column": null,
            "grid_gap": null,
            "grid_row": null,
            "grid_template_areas": null,
            "grid_template_columns": null,
            "grid_template_rows": null,
            "height": null,
            "justify_content": null,
            "justify_items": null,
            "left": null,
            "margin": null,
            "max_height": null,
            "max_width": null,
            "min_height": null,
            "min_width": null,
            "object_fit": null,
            "object_position": null,
            "order": null,
            "overflow": null,
            "overflow_x": null,
            "overflow_y": null,
            "padding": null,
            "right": null,
            "top": null,
            "visibility": null,
            "width": null
          }
        },
        "505f6cba54a647dd90db339e31262ec8": {
          "model_module": "@jupyter-widgets/base",
          "model_name": "LayoutModel",
          "model_module_version": "1.2.0",
          "state": {
            "_model_module": "@jupyter-widgets/base",
            "_model_module_version": "1.2.0",
            "_model_name": "LayoutModel",
            "_view_count": null,
            "_view_module": "@jupyter-widgets/base",
            "_view_module_version": "1.2.0",
            "_view_name": "LayoutView",
            "align_content": null,
            "align_items": null,
            "align_self": null,
            "border": null,
            "bottom": null,
            "display": null,
            "flex": null,
            "flex_flow": null,
            "grid_area": null,
            "grid_auto_columns": null,
            "grid_auto_flow": null,
            "grid_auto_rows": null,
            "grid_column": null,
            "grid_gap": null,
            "grid_row": null,
            "grid_template_areas": null,
            "grid_template_columns": null,
            "grid_template_rows": null,
            "height": null,
            "justify_content": null,
            "justify_items": null,
            "left": null,
            "margin": null,
            "max_height": null,
            "max_width": null,
            "min_height": null,
            "min_width": null,
            "object_fit": null,
            "object_position": null,
            "order": null,
            "overflow": null,
            "overflow_x": null,
            "overflow_y": null,
            "padding": null,
            "right": null,
            "top": null,
            "visibility": null,
            "width": null
          }
        },
        "f352412a0d7c469993744856e59e5788": {
          "model_module": "@jupyter-widgets/controls",
          "model_name": "DescriptionStyleModel",
          "model_module_version": "1.5.0",
          "state": {
            "_model_module": "@jupyter-widgets/controls",
            "_model_module_version": "1.5.0",
            "_model_name": "DescriptionStyleModel",
            "_view_count": null,
            "_view_module": "@jupyter-widgets/base",
            "_view_module_version": "1.2.0",
            "_view_name": "StyleView",
            "description_width": ""
          }
        },
        "93e7bcabff7b4c56a4f6bd715a5549f5": {
          "model_module": "@jupyter-widgets/base",
          "model_name": "LayoutModel",
          "model_module_version": "1.2.0",
          "state": {
            "_model_module": "@jupyter-widgets/base",
            "_model_module_version": "1.2.0",
            "_model_name": "LayoutModel",
            "_view_count": null,
            "_view_module": "@jupyter-widgets/base",
            "_view_module_version": "1.2.0",
            "_view_name": "LayoutView",
            "align_content": null,
            "align_items": null,
            "align_self": null,
            "border": null,
            "bottom": null,
            "display": null,
            "flex": null,
            "flex_flow": null,
            "grid_area": null,
            "grid_auto_columns": null,
            "grid_auto_flow": null,
            "grid_auto_rows": null,
            "grid_column": null,
            "grid_gap": null,
            "grid_row": null,
            "grid_template_areas": null,
            "grid_template_columns": null,
            "grid_template_rows": null,
            "height": null,
            "justify_content": null,
            "justify_items": null,
            "left": null,
            "margin": null,
            "max_height": null,
            "max_width": null,
            "min_height": null,
            "min_width": null,
            "object_fit": null,
            "object_position": null,
            "order": null,
            "overflow": null,
            "overflow_x": null,
            "overflow_y": null,
            "padding": null,
            "right": null,
            "top": null,
            "visibility": null,
            "width": null
          }
        },
        "a5057ab1f41f4b11b8a3d22479260d0a": {
          "model_module": "@jupyter-widgets/controls",
          "model_name": "ProgressStyleModel",
          "model_module_version": "1.5.0",
          "state": {
            "_model_module": "@jupyter-widgets/controls",
            "_model_module_version": "1.5.0",
            "_model_name": "ProgressStyleModel",
            "_view_count": null,
            "_view_module": "@jupyter-widgets/base",
            "_view_module_version": "1.2.0",
            "_view_name": "StyleView",
            "bar_color": null,
            "description_width": ""
          }
        },
        "812569f603f248a0abefaabcbcd8ddfb": {
          "model_module": "@jupyter-widgets/base",
          "model_name": "LayoutModel",
          "model_module_version": "1.2.0",
          "state": {
            "_model_module": "@jupyter-widgets/base",
            "_model_module_version": "1.2.0",
            "_model_name": "LayoutModel",
            "_view_count": null,
            "_view_module": "@jupyter-widgets/base",
            "_view_module_version": "1.2.0",
            "_view_name": "LayoutView",
            "align_content": null,
            "align_items": null,
            "align_self": null,
            "border": null,
            "bottom": null,
            "display": null,
            "flex": null,
            "flex_flow": null,
            "grid_area": null,
            "grid_auto_columns": null,
            "grid_auto_flow": null,
            "grid_auto_rows": null,
            "grid_column": null,
            "grid_gap": null,
            "grid_row": null,
            "grid_template_areas": null,
            "grid_template_columns": null,
            "grid_template_rows": null,
            "height": null,
            "justify_content": null,
            "justify_items": null,
            "left": null,
            "margin": null,
            "max_height": null,
            "max_width": null,
            "min_height": null,
            "min_width": null,
            "object_fit": null,
            "object_position": null,
            "order": null,
            "overflow": null,
            "overflow_x": null,
            "overflow_y": null,
            "padding": null,
            "right": null,
            "top": null,
            "visibility": null,
            "width": null
          }
        },
        "6ac3f25630594b49977e2470cc573816": {
          "model_module": "@jupyter-widgets/controls",
          "model_name": "DescriptionStyleModel",
          "model_module_version": "1.5.0",
          "state": {
            "_model_module": "@jupyter-widgets/controls",
            "_model_module_version": "1.5.0",
            "_model_name": "DescriptionStyleModel",
            "_view_count": null,
            "_view_module": "@jupyter-widgets/base",
            "_view_module_version": "1.2.0",
            "_view_name": "StyleView",
            "description_width": ""
          }
        }
      }
    }
  },
  "nbformat": 4,
  "nbformat_minor": 0
}